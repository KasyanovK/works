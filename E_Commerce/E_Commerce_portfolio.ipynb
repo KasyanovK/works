{
 "cells": [
  {
   "cell_type": "markdown",
   "id": "df803ec0",
   "metadata": {},
   "source": [
    "## Материалы\n",
    "Презентация: https://drive.google.com/file/d/1serpJSg4G-qWwknVfUfvux6418YVYpdK/view?usp=sharing<br>\n",
    "Дашборд: https://public.tableau.com/app/profile/kasyanovk/viz/Sales_diagram_16625325864470/Dashboard1?publish=yes"
   ]
  },
  {
   "cell_type": "markdown",
   "id": "319a3507",
   "metadata": {},
   "source": [
    "<h2>Выявление профилей потребления</h2>"
   ]
  },
  {
   "cell_type": "markdown",
   "id": "c216e4a0",
   "metadata": {},
   "source": [
    "<h3>Цель проекта</h3>"
   ]
  },
  {
   "cell_type": "markdown",
   "id": "1aefc3eb",
   "metadata": {},
   "source": [
    "Сегментировать покупателей на основе истории их покупок c целью создания персонализированных предолжений."
   ]
  },
  {
   "cell_type": "markdown",
   "id": "568ebb64",
   "metadata": {},
   "source": [
    "Имеется датасет транзакций интернет-магазина товаров для дома и быта.\n",
    "Описание данных:\n",
    "<ul>\n",
    "<li> `date` — дата заказа;</li>\n",
    "<li> `customer_id` — идентификатор покупателя;</li>\n",
    "<li> `order_id` — идентификатор заказа;</li>\n",
    "<li> `product` — наименование товара;</li>\n",
    "<li> `quantity` — количество товара в заказе;</li>\n",
    "<li> `price` — цена товара.</li></ul>"
   ]
  },
  {
   "cell_type": "markdown",
   "id": "ede29ecf",
   "metadata": {},
   "source": [
    "<h3>1. Изучение данных</h3>"
   ]
  },
  {
   "cell_type": "markdown",
   "id": "07897b6c",
   "metadata": {},
   "source": [
    "Импорт библиотек"
   ]
  },
  {
   "cell_type": "code",
   "execution_count": 8,
   "id": "8a3eb166",
   "metadata": {},
   "outputs": [],
   "source": [
    "import pandas as pd\n",
    "import seaborn as sns\n",
    "import numpy as np\n",
    "from datetime import datetime\n",
    "from plotly.subplots import make_subplots\n",
    "import plotly.graph_objects as go\n",
    "import matplotlib.pyplot as plt\n",
    "from scipy import stats as st"
   ]
  },
  {
   "cell_type": "markdown",
   "id": "a0ebdc8a",
   "metadata": {},
   "source": [
    "Читаем данные из файла. Создаем Датафрейм. "
   ]
  },
  {
   "cell_type": "code",
   "execution_count": 11,
   "id": "7b688c26",
   "metadata": {},
   "outputs": [
    {
     "data": {
      "text/html": [
       "<div>\n",
       "<style scoped>\n",
       "    .dataframe tbody tr th:only-of-type {\n",
       "        vertical-align: middle;\n",
       "    }\n",
       "\n",
       "    .dataframe tbody tr th {\n",
       "        vertical-align: top;\n",
       "    }\n",
       "\n",
       "    .dataframe thead th {\n",
       "        text-align: right;\n",
       "    }\n",
       "</style>\n",
       "<table border=\"1\" class=\"dataframe\">\n",
       "  <thead>\n",
       "    <tr style=\"text-align: right;\">\n",
       "      <th></th>\n",
       "      <th>6283</th>\n",
       "      <th>3460</th>\n",
       "      <th>4579</th>\n",
       "      <th>6499</th>\n",
       "      <th>416</th>\n",
       "    </tr>\n",
       "  </thead>\n",
       "  <tbody>\n",
       "    <tr>\n",
       "      <th>date</th>\n",
       "      <td>2019090912</td>\n",
       "      <td>2019050813</td>\n",
       "      <td>2019060509</td>\n",
       "      <td>2019100214</td>\n",
       "      <td>2018102613</td>\n",
       "    </tr>\n",
       "    <tr>\n",
       "      <th>customer_id</th>\n",
       "      <td>ffb80538-3fda-4351-8ea9-9d2bec58bb07</td>\n",
       "      <td>d35ce92b-08ec-46a5-87c5-2ef42c65ed3e</td>\n",
       "      <td>7d5d5657-5fdc-40d1-b7b6-bb04ede92b53</td>\n",
       "      <td>d4cbd76c-65d6-4ce8-8342-55600abbf59b</td>\n",
       "      <td>9f1e7d7d-ff10-4eb1-b596-1cbf8075aa3f</td>\n",
       "    </tr>\n",
       "    <tr>\n",
       "      <th>order_id</th>\n",
       "      <td>72561</td>\n",
       "      <td>14735</td>\n",
       "      <td>14848</td>\n",
       "      <td>14939</td>\n",
       "      <td>68760</td>\n",
       "    </tr>\n",
       "    <tr>\n",
       "      <th>product</th>\n",
       "      <td>Стакан для ванной комнаты ETNA SHINY керамика ...</td>\n",
       "      <td>Подвесное кашпо Калибрахоя Snowberry белая объ...</td>\n",
       "      <td>Алиссум Скальный желтый объем 1 л</td>\n",
       "      <td>Флокс метельчатый сорт ТАТЬЯНА, диаметр горшка...</td>\n",
       "      <td>Вешалка деревянная с расширенными плечиками и ...</td>\n",
       "    </tr>\n",
       "    <tr>\n",
       "      <th>quantity</th>\n",
       "      <td>1</td>\n",
       "      <td>3</td>\n",
       "      <td>1</td>\n",
       "      <td>1</td>\n",
       "      <td>8</td>\n",
       "    </tr>\n",
       "    <tr>\n",
       "      <th>price</th>\n",
       "      <td>974.0</td>\n",
       "      <td>488.0</td>\n",
       "      <td>105.0</td>\n",
       "      <td>135.0</td>\n",
       "      <td>262.0</td>\n",
       "    </tr>\n",
       "  </tbody>\n",
       "</table>\n",
       "</div>"
      ],
      "text/plain": [
       "                                                          6283  \\\n",
       "date                                                2019090912   \n",
       "customer_id               ffb80538-3fda-4351-8ea9-9d2bec58bb07   \n",
       "order_id                                                 72561   \n",
       "product      Стакан для ванной комнаты ETNA SHINY керамика ...   \n",
       "quantity                                                     1   \n",
       "price                                                    974.0   \n",
       "\n",
       "                                                          3460  \\\n",
       "date                                                2019050813   \n",
       "customer_id               d35ce92b-08ec-46a5-87c5-2ef42c65ed3e   \n",
       "order_id                                                 14735   \n",
       "product      Подвесное кашпо Калибрахоя Snowberry белая объ...   \n",
       "quantity                                                     3   \n",
       "price                                                    488.0   \n",
       "\n",
       "                                             4579  \\\n",
       "date                                   2019060509   \n",
       "customer_id  7d5d5657-5fdc-40d1-b7b6-bb04ede92b53   \n",
       "order_id                                    14848   \n",
       "product         Алиссум Скальный желтый объем 1 л   \n",
       "quantity                                        1   \n",
       "price                                       105.0   \n",
       "\n",
       "                                                          6499  \\\n",
       "date                                                2019100214   \n",
       "customer_id               d4cbd76c-65d6-4ce8-8342-55600abbf59b   \n",
       "order_id                                                 14939   \n",
       "product      Флокс метельчатый сорт ТАТЬЯНА, диаметр горшка...   \n",
       "quantity                                                     1   \n",
       "price                                                    135.0   \n",
       "\n",
       "                                                          416   \n",
       "date                                                2018102613  \n",
       "customer_id               9f1e7d7d-ff10-4eb1-b596-1cbf8075aa3f  \n",
       "order_id                                                 68760  \n",
       "product      Вешалка деревянная с расширенными плечиками и ...  \n",
       "quantity                                                     8  \n",
       "price                                                    262.0  "
      ]
     },
     "metadata": {},
     "output_type": "display_data"
    }
   ],
   "source": [
    "data = pd.read_csv('/users/konstantinkasanov/documents/github/works/e_commerce/ecommerce_dataset.csv')\n",
    "display(data.sample(5).T)"
   ]
  },
  {
   "cell_type": "code",
   "execution_count": 7,
   "id": "cdcdd91b",
   "metadata": {},
   "outputs": [
    {
     "data": {
      "text/plain": [
       "(6737, 6)"
      ]
     },
     "metadata": {},
     "output_type": "display_data"
    }
   ],
   "source": [
    "display(data.shape)"
   ]
  },
  {
   "cell_type": "code",
   "execution_count": 8,
   "id": "785efe86",
   "metadata": {},
   "outputs": [
    {
     "name": "stdout",
     "output_type": "stream",
     "text": [
      "<class 'pandas.core.frame.DataFrame'>\n",
      "RangeIndex: 6737 entries, 0 to 6736\n",
      "Data columns (total 6 columns):\n",
      " #   Column       Non-Null Count  Dtype  \n",
      "---  ------       --------------  -----  \n",
      " 0   date         6737 non-null   int64  \n",
      " 1   customer_id  6737 non-null   object \n",
      " 2   order_id     6737 non-null   int64  \n",
      " 3   product      6737 non-null   object \n",
      " 4   quantity     6737 non-null   int64  \n",
      " 5   price        6737 non-null   float64\n",
      "dtypes: float64(1), int64(3), object(2)\n",
      "memory usage: 315.9+ KB\n"
     ]
    },
    {
     "data": {
      "text/plain": [
       "None"
      ]
     },
     "metadata": {},
     "output_type": "display_data"
    }
   ],
   "source": [
    "display(data.info())"
   ]
  },
  {
   "cell_type": "markdown",
   "id": "a732f80c",
   "metadata": {},
   "source": [
    "В датасете 6 полей и 6737 строк. Поле с датой покупки (\"date\") требует приведения к типу Datetime. Пропуски в данных отсутствуют."
   ]
  },
  {
   "cell_type": "code",
   "execution_count": 9,
   "id": "c11f431b",
   "metadata": {},
   "outputs": [],
   "source": [
    "data['datestr'] = data['date'].astype('str').str[:-2]\n",
    "data['datetime'] = pd.to_datetime(data['datestr'],yearfirst = True, errors = 'ignore')"
   ]
  },
  {
   "cell_type": "markdown",
   "id": "dc60b4c4",
   "metadata": {},
   "source": [
    "Проверим наличие явных дубликатов"
   ]
  },
  {
   "cell_type": "code",
   "execution_count": 10,
   "id": "a46dc8ae",
   "metadata": {},
   "outputs": [
    {
     "data": {
      "text/plain": [
       "(6737, 8)"
      ]
     },
     "metadata": {},
     "output_type": "display_data"
    }
   ],
   "source": [
    "data=data.drop_duplicates()\n",
    "display(data.shape)"
   ]
  },
  {
   "cell_type": "markdown",
   "id": "e20e9e41",
   "metadata": {},
   "source": [
    "Размер датафрейма не изменился, следовательно явных дубликатов не было."
   ]
  },
  {
   "cell_type": "markdown",
   "id": "552f9077",
   "metadata": {},
   "source": [
    "Проверим наличие неявных дубликатов."
   ]
  },
  {
   "cell_type": "markdown",
   "id": "2f2543fe",
   "metadata": {},
   "source": [
    "Приведем к нижнему регистру названия всех товаров."
   ]
  },
  {
   "cell_type": "code",
   "execution_count": 11,
   "id": "13002ee5",
   "metadata": {},
   "outputs": [],
   "source": [
    "data['product']=data['product'].str.lower()"
   ]
  },
  {
   "cell_type": "code",
   "execution_count": 12,
   "id": "a30eb692",
   "metadata": {},
   "outputs": [
    {
     "data": {
      "text/plain": [
       "(6737, 8)"
      ]
     },
     "metadata": {},
     "output_type": "display_data"
    }
   ],
   "source": [
    "data=data.drop_duplicates()\n",
    "display(data.shape)"
   ]
  },
  {
   "cell_type": "markdown",
   "id": "9ef9c1da",
   "metadata": {},
   "source": [
    "Размер датафрейма не изменился. Следовательно, в нем нет строк, отличающихся только регистром букв в наименовании товара. Проведем аналогичную проверку для Id покупателей."
   ]
  },
  {
   "cell_type": "code",
   "execution_count": 13,
   "id": "c8318621",
   "metadata": {},
   "outputs": [
    {
     "data": {
      "text/plain": [
       "(6737, 8)"
      ]
     },
     "metadata": {},
     "output_type": "display_data"
    }
   ],
   "source": [
    "data['customer_id']=data['customer_id'].str.lower()\n",
    "data=data.drop_duplicates()\n",
    "display(data.shape)"
   ]
  },
  {
   "cell_type": "markdown",
   "id": "5c1c0bc1",
   "metadata": {},
   "source": [
    "Размер датафрейма не изменился. Следовательно, в нем нет строк, отличающихся только регистром букв в id покупателя."
   ]
  },
  {
   "cell_type": "markdown",
   "id": "1e6af757",
   "metadata": {},
   "source": [
    "<h3>2. Исследовательский анализ данных</h3>"
   ]
  },
  {
   "cell_type": "markdown",
   "id": "622faf3e",
   "metadata": {},
   "source": [
    "<h4>2.1 Средние значения и стандартные отклонения</h4>"
   ]
  },
  {
   "cell_type": "markdown",
   "id": "46e209e0",
   "metadata": {},
   "source": [
    "Выведем средние значения и стандартные отклонения"
   ]
  },
  {
   "cell_type": "code",
   "execution_count": 14,
   "id": "c44ae40a",
   "metadata": {},
   "outputs": [
    {
     "data": {
      "text/html": [
       "<div>\n",
       "<style scoped>\n",
       "    .dataframe tbody tr th:only-of-type {\n",
       "        vertical-align: middle;\n",
       "    }\n",
       "\n",
       "    .dataframe tbody tr th {\n",
       "        vertical-align: top;\n",
       "    }\n",
       "\n",
       "    .dataframe thead th {\n",
       "        text-align: right;\n",
       "    }\n",
       "</style>\n",
       "<table border=\"1\" class=\"dataframe\">\n",
       "  <thead>\n",
       "    <tr style=\"text-align: right;\">\n",
       "      <th></th>\n",
       "      <th>date</th>\n",
       "      <th>order_id</th>\n",
       "      <th>quantity</th>\n",
       "      <th>price</th>\n",
       "    </tr>\n",
       "  </thead>\n",
       "  <tbody>\n",
       "    <tr>\n",
       "      <th>count</th>\n",
       "      <td>6.737000e+03</td>\n",
       "      <td>6737.000000</td>\n",
       "      <td>6737.000000</td>\n",
       "      <td>6737.000000</td>\n",
       "    </tr>\n",
       "    <tr>\n",
       "      <th>mean</th>\n",
       "      <td>2.018855e+09</td>\n",
       "      <td>43128.948345</td>\n",
       "      <td>2.501559</td>\n",
       "      <td>462.028499</td>\n",
       "    </tr>\n",
       "    <tr>\n",
       "      <th>std</th>\n",
       "      <td>3.855185e+05</td>\n",
       "      <td>27899.414662</td>\n",
       "      <td>15.266478</td>\n",
       "      <td>871.296064</td>\n",
       "    </tr>\n",
       "    <tr>\n",
       "      <th>min</th>\n",
       "      <td>2.018100e+09</td>\n",
       "      <td>12624.000000</td>\n",
       "      <td>1.000000</td>\n",
       "      <td>9.000000</td>\n",
       "    </tr>\n",
       "    <tr>\n",
       "      <th>25%</th>\n",
       "      <td>2.019020e+09</td>\n",
       "      <td>14827.000000</td>\n",
       "      <td>1.000000</td>\n",
       "      <td>101.000000</td>\n",
       "    </tr>\n",
       "    <tr>\n",
       "      <th>50%</th>\n",
       "      <td>2.019050e+09</td>\n",
       "      <td>68503.000000</td>\n",
       "      <td>1.000000</td>\n",
       "      <td>135.000000</td>\n",
       "    </tr>\n",
       "    <tr>\n",
       "      <th>75%</th>\n",
       "      <td>2.019061e+09</td>\n",
       "      <td>70504.000000</td>\n",
       "      <td>1.000000</td>\n",
       "      <td>398.000000</td>\n",
       "    </tr>\n",
       "    <tr>\n",
       "      <th>max</th>\n",
       "      <td>2.019103e+09</td>\n",
       "      <td>73164.000000</td>\n",
       "      <td>1000.000000</td>\n",
       "      <td>14917.000000</td>\n",
       "    </tr>\n",
       "  </tbody>\n",
       "</table>\n",
       "</div>"
      ],
      "text/plain": [
       "               date      order_id     quantity         price\n",
       "count  6.737000e+03   6737.000000  6737.000000   6737.000000\n",
       "mean   2.018855e+09  43128.948345     2.501559    462.028499\n",
       "std    3.855185e+05  27899.414662    15.266478    871.296064\n",
       "min    2.018100e+09  12624.000000     1.000000      9.000000\n",
       "25%    2.019020e+09  14827.000000     1.000000    101.000000\n",
       "50%    2.019050e+09  68503.000000     1.000000    135.000000\n",
       "75%    2.019061e+09  70504.000000     1.000000    398.000000\n",
       "max    2.019103e+09  73164.000000  1000.000000  14917.000000"
      ]
     },
     "execution_count": 14,
     "metadata": {},
     "output_type": "execute_result"
    }
   ],
   "source": [
    "data.describe()"
   ]
  },
  {
   "cell_type": "markdown",
   "id": "ed40ecfd",
   "metadata": {},
   "source": [
    "По количеству единиц в заказе и цене заказа стандартное отклонение превышает среднюю стоимость в разы. Предположительно, имеют место выбросы. Построим \"ящики с усами\"."
   ]
  },
  {
   "cell_type": "markdown",
   "id": "7465d1fd",
   "metadata": {},
   "source": [
    "<h4>2.2 Разброс количества единиц в заказе</h4>"
   ]
  },
  {
   "cell_type": "markdown",
   "id": "bd184e21",
   "metadata": {},
   "source": [
    "Построим \"ящик с усами\" и гистограмму для количества единиц в заказе."
   ]
  },
  {
   "cell_type": "code",
   "execution_count": 15,
   "id": "f21c9485",
   "metadata": {},
   "outputs": [],
   "source": [
    "data_for_boxplot = data.groupby(['order_id']).agg({'quantity':'sum'})"
   ]
  },
  {
   "cell_type": "code",
   "execution_count": 16,
   "id": "4c92c60b",
   "metadata": {},
   "outputs": [
    {
     "data": {
      "image/png": "[encoded data removed]",
      "text/plain": [
       "<Figure size 1440x720 with 1 Axes>"
      ]
     },
     "metadata": {
      "needs_background": "light"
     },
     "output_type": "display_data"
    }
   ],
   "source": [
    "plt.figure(figsize=(20, 10))\n",
    "sns.boxplot(data=data_for_boxplot, y='quantity')\n",
    "plt.title('\"Ящик с усами\" по количеству единиц в заказе')\n",
    "plt.ylabel('Количество единиц в заказе')\n",
    "plt.show()"
   ]
  },
  {
   "cell_type": "markdown",
   "id": "f547cfdd",
   "metadata": {},
   "source": [
    "Из-за выбросов не видно основную часть даннных. Построим тот же самый график, \"обрезав\" по вертикальной оси:"
   ]
  },
  {
   "cell_type": "code",
   "execution_count": 17,
   "id": "814760fe",
   "metadata": {},
   "outputs": [
    {
     "data": {
      "image/png": "[encoded data removed]",
      "text/plain": [
       "<Figure size 1440x720 with 1 Axes>"
      ]
     },
     "metadata": {
      "needs_background": "light"
     },
     "output_type": "display_data"
    }
   ],
   "source": [
    "plt.figure(figsize=(20, 10))\n",
    "sns.boxplot(data=data_for_boxplot, y='quantity')\n",
    "plt.ylim(0, 10)\n",
    "plt.title('\"Ящик с усами\" по количеству единиц в заказе')\n",
    "plt.ylabel('Количество единиц в заказе')\n",
    "plt.show()"
   ]
  },
  {
   "cell_type": "markdown",
   "id": "723c97e7",
   "metadata": {},
   "source": []
  },
  {
   "cell_type": "markdown",
   "id": "89ac3dab",
   "metadata": {},
   "source": [
    "Построим гистограмму по количеству единиц в заказе."
   ]
  },
  {
   "cell_type": "code",
   "execution_count": 18,
   "id": "3f85b0d7",
   "metadata": {},
   "outputs": [
    {
     "data": {
      "image/png": "[encoded data removed]",
      "text/plain": [
       "<Figure size 1440x720 with 1 Axes>"
      ]
     },
     "metadata": {
      "needs_background": "light"
     },
     "output_type": "display_data"
    }
   ],
   "source": [
    "plt.figure(figsize=(20, 10))\n",
    "sns.histplot(data=data_for_boxplot, x='quantity', bins = 200)\n",
    "plt.ylim(0, 3000)\n",
    "plt.xlim(0, 100)\n",
    "plt.title('Гистограмма по количеству единиц в заказе')\n",
    "plt.ylabel('Количество единиц в заказе')\n",
    "plt.show()"
   ]
  },
  {
   "cell_type": "markdown",
   "id": "d6061030",
   "metadata": {},
   "source": [
    "Ящик с усами показывает, что все заказы более чем шестью единицами являются выбросами."
   ]
  },
  {
   "cell_type": "markdown",
   "id": "7b0e5ae1",
   "metadata": {},
   "source": [
    "<h4>2.3 Формирование списка \"выбросов\" для исключения из рассмотрения</h4>"
   ]
  },
  {
   "cell_type": "markdown",
   "id": "c454f157",
   "metadata": {},
   "source": [
    "Cформируем список покупателей-\"оптовиков\", для которых рекомендуется индивидуальный подход. \n",
    "Выведем таблицу c покупателями, кто хотя бы раз делал заказ более чем на 6 единиц. Посчитаем процент от общего числа покупателей.  "
   ]
  },
  {
   "cell_type": "code",
   "execution_count": 19,
   "id": "5f77f8a6",
   "metadata": {},
   "outputs": [
    {
     "data": {
      "text/plain": [
       "16.0"
      ]
     },
     "metadata": {},
     "output_type": "display_data"
    }
   ],
   "source": [
    "#получаем \"оптовых покупателей\"\n",
    "gross_orders = data.groupby(['order_id']).agg({'quantity':'sum'}).query('quantity > 6').reset_index()\n",
    "gross_orders_list = gross_orders['order_id'].to_list()\n",
    "orders_list = data['order_id'].to_list()\n",
    "gross_order = []\n",
    "\n",
    "for i in range(0,len(orders_list)):\n",
    "    gross_order.append(True)\n",
    "    if orders_list[i] in gross_orders_list:\n",
    "        gross_order[i] = True\n",
    "    else:    \n",
    "        gross_order[i] = False\n",
    "data['gross_order'] = gross_order \n",
    "gross_customers = data.groupby(['customer_id']).agg({'gross_order':'max'}).query('gross_order == True')\n",
    "\n",
    "#получаем соотношение с общим количеством покупателей в процентах\n",
    "display(round((len(gross_customers)/len(data.groupby(['customer_id']).mean())*100),0))"
   ]
  },
  {
   "cell_type": "markdown",
   "id": "953ec700",
   "metadata": {},
   "source": [
    "Количество покупателей, совершивших хотя бы одну покупку с более чем 6ю единицами составляет 16% от общего количества покупателей. Процент значительный - всех их объявлять исключать из рассмотрения не стоит. Исключить же их крупные покупки, не исключив полностью покупателя, полагаю, будет не удачным решением, так как для дальнейшего анализа хотелось бы иметь группу покупателей, чьи \"оптовые\" интересы вообще никак не проявлялись.\n",
    "\n",
    "Введем второй критерий \"оптовика\": по выручке от одного покупателя. "
   ]
  },
  {
   "cell_type": "markdown",
   "id": "294d4f20",
   "metadata": {},
   "source": [
    "Построим \"ящик с усами\" для выручки от одного покупателя. "
   ]
  },
  {
   "cell_type": "code",
   "execution_count": 20,
   "id": "9d222bec",
   "metadata": {},
   "outputs": [],
   "source": [
    "data['revenue'] = data['quantity']*data['price']\n",
    "data_for_boxplot = data.groupby(['customer_id']).agg({'revenue':'sum'})"
   ]
  },
  {
   "cell_type": "code",
   "execution_count": 21,
   "id": "8b3ff39b",
   "metadata": {},
   "outputs": [
    {
     "data": {
      "image/png": "[encoded data removed]",
      "text/plain": [
       "<Figure size 1440x720 with 1 Axes>"
      ]
     },
     "metadata": {
      "needs_background": "light"
     },
     "output_type": "display_data"
    }
   ],
   "source": [
    "plt.figure(figsize=(20, 10))\n",
    "sns.boxplot(data=data_for_boxplot, y='revenue')\n",
    "plt.title('\"Ящик с усами\" для выручки от одного покупателя')\n",
    "plt.ylabel('Выручка от одного покупателя')\n",
    "plt.show()"
   ]
  },
  {
   "cell_type": "markdown",
   "id": "b358078e",
   "metadata": {},
   "source": [
    "Рассмотрим область \"25% - 75%\" более подробно."
   ]
  },
  {
   "cell_type": "code",
   "execution_count": 22,
   "id": "b0b3f98f",
   "metadata": {
    "scrolled": true
   },
   "outputs": [
    {
     "data": {
      "image/png": "[encoded data removed]",
      "text/plain": [
       "<Figure size 1440x720 with 1 Axes>"
      ]
     },
     "metadata": {
      "needs_background": "light"
     },
     "output_type": "display_data"
    }
   ],
   "source": [
    "plt.figure(figsize=(20, 10))\n",
    "sns.boxplot(data=data_for_boxplot, y='revenue')\n",
    "plt.ylim(0,7000)\n",
    "plt.title('\"Ящик с усами\" для выручки от одного покупателя')\n",
    "plt.ylabel('Выручка от одного покупателя')\n",
    "plt.show()"
   ]
  },
  {
   "cell_type": "raw",
   "id": "67956533",
   "metadata": {},
   "source": [
    "\"Выбросы\" начинаются от 3500 р. Рассчитаем, какая доля покупателей принесла выручку более 3500 р, при этом хотя бы раз сделав заказ с более чем 6ю позициями. "
   ]
  },
  {
   "cell_type": "code",
   "execution_count": 23,
   "id": "edfc0ca3",
   "metadata": {},
   "outputs": [
    {
     "data": {
      "text/plain": [
       "10.0"
      ]
     },
     "metadata": {},
     "output_type": "display_data"
    }
   ],
   "source": [
    "#получаем \"оптовых покупателей\", принесших более 3500 р.\n",
    "large_revenue = data.groupby(['customer_id']).agg({'revenue':'sum'}).query('revenue > 3500').reset_index()\n",
    "large_revenue_customers_list = large_revenue['customer_id'].to_list()\n",
    "customers_list = data['customer_id'].to_list()\n",
    "large_revenue_customer = []\n",
    "\n",
    "for i in range(0,len(customers_list)):\n",
    "    large_revenue_customer.append(True)\n",
    "    if customers_list[i] in large_revenue_customers_list:\n",
    "        large_revenue_customer[i] = True\n",
    "    else:    \n",
    "        large_revenue_customer[i] = False\n",
    "data['large_revenue_customer'] = large_revenue_customer \n",
    "\n",
    "#получаем \"оптовых покупателей, сделавших хотя бы один заказ более чем на 3500 р.\"\n",
    "data['exclusive_customer'] = data['large_revenue_customer'] * data['large_revenue_customer']\n",
    "exclusive_customer = data.groupby('customer_id').agg({'exclusive_customer':'max'}).query('exclusive_customer == True')\n",
    "\n",
    "#получаем соотношение с общим количеством покупателей в процентах\n",
    "display(round((len(exclusive_customer)/len(data.groupby(['customer_id']).mean())*100),0))"
   ]
  },
  {
   "cell_type": "markdown",
   "id": "32ae58fa",
   "metadata": {},
   "source": [
    "Их 10%. Такое количество можно исключить. Узнаем абсолютное значение."
   ]
  },
  {
   "cell_type": "code",
   "execution_count": 24,
   "id": "a6d0a8f5",
   "metadata": {},
   "outputs": [
    {
     "data": {
      "text/plain": [
       "239"
      ]
     },
     "metadata": {},
     "output_type": "display_data"
    }
   ],
   "source": [
    "display(len(exclusive_customer))"
   ]
  },
  {
   "cell_type": "markdown",
   "id": "7024ce17",
   "metadata": {},
   "source": [
    "Рассчитаем:\n",
    " - общее количество единиц товара, приобретенных данными пользователями;\n",
    " - сумму выручки, которую каждый из них принеc;\n",
    " - количество уникальных товаров, ими приобретенных. "
   ]
  },
  {
   "cell_type": "code",
   "execution_count": 25,
   "id": "2f4e9400",
   "metadata": {},
   "outputs": [
    {
     "data": {
      "text/html": [
       "<div>\n",
       "<style scoped>\n",
       "    .dataframe tbody tr th:only-of-type {\n",
       "        vertical-align: middle;\n",
       "    }\n",
       "\n",
       "    .dataframe tbody tr th {\n",
       "        vertical-align: top;\n",
       "    }\n",
       "\n",
       "    .dataframe thead th {\n",
       "        text-align: right;\n",
       "    }\n",
       "</style>\n",
       "<table border=\"1\" class=\"dataframe\">\n",
       "  <thead>\n",
       "    <tr style=\"text-align: right;\">\n",
       "      <th></th>\n",
       "      <th>exclusive_customer</th>\n",
       "      <th>quantity</th>\n",
       "      <th>revenue</th>\n",
       "      <th>product</th>\n",
       "    </tr>\n",
       "    <tr>\n",
       "      <th>customer_id</th>\n",
       "      <th></th>\n",
       "      <th></th>\n",
       "      <th></th>\n",
       "      <th></th>\n",
       "    </tr>\n",
       "  </thead>\n",
       "  <tbody>\n",
       "    <tr>\n",
       "      <th>312e9a3e-5fca-43ff-a6a1-892d2b2d5ba6</th>\n",
       "      <td>True</td>\n",
       "      <td>1000</td>\n",
       "      <td>675000.0</td>\n",
       "      <td>1</td>\n",
       "    </tr>\n",
       "    <tr>\n",
       "      <th>c971fb21-d54c-4134-938f-16b62ee86d3b</th>\n",
       "      <td>True</td>\n",
       "      <td>344</td>\n",
       "      <td>166988.0</td>\n",
       "      <td>144</td>\n",
       "    </tr>\n",
       "    <tr>\n",
       "      <th>1d6c8c1f-a799-4418-9af2-1ded47d7a85c</th>\n",
       "      <td>True</td>\n",
       "      <td>900</td>\n",
       "      <td>114750.0</td>\n",
       "      <td>888</td>\n",
       "    </tr>\n",
       "    <tr>\n",
       "      <th>57cc80a2-2610-4eef-9457-e7c3bf0c72f0</th>\n",
       "      <td>True</td>\n",
       "      <td>60</td>\n",
       "      <td>65220.0</td>\n",
       "      <td>60</td>\n",
       "    </tr>\n",
       "    <tr>\n",
       "      <th>4d93d3f6-8b24-403b-a74b-f5173e40d7db</th>\n",
       "      <td>True</td>\n",
       "      <td>409</td>\n",
       "      <td>60828.0</td>\n",
       "      <td>47</td>\n",
       "    </tr>\n",
       "    <tr>\n",
       "      <th>58a4c3cc-504f-43ea-a74a-bae19e665552</th>\n",
       "      <td>True</td>\n",
       "      <td>30</td>\n",
       "      <td>53232.0</td>\n",
       "      <td>2</td>\n",
       "    </tr>\n",
       "    <tr>\n",
       "      <th>9f1e7d7d-ff10-4eb1-b596-1cbf8075aa3f</th>\n",
       "      <td>True</td>\n",
       "      <td>96</td>\n",
       "      <td>50770.0</td>\n",
       "      <td>50</td>\n",
       "    </tr>\n",
       "    <tr>\n",
       "      <th>146cd9bf-a95c-4afb-915b-5f6684b17444</th>\n",
       "      <td>True</td>\n",
       "      <td>334</td>\n",
       "      <td>49432.0</td>\n",
       "      <td>1</td>\n",
       "    </tr>\n",
       "    <tr>\n",
       "      <th>498f12a4-6a62-4725-8516-cf5dc9ab8a3a</th>\n",
       "      <td>True</td>\n",
       "      <td>85</td>\n",
       "      <td>41900.0</td>\n",
       "      <td>4</td>\n",
       "    </tr>\n",
       "    <tr>\n",
       "      <th>8fba3604-ef57-4b9f-b2fe-3402fa8825c8</th>\n",
       "      <td>True</td>\n",
       "      <td>101</td>\n",
       "      <td>33680.0</td>\n",
       "      <td>6</td>\n",
       "    </tr>\n",
       "    <tr>\n",
       "      <th>6987e6d6-a63a-4ce2-a2d0-f424092d235e</th>\n",
       "      <td>True</td>\n",
       "      <td>57</td>\n",
       "      <td>32718.0</td>\n",
       "      <td>1</td>\n",
       "    </tr>\n",
       "    <tr>\n",
       "      <th>ae6940d3-a1c7-4997-8853-a5b8afc60d51</th>\n",
       "      <td>True</td>\n",
       "      <td>18</td>\n",
       "      <td>32382.0</td>\n",
       "      <td>16</td>\n",
       "    </tr>\n",
       "    <tr>\n",
       "      <th>e382d4c4-a4c9-44d3-97a0-a8868e122563</th>\n",
       "      <td>True</td>\n",
       "      <td>7</td>\n",
       "      <td>28973.0</td>\n",
       "      <td>7</td>\n",
       "    </tr>\n",
       "    <tr>\n",
       "      <th>1b2764ad-9151-4051-a46a-9b01b62e6335</th>\n",
       "      <td>True</td>\n",
       "      <td>5</td>\n",
       "      <td>24370.0</td>\n",
       "      <td>1</td>\n",
       "    </tr>\n",
       "    <tr>\n",
       "      <th>ff31d802-dae6-484d-a3dc-c9723f1cb538</th>\n",
       "      <td>True</td>\n",
       "      <td>8</td>\n",
       "      <td>23992.0</td>\n",
       "      <td>8</td>\n",
       "    </tr>\n",
       "    <tr>\n",
       "      <th>db77c238-3c80-4032-9e3c-c30a43f4a650</th>\n",
       "      <td>True</td>\n",
       "      <td>224</td>\n",
       "      <td>23660.0</td>\n",
       "      <td>203</td>\n",
       "    </tr>\n",
       "    <tr>\n",
       "      <th>73d1cd35-5e5f-4629-8cf2-3fda829d4e58</th>\n",
       "      <td>True</td>\n",
       "      <td>18</td>\n",
       "      <td>21713.0</td>\n",
       "      <td>18</td>\n",
       "    </tr>\n",
       "    <tr>\n",
       "      <th>2273b174-e223-415a-9be1-49d19abea06e</th>\n",
       "      <td>True</td>\n",
       "      <td>5</td>\n",
       "      <td>20695.0</td>\n",
       "      <td>5</td>\n",
       "    </tr>\n",
       "    <tr>\n",
       "      <th>940c175f-ea87-44e0-9e16-0a3d0a9abecd</th>\n",
       "      <td>True</td>\n",
       "      <td>18</td>\n",
       "      <td>20232.0</td>\n",
       "      <td>2</td>\n",
       "    </tr>\n",
       "    <tr>\n",
       "      <th>794e66f5-4d30-4860-b44c-903c9f58127f</th>\n",
       "      <td>True</td>\n",
       "      <td>10</td>\n",
       "      <td>17620.0</td>\n",
       "      <td>2</td>\n",
       "    </tr>\n",
       "  </tbody>\n",
       "</table>\n",
       "</div>"
      ],
      "text/plain": [
       "                                      exclusive_customer  quantity   revenue  \\\n",
       "customer_id                                                                    \n",
       "312e9a3e-5fca-43ff-a6a1-892d2b2d5ba6                True      1000  675000.0   \n",
       "c971fb21-d54c-4134-938f-16b62ee86d3b                True       344  166988.0   \n",
       "1d6c8c1f-a799-4418-9af2-1ded47d7a85c                True       900  114750.0   \n",
       "57cc80a2-2610-4eef-9457-e7c3bf0c72f0                True        60   65220.0   \n",
       "4d93d3f6-8b24-403b-a74b-f5173e40d7db                True       409   60828.0   \n",
       "58a4c3cc-504f-43ea-a74a-bae19e665552                True        30   53232.0   \n",
       "9f1e7d7d-ff10-4eb1-b596-1cbf8075aa3f                True        96   50770.0   \n",
       "146cd9bf-a95c-4afb-915b-5f6684b17444                True       334   49432.0   \n",
       "498f12a4-6a62-4725-8516-cf5dc9ab8a3a                True        85   41900.0   \n",
       "8fba3604-ef57-4b9f-b2fe-3402fa8825c8                True       101   33680.0   \n",
       "6987e6d6-a63a-4ce2-a2d0-f424092d235e                True        57   32718.0   \n",
       "ae6940d3-a1c7-4997-8853-a5b8afc60d51                True        18   32382.0   \n",
       "e382d4c4-a4c9-44d3-97a0-a8868e122563                True         7   28973.0   \n",
       "1b2764ad-9151-4051-a46a-9b01b62e6335                True         5   24370.0   \n",
       "ff31d802-dae6-484d-a3dc-c9723f1cb538                True         8   23992.0   \n",
       "db77c238-3c80-4032-9e3c-c30a43f4a650                True       224   23660.0   \n",
       "73d1cd35-5e5f-4629-8cf2-3fda829d4e58                True        18   21713.0   \n",
       "2273b174-e223-415a-9be1-49d19abea06e                True         5   20695.0   \n",
       "940c175f-ea87-44e0-9e16-0a3d0a9abecd                True        18   20232.0   \n",
       "794e66f5-4d30-4860-b44c-903c9f58127f                True        10   17620.0   \n",
       "\n",
       "                                      product  \n",
       "customer_id                                    \n",
       "312e9a3e-5fca-43ff-a6a1-892d2b2d5ba6        1  \n",
       "c971fb21-d54c-4134-938f-16b62ee86d3b      144  \n",
       "1d6c8c1f-a799-4418-9af2-1ded47d7a85c      888  \n",
       "57cc80a2-2610-4eef-9457-e7c3bf0c72f0       60  \n",
       "4d93d3f6-8b24-403b-a74b-f5173e40d7db       47  \n",
       "58a4c3cc-504f-43ea-a74a-bae19e665552        2  \n",
       "9f1e7d7d-ff10-4eb1-b596-1cbf8075aa3f       50  \n",
       "146cd9bf-a95c-4afb-915b-5f6684b17444        1  \n",
       "498f12a4-6a62-4725-8516-cf5dc9ab8a3a        4  \n",
       "8fba3604-ef57-4b9f-b2fe-3402fa8825c8        6  \n",
       "6987e6d6-a63a-4ce2-a2d0-f424092d235e        1  \n",
       "ae6940d3-a1c7-4997-8853-a5b8afc60d51       16  \n",
       "e382d4c4-a4c9-44d3-97a0-a8868e122563        7  \n",
       "1b2764ad-9151-4051-a46a-9b01b62e6335        1  \n",
       "ff31d802-dae6-484d-a3dc-c9723f1cb538        8  \n",
       "db77c238-3c80-4032-9e3c-c30a43f4a650      203  \n",
       "73d1cd35-5e5f-4629-8cf2-3fda829d4e58       18  \n",
       "2273b174-e223-415a-9be1-49d19abea06e        5  \n",
       "940c175f-ea87-44e0-9e16-0a3d0a9abecd        2  \n",
       "794e66f5-4d30-4860-b44c-903c9f58127f        2  "
      ]
     },
     "metadata": {},
     "output_type": "display_data"
    }
   ],
   "source": [
    "display(data.groupby(['customer_id']).\n",
    "        agg({'exclusive_customer':'max','quantity':'sum', 'revenue':'sum','product':'count'}).\n",
    "        sort_values(by = 'exclusive_customer',ascending = False).\n",
    "        sort_values(by = 'revenue', ascending = False).\n",
    "        head(20)\n",
    "       )"
   ]
  },
  {
   "cell_type": "markdown",
   "id": "04aa045a",
   "metadata": {},
   "source": [
    "В Топе по выручке оказываются как пользователь, закупивший 1000 единиц одного и того же товара, так и пользователи, покупающие большое разнообразие товаров на суммы, в разы превышающие границу \"выбросов\" на ящике с усами.\n",
    "Предложим маркетологам начать разрабатывать специальные индивидуальные предложения для оптовиков, двигаясь по этому \"списку\" сверху вниз насколько хватит возможностей. Связаться с каждым и проанализировать потребности. "
   ]
  },
  {
   "cell_type": "markdown",
   "id": "e1fc870f",
   "metadata": {},
   "source": [
    "Далее исключаем из рассмотрения покупателей, которых классифицировали как \"оптовиков\"."
   ]
  },
  {
   "cell_type": "markdown",
   "id": "e0f038b5",
   "metadata": {},
   "source": [
    "<h4>2.4 Распределение заказов \"обычных покупателей\" по выручке</h4>"
   ]
  },
  {
   "cell_type": "markdown",
   "id": "860b6b2b",
   "metadata": {},
   "source": [
    "Рассмотрим распределение заказов по выручке."
   ]
  },
  {
   "cell_type": "code",
   "execution_count": 26,
   "id": "799136f4",
   "metadata": {},
   "outputs": [],
   "source": [
    "data_1 = data.loc[data['exclusive_customer'] == False]"
   ]
  },
  {
   "cell_type": "code",
   "execution_count": 27,
   "id": "3df861e9",
   "metadata": {},
   "outputs": [],
   "source": [
    "data_for_hist = data_1.groupby(['order_id']).agg({'revenue':'sum'})"
   ]
  },
  {
   "cell_type": "code",
   "execution_count": 28,
   "id": "49415666",
   "metadata": {},
   "outputs": [
    {
     "data": {
      "image/png": "[encoded data removed]",
      "text/plain": [
       "<Figure size 1440x720 with 1 Axes>"
      ]
     },
     "metadata": {
      "needs_background": "light"
     },
     "output_type": "display_data"
    }
   ],
   "source": [
    "plt.figure(figsize=(20, 10))\n",
    "sns.histplot(data=data_for_hist, x='revenue', bins = 30)\n",
    "plt.ylim(0, 750)\n",
    "plt.xlim(0, 3000)\n",
    "plt.title('Распределение заказов по выручке')\n",
    "plt.xlabel('Выручка, р.')\n",
    "plt.ylabel('Количество заказов')\n",
    "plt.show()"
   ]
  },
  {
   "cell_type": "markdown",
   "id": "a0de6c9f",
   "metadata": {},
   "source": [
    "Резких скачков и экстремумов не наблюдается. Разделять выборку на какие-либо группы по величине чека - не стоит."
   ]
  },
  {
   "cell_type": "markdown",
   "id": "00d9f826",
   "metadata": {},
   "source": [
    "<h4>2.5 Сезонные изменения<h4>"
   ]
  },
  {
   "cell_type": "markdown",
   "id": "31fe23f5",
   "metadata": {},
   "source": [
    "Выведем максимальную и минимальную дату покупки, доступные в датасете."
   ]
  },
  {
   "cell_type": "code",
   "execution_count": 29,
   "id": "d39539df",
   "metadata": {},
   "outputs": [
    {
     "name": "stdout",
     "output_type": "stream",
     "text": [
      "2018-10-01 00:00:00\n",
      "2019-10-31 00:00:00\n"
     ]
    }
   ],
   "source": [
    "print(min(data_1['datetime']))\n",
    "print(max(data_1['datetime']))"
   ]
  },
  {
   "cell_type": "markdown",
   "id": "14af4372",
   "metadata": {},
   "source": [
    "Таким образом, имеются данные за 13 месяцев: с начала октября 2018 по конец октября 2019. Можно рассмотреть сезонные колебания спроса. Построим столбчатую диаграмму количества покупок."
   ]
  },
  {
   "cell_type": "code",
   "execution_count": 30,
   "id": "155e4a63",
   "metadata": {
    "scrolled": false
   },
   "outputs": [
    {
     "name": "stderr",
     "output_type": "stream",
     "text": [
      "/var/folders/cf/g31hh6zn189d9yzlfgjd16xw0000gn/T/ipykernel_4675/904399005.py:1: SettingWithCopyWarning: \n",
      "A value is trying to be set on a copy of a slice from a DataFrame.\n",
      "Try using .loc[row_indexer,col_indexer] = value instead\n",
      "\n",
      "See the caveats in the documentation: https://pandas.pydata.org/pandas-docs/stable/user_guide/indexing.html#returning-a-view-versus-a-copy\n",
      "  data_1['year'] = data_1['datetime'].dt.strftime('%Y')\n",
      "/var/folders/cf/g31hh6zn189d9yzlfgjd16xw0000gn/T/ipykernel_4675/904399005.py:2: SettingWithCopyWarning: \n",
      "A value is trying to be set on a copy of a slice from a DataFrame.\n",
      "Try using .loc[row_indexer,col_indexer] = value instead\n",
      "\n",
      "See the caveats in the documentation: https://pandas.pydata.org/pandas-docs/stable/user_guide/indexing.html#returning-a-view-versus-a-copy\n",
      "  data_1['month'] = data_1['datetime'].dt.strftime('%m')\n"
     ]
    },
    {
     "data": {
      "text/html": [
       "<div>\n",
       "<style scoped>\n",
       "    .dataframe tbody tr th:only-of-type {\n",
       "        vertical-align: middle;\n",
       "    }\n",
       "\n",
       "    .dataframe tbody tr th {\n",
       "        vertical-align: top;\n",
       "    }\n",
       "\n",
       "    .dataframe thead th {\n",
       "        text-align: right;\n",
       "    }\n",
       "</style>\n",
       "<table border=\"1\" class=\"dataframe\">\n",
       "  <thead>\n",
       "    <tr style=\"text-align: right;\">\n",
       "      <th></th>\n",
       "      <th>month</th>\n",
       "      <th>year</th>\n",
       "      <th>order_id</th>\n",
       "      <th>month_year</th>\n",
       "    </tr>\n",
       "  </thead>\n",
       "  <tbody>\n",
       "    <tr>\n",
       "      <th>9</th>\n",
       "      <td>10</td>\n",
       "      <td>2018</td>\n",
       "      <td>324</td>\n",
       "      <td>10-2018</td>\n",
       "    </tr>\n",
       "    <tr>\n",
       "      <th>11</th>\n",
       "      <td>11</td>\n",
       "      <td>2018</td>\n",
       "      <td>393</td>\n",
       "      <td>11-2018</td>\n",
       "    </tr>\n",
       "    <tr>\n",
       "      <th>12</th>\n",
       "      <td>12</td>\n",
       "      <td>2018</td>\n",
       "      <td>301</td>\n",
       "      <td>12-2018</td>\n",
       "    </tr>\n",
       "    <tr>\n",
       "      <th>0</th>\n",
       "      <td>01</td>\n",
       "      <td>2019</td>\n",
       "      <td>186</td>\n",
       "      <td>01-2019</td>\n",
       "    </tr>\n",
       "    <tr>\n",
       "      <th>1</th>\n",
       "      <td>02</td>\n",
       "      <td>2019</td>\n",
       "      <td>359</td>\n",
       "      <td>02-2019</td>\n",
       "    </tr>\n",
       "    <tr>\n",
       "      <th>2</th>\n",
       "      <td>03</td>\n",
       "      <td>2019</td>\n",
       "      <td>441</td>\n",
       "      <td>03-2019</td>\n",
       "    </tr>\n",
       "    <tr>\n",
       "      <th>3</th>\n",
       "      <td>04</td>\n",
       "      <td>2019</td>\n",
       "      <td>555</td>\n",
       "      <td>04-2019</td>\n",
       "    </tr>\n",
       "    <tr>\n",
       "      <th>4</th>\n",
       "      <td>05</td>\n",
       "      <td>2019</td>\n",
       "      <td>554</td>\n",
       "      <td>05-2019</td>\n",
       "    </tr>\n",
       "    <tr>\n",
       "      <th>5</th>\n",
       "      <td>06</td>\n",
       "      <td>2019</td>\n",
       "      <td>250</td>\n",
       "      <td>06-2019</td>\n",
       "    </tr>\n",
       "    <tr>\n",
       "      <th>6</th>\n",
       "      <td>07</td>\n",
       "      <td>2019</td>\n",
       "      <td>357</td>\n",
       "      <td>07-2019</td>\n",
       "    </tr>\n",
       "    <tr>\n",
       "      <th>7</th>\n",
       "      <td>08</td>\n",
       "      <td>2019</td>\n",
       "      <td>199</td>\n",
       "      <td>08-2019</td>\n",
       "    </tr>\n",
       "    <tr>\n",
       "      <th>8</th>\n",
       "      <td>09</td>\n",
       "      <td>2019</td>\n",
       "      <td>223</td>\n",
       "      <td>09-2019</td>\n",
       "    </tr>\n",
       "    <tr>\n",
       "      <th>10</th>\n",
       "      <td>10</td>\n",
       "      <td>2019</td>\n",
       "      <td>214</td>\n",
       "      <td>10-2019</td>\n",
       "    </tr>\n",
       "  </tbody>\n",
       "</table>\n",
       "</div>"
      ],
      "text/plain": [
       "   month  year  order_id month_year\n",
       "9     10  2018       324    10-2018\n",
       "11    11  2018       393    11-2018\n",
       "12    12  2018       301    12-2018\n",
       "0     01  2019       186    01-2019\n",
       "1     02  2019       359    02-2019\n",
       "2     03  2019       441    03-2019\n",
       "3     04  2019       555    04-2019\n",
       "4     05  2019       554    05-2019\n",
       "5     06  2019       250    06-2019\n",
       "6     07  2019       357    07-2019\n",
       "7     08  2019       199    08-2019\n",
       "8     09  2019       223    09-2019\n",
       "10    10  2019       214    10-2019"
      ]
     },
     "execution_count": 30,
     "metadata": {},
     "output_type": "execute_result"
    }
   ],
   "source": [
    "data_1['year'] = data_1['datetime'].dt.strftime('%Y')\n",
    "data_1['month'] = data_1['datetime'].dt.strftime('%m')\n",
    "data_1_grouped_by_month = data_1.groupby(['month','year']).agg({'order_id':'count'}).reset_index().sort_values(by = 'year')\n",
    "\n",
    "def month_year_creator(df):\n",
    "    df['month_year'] = df['month'] +'-'+ df['year']\n",
    "    return df\n",
    "\n",
    "month_year_creator(data_1_grouped_by_month)    "
   ]
  },
  {
   "cell_type": "code",
   "execution_count": 31,
   "id": "97c33603",
   "metadata": {},
   "outputs": [
    {
     "data": {
      "image/png": "[encoded data removed]",
      "text/plain": [
       "<Figure size 1440x720 with 1 Axes>"
      ]
     },
     "metadata": {
      "needs_background": "light"
     },
     "output_type": "display_data"
    }
   ],
   "source": [
    "plt.figure(figsize=(20, 10))\n",
    "sns.barplot(x = 'month_year', y = 'order_id', data = data_1_grouped_by_month)\n",
    "plt.title('Количество заказов по месяцам')\n",
    "plt.ylabel('Количество заказов')\n",
    "plt.xlabel('Месяц-Год')\n",
    "plt.show()"
   ]
  },
  {
   "cell_type": "raw",
   "id": "aaa2a5b9",
   "metadata": {},
   "source": [
    "Мы не видим ожидаемого сезонного декабрьского повышенного количества заказов.\n",
    "\n",
    "Очевиден рост спроса в первой половине года, который достигает максимума в апреле-мае. Вероятно, это связано с тем, что весной - в начале лета люди начинают квартирные ремонты и начинается дачный сезон.\n",
    "\n",
    "Также, следует отметить падение количества заказов примерно в два раза в октябре 2019 по отношению к октябрю 2018. "
   ]
  },
  {
   "cell_type": "markdown",
   "id": "d7edcea3",
   "metadata": {},
   "source": [
    "Построим аналогичную диаграмму для валовой выручки. "
   ]
  },
  {
   "cell_type": "code",
   "execution_count": 32,
   "id": "e48d9f00",
   "metadata": {},
   "outputs": [
    {
     "data": {
      "text/html": [
       "<div>\n",
       "<style scoped>\n",
       "    .dataframe tbody tr th:only-of-type {\n",
       "        vertical-align: middle;\n",
       "    }\n",
       "\n",
       "    .dataframe tbody tr th {\n",
       "        vertical-align: top;\n",
       "    }\n",
       "\n",
       "    .dataframe thead th {\n",
       "        text-align: right;\n",
       "    }\n",
       "</style>\n",
       "<table border=\"1\" class=\"dataframe\">\n",
       "  <thead>\n",
       "    <tr style=\"text-align: right;\">\n",
       "      <th></th>\n",
       "      <th>month</th>\n",
       "      <th>year</th>\n",
       "      <th>revenue</th>\n",
       "      <th>month_year</th>\n",
       "    </tr>\n",
       "  </thead>\n",
       "  <tbody>\n",
       "    <tr>\n",
       "      <th>9</th>\n",
       "      <td>10</td>\n",
       "      <td>2018</td>\n",
       "      <td>168043.0</td>\n",
       "      <td>10-2018</td>\n",
       "    </tr>\n",
       "    <tr>\n",
       "      <th>11</th>\n",
       "      <td>11</td>\n",
       "      <td>2018</td>\n",
       "      <td>167993.0</td>\n",
       "      <td>11-2018</td>\n",
       "    </tr>\n",
       "    <tr>\n",
       "      <th>12</th>\n",
       "      <td>12</td>\n",
       "      <td>2018</td>\n",
       "      <td>221797.0</td>\n",
       "      <td>12-2018</td>\n",
       "    </tr>\n",
       "    <tr>\n",
       "      <th>0</th>\n",
       "      <td>01</td>\n",
       "      <td>2019</td>\n",
       "      <td>115982.0</td>\n",
       "      <td>01-2019</td>\n",
       "    </tr>\n",
       "    <tr>\n",
       "      <th>1</th>\n",
       "      <td>02</td>\n",
       "      <td>2019</td>\n",
       "      <td>198486.0</td>\n",
       "      <td>02-2019</td>\n",
       "    </tr>\n",
       "    <tr>\n",
       "      <th>2</th>\n",
       "      <td>03</td>\n",
       "      <td>2019</td>\n",
       "      <td>188059.0</td>\n",
       "      <td>03-2019</td>\n",
       "    </tr>\n",
       "    <tr>\n",
       "      <th>3</th>\n",
       "      <td>04</td>\n",
       "      <td>2019</td>\n",
       "      <td>171162.0</td>\n",
       "      <td>04-2019</td>\n",
       "    </tr>\n",
       "    <tr>\n",
       "      <th>4</th>\n",
       "      <td>05</td>\n",
       "      <td>2019</td>\n",
       "      <td>134902.0</td>\n",
       "      <td>05-2019</td>\n",
       "    </tr>\n",
       "    <tr>\n",
       "      <th>5</th>\n",
       "      <td>06</td>\n",
       "      <td>2019</td>\n",
       "      <td>98747.0</td>\n",
       "      <td>06-2019</td>\n",
       "    </tr>\n",
       "    <tr>\n",
       "      <th>6</th>\n",
       "      <td>07</td>\n",
       "      <td>2019</td>\n",
       "      <td>144391.0</td>\n",
       "      <td>07-2019</td>\n",
       "    </tr>\n",
       "    <tr>\n",
       "      <th>7</th>\n",
       "      <td>08</td>\n",
       "      <td>2019</td>\n",
       "      <td>123537.0</td>\n",
       "      <td>08-2019</td>\n",
       "    </tr>\n",
       "    <tr>\n",
       "      <th>8</th>\n",
       "      <td>09</td>\n",
       "      <td>2019</td>\n",
       "      <td>127886.0</td>\n",
       "      <td>09-2019</td>\n",
       "    </tr>\n",
       "    <tr>\n",
       "      <th>10</th>\n",
       "      <td>10</td>\n",
       "      <td>2019</td>\n",
       "      <td>140362.0</td>\n",
       "      <td>10-2019</td>\n",
       "    </tr>\n",
       "  </tbody>\n",
       "</table>\n",
       "</div>"
      ],
      "text/plain": [
       "   month  year   revenue month_year\n",
       "9     10  2018  168043.0    10-2018\n",
       "11    11  2018  167993.0    11-2018\n",
       "12    12  2018  221797.0    12-2018\n",
       "0     01  2019  115982.0    01-2019\n",
       "1     02  2019  198486.0    02-2019\n",
       "2     03  2019  188059.0    03-2019\n",
       "3     04  2019  171162.0    04-2019\n",
       "4     05  2019  134902.0    05-2019\n",
       "5     06  2019   98747.0    06-2019\n",
       "6     07  2019  144391.0    07-2019\n",
       "7     08  2019  123537.0    08-2019\n",
       "8     09  2019  127886.0    09-2019\n",
       "10    10  2019  140362.0    10-2019"
      ]
     },
     "execution_count": 32,
     "metadata": {},
     "output_type": "execute_result"
    }
   ],
   "source": [
    "data_1_grouped_by_month = data_1.groupby(['month','year']).agg({'revenue':'sum'}).reset_index().sort_values(by = 'year')\n",
    "data_1_grouped_by_month['month_year'] = data_1_grouped_by_month['month'] +'-'+ data_1_grouped_by_month['year']\n",
    "month_year_creator(data_1_grouped_by_month)  "
   ]
  },
  {
   "cell_type": "code",
   "execution_count": 33,
   "id": "7d7d39bc",
   "metadata": {},
   "outputs": [
    {
     "data": {
      "image/png": "[encoded data removed]",
      "text/plain": [
       "<Figure size 1440x720 with 1 Axes>"
      ]
     },
     "metadata": {
      "needs_background": "light"
     },
     "output_type": "display_data"
    }
   ],
   "source": [
    "plt.figure(figsize=(20, 10))\n",
    "sns.barplot(x = 'month_year',y = 'revenue', data = data_1_grouped_by_month)\n",
    "plt.title('Выручка по месяцам')\n",
    "plt.ylabel('Выручка, р')\n",
    "plt.xlabel('Месяц-Год')\n",
    "plt.show()"
   ]
  },
  {
   "cell_type": "markdown",
   "id": "d03068a2",
   "metadata": {},
   "source": [
    "По выручке наблюдается предновогодний максимум в декабре. Постоянное снижение от февраля к июню. Октябрь 2019 на 20-30% проигрывает октябрю 2018."
   ]
  },
  {
   "cell_type": "markdown",
   "id": "2c3ea160",
   "metadata": {},
   "source": [
    "Имеет смысл рассммотреть среднюю стоимость одной единицы по месяцам. Возможно, при имеющемся тренде на снижение общей месячной выручки растет средняя цена одной единицы - то есть, магазин находится в стадии переориентации на продажу более дорогих товаров, но еще не \"приобрел\" новую аудиторию."
   ]
  },
  {
   "cell_type": "code",
   "execution_count": 34,
   "id": "021df551",
   "metadata": {},
   "outputs": [
    {
     "data": {
      "text/html": [
       "<div>\n",
       "<style scoped>\n",
       "    .dataframe tbody tr th:only-of-type {\n",
       "        vertical-align: middle;\n",
       "    }\n",
       "\n",
       "    .dataframe tbody tr th {\n",
       "        vertical-align: top;\n",
       "    }\n",
       "\n",
       "    .dataframe thead th {\n",
       "        text-align: right;\n",
       "    }\n",
       "</style>\n",
       "<table border=\"1\" class=\"dataframe\">\n",
       "  <thead>\n",
       "    <tr style=\"text-align: right;\">\n",
       "      <th></th>\n",
       "      <th>month</th>\n",
       "      <th>year</th>\n",
       "      <th>price</th>\n",
       "      <th>month_year</th>\n",
       "    </tr>\n",
       "  </thead>\n",
       "  <tbody>\n",
       "    <tr>\n",
       "      <th>9</th>\n",
       "      <td>10</td>\n",
       "      <td>2018</td>\n",
       "      <td>452.157407</td>\n",
       "      <td>10-2018</td>\n",
       "    </tr>\n",
       "    <tr>\n",
       "      <th>11</th>\n",
       "      <td>11</td>\n",
       "      <td>2018</td>\n",
       "      <td>361.524173</td>\n",
       "      <td>11-2018</td>\n",
       "    </tr>\n",
       "    <tr>\n",
       "      <th>12</th>\n",
       "      <td>12</td>\n",
       "      <td>2018</td>\n",
       "      <td>614.654485</td>\n",
       "      <td>12-2018</td>\n",
       "    </tr>\n",
       "    <tr>\n",
       "      <th>0</th>\n",
       "      <td>01</td>\n",
       "      <td>2019</td>\n",
       "      <td>474.532258</td>\n",
       "      <td>01-2019</td>\n",
       "    </tr>\n",
       "    <tr>\n",
       "      <th>1</th>\n",
       "      <td>02</td>\n",
       "      <td>2019</td>\n",
       "      <td>433.378830</td>\n",
       "      <td>02-2019</td>\n",
       "    </tr>\n",
       "    <tr>\n",
       "      <th>2</th>\n",
       "      <td>03</td>\n",
       "      <td>2019</td>\n",
       "      <td>327.498866</td>\n",
       "      <td>03-2019</td>\n",
       "    </tr>\n",
       "    <tr>\n",
       "      <th>3</th>\n",
       "      <td>04</td>\n",
       "      <td>2019</td>\n",
       "      <td>243.989189</td>\n",
       "      <td>04-2019</td>\n",
       "    </tr>\n",
       "    <tr>\n",
       "      <th>4</th>\n",
       "      <td>05</td>\n",
       "      <td>2019</td>\n",
       "      <td>188.229242</td>\n",
       "      <td>05-2019</td>\n",
       "    </tr>\n",
       "    <tr>\n",
       "      <th>5</th>\n",
       "      <td>06</td>\n",
       "      <td>2019</td>\n",
       "      <td>324.840000</td>\n",
       "      <td>06-2019</td>\n",
       "    </tr>\n",
       "    <tr>\n",
       "      <th>6</th>\n",
       "      <td>07</td>\n",
       "      <td>2019</td>\n",
       "      <td>349.703081</td>\n",
       "      <td>07-2019</td>\n",
       "    </tr>\n",
       "    <tr>\n",
       "      <th>7</th>\n",
       "      <td>08</td>\n",
       "      <td>2019</td>\n",
       "      <td>531.437186</td>\n",
       "      <td>08-2019</td>\n",
       "    </tr>\n",
       "    <tr>\n",
       "      <th>8</th>\n",
       "      <td>09</td>\n",
       "      <td>2019</td>\n",
       "      <td>513.165919</td>\n",
       "      <td>09-2019</td>\n",
       "    </tr>\n",
       "    <tr>\n",
       "      <th>10</th>\n",
       "      <td>10</td>\n",
       "      <td>2019</td>\n",
       "      <td>480.953271</td>\n",
       "      <td>10-2019</td>\n",
       "    </tr>\n",
       "  </tbody>\n",
       "</table>\n",
       "</div>"
      ],
      "text/plain": [
       "   month  year       price month_year\n",
       "9     10  2018  452.157407    10-2018\n",
       "11    11  2018  361.524173    11-2018\n",
       "12    12  2018  614.654485    12-2018\n",
       "0     01  2019  474.532258    01-2019\n",
       "1     02  2019  433.378830    02-2019\n",
       "2     03  2019  327.498866    03-2019\n",
       "3     04  2019  243.989189    04-2019\n",
       "4     05  2019  188.229242    05-2019\n",
       "5     06  2019  324.840000    06-2019\n",
       "6     07  2019  349.703081    07-2019\n",
       "7     08  2019  531.437186    08-2019\n",
       "8     09  2019  513.165919    09-2019\n",
       "10    10  2019  480.953271    10-2019"
      ]
     },
     "execution_count": 34,
     "metadata": {},
     "output_type": "execute_result"
    }
   ],
   "source": [
    "data_1_grouped_by_month = data_1.groupby(['month','year']).agg({'price':'mean'}).reset_index().sort_values(by = 'year')\n",
    "data_1_grouped_by_month['month_year'] = data_1_grouped_by_month['month'] +'-'+ data_1_grouped_by_month['year']\n",
    "month_year_creator(data_1_grouped_by_month)"
   ]
  },
  {
   "cell_type": "code",
   "execution_count": 35,
   "id": "bd336288",
   "metadata": {},
   "outputs": [
    {
     "data": {
      "image/png": "[encoded data removed]",
      "text/plain": [
       "<Figure size 1440x720 with 1 Axes>"
      ]
     },
     "metadata": {
      "needs_background": "light"
     },
     "output_type": "display_data"
    }
   ],
   "source": [
    "plt.figure(figsize=(20, 10))\n",
    "sns.barplot(x = 'month_year',y = 'price', data = data_1_grouped_by_month)\n",
    "plt.title('Средняя стоимость одной единицы в заказе')\n",
    "plt.ylabel('Средняя стоимость одной единицы в заказе')\n",
    "plt.xlabel('Месяц-Год')\n",
    "plt.show()"
   ]
  },
  {
   "cell_type": "markdown",
   "id": "6a242aa9",
   "metadata": {},
   "source": [
    "При максимуме количества заказов в мае наблюдается минимум по средней стоимости одной единицы. Тренд на снижение средней стоимости единицы полностью \"соответствует\" тренду на повышение количества заказов от февраля к маю. При этом в декабре наблюдается максимум стоимости одной единицы. "
   ]
  },
  {
   "cell_type": "markdown",
   "id": "aa865c32",
   "metadata": {},
   "source": [
    "Предположение о переориентации магазина на более дорогие товары остается в силе. В октябре 2019 по отношению к октябрю 2018 наблюдается рост средней цены товара."
   ]
  },
  {
   "cell_type": "markdown",
   "id": "bd31a1c6",
   "metadata": {},
   "source": [
    "<h3>3. Анализ роста количества продаж и падения выручки весной</h3>"
   ]
  },
  {
   "cell_type": "markdown",
   "id": "4adf6728",
   "metadata": {},
   "source": [
    "Выведем топ-20 товаров проданных в мае 2019. Отметим, что покупатели, названные \"оптовиками\" исключены из рассмотрения."
   ]
  },
  {
   "cell_type": "code",
   "execution_count": 36,
   "id": "bff0c01d",
   "metadata": {},
   "outputs": [
    {
     "data": {
      "text/html": [
       "<div>\n",
       "<style scoped>\n",
       "    .dataframe tbody tr th:only-of-type {\n",
       "        vertical-align: middle;\n",
       "    }\n",
       "\n",
       "    .dataframe tbody tr th {\n",
       "        vertical-align: top;\n",
       "    }\n",
       "\n",
       "    .dataframe thead th {\n",
       "        text-align: right;\n",
       "    }\n",
       "</style>\n",
       "<table border=\"1\" class=\"dataframe\">\n",
       "  <thead>\n",
       "    <tr style=\"text-align: right;\">\n",
       "      <th></th>\n",
       "      <th>product</th>\n",
       "      <th>quantity</th>\n",
       "    </tr>\n",
       "  </thead>\n",
       "  <tbody>\n",
       "    <tr>\n",
       "      <th>0</th>\n",
       "      <td>насадка на валик вмм-200/60 белый искусственны...</td>\n",
       "      <td>70</td>\n",
       "    </tr>\n",
       "    <tr>\n",
       "      <th>1</th>\n",
       "      <td>щетка-сметка 4-х рядная деревянная 300 мм (фиг...</td>\n",
       "      <td>30</td>\n",
       "    </tr>\n",
       "    <tr>\n",
       "      <th>2</th>\n",
       "      <td>ёрш унитазный с деревянной ручкой , ваир 1712012</td>\n",
       "      <td>30</td>\n",
       "    </tr>\n",
       "    <tr>\n",
       "      <th>3</th>\n",
       "      <td>цветок искусственный гвоздика пластиковая один...</td>\n",
       "      <td>26</td>\n",
       "    </tr>\n",
       "    <tr>\n",
       "      <th>4</th>\n",
       "      <td>вешалка-плечики без эссенции цвет тёмно-розовы...</td>\n",
       "      <td>20</td>\n",
       "    </tr>\n",
       "    <tr>\n",
       "      <th>5</th>\n",
       "      <td>искусственный цветок гвоздика садовая пластико...</td>\n",
       "      <td>20</td>\n",
       "    </tr>\n",
       "    <tr>\n",
       "      <th>6</th>\n",
       "      <td>однолетнее растение петуния махровая в кассете...</td>\n",
       "      <td>19</td>\n",
       "    </tr>\n",
       "    <tr>\n",
       "      <th>7</th>\n",
       "      <td>арбуз волгоградец р-9</td>\n",
       "      <td>18</td>\n",
       "    </tr>\n",
       "    <tr>\n",
       "      <th>8</th>\n",
       "      <td>рассада арбуза сорт огонек горшок 9х9 см p-9</td>\n",
       "      <td>14</td>\n",
       "    </tr>\n",
       "    <tr>\n",
       "      <th>9</th>\n",
       "      <td>рассада арбуза сорт продюсер, горшок 9*9см</td>\n",
       "      <td>13</td>\n",
       "    </tr>\n",
       "    <tr>\n",
       "      <th>10</th>\n",
       "      <td>пеларгония зональная диам. 12 см красная махровая</td>\n",
       "      <td>12</td>\n",
       "    </tr>\n",
       "    <tr>\n",
       "      <th>11</th>\n",
       "      <td>столовый нож 2 шт сапфир тяжелый снsapfir-2</td>\n",
       "      <td>10</td>\n",
       "    </tr>\n",
       "    <tr>\n",
       "      <th>12</th>\n",
       "      <td>томата (помидор) этуаль №85 сорт детерминантны...</td>\n",
       "      <td>9</td>\n",
       "    </tr>\n",
       "    <tr>\n",
       "      <th>13</th>\n",
       "      <td>рассада арбуза сорт шуга бэби горшок 9х9 см p-9</td>\n",
       "      <td>9</td>\n",
       "    </tr>\n",
       "    <tr>\n",
       "      <th>14</th>\n",
       "      <td>рассада дыни сорт колхозница горшок 9х9 см p-9</td>\n",
       "      <td>9</td>\n",
       "    </tr>\n",
       "    <tr>\n",
       "      <th>15</th>\n",
       "      <td>карниз для ванной комнаты виолет раздвижной 21...</td>\n",
       "      <td>9</td>\n",
       "    </tr>\n",
       "    <tr>\n",
       "      <th>16</th>\n",
       "      <td>однолетнее растение циния в кассете 4 шт, россия</td>\n",
       "      <td>8</td>\n",
       "    </tr>\n",
       "    <tr>\n",
       "      <th>17</th>\n",
       "      <td>рассада тыквы сорт лечебная, горшок 9*9см</td>\n",
       "      <td>8</td>\n",
       "    </tr>\n",
       "    <tr>\n",
       "      <th>18</th>\n",
       "      <td>рассада зелени для кухни базилик тонус, кассет...</td>\n",
       "      <td>8</td>\n",
       "    </tr>\n",
       "    <tr>\n",
       "      <th>19</th>\n",
       "      <td>калла крупноцветковая малиновая</td>\n",
       "      <td>8</td>\n",
       "    </tr>\n",
       "  </tbody>\n",
       "</table>\n",
       "</div>"
      ],
      "text/plain": [
       "                                              product  quantity\n",
       "0   насадка на валик вмм-200/60 белый искусственны...        70\n",
       "1   щетка-сметка 4-х рядная деревянная 300 мм (фиг...        30\n",
       "2    ёрш унитазный с деревянной ручкой , ваир 1712012        30\n",
       "3   цветок искусственный гвоздика пластиковая один...        26\n",
       "4   вешалка-плечики без эссенции цвет тёмно-розовы...        20\n",
       "5   искусственный цветок гвоздика садовая пластико...        20\n",
       "6   однолетнее растение петуния махровая в кассете...        19\n",
       "7                               арбуз волгоградец р-9        18\n",
       "8        рассада арбуза сорт огонек горшок 9х9 см p-9        14\n",
       "9          рассада арбуза сорт продюсер, горшок 9*9см        13\n",
       "10  пеларгония зональная диам. 12 см красная махровая        12\n",
       "11        столовый нож 2 шт сапфир тяжелый снsapfir-2        10\n",
       "12  томата (помидор) этуаль №85 сорт детерминантны...         9\n",
       "13    рассада арбуза сорт шуга бэби горшок 9х9 см p-9         9\n",
       "14     рассада дыни сорт колхозница горшок 9х9 см p-9         9\n",
       "15  карниз для ванной комнаты виолет раздвижной 21...         9\n",
       "16   однолетнее растение циния в кассете 4 шт, россия         8\n",
       "17          рассада тыквы сорт лечебная, горшок 9*9см         8\n",
       "18  рассада зелени для кухни базилик тонус, кассет...         8\n",
       "19                    калла крупноцветковая малиновая         8"
      ]
     },
     "metadata": {},
     "output_type": "display_data"
    }
   ],
   "source": [
    "data_may = data_1.query('month == \"05\"')\n",
    "data_may_grouped = (data_may.groupby(['product']).\n",
    "                    agg({'quantity':'sum'}).sort_values(by = 'quantity',ascending = False).\n",
    "                    rename(columns = ({'customer_id':'count'})).\n",
    "                    reset_index()\n",
    "                    )\n",
    "display(data_may_grouped.head(20))"
   ]
  },
  {
   "cell_type": "markdown",
   "id": "850d5c7c",
   "metadata": {},
   "source": [
    " Отметим значительное количество товаров для дачи. Рассмотрим их отдельно."
   ]
  },
  {
   "cell_type": "markdown",
   "id": "ad501112",
   "metadata": {},
   "source": [
    "Продемонстрируем сезонный рост количества заказов с товарами, название которых содержит слово \"рассада\", \"цвет\", \"гараж\", \"раст\", \"уния\", \"ония\"."
   ]
  },
  {
   "cell_type": "code",
   "execution_count": 37,
   "id": "2a6b5d79",
   "metadata": {
    "scrolled": true
   },
   "outputs": [
    {
     "name": "stderr",
     "output_type": "stream",
     "text": [
      "/var/folders/cf/g31hh6zn189d9yzlfgjd16xw0000gn/T/ipykernel_4675/4046665490.py:16: SettingWithCopyWarning: \n",
      "A value is trying to be set on a copy of a slice from a DataFrame.\n",
      "Try using .loc[row_indexer,col_indexer] = value instead\n",
      "\n",
      "See the caveats in the documentation: https://pandas.pydata.org/pandas-docs/stable/user_guide/indexing.html#returning-a-view-versus-a-copy\n",
      "  data_1['dacha']=data_1['product'].apply(categoriser_dacha)\n"
     ]
    }
   ],
   "source": [
    "def categoriser_dacha(product):\n",
    "    if ('рассада' in product):\n",
    "        return True\n",
    "    if ('цвет' in product):\n",
    "        return True\n",
    "    if ('гараж' in product):\n",
    "        return True\n",
    "    if ('раст' in product):\n",
    "        return True\n",
    "    if ('уния' in product):\n",
    "        return True\n",
    "    if ('ония' in product):\n",
    "        return True  \n",
    "    else:\n",
    "        return False\n",
    "data_1['dacha']=data_1['product'].apply(categoriser_dacha)      "
   ]
  },
  {
   "cell_type": "markdown",
   "id": "4dff1c36",
   "metadata": {},
   "source": [
    "Построим столбчатую диаграмму количества покупок, содержащих товары для дачи."
   ]
  },
  {
   "cell_type": "code",
   "execution_count": 38,
   "id": "486fd01e",
   "metadata": {},
   "outputs": [
    {
     "data": {
      "text/html": [
       "<div>\n",
       "<style scoped>\n",
       "    .dataframe tbody tr th:only-of-type {\n",
       "        vertical-align: middle;\n",
       "    }\n",
       "\n",
       "    .dataframe tbody tr th {\n",
       "        vertical-align: top;\n",
       "    }\n",
       "\n",
       "    .dataframe thead th {\n",
       "        text-align: right;\n",
       "    }\n",
       "</style>\n",
       "<table border=\"1\" class=\"dataframe\">\n",
       "  <thead>\n",
       "    <tr style=\"text-align: right;\">\n",
       "      <th></th>\n",
       "      <th>month</th>\n",
       "      <th>year</th>\n",
       "      <th>order_id</th>\n",
       "      <th>month_year</th>\n",
       "    </tr>\n",
       "  </thead>\n",
       "  <tbody>\n",
       "    <tr>\n",
       "      <th>9</th>\n",
       "      <td>10</td>\n",
       "      <td>2018</td>\n",
       "      <td>102</td>\n",
       "      <td>10-2018</td>\n",
       "    </tr>\n",
       "    <tr>\n",
       "      <th>11</th>\n",
       "      <td>11</td>\n",
       "      <td>2018</td>\n",
       "      <td>106</td>\n",
       "      <td>11-2018</td>\n",
       "    </tr>\n",
       "    <tr>\n",
       "      <th>12</th>\n",
       "      <td>12</td>\n",
       "      <td>2018</td>\n",
       "      <td>23</td>\n",
       "      <td>12-2018</td>\n",
       "    </tr>\n",
       "    <tr>\n",
       "      <th>0</th>\n",
       "      <td>01</td>\n",
       "      <td>2019</td>\n",
       "      <td>52</td>\n",
       "      <td>01-2019</td>\n",
       "    </tr>\n",
       "    <tr>\n",
       "      <th>1</th>\n",
       "      <td>02</td>\n",
       "      <td>2019</td>\n",
       "      <td>160</td>\n",
       "      <td>02-2019</td>\n",
       "    </tr>\n",
       "    <tr>\n",
       "      <th>2</th>\n",
       "      <td>03</td>\n",
       "      <td>2019</td>\n",
       "      <td>201</td>\n",
       "      <td>03-2019</td>\n",
       "    </tr>\n",
       "    <tr>\n",
       "      <th>3</th>\n",
       "      <td>04</td>\n",
       "      <td>2019</td>\n",
       "      <td>253</td>\n",
       "      <td>04-2019</td>\n",
       "    </tr>\n",
       "    <tr>\n",
       "      <th>4</th>\n",
       "      <td>05</td>\n",
       "      <td>2019</td>\n",
       "      <td>377</td>\n",
       "      <td>05-2019</td>\n",
       "    </tr>\n",
       "    <tr>\n",
       "      <th>5</th>\n",
       "      <td>06</td>\n",
       "      <td>2019</td>\n",
       "      <td>122</td>\n",
       "      <td>06-2019</td>\n",
       "    </tr>\n",
       "    <tr>\n",
       "      <th>6</th>\n",
       "      <td>07</td>\n",
       "      <td>2019</td>\n",
       "      <td>109</td>\n",
       "      <td>07-2019</td>\n",
       "    </tr>\n",
       "    <tr>\n",
       "      <th>7</th>\n",
       "      <td>08</td>\n",
       "      <td>2019</td>\n",
       "      <td>56</td>\n",
       "      <td>08-2019</td>\n",
       "    </tr>\n",
       "    <tr>\n",
       "      <th>8</th>\n",
       "      <td>09</td>\n",
       "      <td>2019</td>\n",
       "      <td>61</td>\n",
       "      <td>09-2019</td>\n",
       "    </tr>\n",
       "    <tr>\n",
       "      <th>10</th>\n",
       "      <td>10</td>\n",
       "      <td>2019</td>\n",
       "      <td>50</td>\n",
       "      <td>10-2019</td>\n",
       "    </tr>\n",
       "  </tbody>\n",
       "</table>\n",
       "</div>"
      ],
      "text/plain": [
       "   month  year  order_id month_year\n",
       "9     10  2018       102    10-2018\n",
       "11    11  2018       106    11-2018\n",
       "12    12  2018        23    12-2018\n",
       "0     01  2019        52    01-2019\n",
       "1     02  2019       160    02-2019\n",
       "2     03  2019       201    03-2019\n",
       "3     04  2019       253    04-2019\n",
       "4     05  2019       377    05-2019\n",
       "5     06  2019       122    06-2019\n",
       "6     07  2019       109    07-2019\n",
       "7     08  2019        56    08-2019\n",
       "8     09  2019        61    09-2019\n",
       "10    10  2019        50    10-2019"
      ]
     },
     "execution_count": 38,
     "metadata": {},
     "output_type": "execute_result"
    }
   ],
   "source": [
    "data_dacha_grouped_by_month = (data_1.query('dacha == True').\n",
    "                               groupby(['month','year']).agg({'order_id':'count'}).reset_index().sort_values(by = 'year')\n",
    "                              )\n",
    "month_year_creator(data_dacha_grouped_by_month)"
   ]
  },
  {
   "cell_type": "code",
   "execution_count": 39,
   "id": "751ff490",
   "metadata": {},
   "outputs": [
    {
     "data": {
      "image/png": "[encoded data removed]",
      "text/plain": [
       "<Figure size 1440x720 with 1 Axes>"
      ]
     },
     "metadata": {
      "needs_background": "light"
     },
     "output_type": "display_data"
    }
   ],
   "source": [
    "plt.figure(figsize=(20, 10))\n",
    "sns.barplot(x = 'month_year',y = 'order_id', data = data_dacha_grouped_by_month)\n",
    "plt.title('Количество заказов c товарами для дачи по месяцам')\n",
    "plt.ylabel('Количество заказов c товарами для дачи')\n",
    "plt.xlabel('Месяц-Год')\n",
    "plt.show()"
   ]
  },
  {
   "cell_type": "markdown",
   "id": "a0e4e390",
   "metadata": {},
   "source": [
    "Максимум наблюдается мае. Количество покупок с товарами для дачи растет с февраля по май более выраженно чем на весь ассортимент, резко падая в июне, но имея некоторый всплеск в октябре-ноябре - в конце дачного сезона."
   ]
  },
  {
   "cell_type": "markdown",
   "id": "78c3c7ae",
   "metadata": {},
   "source": [
    "Для проверки построим аналогичный график только для рассады."
   ]
  },
  {
   "cell_type": "code",
   "execution_count": 40,
   "id": "92df4923",
   "metadata": {},
   "outputs": [
    {
     "name": "stderr",
     "output_type": "stream",
     "text": [
      "/var/folders/cf/g31hh6zn189d9yzlfgjd16xw0000gn/T/ipykernel_4675/4013365467.py:4: SettingWithCopyWarning: \n",
      "A value is trying to be set on a copy of a slice from a DataFrame.\n",
      "Try using .loc[row_indexer,col_indexer] = value instead\n",
      "\n",
      "See the caveats in the documentation: https://pandas.pydata.org/pandas-docs/stable/user_guide/indexing.html#returning-a-view-versus-a-copy\n",
      "  data_1['rassada']=data_1['product'].apply(categoriser_rassada)\n"
     ]
    }
   ],
   "source": [
    "def categoriser_rassada(product):\n",
    "    if ('рассада' in product):\n",
    "        return True\n",
    "data_1['rassada']=data_1['product'].apply(categoriser_rassada)"
   ]
  },
  {
   "cell_type": "code",
   "execution_count": 41,
   "id": "63e7aab7",
   "metadata": {},
   "outputs": [
    {
     "data": {
      "text/html": [
       "<div>\n",
       "<style scoped>\n",
       "    .dataframe tbody tr th:only-of-type {\n",
       "        vertical-align: middle;\n",
       "    }\n",
       "\n",
       "    .dataframe tbody tr th {\n",
       "        vertical-align: top;\n",
       "    }\n",
       "\n",
       "    .dataframe thead th {\n",
       "        text-align: right;\n",
       "    }\n",
       "</style>\n",
       "<table border=\"1\" class=\"dataframe\">\n",
       "  <thead>\n",
       "    <tr style=\"text-align: right;\">\n",
       "      <th></th>\n",
       "      <th>month</th>\n",
       "      <th>year</th>\n",
       "      <th>order_id</th>\n",
       "      <th>month_year</th>\n",
       "    </tr>\n",
       "  </thead>\n",
       "  <tbody>\n",
       "    <tr>\n",
       "      <th>9</th>\n",
       "      <td>10</td>\n",
       "      <td>2018</td>\n",
       "      <td>12</td>\n",
       "      <td>10-2018</td>\n",
       "    </tr>\n",
       "    <tr>\n",
       "      <th>11</th>\n",
       "      <td>11</td>\n",
       "      <td>2018</td>\n",
       "      <td>9</td>\n",
       "      <td>11-2018</td>\n",
       "    </tr>\n",
       "    <tr>\n",
       "      <th>0</th>\n",
       "      <td>01</td>\n",
       "      <td>2019</td>\n",
       "      <td>2</td>\n",
       "      <td>01-2019</td>\n",
       "    </tr>\n",
       "    <tr>\n",
       "      <th>1</th>\n",
       "      <td>02</td>\n",
       "      <td>2019</td>\n",
       "      <td>35</td>\n",
       "      <td>02-2019</td>\n",
       "    </tr>\n",
       "    <tr>\n",
       "      <th>2</th>\n",
       "      <td>03</td>\n",
       "      <td>2019</td>\n",
       "      <td>40</td>\n",
       "      <td>03-2019</td>\n",
       "    </tr>\n",
       "    <tr>\n",
       "      <th>3</th>\n",
       "      <td>04</td>\n",
       "      <td>2019</td>\n",
       "      <td>91</td>\n",
       "      <td>04-2019</td>\n",
       "    </tr>\n",
       "    <tr>\n",
       "      <th>4</th>\n",
       "      <td>05</td>\n",
       "      <td>2019</td>\n",
       "      <td>225</td>\n",
       "      <td>05-2019</td>\n",
       "    </tr>\n",
       "    <tr>\n",
       "      <th>5</th>\n",
       "      <td>06</td>\n",
       "      <td>2019</td>\n",
       "      <td>26</td>\n",
       "      <td>06-2019</td>\n",
       "    </tr>\n",
       "    <tr>\n",
       "      <th>6</th>\n",
       "      <td>07</td>\n",
       "      <td>2019</td>\n",
       "      <td>45</td>\n",
       "      <td>07-2019</td>\n",
       "    </tr>\n",
       "    <tr>\n",
       "      <th>7</th>\n",
       "      <td>08</td>\n",
       "      <td>2019</td>\n",
       "      <td>7</td>\n",
       "      <td>08-2019</td>\n",
       "    </tr>\n",
       "    <tr>\n",
       "      <th>8</th>\n",
       "      <td>09</td>\n",
       "      <td>2019</td>\n",
       "      <td>13</td>\n",
       "      <td>09-2019</td>\n",
       "    </tr>\n",
       "    <tr>\n",
       "      <th>10</th>\n",
       "      <td>10</td>\n",
       "      <td>2019</td>\n",
       "      <td>1</td>\n",
       "      <td>10-2019</td>\n",
       "    </tr>\n",
       "  </tbody>\n",
       "</table>\n",
       "</div>"
      ],
      "text/plain": [
       "   month  year  order_id month_year\n",
       "9     10  2018        12    10-2018\n",
       "11    11  2018         9    11-2018\n",
       "0     01  2019         2    01-2019\n",
       "1     02  2019        35    02-2019\n",
       "2     03  2019        40    03-2019\n",
       "3     04  2019        91    04-2019\n",
       "4     05  2019       225    05-2019\n",
       "5     06  2019        26    06-2019\n",
       "6     07  2019        45    07-2019\n",
       "7     08  2019         7    08-2019\n",
       "8     09  2019        13    09-2019\n",
       "10    10  2019         1    10-2019"
      ]
     },
     "execution_count": 41,
     "metadata": {},
     "output_type": "execute_result"
    }
   ],
   "source": [
    "data_rassada_grouped_by_month = (data_1.query('rassada == True').\n",
    "                               groupby(['month','year']).agg({'order_id':'count'}).reset_index().sort_values(by = 'year')\n",
    "                              )\n",
    "month_year_creator(data_rassada_grouped_by_month)"
   ]
  },
  {
   "cell_type": "code",
   "execution_count": 42,
   "id": "8aaeb760",
   "metadata": {},
   "outputs": [
    {
     "data": {
      "image/png": "[encoded data removed]",
      "text/plain": [
       "<Figure size 1440x720 with 1 Axes>"
      ]
     },
     "metadata": {
      "needs_background": "light"
     },
     "output_type": "display_data"
    }
   ],
   "source": [
    "plt.figure(figsize=(20, 10))\n",
    "sns.barplot(x = 'month_year',y = 'order_id', data = data_rassada_grouped_by_month)\n",
    "plt.title('Количество заказов c рассадой по месяцам')\n",
    "plt.ylabel('Количество заказов c рассадой')\n",
    "plt.xlabel('Месяц-Год')\n",
    "plt.show()"
   ]
  },
  {
   "cell_type": "markdown",
   "id": "dd119e0d",
   "metadata": {},
   "source": [
    "График количества заказов с рассадой дополнительно подтверждает \"весенний дачный тренд\". Результат ожидаемый."
   ]
  },
  {
   "cell_type": "markdown",
   "id": "009387e6",
   "metadata": {},
   "source": [
    "Формируем список \"дачников\" для отдела Маркетинга. "
   ]
  },
  {
   "cell_type": "code",
   "execution_count": 43,
   "id": "5c28444e",
   "metadata": {},
   "outputs": [
    {
     "data": {
      "text/plain": [
       "1672"
      ]
     },
     "metadata": {},
     "output_type": "display_data"
    }
   ],
   "source": [
    "dachnik = data_1.query('dacha == True')['customer_id'].to_list()\n",
    "display(len(dachnik))"
   ]
  },
  {
   "cell_type": "markdown",
   "id": "95374c80",
   "metadata": {},
   "source": [
    "Всего в датасете 1672 покупателя, когда либо приобретавших товары для дачи. Вычислим соотношение с общим количеством пользователей в процентах."
   ]
  },
  {
   "cell_type": "code",
   "execution_count": 44,
   "id": "6a0ec7f3",
   "metadata": {},
   "outputs": [
    {
     "data": {
      "text/plain": [
       "76.0"
      ]
     },
     "metadata": {},
     "output_type": "display_data"
    }
   ],
   "source": [
    "display(round(100*(len(dachnik)/(len(data_1.groupby(['customer_id']).count()))),0))"
   ]
  },
  {
   "cell_type": "markdown",
   "id": "777e8657",
   "metadata": {},
   "source": [
    "Таких пользователей 76%. Им имеет смысл предложить в феврале-мае специальные условия, а также, показывать рекламу товаров для дачи. "
   ]
  },
  {
   "cell_type": "markdown",
   "id": "9b3df1bd",
   "metadata": {},
   "source": [
    "<h3>4. Проверка статистических гипотез</h3>"
   ]
  },
  {
   "cell_type": "markdown",
   "id": "ffa0c891",
   "metadata": {},
   "source": [
    "В декабре 2018 зафиксирован максимум средней стоимости одной единицы в заказе. И максимум суммарной выручки. При этом не зафиксировано максимума количества заказов. "
   ]
  },
  {
   "cell_type": "markdown",
   "id": "1735f1d9",
   "metadata": {},
   "source": [
    "Имеет смысл проверить \"статистическую значимость\" всплеска спроса в декабре. Сформулируем нулевую гипотезу. Проведем t-тест."
   ]
  },
  {
   "cell_type": "markdown",
   "id": "fc666f61",
   "metadata": {},
   "source": [
    "Нулевая Гипотеза Ho: \"Средние выручки от одного покупателя в декабре и в остальные месяцы равны\""
   ]
  },
  {
   "cell_type": "code",
   "execution_count": 45,
   "id": "699984f9",
   "metadata": {},
   "outputs": [
    {
     "name": "stdout",
     "output_type": "stream",
     "text": [
      "p-значение: [4.39358862e-05]\n"
     ]
    }
   ],
   "source": [
    "december_data = data_1.query('month == \"12\"').groupby(['customer_id']).agg({'revenue':'mean'})\n",
    "not_december_data = data_1.query('month != \"12\"').groupby(['customer_id']).agg({'revenue':'mean'})\n",
    "\n",
    "results = st.ttest_ind(december_data, not_december_data)\n",
    "print('p-значение:', results.pvalue)"
   ]
  },
  {
   "cell_type": "markdown",
   "id": "1e41934f",
   "metadata": {},
   "source": [
    "Даже если принять критичекий уровень статистической значимости (альфа) равным 1%, он не превышается. Нулевую гипотезу отвергаем. Следовательно, альтернативная гипотеза \"Средняя выручка от одного покупателя в декабре и в остальные месяцы не равна\" не отвергается. "
   ]
  },
  {
   "cell_type": "markdown",
   "id": "62fd0255",
   "metadata": {},
   "source": [
    "Проверим гипотезу о равенстве средней дневной выручки от товаров \"для дачи\" и \"не для дачи\"."
   ]
  },
  {
   "cell_type": "markdown",
   "id": "77b403b7",
   "metadata": {},
   "source": [
    "Нулевая Гипотеза: \"Cредняя дневная выручка от товаров \"для дачи\" и \"не для дачи\" равны\""
   ]
  },
  {
   "cell_type": "code",
   "execution_count": 46,
   "id": "b748c18a",
   "metadata": {},
   "outputs": [
    {
     "name": "stdout",
     "output_type": "stream",
     "text": [
      "p-значение: [1.0250122e-73]\n"
     ]
    }
   ],
   "source": [
    "dacha_data  = data_1.query('dacha == True').groupby(['datetime']).agg({'revenue':'mean'})\n",
    "not_dacha_data  = data_1.query('dacha == False').groupby(['datetime']).agg({'revenue':'mean'})\n",
    "results = st.ttest_ind(dacha_data, not_dacha_data)\n",
    "print('p-значение:', results.pvalue)"
   ]
  },
  {
   "cell_type": "markdown",
   "id": "6df60886",
   "metadata": {},
   "source": [
    "Даже если принять критичекий уровень статистической значимости (альфа) равным 1%, он не превышается. Нулевую гипотезу отвергаем. Следовательно, альтернативная гипотеза \"Cредняя дневная выручка от товаров \"для дачи\" и \"не для дачи\" не равны\" не отвергается."
   ]
  },
  {
   "cell_type": "markdown",
   "id": "00ce2dc3",
   "metadata": {},
   "source": [
    "<h3>8. Выводы по результатам исследования</h3>"
   ]
  },
  {
   "cell_type": "markdown",
   "id": "291fadbb",
   "metadata": {},
   "source": [
    "<ul>\n",
    "<li>Сформирован список пользователей, которых можно назвать \"оптовиками\". Список содержит 239 id пользователей, каждого из которых (по мере возможностей) стоит рассмотреть индивидуально: выявить потребности и предложить специальные условия;</li>    \n",
    "<li>Выявлен сезонный всплеск выручки в декабре и средней стоимости одной проданной в декабре единицы товара. Статистическая проверка гипотез прказала, что средние выручки от одного пользователя в декабре и в другие месяцы могут быть не равны;</li>\n",
    "<li>Выявлен сезонный рост спроса на товары для дачи, достигающий максимума в мае. Тем не менее, это спрос на недорогие товары - в мае наблюдается минимум средней цены единицы товара в заказе;</li> \n",
    "<li>Сформирован список пользователей, которых можно назвать \"дачниками\". Для них рекомендуются маркетинговые мероприятия (специальные предложения, реклама) перед началом сезона;</li>     \n",
    "<li>Проверка гипотезы о равенстве средней дневной выручки от товаров \"для дачи\" и \"не для дачи\" показала, что выручки могут быть не равны;</li>    \n",
    "</ul>"
   ]
  },
  {
   "cell_type": "raw",
   "id": "794ff990",
   "metadata": {},
   "source": [
    "Экспорт данных для дашборда"
   ]
  },
  {
   "cell_type": "code",
   "execution_count": 47,
   "id": "29125563",
   "metadata": {},
   "outputs": [],
   "source": [
    "data.to_csv('data_for_dashboard')"
   ]
  }
 ],
 "metadata": {
  "kernelspec": {
   "display_name": "Python 3 (ipykernel)",
   "language": "python",
   "name": "python3"
  },
  "language_info": {
   "codemirror_mode": {
    "name": "ipython",
    "version": 3
   },
   "file_extension": ".py",
   "mimetype": "text/x-python",
   "name": "python",
   "nbconvert_exporter": "python",
   "pygments_lexer": "ipython3",
   "version": "3.9.7"
  }
 },
 "nbformat": 4,
 "nbformat_minor": 5
}
