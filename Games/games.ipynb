{
 "cells": [
  {
   "cell_type": "code",
   "execution_count": null,
   "id": "06b54bec",
   "metadata": {},
   "outputs": [],
   "source": []
  },
  {
   "cell_type": "code",
   "execution_count": null,
   "id": "9c61f324",
   "metadata": {},
   "outputs": [],
   "source": []
  },
  {
   "cell_type": "markdown",
   "id": "53351320",
   "metadata": {},
   "source": [
    "Импорт библиотек"
   ]
  },
  {
   "cell_type": "code",
   "execution_count": 1,
   "id": "93022cfe",
   "metadata": {},
   "outputs": [],
   "source": [
    "from scipy import stats as st\n",
    "import pandas as pd\n",
    "import plotly.express as px\n",
    "import numpy as np\n",
    "from plotly.subplots import make_subplots\n",
    "import plotly.graph_objects as go\n",
    "import matplotlib.pyplot as plt"
   ]
  },
  {
   "cell_type": "markdown",
   "id": "89b51aaa",
   "metadata": {},
   "source": [
    "Импорт данных из файла:"
   ]
  },
  {
   "cell_type": "code",
   "execution_count": 2,
   "id": "b61b8403",
   "metadata": {},
   "outputs": [
    {
     "ename": "FileNotFoundError",
     "evalue": "[Errno 2] No such file or directory: '/users/konstantinkasanov/documents/github/works/games.csv'",
     "output_type": "error",
     "traceback": [
      "\u001b[0;31m---------------------------------------------------------------------------\u001b[0m",
      "\u001b[0;31mFileNotFoundError\u001b[0m                         Traceback (most recent call last)",
      "\u001b[0;32m/var/folders/cf/g31hh6zn189d9yzlfgjd16xw0000gn/T/ipykernel_5305/283833568.py\u001b[0m in \u001b[0;36m<module>\u001b[0;34m\u001b[0m\n\u001b[0;32m----> 1\u001b[0;31m \u001b[0mgames\u001b[0m \u001b[0;34m=\u001b[0m \u001b[0mpd\u001b[0m\u001b[0;34m.\u001b[0m\u001b[0mread_csv\u001b[0m\u001b[0;34m(\u001b[0m\u001b[0;34m'/users/konstantinkasanov/documents/github/works/games.csv'\u001b[0m\u001b[0;34m)\u001b[0m\u001b[0;34m\u001b[0m\u001b[0;34m\u001b[0m\u001b[0m\n\u001b[0m",
      "\u001b[0;32m~/opt/anaconda3/lib/python3.9/site-packages/pandas/util/_decorators.py\u001b[0m in \u001b[0;36mwrapper\u001b[0;34m(*args, **kwargs)\u001b[0m\n\u001b[1;32m    309\u001b[0m                     \u001b[0mstacklevel\u001b[0m\u001b[0;34m=\u001b[0m\u001b[0mstacklevel\u001b[0m\u001b[0;34m,\u001b[0m\u001b[0;34m\u001b[0m\u001b[0;34m\u001b[0m\u001b[0m\n\u001b[1;32m    310\u001b[0m                 )\n\u001b[0;32m--> 311\u001b[0;31m             \u001b[0;32mreturn\u001b[0m \u001b[0mfunc\u001b[0m\u001b[0;34m(\u001b[0m\u001b[0;34m*\u001b[0m\u001b[0margs\u001b[0m\u001b[0;34m,\u001b[0m \u001b[0;34m**\u001b[0m\u001b[0mkwargs\u001b[0m\u001b[0;34m)\u001b[0m\u001b[0;34m\u001b[0m\u001b[0;34m\u001b[0m\u001b[0m\n\u001b[0m\u001b[1;32m    312\u001b[0m \u001b[0;34m\u001b[0m\u001b[0m\n\u001b[1;32m    313\u001b[0m         \u001b[0;32mreturn\u001b[0m \u001b[0mwrapper\u001b[0m\u001b[0;34m\u001b[0m\u001b[0;34m\u001b[0m\u001b[0m\n",
      "\u001b[0;32m~/opt/anaconda3/lib/python3.9/site-packages/pandas/io/parsers/readers.py\u001b[0m in \u001b[0;36mread_csv\u001b[0;34m(filepath_or_buffer, sep, delimiter, header, names, index_col, usecols, squeeze, prefix, mangle_dupe_cols, dtype, engine, converters, true_values, false_values, skipinitialspace, skiprows, skipfooter, nrows, na_values, keep_default_na, na_filter, verbose, skip_blank_lines, parse_dates, infer_datetime_format, keep_date_col, date_parser, dayfirst, cache_dates, iterator, chunksize, compression, thousands, decimal, lineterminator, quotechar, quoting, doublequote, escapechar, comment, encoding, encoding_errors, dialect, error_bad_lines, warn_bad_lines, on_bad_lines, delim_whitespace, low_memory, memory_map, float_precision, storage_options)\u001b[0m\n\u001b[1;32m    584\u001b[0m     \u001b[0mkwds\u001b[0m\u001b[0;34m.\u001b[0m\u001b[0mupdate\u001b[0m\u001b[0;34m(\u001b[0m\u001b[0mkwds_defaults\u001b[0m\u001b[0;34m)\u001b[0m\u001b[0;34m\u001b[0m\u001b[0;34m\u001b[0m\u001b[0m\n\u001b[1;32m    585\u001b[0m \u001b[0;34m\u001b[0m\u001b[0m\n\u001b[0;32m--> 586\u001b[0;31m     \u001b[0;32mreturn\u001b[0m \u001b[0m_read\u001b[0m\u001b[0;34m(\u001b[0m\u001b[0mfilepath_or_buffer\u001b[0m\u001b[0;34m,\u001b[0m \u001b[0mkwds\u001b[0m\u001b[0;34m)\u001b[0m\u001b[0;34m\u001b[0m\u001b[0;34m\u001b[0m\u001b[0m\n\u001b[0m\u001b[1;32m    587\u001b[0m \u001b[0;34m\u001b[0m\u001b[0m\n\u001b[1;32m    588\u001b[0m \u001b[0;34m\u001b[0m\u001b[0m\n",
      "\u001b[0;32m~/opt/anaconda3/lib/python3.9/site-packages/pandas/io/parsers/readers.py\u001b[0m in \u001b[0;36m_read\u001b[0;34m(filepath_or_buffer, kwds)\u001b[0m\n\u001b[1;32m    480\u001b[0m \u001b[0;34m\u001b[0m\u001b[0m\n\u001b[1;32m    481\u001b[0m     \u001b[0;31m# Create the parser.\u001b[0m\u001b[0;34m\u001b[0m\u001b[0;34m\u001b[0m\u001b[0m\n\u001b[0;32m--> 482\u001b[0;31m     \u001b[0mparser\u001b[0m \u001b[0;34m=\u001b[0m \u001b[0mTextFileReader\u001b[0m\u001b[0;34m(\u001b[0m\u001b[0mfilepath_or_buffer\u001b[0m\u001b[0;34m,\u001b[0m \u001b[0;34m**\u001b[0m\u001b[0mkwds\u001b[0m\u001b[0;34m)\u001b[0m\u001b[0;34m\u001b[0m\u001b[0;34m\u001b[0m\u001b[0m\n\u001b[0m\u001b[1;32m    483\u001b[0m \u001b[0;34m\u001b[0m\u001b[0m\n\u001b[1;32m    484\u001b[0m     \u001b[0;32mif\u001b[0m \u001b[0mchunksize\u001b[0m \u001b[0;32mor\u001b[0m \u001b[0miterator\u001b[0m\u001b[0;34m:\u001b[0m\u001b[0;34m\u001b[0m\u001b[0;34m\u001b[0m\u001b[0m\n",
      "\u001b[0;32m~/opt/anaconda3/lib/python3.9/site-packages/pandas/io/parsers/readers.py\u001b[0m in \u001b[0;36m__init__\u001b[0;34m(self, f, engine, **kwds)\u001b[0m\n\u001b[1;32m    809\u001b[0m             \u001b[0mself\u001b[0m\u001b[0;34m.\u001b[0m\u001b[0moptions\u001b[0m\u001b[0;34m[\u001b[0m\u001b[0;34m\"has_index_names\"\u001b[0m\u001b[0;34m]\u001b[0m \u001b[0;34m=\u001b[0m \u001b[0mkwds\u001b[0m\u001b[0;34m[\u001b[0m\u001b[0;34m\"has_index_names\"\u001b[0m\u001b[0;34m]\u001b[0m\u001b[0;34m\u001b[0m\u001b[0;34m\u001b[0m\u001b[0m\n\u001b[1;32m    810\u001b[0m \u001b[0;34m\u001b[0m\u001b[0m\n\u001b[0;32m--> 811\u001b[0;31m         \u001b[0mself\u001b[0m\u001b[0;34m.\u001b[0m\u001b[0m_engine\u001b[0m \u001b[0;34m=\u001b[0m \u001b[0mself\u001b[0m\u001b[0;34m.\u001b[0m\u001b[0m_make_engine\u001b[0m\u001b[0;34m(\u001b[0m\u001b[0mself\u001b[0m\u001b[0;34m.\u001b[0m\u001b[0mengine\u001b[0m\u001b[0;34m)\u001b[0m\u001b[0;34m\u001b[0m\u001b[0;34m\u001b[0m\u001b[0m\n\u001b[0m\u001b[1;32m    812\u001b[0m \u001b[0;34m\u001b[0m\u001b[0m\n\u001b[1;32m    813\u001b[0m     \u001b[0;32mdef\u001b[0m \u001b[0mclose\u001b[0m\u001b[0;34m(\u001b[0m\u001b[0mself\u001b[0m\u001b[0;34m)\u001b[0m\u001b[0;34m:\u001b[0m\u001b[0;34m\u001b[0m\u001b[0;34m\u001b[0m\u001b[0m\n",
      "\u001b[0;32m~/opt/anaconda3/lib/python3.9/site-packages/pandas/io/parsers/readers.py\u001b[0m in \u001b[0;36m_make_engine\u001b[0;34m(self, engine)\u001b[0m\n\u001b[1;32m   1038\u001b[0m             )\n\u001b[1;32m   1039\u001b[0m         \u001b[0;31m# error: Too many arguments for \"ParserBase\"\u001b[0m\u001b[0;34m\u001b[0m\u001b[0;34m\u001b[0m\u001b[0m\n\u001b[0;32m-> 1040\u001b[0;31m         \u001b[0;32mreturn\u001b[0m \u001b[0mmapping\u001b[0m\u001b[0;34m[\u001b[0m\u001b[0mengine\u001b[0m\u001b[0;34m]\u001b[0m\u001b[0;34m(\u001b[0m\u001b[0mself\u001b[0m\u001b[0;34m.\u001b[0m\u001b[0mf\u001b[0m\u001b[0;34m,\u001b[0m \u001b[0;34m**\u001b[0m\u001b[0mself\u001b[0m\u001b[0;34m.\u001b[0m\u001b[0moptions\u001b[0m\u001b[0;34m)\u001b[0m  \u001b[0;31m# type: ignore[call-arg]\u001b[0m\u001b[0;34m\u001b[0m\u001b[0;34m\u001b[0m\u001b[0m\n\u001b[0m\u001b[1;32m   1041\u001b[0m \u001b[0;34m\u001b[0m\u001b[0m\n\u001b[1;32m   1042\u001b[0m     \u001b[0;32mdef\u001b[0m \u001b[0m_failover_to_python\u001b[0m\u001b[0;34m(\u001b[0m\u001b[0mself\u001b[0m\u001b[0;34m)\u001b[0m\u001b[0;34m:\u001b[0m\u001b[0;34m\u001b[0m\u001b[0;34m\u001b[0m\u001b[0m\n",
      "\u001b[0;32m~/opt/anaconda3/lib/python3.9/site-packages/pandas/io/parsers/c_parser_wrapper.py\u001b[0m in \u001b[0;36m__init__\u001b[0;34m(self, src, **kwds)\u001b[0m\n\u001b[1;32m     49\u001b[0m \u001b[0;34m\u001b[0m\u001b[0m\n\u001b[1;32m     50\u001b[0m         \u001b[0;31m# open handles\u001b[0m\u001b[0;34m\u001b[0m\u001b[0;34m\u001b[0m\u001b[0m\n\u001b[0;32m---> 51\u001b[0;31m         \u001b[0mself\u001b[0m\u001b[0;34m.\u001b[0m\u001b[0m_open_handles\u001b[0m\u001b[0;34m(\u001b[0m\u001b[0msrc\u001b[0m\u001b[0;34m,\u001b[0m \u001b[0mkwds\u001b[0m\u001b[0;34m)\u001b[0m\u001b[0;34m\u001b[0m\u001b[0;34m\u001b[0m\u001b[0m\n\u001b[0m\u001b[1;32m     52\u001b[0m         \u001b[0;32massert\u001b[0m \u001b[0mself\u001b[0m\u001b[0;34m.\u001b[0m\u001b[0mhandles\u001b[0m \u001b[0;32mis\u001b[0m \u001b[0;32mnot\u001b[0m \u001b[0;32mNone\u001b[0m\u001b[0;34m\u001b[0m\u001b[0;34m\u001b[0m\u001b[0m\n\u001b[1;32m     53\u001b[0m \u001b[0;34m\u001b[0m\u001b[0m\n",
      "\u001b[0;32m~/opt/anaconda3/lib/python3.9/site-packages/pandas/io/parsers/base_parser.py\u001b[0m in \u001b[0;36m_open_handles\u001b[0;34m(self, src, kwds)\u001b[0m\n\u001b[1;32m    220\u001b[0m         \u001b[0mLet\u001b[0m \u001b[0mthe\u001b[0m \u001b[0mreaders\u001b[0m \u001b[0mopen\u001b[0m \u001b[0mIOHandles\u001b[0m \u001b[0mafter\u001b[0m \u001b[0mthey\u001b[0m \u001b[0mare\u001b[0m \u001b[0mdone\u001b[0m \u001b[0;32mwith\u001b[0m \u001b[0mtheir\u001b[0m \u001b[0mpotential\u001b[0m \u001b[0mraises\u001b[0m\u001b[0;34m.\u001b[0m\u001b[0;34m\u001b[0m\u001b[0;34m\u001b[0m\u001b[0m\n\u001b[1;32m    221\u001b[0m         \"\"\"\n\u001b[0;32m--> 222\u001b[0;31m         self.handles = get_handle(\n\u001b[0m\u001b[1;32m    223\u001b[0m             \u001b[0msrc\u001b[0m\u001b[0;34m,\u001b[0m\u001b[0;34m\u001b[0m\u001b[0;34m\u001b[0m\u001b[0m\n\u001b[1;32m    224\u001b[0m             \u001b[0;34m\"r\"\u001b[0m\u001b[0;34m,\u001b[0m\u001b[0;34m\u001b[0m\u001b[0;34m\u001b[0m\u001b[0m\n",
      "\u001b[0;32m~/opt/anaconda3/lib/python3.9/site-packages/pandas/io/common.py\u001b[0m in \u001b[0;36mget_handle\u001b[0;34m(path_or_buf, mode, encoding, compression, memory_map, is_text, errors, storage_options)\u001b[0m\n\u001b[1;32m    700\u001b[0m         \u001b[0;32mif\u001b[0m \u001b[0mioargs\u001b[0m\u001b[0;34m.\u001b[0m\u001b[0mencoding\u001b[0m \u001b[0;32mand\u001b[0m \u001b[0;34m\"b\"\u001b[0m \u001b[0;32mnot\u001b[0m \u001b[0;32min\u001b[0m \u001b[0mioargs\u001b[0m\u001b[0;34m.\u001b[0m\u001b[0mmode\u001b[0m\u001b[0;34m:\u001b[0m\u001b[0;34m\u001b[0m\u001b[0;34m\u001b[0m\u001b[0m\n\u001b[1;32m    701\u001b[0m             \u001b[0;31m# Encoding\u001b[0m\u001b[0;34m\u001b[0m\u001b[0;34m\u001b[0m\u001b[0m\n\u001b[0;32m--> 702\u001b[0;31m             handle = open(\n\u001b[0m\u001b[1;32m    703\u001b[0m                 \u001b[0mhandle\u001b[0m\u001b[0;34m,\u001b[0m\u001b[0;34m\u001b[0m\u001b[0;34m\u001b[0m\u001b[0m\n\u001b[1;32m    704\u001b[0m                 \u001b[0mioargs\u001b[0m\u001b[0;34m.\u001b[0m\u001b[0mmode\u001b[0m\u001b[0;34m,\u001b[0m\u001b[0;34m\u001b[0m\u001b[0;34m\u001b[0m\u001b[0m\n",
      "\u001b[0;31mFileNotFoundError\u001b[0m: [Errno 2] No such file or directory: '/users/konstantinkasanov/documents/github/works/games.csv'"
     ]
    }
   ],
   "source": [
    "games = pd.read_csv('https://github.com/KasyanovK/works/blob/main/Games/games.csv')"
   ]
  },
  {
   "cell_type": "markdown",
   "id": "54d8690d",
   "metadata": {},
   "source": [
    "**1. Изучение данных**"
   ]
  },
  {
   "cell_type": "code",
   "execution_count": null,
   "id": "2abd643b",
   "metadata": {},
   "outputs": [],
   "source": [
    "games.sample(5)"
   ]
  },
  {
   "cell_type": "markdown",
   "id": "ca8b0a58",
   "metadata": {},
   "source": [
    "имеет смысл привести названия столбцов к нижнем регигстру;\n",
    "рейтинги и оценки выражаются не только числами, но и строковыми данными;\n",
    "очевидно, будут пропуски - как минимум, в оценках/рейтингах."
   ]
  },
  {
   "cell_type": "markdown",
   "id": "b57923e9",
   "metadata": {},
   "source": [
    "**2. Подготовка данных**"
   ]
  },
  {
   "cell_type": "markdown",
   "id": "74b65b8d",
   "metadata": {},
   "source": [
    "Приведем названия столбцов к нижнему регистру"
   ]
  },
  {
   "cell_type": "code",
   "execution_count": null,
   "id": "ca96c5e5",
   "metadata": {},
   "outputs": [],
   "source": [
    "games.columns = games.columns.str.lower()"
   ]
  },
  {
   "cell_type": "markdown",
   "id": "80b19772",
   "metadata": {},
   "source": [
    "Изучим типы данных"
   ]
  },
  {
   "cell_type": "code",
   "execution_count": null,
   "id": "95db0ab2",
   "metadata": {},
   "outputs": [],
   "source": [
    "games.info()"
   ]
  },
  {
   "cell_type": "markdown",
   "id": "23adfcaf",
   "metadata": {},
   "source": [
    "Рассмотрим подробнее \"name\", \"platform\", \"genre\", \"rating\" к типу \"строка\"."
   ]
  },
  {
   "cell_type": "code",
   "execution_count": null,
   "id": "ece612fe",
   "metadata": {},
   "outputs": [],
   "source": [
    "type(games['name'][0])"
   ]
  },
  {
   "cell_type": "code",
   "execution_count": null,
   "id": "b907a9fb",
   "metadata": {},
   "outputs": [],
   "source": [
    "type(games['platform'][0])"
   ]
  },
  {
   "cell_type": "code",
   "execution_count": null,
   "id": "789203f1",
   "metadata": {},
   "outputs": [],
   "source": [
    "type(games['genre'][0])"
   ]
  },
  {
   "cell_type": "code",
   "execution_count": null,
   "id": "3754c429",
   "metadata": {},
   "outputs": [],
   "source": [
    "type(games['rating'][0])"
   ]
  },
  {
   "cell_type": "markdown",
   "id": "e9c105f8",
   "metadata": {},
   "source": [
    "Четыре колонки с типом \"object\" оказались cтроками. С ними ничего не делаем. Перед приведением типов данных в \"year of release\" и \"user score\" изучим состав данных и пропуски."
   ]
  },
  {
   "cell_type": "markdown",
   "id": "d86f955d",
   "metadata": {},
   "source": [
    "В колонках \"name\" и \"genre\" есть два пропуска (16713 значений при размере таблицы 16715). Рассмотрим соответствующие строки."
   ]
  },
  {
   "cell_type": "code",
   "execution_count": null,
   "id": "79c552ca",
   "metadata": {},
   "outputs": [],
   "source": [
    "games.loc[games['name'].isna()]"
   ]
  },
  {
   "cell_type": "markdown",
   "id": "714ebd58",
   "metadata": {},
   "source": [
    "В этих строках отсутствуют названия игр и данные по оценкам/рейтингу. Тем не менее, есть данные о платформе и продажах, \n",
    "которые учтутся при анализе продаж по платформам. Строки не удаляем. Заменим название и жанр на \"unknown\"."
   ]
  },
  {
   "cell_type": "code",
   "execution_count": null,
   "id": "f9e9ec10",
   "metadata": {},
   "outputs": [],
   "source": [
    "games.loc[games['name'].isna(), 'name'] = 'unknown'\n",
    "games.loc[games['genre'].isna(), 'genre'] = 'unknown'"
   ]
  },
  {
   "cell_type": "markdown",
   "id": "4ddb489b",
   "metadata": {},
   "source": [
    "Рассмотрим строки с пропущенными годами выспуска."
   ]
  },
  {
   "cell_type": "code",
   "execution_count": null,
   "id": "ae269a54",
   "metadata": {},
   "outputs": [],
   "source": [
    "games.loc[games['name'].isna()]"
   ]
  },
  {
   "cell_type": "code",
   "execution_count": null,
   "id": "35fb7353",
   "metadata": {},
   "outputs": [],
   "source": [
    "len(games.loc[games['year_of_release'].isna()])/len(games)"
   ]
  },
  {
   "cell_type": "markdown",
   "id": "973342a0",
   "metadata": {},
   "source": [
    "Пропусков менее 2%. Имеем ввиду, что ввиду малого количества можно удалить соответствующие строки. Но пока не удаляем,\n",
    "так как в данных строках есть информация о продажах и рейтингах. Данные строки не примут участие в анализе распределения продаж по годам, но могут повлиять на резултьтат при анализе распределения по платформам."
   ]
  },
  {
   "cell_type": "markdown",
   "id": "4d326d46",
   "metadata": {},
   "source": [
    "Рассмотрим столбец \"user score\". Аббревиатура \"tbd\" может означать \"to be determined\" или \"to be deleted\". В любом случае, согласно заданию проекта дальнейшая работа с рейтингами будет вестись как с числами. Поэтому, cтроки с \"tbd\" не будут принимать участие в соответствующем анализе.\n",
    "Тем не менее, NAN и tbd в строках с оценками/рейтингами пока не удаляем.\n",
    "Поскольку имеются строки с пропусками одной оценки, но присутствующей другой оценкой, а также ввиду небольшого размера датафрейма, более объектиным подходом будет удалять их каждый раз перед операциями, в которых оценки/рейтинги влияют на результат. И после удаления преобразовывать оставшиеся данные в колонке в числовой формат."
   ]
  },
  {
   "cell_type": "markdown",
   "id": "88af5a5e",
   "metadata": {},
   "source": [
    "Рассчитаем суммарные продажи во всех регионах и запишем их в отдельный столбец."
   ]
  },
  {
   "cell_type": "code",
   "execution_count": null,
   "id": "a80b33f3",
   "metadata": {},
   "outputs": [],
   "source": [
    "games['total_sales'] = games['na_sales'] + games['eu_sales'] + games['jp_sales'] + games['other_sales']"
   ]
  },
  {
   "cell_type": "markdown",
   "id": "7af534fc",
   "metadata": {},
   "source": [
    "**3. Исследовательских анализ данных**\n",
    "\n",
    "**3.1 Количество выпущенных игр в разные годы**"
   ]
  },
  {
   "cell_type": "code",
   "execution_count": null,
   "id": "8d39f266",
   "metadata": {},
   "outputs": [],
   "source": [
    "def games_years_creation(df):\n",
    "    games_years = df\n",
    "    games_years['year_of_release'].fillna(0)\n",
    "    games_years = games_years.loc[games_years['year_of_release'] >0]\n",
    "    return games_years\n",
    "games_years = games_years_creation(games)\n",
    "games_years = games_years.groupby('year_of_release')['year_of_release'].count().to_frame()\n",
    "games_years['year'] = games_years.index\n",
    "games_years = games_years.rename(columns = {'year_of_release': 'quantiy'})\n",
    "fig= px.bar(games_years, y = 'quantiy',title=\"Количсество выпущенных игр по годам\")\n",
    "fig.update_layout(xaxis_title='Год выпуска',yaxis_title='Количество выпущенных игр')\n",
    "fig.show()"
   ]
  },
  {
   "cell_type": "markdown",
   "id": "508c9e5b",
   "metadata": {},
   "source": [
    "В задании Проекта есть вопрос \"за все ли периоды важны данные?\". В аспекте построения прогноза на 2017 год точно не важны данные ранее 1995го. Если бы рост был постоянным, то \"начало\" до 1995 можно было бы учесть. С помощью них уточнились бы выводы. Но поскольку имеются периоды спада, особенно резкое падение после 2010 года, и с учетом разницы на порядок между данными 90х и 2010х, то\n",
    "\n",
    "1) наиболее вероятно, что на взлеты/падения в 2010е влияют уже не те факторы, что в 80-90е и нет смысла учитывать соответствующие данные; 2) даже если факторы одни и те же, отбрасывание данных до 1995г не внесет существенных изменений в результат."
   ]
  },
  {
   "cell_type": "markdown",
   "id": "990a4683",
   "metadata": {},
   "source": [
    "В заданиии требуется выбрать актуальный период. Возьмем 1995-2016 гг. Взлет и падение попробуем учесть. "
   ]
  },
  {
   "cell_type": "markdown",
   "id": "7a3e6bbb",
   "metadata": {},
   "source": [
    "**3.2 Продажи на самых популярных платформах по годам**"
   ]
  },
  {
   "cell_type": "markdown",
   "id": "a576b66d",
   "metadata": {},
   "source": [
    "Выделим платформы с наибольшими суммарными продажами."
   ]
  },
  {
   "cell_type": "code",
   "execution_count": null,
   "id": "98af0ecb",
   "metadata": {},
   "outputs": [],
   "source": [
    "def platformer(df):\n",
    "    games_platforms=df.groupby('platform')['total_sales'].sum().to_frame().sort_values(by='total_sales', ascending=False).reset_index()\n",
    "    return games_platforms\n",
    "games_platforms = platformer(games)\n",
    "games_platforms.head(20)"
   ]
  },
  {
   "cell_type": "markdown",
   "id": "d5180dc6",
   "metadata": {},
   "source": [
    "Обнаружена разница более чем в два раза между PS (730) и GBA (318). Границу между \"самыми популярными\" и \"остальными\"\n",
    "платформами проведем именно в этом месте. Среди \"самых популярных\" и первых десяти \"остальных\" разница между между продажами меняется не сильно по сравнению со скачком от 318 до 730. Следовательно верхнюю группу (730 и выше) стоит рассматривать как объект схожей природы, а \"остальные\" - отдельно. "
   ]
  },
  {
   "cell_type": "markdown",
   "id": "a1f83c41",
   "metadata": {},
   "source": [
    "Создадим новый датафрейм с названиями ТОП-6 площадок с наибольшими продажами."
   ]
  },
  {
   "cell_type": "code",
   "execution_count": null,
   "id": "513bbe75",
   "metadata": {},
   "outputs": [],
   "source": [
    "games_platforms_top = games_platforms.iloc[0:6,0:1]\n",
    "games_platforms_top['platform_number'] = games_platforms_top.index\n",
    "games_platforms_top"
   ]
  },
  {
   "cell_type": "markdown",
   "id": "6872ef11",
   "metadata": {},
   "source": [
    "К таблице с наименованиями наиболее популярных платформ присоединим таблицу с продажами по годам. Построим графики."
   ]
  },
  {
   "cell_type": "markdown",
   "id": "6f2b0c43",
   "metadata": {},
   "source": [
    "К таблице с наименованиями наиболее популярных платформ присоединим таблицу с продажами по годам. Построим графики."
   ]
  },
  {
   "cell_type": "code",
   "execution_count": null,
   "id": "ee713532",
   "metadata": {},
   "outputs": [],
   "source": [
    "games_years = games_years_creation(games)\n",
    "games_years = games_years.groupby(['platform','year_of_release'])['total_sales'].sum().reset_index()\n",
    "games_years_platforms = games_platforms_top.set_index(['platform']).join(games_years.set_index(['platform']))\n",
    "fig = make_subplots(rows=6,cols=1)\n",
    "names = games_platforms_top.iloc[:,0].tolist()\n",
    "for i in range(len(games_platforms_top)):\n",
    "    f = games_years_platforms.loc[games_years_platforms['platform_number'] == i]\n",
    "    x = f['year_of_release'].tolist()\n",
    "    y = f['total_sales'].tolist()\n",
    "    fig.add_bar(x=x, y=y, row=i+1, col = 1, name=names[i])\n",
    "    fig.update_xaxes(title_text=\"Год\", row=i+1, col=1)\n",
    "    fig.update_yaxes(title_text=\"Суммарные продажи\", row=i+1, col=1)\n",
    "fig.update_layout(height=2000, width=1000, title_text = 'Годовые продажи на популярных платформах')\n",
    "fig.show() "
   ]
  },
  {
   "cell_type": "markdown",
   "id": "da9cfa33",
   "metadata": {},
   "source": [
    "В задании есть требование выделить характерный срок, за который появляются и исчезают платформы. По ТОП-6 можно сказать, что этот срок составляет 6-9 лет. "
   ]
  },
  {
   "cell_type": "markdown",
   "id": "15f9ead9",
   "metadata": {},
   "source": [
    "**3.3 Выбор потенциально прибыльных платформ**\n",
    "\n",
    "Выделим \"растущие\" платформы."
   ]
  },
  {
   "cell_type": "code",
   "execution_count": null,
   "id": "f53934e2",
   "metadata": {},
   "outputs": [],
   "source": [
    "len(games_platforms)"
   ]
  },
  {
   "cell_type": "markdown",
   "id": "bef10bca",
   "metadata": {},
   "source": [
    "Всего платформ 31. Попробуем отсмотреть графики годовых продаж по каждой платформе, и выделить растущие. Расположим все на одном графике. Неактуальный период до 1995 года исключим из рассмотрения."
   ]
  },
  {
   "cell_type": "code",
   "execution_count": null,
   "id": "657dd3db",
   "metadata": {},
   "outputs": [],
   "source": [
    "games_platforms = games_platforms.iloc[:,0:1]\n",
    "def plot_year_platforms(margin_year):\n",
    "    games_platforms['platform_number'] = games_platforms.index\n",
    "    games_years = games_years_creation(games)\n",
    "    games_years = games_years.loc[games_years['year_of_release'] >= margin_year]\n",
    "    games_years = games_years.groupby(['platform','year_of_release'])['total_sales'].sum().reset_index()\n",
    "    games_years_platforms = games_platforms.set_index(['platform']).join(games_years.set_index(['platform']))\n",
    "    games_years_platforms['platform']=games_years_platforms.index\n",
    "    fig = px.line(games_years_platforms, x=\"year_of_release\", y=\"total_sales\", color = 'platform')\n",
    "    fig.update_layout(xaxis_title='Год выпуска',yaxis_title='Суммарные продажи')\n",
    "    fig.show()\n",
    "plot_year_platforms(1995) "
   ]
  },
  {
   "cell_type": "markdown",
   "id": "420385e0",
   "metadata": {},
   "source": [
    "Растущих платформ на таком графике не видно. Попробуем сузить интервал рассмотрения в годах."
   ]
  },
  {
   "cell_type": "code",
   "execution_count": null,
   "id": "070e14b8",
   "metadata": {},
   "outputs": [],
   "source": [
    "plot_year_platforms(2010)"
   ]
  },
  {
   "cell_type": "markdown",
   "id": "c10a4053",
   "metadata": {},
   "source": [
    "Растущих платформ опять не видно. Топ 5 платформ падают. Попробуем рассмотреть без Топ-5 интервал 2010 - 2016 гг."
   ]
  },
  {
   "cell_type": "code",
   "execution_count": null,
   "id": "f9487a9c",
   "metadata": {},
   "outputs": [],
   "source": [
    "games_platforms = platformer(games)\n",
    "games_platforms = games_platforms.iloc[5:30,0:1]\n",
    "plot_year_platforms(2010)"
   ]
  },
  {
   "cell_type": "markdown",
   "id": "579c25e7",
   "metadata": {},
   "source": [
    "Среди нетоповых платформ также все падают. Очевидно, есть сильные внешние факторы, влияющие абсолютно на все платформы, и нет ни одной платформы, которая их поборола бы. Поэтому в качестве потенциально прибыльных принимаем ТОП-5 по сумме 2014 - 2016го года. Взятие интервала 2014-2016 вместо одного года 2016го обусловлено тем, что интервал 2014-2016 учтет помимо самых свежих данных еще и недавний пик 2015 года, имевший место для значительного количества платформ. Пик 2015го следует учесть поскольку 1) не все компании имеют этот пик 2) размер пика показывает, как каждая из платформ смогла использовать благоприятные условия 2015 года. \n",
    "Также, в задании проекта сообщается, что данные за 2016 год могут быть неполными. Поэтому особенно важно рассмотреть также и 2014-2015 годы."
   ]
  },
  {
   "cell_type": "code",
   "execution_count": null,
   "id": "07d3bb61",
   "metadata": {},
   "outputs": [],
   "source": [
    "actual_platforms = games.loc[games['year_of_release']>=2014]\n",
    "actual_platforms = actual_platforms.groupby(['platform','year_of_release'])['total_sales'].sum().reset_index()\n",
    "actual_platforms = actual_platforms.groupby(['platform'])['total_sales'].sum().reset_index().sort_values(by='total_sales',ascending = False)\n",
    "actual_platforms = actual_platforms.loc[0:5,:].reset_index()\n",
    "actual_platforms = actual_platforms.loc[:,'platform'].tolist()\n",
    "actual_platforms"
   ]
  },
  {
   "cell_type": "code",
   "execution_count": null,
   "id": "3daf2eea",
   "metadata": {},
   "outputs": [],
   "source": [
    "from matplotlib.pyplot import figure\n",
    "platforms_for_boxplot = games.loc[games['year_of_release']>=2014]\n",
    "platforms_for_boxplot = platforms_for_boxplot.loc[:,['platform','total_sales']]\n",
    "p = []\n",
    "for i in range(len(actual_platforms)):\n",
    "    p.append(platforms_for_boxplot.loc[platforms_for_boxplot['platform'] == actual_platforms[i]])     \n",
    "fig, axs= plt.subplots(3,2,figsize=(6,12))\n",
    "axs[0,0].boxplot(p[0].iloc[:,1])\n",
    "axs[0,0].set_title(actual_platforms[0])\n",
    "axs[0,1].boxplot(p[1].iloc[:,1])\n",
    "axs[0, 1].set_title(actual_platforms[1])\n",
    "axs[1, 0].boxplot(p[2].iloc[:,1])\n",
    "axs[1, 0].set_title(actual_platforms[2])\n",
    "axs[1, 1].boxplot(p[3].iloc[:,1])\n",
    "axs[1, 1].set_title(actual_platforms[3])\n",
    "axs[2, 0].boxplot(p[4].iloc[:,1])\n",
    "axs[2, 0].set_title(actual_platforms[4])\n",
    "axs[2, 1].boxplot(p[5].iloc[:,1])\n",
    "axs[2, 1].set_title(actual_platforms[5])\n",
    "fig.subplots_adjust(left=0.08, right=2, bottom=0.2, top=3,\n",
    "                    hspace=0.2, wspace=0.6)\n",
    "plt.show()"
   ]
  },
  {
   "cell_type": "code",
   "execution_count": null,
   "id": "b6af503d",
   "metadata": {},
   "outputs": [],
   "source": [
    "games['year_of_release'].unique()"
   ]
  },
  {
   "cell_type": "code",
   "execution_count": null,
   "id": "1164663a",
   "metadata": {},
   "outputs": [],
   "source": [
    "actual_platforms_df = pd.DataFrame(actual_platforms)\n",
    "actual_platforms_df['platform_number'] = actual_platforms_df.index\n",
    "actual_platforms_df = actual_platforms_df.set_index(0)\n",
    "platforms_for_boxplot = platforms_for_boxplot.set_index('platform').join(actual_platforms_df)\n",
    "platforms_for_boxplot = platforms_for_boxplot.loc[platforms_for_boxplot['platform_number'] <= 5]\n",
    "platforms_for_boxplot = platforms_for_boxplot.reset_index()"
   ]
  },
  {
   "cell_type": "code",
   "execution_count": null,
   "id": "ff2dcfe5",
   "metadata": {},
   "outputs": [],
   "source": [
    "platforms_for_boxplot"
   ]
  },
  {
   "cell_type": "code",
   "execution_count": null,
   "id": "3e43fe82",
   "metadata": {},
   "outputs": [],
   "source": [
    "import seaborn as sns\n",
    "\n",
    "plt.figure(figsize=(20, 10))\n",
    "\n",
    "sns.boxplot(data=platforms_for_boxplot, x='index', y='total_sales')\n",
    "\n",
    "plt.ylim(0, 2.0)\n",
    "\n",
    "plt.title('\"Ящики с усами\" по глобальным продажам игр')\n",
    "plt.xlabel('Продажи, млн. шт.')\n",
    "plt.ylabel('Платформы')\n",
    "\n",
    "plt.show()"
   ]
  },
  {
   "cell_type": "markdown",
   "id": "f0fb4a00",
   "metadata": {},
   "source": [
    "бОльшая часть значений лежит в диапазоне до 350. Медиана на уровне 200. ТОП-6, для которых уже построены столбчатые диаграмы выше, являются выбросами."
   ]
  },
  {
   "cell_type": "markdown",
   "id": "1d4afc23",
   "metadata": {},
   "source": [
    "Для всех шести выбранных актуальными платформ данные скошены в сторону бОльших продаж. \"Ящики\" несимметричны относительно медиан. И во всех случаях имеются выбросы сверх полутора межквартильных расстояний."
   ]
  },
  {
   "cell_type": "markdown",
   "id": "345662ea",
   "metadata": {},
   "source": [
    "**3.5 Влияние отзывов на продажи внутри одной платформы**"
   ]
  },
  {
   "cell_type": "markdown",
   "id": "194a8362",
   "metadata": {},
   "source": [
    "Рассмотрим платформу 3DS, лидирующую по суммарным продажам за период 2014-2016."
   ]
  },
  {
   "cell_type": "code",
   "execution_count": null,
   "id": "ae8e2ac0",
   "metadata": {},
   "outputs": [],
   "source": [
    "platform_3DS = games.loc[games['platform'] == '3DS']\n",
    "platform_3DS = pd.DataFrame(platform_3DS)\n",
    "platform_3DS = platform_3DS.loc[platform_3DS['year_of_release'] >= 2014]\n",
    "platform_3DS.info()"
   ]
  },
  {
   "cell_type": "markdown",
   "id": "949170e4",
   "metadata": {},
   "source": [
    "Построим для выбранной платформы диаграму рассеяния \"оценки критиков - суммарные продажи по всем регионам\". NAN в оценках пользователей исключим из рассмотрения."
   ]
  },
  {
   "cell_type": "code",
   "execution_count": null,
   "id": "e5e886e7",
   "metadata": {},
   "outputs": [],
   "source": [
    "def one_platform_NAN_deleting(df):\n",
    "    platform_3DS = df\n",
    "    platform_3DS['critic_score'].fillna(0)\n",
    "    platform_3DS = platform_3DS.loc[platform_3DS['critic_score'] >0]\n",
    "    return platform_3DS\n",
    "platform_3DS = one_platform_NAN_deleting(platform_3DS)"
   ]
  },
  {
   "cell_type": "code",
   "execution_count": null,
   "id": "11ef7be3",
   "metadata": {},
   "outputs": [],
   "source": [
    "plt.figure(figsize=(30, 3))\n",
    "fig, ax = plt.subplots(figsize=(12, 8))\n",
    "plt.xlabel(\"Оценка критиков\") \n",
    "plt.ylabel(\"Продажи по всем регионам\")\n",
    "plt.title(\"Диаграмма рассеяния: оценки критиков - суммарные продажи по всем регионам\")\n",
    "ax.scatter(x=platform_3DS['critic_score'],y= platform_3DS['total_sales'])"
   ]
  },
  {
   "cell_type": "markdown",
   "id": "bf82a6fb",
   "metadata": {},
   "source": [
    "График демонстрирует связь оценки критиков и продаж. Чем выше оценка, тем больше продажи. Тем не менее, это соответствие обеспечивается, в основном, выбросами. Рассчитаем коэффициент корреляции Пирсона между отзывами критиков и продажами."
   ]
  },
  {
   "cell_type": "code",
   "execution_count": null,
   "id": "9af9c39d",
   "metadata": {},
   "outputs": [],
   "source": [
    "print(platform_3DS['critic_score'].corr(platform_3DS['total_sales']))"
   ]
  },
  {
   "cell_type": "markdown",
   "id": "0fbe5d92",
   "metadata": {},
   "source": [
    "Характер связи между рассматриваемыми величинами, очевидно, линейный. Поэтому, коэффициент Пирсона можно считать адекватной количественной характеристикой данной связи. Коэффициент Пирсона положительный - это означает, что с ростом оценки критиков растут и продажи. Тем не менее, связь не очень \"тесная\". \n",
    "Оба вывода соответствуют наблюдаемой на графике картине."
   ]
  },
  {
   "cell_type": "markdown",
   "id": "8a1b22e2",
   "metadata": {},
   "source": [
    "Построим для выбранной платформы диаграму рассеяния \"оценки пользователей - суммарные продажи по всем регионам\". NAN в оценках пользователей исключим из рассмотрения."
   ]
  },
  {
   "cell_type": "code",
   "execution_count": null,
   "id": "d3d4d689",
   "metadata": {},
   "outputs": [],
   "source": [
    "platform_3DS = games.loc[games['platform'] == '3DS']\n",
    "platform_3DS = platform_3DS.loc[platform_3DS['year_of_release'] >= 2014]\n",
    "platform_3DS = platform_3DS.loc[:,['platform','user_score','total_sales']].dropna()\n",
    "platform_3DS = platform_3DS.loc[platform_3DS['user_score'] != 'tbd'].sort_values(by = 'user_score')\n",
    "platform_3DS[['total_sales','user_score']]  = platform_3DS[['total_sales','user_score']].astype(float)"
   ]
  },
  {
   "cell_type": "code",
   "execution_count": null,
   "id": "16ff6202",
   "metadata": {},
   "outputs": [],
   "source": [
    "plt.figure(figsize=(30, 3))\n",
    "fig, ax = plt.subplots(figsize=(20, 8))\n",
    "plt.xlabel(\"Оценка пользователей\") \n",
    "plt.ylabel(\"Продажи по всем регионам\")\n",
    "plt.title(\"Диаграмма рассеяния: оценки пользователей - суммарные продажи по всем регионам\")\n",
    "import matplotlib.ticker as ticker\n",
    "ax.xaxis.set_major_locator(ticker.MultipleLocator(2))\n",
    "ax.scatter(x=platform_3DS['user_score'],y= platform_3DS['total_sales'],vmin=2, vmax=10)"
   ]
  },
  {
   "cell_type": "markdown",
   "id": "97b137a8",
   "metadata": {},
   "source": [
    "График демонстрирует связь оценки пользователей и продаж. Чем выше оценка, тем больше продажи. Как и в случае с оценкой критиков соответствие обеспечивается, в основном, выбросами. Рассчитаем коэффициент корреляции Пирсона между оценками пользователей и продажами."
   ]
  },
  {
   "cell_type": "code",
   "execution_count": null,
   "id": "4162f4aa",
   "metadata": {},
   "outputs": [],
   "source": [
    "print(platform_3DS['user_score'].corr(platform_3DS['total_sales']))"
   ]
  },
  {
   "cell_type": "markdown",
   "id": "53757b17",
   "metadata": {},
   "source": [
    "Положительная корреляция между оценками пользователя и суммарными продажами подтверждается и графиком и коэффициентом Пирсона. Но в случае оценки пользователей эта связь еще \"слабее\"."
   ]
  },
  {
   "cell_type": "markdown",
   "id": "c7558d47",
   "metadata": {},
   "source": [
    "**3.6 Сопоставление платформ в аспекте связи между оценками и продажами**"
   ]
  },
  {
   "cell_type": "markdown",
   "id": "4f6db83d",
   "metadata": {},
   "source": [
    "Рассчитаем коэффициенты Пирсона для всех платформ."
   ]
  },
  {
   "cell_type": "code",
   "execution_count": null,
   "id": "9b9ae77e",
   "metadata": {},
   "outputs": [],
   "source": [
    "def Pirson_for_critic_score(platform):\n",
    "    platform = games.loc[games['platform'] == platform]\n",
    "    platform_3DS = platform.loc[platform['year_of_release'] >= 2014]\n",
    "    platform['critic_score'].fillna(0)\n",
    "    platform = platform.loc[platform['critic_score'] >0]\n",
    "    P = platform['critic_score'].corr(platform['total_sales'])\n",
    "    return P\n",
    "def Pirson_for_user_score(platform):\n",
    "    platform = games.loc[games['platform'] == platform]\n",
    "    platform_3DS = platform.loc[platform['year_of_release'] >= 2014]\n",
    "    platform = platform.loc[:,['platform','user_score','total_sales']].dropna()\n",
    "    platform = platform.loc[platform['user_score'] != 'tbd'].sort_values(by = 'user_score')\n",
    "    platform[['total_sales','user_score']]  = platform[['total_sales','user_score']].astype(float)\n",
    "    P = platform['user_score'].corr(platform['total_sales'])\n",
    "    return P\n",
    "Pirson_for_user_score('X360')"
   ]
  },
  {
   "cell_type": "code",
   "execution_count": null,
   "id": "6db45399",
   "metadata": {},
   "outputs": [],
   "source": [
    "len(actual_platforms)"
   ]
  },
  {
   "cell_type": "code",
   "execution_count": null,
   "id": "4205b144",
   "metadata": {},
   "outputs": [],
   "source": [
    "P1_list = []\n",
    "P2_list = []\n",
    "for i in range(len(actual_platforms)):\n",
    "    P1_list.append(Pirson_for_critic_score(actual_platforms[i]))\n",
    "    P2_list.append(Pirson_for_user_score(actual_platforms[i]))    \n",
    "Pirson_table = pd.DataFrame({'platform' : actual_platforms, 'pirson_critic' : P1_list, 'pirson_user': P2_list})\n",
    "display(Pirson_table)"
   ]
  },
  {
   "cell_type": "markdown",
   "id": "bbe3eaf4",
   "metadata": {},
   "source": [
    "Наблюдается слабая положительная корреляция по всем платформам кроме одной (PC). Плафтормы отсортированы по выручке. Наблюдается тенденции \"больше выручка - сильнее корреляция продаж с отзывами\". Тем не менее, этот тренд нарушает находящаяся на четвертом месте платформа WiiU."
   ]
  },
  {
   "cell_type": "markdown",
   "id": "3a121e29",
   "metadata": {},
   "source": [
    "Проверка показывает, что вввиду малого количества продаж на данных платформах, оценки критиков и пользователей по продаваемым на них играх полностью отсутствуют."
   ]
  },
  {
   "cell_type": "markdown",
   "id": "1c96c425",
   "metadata": {},
   "source": [
    "**3.6 Распределение игр по жанрам**\n",
    "\n",
    "Создадим таблицу со столбцами \"жанр\",\"суммарные продажи\",\"количество игр\",\"продажи/количество\""
   ]
  },
  {
   "cell_type": "code",
   "execution_count": null,
   "id": "466b4369",
   "metadata": {},
   "outputs": [],
   "source": [
    "genre_quantity_count = games.loc[games['year_of_release'] >= 2014]\n",
    "actual_platforms_df = pd.DataFrame(actual_platforms)\n",
    "actual_platforms_df['platform_number'] = actual_platforms_df.index\n",
    "actual_platforms_df = actual_platforms_df.set_index(0)\n",
    "genre_quantity_count = genre_quantity_count.set_index('platform').join(actual_platforms_df)\n",
    "genre_quantity_count = genre_quantity_count.loc[genre_quantity_count['platform_number'] <= 5]\n",
    "genre_quantity_count = genre_quantity_count.groupby('genre')['name'].count().to_frame()\n",
    "genre_quantity_count = genre_quantity_count.rename(columns = {'name' : 'quantity'})\n",
    "genre_sales_count = games.groupby('genre')['total_sales'].sum().to_frame()\n",
    "genre_analysis = genre_quantity_count.join(genre_sales_count)\n",
    "genre_analysis['ratio'] = round(genre_analysis['total_sales']/genre_analysis['quantity'],2)\n",
    "genre_analysis['genre'] = genre_analysis.index\n",
    "genre_analysis = genre_analysis.sort_values(by = 'ratio', ascending = False)\n",
    "genre_analysis"
   ]
  },
  {
   "cell_type": "markdown",
   "id": "dfc138ca",
   "metadata": {},
   "source": [
    "Наилучшее соотношение суммарных продаж к количеству выпущенных игр - у жанра \"Platform\". Жанр \"Action\", лидирующий по \n",
    "количеству игр находится лишь в середине рейтинга по соотношению выручки и количеству игр.\n",
    "Построим круговую диаграму распределения по жанрам."
   ]
  },
  {
   "cell_type": "code",
   "execution_count": null,
   "id": "48a73d97",
   "metadata": {},
   "outputs": [],
   "source": [
    "fig = px.pie(genre_analysis, values='quantity', names='genre', title='Распределение выпущенных игр по жанрам')\n",
    "fig.show()"
   ]
  },
  {
   "cell_type": "markdown",
   "id": "40bc27d4",
   "metadata": {},
   "source": [
    "В задании присутствует вопрос \"выделяются ли жанры с высокими и низкими продажами?\". Ответить можно так: 1) Разница между лидирующими по соотношению \"выручка/количество\" играми и аутсайдерами  - примерно в 15 раз (на порядок). 2) При этом не выделяется двух или более групп с \"высокими\" или \"низкими\" продажами. Коэффициент продажи/количество распределен по жанрам равномерно. "
   ]
  },
  {
   "cell_type": "markdown",
   "id": "f2ea9780",
   "metadata": {},
   "source": [
    "Что касается распределения игр по жанрам - примерно половину количества игр занимают ТОП-2 жанров. Оставшиеся распределены с равномерным убыванием доли."
   ]
  },
  {
   "cell_type": "markdown",
   "id": "73ffaa45",
   "metadata": {},
   "source": [
    "**4. Портрет пользователя каждого региона**\n",
    "\n",
    "**4.1 ТОП-5 платформ каждого региона по продажам**"
   ]
  },
  {
   "cell_type": "code",
   "execution_count": null,
   "id": "3b3a3345",
   "metadata": {},
   "outputs": [],
   "source": [
    "games_for_region_analisys = games.loc[games['year_of_release'] >= 2014]\n",
    "games_for_region_analisys = games_for_region_analisys.set_index('platform').join(actual_platforms_df)\n",
    "games_for_region_analisys = games_for_region_analisys.loc[games_for_region_analisys['platform_number'] <= 5]\n",
    "games_for_region_analisys = games_for_region_analisys.reset_index().rename(columns = {'index':'platform'})"
   ]
  },
  {
   "cell_type": "code",
   "execution_count": null,
   "id": "ee14e352",
   "metadata": {},
   "outputs": [],
   "source": [
    "def top5_region(df, region):\n",
    "    top5 = df.loc[:,['platform', region]].groupby('platform').sum().sort_values(by=region, ascending = False).iloc[0:5,:]\n",
    "    return top5\n",
    "na_top5 = top5_region(games_for_region_analisys, 'na_sales').reset_index()\n",
    "eu_top5 = top5_region(games_for_region_analisys, 'eu_sales').reset_index()\n",
    "jp_top5 = top5_region(games_for_region_analisys, 'jp_sales').reset_index()\n",
    "other_top5 = top5_region(games_for_region_analisys, 'other_sales').reset_index()\n",
    "display(na_top5,eu_top5,jp_top5,other_top5)"
   ]
  },
  {
   "cell_type": "markdown",
   "id": "93e5b65b",
   "metadata": {},
   "source": [
    "В двух регионах лидирует платформа PS3, она же присутствует во всех ТОП-5. В Японии платформа 3DS лидирует с отрывом в 3 раза от ближайшего конкурента. Более ни в одном из регионов столь значительных разностей между соседними строками рейтингов не встречается, за исключением нижних строчек Японского рейтинга и рейтинга по странам \"остального мира\"."
   ]
  },
  {
   "cell_type": "markdown",
   "id": "1f1707d3",
   "metadata": {},
   "source": [
    "**4.2 ТОП-5 жанров каждого региона**"
   ]
  },
  {
   "cell_type": "code",
   "execution_count": null,
   "id": "7d3122e6",
   "metadata": {},
   "outputs": [],
   "source": [
    "def top5_genre_region(df, region):\n",
    "    top5 = df.loc[:,['genre', region]].groupby('genre').sum().sort_values(by=region, ascending = False).iloc[0:5,:]\n",
    "    return top5\n",
    "na_top5 = top5_genre_region(games_for_region_analisys, 'na_sales').reset_index()\n",
    "eu_top5 = top5_genre_region(games_for_region_analisys, 'eu_sales').reset_index()\n",
    "jp_top5 = top5_genre_region(games_for_region_analisys, 'jp_sales').reset_index()\n",
    "other_top5 = top5_genre_region(games, 'other_sales').reset_index()\n",
    "display(na_top5,eu_top5,jp_top5,other_top5)"
   ]
  },
  {
   "cell_type": "markdown",
   "id": "168b9f40",
   "metadata": {},
   "source": [
    "Жанр Action лидирует во всех регионах кроме Японии, где он на втором месте. Следует отметить в Японском рейтинге две выделаюшиеся группы: Первая пара \"Role Playing + Action\" с огромным отрывом в 4 раза по продажам опережает \"отстающую\" тройку. Больше столь радикальных разрывов во всех рейтингах не наблюдается."
   ]
  },
  {
   "cell_type": "markdown",
   "id": "c92df82e",
   "metadata": {},
   "source": [
    "**4.3 Влияние рейтинга ESRB на продажи в каждом регионе**\n",
    "\n",
    "Отсутствующие значения рейтинга \"NAN\" заполняем условным символом \"No_Rating\" и оставляем."
   ]
  },
  {
   "cell_type": "code",
   "execution_count": null,
   "id": "db22505f",
   "metadata": {},
   "outputs": [],
   "source": [
    "games_for_rating_analysis = games.loc[:,['year_of_release', 'rating','na_sales','eu_sales','jp_sales','other_sales','platform']]\n",
    "games_for_rating_analysis = games_for_rating_analysis.set_index('platform').join(actual_platforms_df)\n",
    "games_for_rating_analysis = games_for_rating_analysis.loc[games_for_rating_analysis['platform_number'] <= 5]\n",
    "games_for_rating_analysis = games_for_rating_analysis.reset_index().rename(columns = {'index':'platform'})\n",
    "games_for_rating_analysis['rating'].fillna('No_Rating',inplace=True)\n",
    "games_for_rating_analysis"
   ]
  },
  {
   "cell_type": "code",
   "execution_count": null,
   "id": "81320f04",
   "metadata": {},
   "outputs": [],
   "source": [
    "rating_ammount = games_for_rating_analysis.groupby(['rating', 'year_of_release'])['na_sales'].count().to_frame().rename(columns = {'na_sales': 'amount'})\n",
    "rating_ammount"
   ]
  },
  {
   "cell_type": "markdown",
   "id": "3b09bc3c",
   "metadata": {},
   "source": [
    "Мы видим 8 различных значений рейтинга и одну группу игр \"без рейитнга\". \n",
    "Выделяются две группы оценок: часто встречающиеся оценки и редко встречающиеся. Имеется разница на два порядка между этими двумя группами по количеству получивших оценку игр. \n",
    "Подготовим новый датафрейм для построения графиков рейтинг-продажи для каждого региона."
   ]
  },
  {
   "cell_type": "code",
   "execution_count": null,
   "id": "4b72d6cb",
   "metadata": {},
   "outputs": [],
   "source": [
    "games_for_rating_sales_analysis = games_for_rating_analysis.groupby('rating').sum().reset_index()"
   ]
  },
  {
   "cell_type": "code",
   "execution_count": null,
   "id": "10c8b3ba",
   "metadata": {},
   "outputs": [],
   "source": [
    "fig = make_subplots(rows=4,cols=1)\n",
    "fig.add_bar(x=games_for_rating_sales_analysis['rating'], y=games_for_rating_sales_analysis['na_sales'], row=1, col = 1, name='Продажи в Северной Америке')\n",
    "fig.add_bar(x=games_for_rating_sales_analysis['rating'], y=games_for_rating_sales_analysis['eu_sales'], row=2, col = 1, name='Продажи в Европе')\n",
    "fig.add_bar(x=games_for_rating_sales_analysis['rating'], y=games_for_rating_sales_analysis['jp_sales'], row=3, col = 1, name='Продажи в Японии')\n",
    "fig.add_bar(x=games_for_rating_sales_analysis['rating'], y=games_for_rating_sales_analysis['jp_sales'], row=4, col = 1, name='Продажи в других регионах')\n",
    "fig.update_layout(height=1000, width=1000, title_text = 'Продажи игр с различными рейтингами')\n",
    "fig.show()"
   ]
  },
  {
   "cell_type": "markdown",
   "id": "3c6fdf93",
   "metadata": {},
   "source": [
    "Количество игр \"без рейтинга\" - больше половины. Но по суммарным продажам в Северной Америке и Европе они существенно не выделяются. \n",
    "Однако в Японии и в \"других\" частях мира игры без рейтинга имеют продажи примерно в 4 раза больше, чем самые продаваемые группы игр \"с рейтингом\". Предположительно, это связано с наличием локальных рейтингов - более актуальных для местных покупателей чем мировые рейтинги.  \n",
    "В Европе и Северной Америке лидируют игры с рейтингом М (от 17 лет) - для взрослых."
   ]
  },
  {
   "cell_type": "code",
   "execution_count": null,
   "id": "366abff2",
   "metadata": {},
   "outputs": [],
   "source": [
    "games_for_rating_analysis = games.loc[:,['year_of_release','rating','na_sales','eu_sales','jp_sales','other_sales','platform']]\n",
    "games_for_rating_analysis = games_for_rating_analysis.loc[games_for_rating_analysis['year_of_release'] >= 2014]\n",
    "games_for_rating_analysis = games_for_rating_analysis.set_index('platform').join(actual_platforms_df)\n",
    "games_for_rating_analysis = games_for_rating_analysis.loc[games_for_rating_analysis['platform_number'] <= 5]\n",
    "games_for_rating_analysis = games_for_rating_analysis.reset_index().rename(columns = {'index':'platform'})\n",
    "games_for_rating_analysis['rating'].fillna('No_Rating',inplace=True)\n",
    "games_for_rating_analysis"
   ]
  },
  {
   "cell_type": "code",
   "execution_count": null,
   "id": "cb1df1d7",
   "metadata": {},
   "outputs": [],
   "source": [
    "games_for_rating_sales_analysis = games_for_rating_analysis.groupby('rating').sum().reset_index()"
   ]
  },
  {
   "cell_type": "code",
   "execution_count": null,
   "id": "c0a87bbe",
   "metadata": {},
   "outputs": [],
   "source": [
    "fig = make_subplots(rows=4,cols=1)\n",
    "fig.add_bar(x=games_for_rating_sales_analysis['rating'], y=games_for_rating_sales_analysis['na_sales'], row=1, col = 1, name='Продажи в Северной Америке')\n",
    "fig.add_bar(x=games_for_rating_sales_analysis['rating'], y=games_for_rating_sales_analysis['eu_sales'], row=2, col = 1, name='Продажи в Европе')\n",
    "fig.add_bar(x=games_for_rating_sales_analysis['rating'], y=games_for_rating_sales_analysis['jp_sales'], row=3, col = 1, name='Продажи в Японии')\n",
    "fig.add_bar(x=games_for_rating_sales_analysis['rating'], y=games_for_rating_sales_analysis['jp_sales'], row=4, col = 1, name='Продажи в других регионах')\n",
    "fig.update_layout(height=1000, width=1000, title_text = 'Продажи игр с различными рейтингами')\n",
    "fig.show()"
   ]
  },
  {
   "cell_type": "markdown",
   "id": "39341608",
   "metadata": {},
   "source": [
    "В Японии и в \"других\" частях мира игры без рейтинга имеют продажи примерно в 4 раза больше, чем самые продаваемые группы игр \"с рейтингом\". Предположительно, это связано с наличием локальных рейтингов - более актуальных для местных покупателей чем мировые рейтинги.  \n",
    "В Европе и Северной Америке лидируют игры с рейтингом E - для всех. В целом, в Европе и Северной Америке разброс по количеству игр с различными рейтингами не очень большой - разница между минимумом и максимумом примерно в два раза. \n",
    "Стоит отметить, что ни в одном регионе в актуальный датафрейм не попали игры с рейтингами \"EC\",\"KA\" и \"RP\". "
   ]
  },
  {
   "cell_type": "markdown",
   "id": "1bf2e848",
   "metadata": {},
   "source": [
    "**5. Проверка гипотез**\n",
    "\n",
    "**5.1 Средние пользовательские рейтинги платформ Xbox One и PC одинаковые**"
   ]
  },
  {
   "cell_type": "markdown",
   "id": "c7735fac",
   "metadata": {},
   "source": [
    "Нулевая гипотеза: \"Средний пользовательский рейтинг платформ Xbox One равен среднему пользовательскому рейтингу\n",
    "платформы PC\". "
   ]
  },
  {
   "cell_type": "code",
   "execution_count": null,
   "id": "43c913f3",
   "metadata": {},
   "outputs": [],
   "source": [
    "def platform_rating_analysis(platform):\n",
    "    platform = games.loc[games['platform'] == platform]\n",
    "    platform = platform.loc[platform['year_of_release'] >= 2014]\n",
    "    platform = platform.loc[:,['user_score']].dropna()\n",
    "    platform = platform.loc[platform['user_score'] != 'tbd'].astype(float)\n",
    "    return platform \n",
    "XOne_ratings = platform_rating_analysis('XOne')\n",
    "PC_ratings = platform_rating_analysis('PC')"
   ]
  },
  {
   "cell_type": "markdown",
   "id": "11f0e180",
   "metadata": {},
   "source": [
    "Проведем t-тест о равенстве средних двух генеральных совокупностей."
   ]
  },
  {
   "cell_type": "code",
   "execution_count": null,
   "id": "c40ce32f",
   "metadata": {},
   "outputs": [],
   "source": [
    "results = st.ttest_ind(XOne_ratings, PC_ratings)\n",
    "print('p-значение:', results.pvalue)"
   ]
  },
  {
   "cell_type": "markdown",
   "id": "6931a5c4",
   "metadata": {},
   "source": [
    "Даже если принять критический уровень статистической значимости Альфа равный 5%, он не будет превышен. Нулевая гипотеза не отвергается."
   ]
  },
  {
   "cell_type": "markdown",
   "id": "24f5cd7f",
   "metadata": {},
   "source": [
    "**5.2 Средние пользовательские рейтинги жанров Action и Sports разные**\n",
    "\n",
    "Нулевая гипотеза: \"Cредний пользовательский рейтинг игр жанров Action и Sports равны\"."
   ]
  },
  {
   "cell_type": "code",
   "execution_count": null,
   "id": "355e5157",
   "metadata": {},
   "outputs": [],
   "source": [
    "def genre_rating_analysis(genre):\n",
    "    platform = games.loc[games['genre'] == genre]\n",
    "    platform = platform.loc[platform['year_of_release'] >= 2014]\n",
    "    platform = platform.set_index('platform').join(actual_platforms_df)\n",
    "    platform = platform.loc[platform['platform_number'] <= 5]\n",
    "    platform = platform.loc[:,['user_score']].dropna()\n",
    "    platform = platform.loc[platform['user_score'] != 'tbd'].astype(float)\n",
    "    return platform \n",
    "Action_ratings = genre_rating_analysis('Action')\n",
    "Sports_ratings = genre_rating_analysis('Sports')\n",
    "results = st.ttest_ind(Action_ratings, Sports_ratings)\n",
    "print('p-значение:', results.pvalue)"
   ]
  },
  {
   "cell_type": "markdown",
   "id": "ecd9e47e",
   "metadata": {},
   "source": [
    "Даже если принять критичекий уровень статистической значимости (альфа) равным 1%, он не будет превышен. Нулевая гипотеза отвергается."
   ]
  },
  {
   "cell_type": "markdown",
   "id": "c1ffc101",
   "metadata": {},
   "source": [
    "**6. Общий вывод**\n",
    " - Продажи игр в мире падают. Даже если данные за 2016 год неполные, тем не менее, всплеск 2015 года есть лишь у некоторых платформ;\n",
    " - Отзывы и коррелируют с продажами. Выше рейтинг - больше продаж. Корреляция слабая;\n",
    " - Для актуального в плане прогноза продаж на 2017 год датафрейма (6 платформ, период 2014-2016) все данные по суммарным продажам \"скошены\" в сторону бОльших продаж, и присутствует значительное количество выбросов;\n",
    " - Япония существенно отличается от всего мира. Выраженное предпочтенние ролевых игр, вероятно, является следствием их \"загадочного\" менталитета;\n",
    " - Также, в Японии и \"других частях мира\", предположительно, наиболее актуальными для покупателей являются местные рейтинги игр, которым они доверяют больше чем ESRB. Данное предположение сделано на основании того, что игры \"без рейтинга ESRB\" лидируют с отрывом в разы по отношению к играм \"с рейтингом ESRB\" в Японии и \"других частях мира\";\n",
    " - В актуальный период на актуальных платформах в Европе и Северной Америке лидируют игры категории \"для всех\". Этот факт следует учесть при планировании бизнеса в 2017 году;\n",
    " - Игры с рейтингами ESRB \"EC\",'KA\" и \"RP\" вообще не продавались на актуальных платформах в 2014-2016 годах;\n",
    " - В актуальный период на актуальных платформах преобладают игры \"Role Playing\" и \"Action\". На их долю приходится половина всех продаж;\n",
    " - Cреди платформ заметно выделяются две группы: \"ТОП-6\" (выбросы) и \"остальные\". Результат характерен для крупного мирового бизнеса, когда несколько гигантов \"делают\" подавляющую часть выручки."
   ]
  }
 ],
 "metadata": {
  "kernelspec": {
   "display_name": "Python 3 (ipykernel)",
   "language": "python",
   "name": "python3"
  },
  "language_info": {
   "codemirror_mode": {
    "name": "ipython",
    "version": 3
   },
   "file_extension": ".py",
   "mimetype": "text/x-python",
   "name": "python",
   "nbconvert_exporter": "python",
   "pygments_lexer": "ipython3",
   "version": "3.9.7"
  }
 },
 "nbformat": 4,
 "nbformat_minor": 5
}
