{
 "cells": [
  {
   "cell_type": "markdown",
   "metadata": {},
   "source": [
    "### Оглавление\n",
    "\n",
    "1. [Импорт библиотек и данных](#1.-Импорт-библиотек-и-данных)\n",
    "2. [Исследовательский анализ данных](#2.-Иccледовательский-анализ-данных)\n",
    "3. [Модель прогнозирования оттока клиентов](#3.-Модель-прогнозирования-оттока-клиентов)\n",
    "4. [Кластеризация клиентов](#4.-Кластеризация-клиентов)\n",
    "5. [Выводы и рекомендации](#5.-Выводы-и-рекомедации)"
   ]
  },
  {
   "cell_type": "markdown",
   "metadata": {},
   "source": [
    "<h3>1. Импорт библиотек и данных</h3>"
   ]
  },
  {
   "cell_type": "code",
   "execution_count": 1,
   "metadata": {},
   "outputs": [],
   "source": [
    "import pandas as pd\n",
    "import seaborn as sns\n",
    "from sklearn.preprocessing import StandardScaler\n",
    "from sklearn.linear_model import LogisticRegression\n",
    "from sklearn.ensemble import RandomForestClassifier\n",
    "from sklearn.model_selection import train_test_split\n",
    "from sklearn.linear_model import Lasso, Ridge\n",
    "from sklearn.tree import DecisionTreeRegressor\n",
    "from sklearn.ensemble import RandomForestRegressor, GradientBoostingRegressor\n",
    "import matplotlib.pyplot as plt\n",
    "from plotly.subplots import make_subplots\n",
    "from sklearn.metrics import mean_absolute_error, mean_squared_error, r2_score\n",
    "from sklearn.metrics import accuracy_score, precision_score, recall_score, f1_score\n",
    "from scipy.cluster.hierarchy import dendrogram, linkage\n",
    "from sklearn.cluster import KMeans"
   ]
  },
  {
   "cell_type": "code",
   "execution_count": 2,
   "metadata": {},
   "outputs": [],
   "source": [
    "data = pd.read_csv('/datasets/gym_churn.csv')"
   ]
  },
  {
   "cell_type": "markdown",
   "metadata": {},
   "source": [
    "<h3>2. Иccледовательский анализ данных</h3>"
   ]
  },
  {
   "cell_type": "code",
   "execution_count": 3,
   "metadata": {},
   "outputs": [
    {
     "data": {
      "text/plain": [
       "(4000, 14)"
      ]
     },
     "metadata": {},
     "output_type": "display_data"
    },
    {
     "data": {
      "text/html": [
       "<div>\n",
       "<style scoped>\n",
       "    .dataframe tbody tr th:only-of-type {\n",
       "        vertical-align: middle;\n",
       "    }\n",
       "\n",
       "    .dataframe tbody tr th {\n",
       "        vertical-align: top;\n",
       "    }\n",
       "\n",
       "    .dataframe thead th {\n",
       "        text-align: right;\n",
       "    }\n",
       "</style>\n",
       "<table border=\"1\" class=\"dataframe\">\n",
       "  <thead>\n",
       "    <tr style=\"text-align: right;\">\n",
       "      <th></th>\n",
       "      <th>0</th>\n",
       "      <th>1</th>\n",
       "      <th>2</th>\n",
       "      <th>3</th>\n",
       "      <th>4</th>\n",
       "    </tr>\n",
       "  </thead>\n",
       "  <tbody>\n",
       "    <tr>\n",
       "      <th>gender</th>\n",
       "      <td>1.000000</td>\n",
       "      <td>0.000000</td>\n",
       "      <td>0.000000</td>\n",
       "      <td>0.000000</td>\n",
       "      <td>1.000000</td>\n",
       "    </tr>\n",
       "    <tr>\n",
       "      <th>Near_Location</th>\n",
       "      <td>1.000000</td>\n",
       "      <td>1.000000</td>\n",
       "      <td>1.000000</td>\n",
       "      <td>1.000000</td>\n",
       "      <td>1.000000</td>\n",
       "    </tr>\n",
       "    <tr>\n",
       "      <th>Partner</th>\n",
       "      <td>1.000000</td>\n",
       "      <td>0.000000</td>\n",
       "      <td>1.000000</td>\n",
       "      <td>1.000000</td>\n",
       "      <td>1.000000</td>\n",
       "    </tr>\n",
       "    <tr>\n",
       "      <th>Promo_friends</th>\n",
       "      <td>1.000000</td>\n",
       "      <td>0.000000</td>\n",
       "      <td>0.000000</td>\n",
       "      <td>1.000000</td>\n",
       "      <td>1.000000</td>\n",
       "    </tr>\n",
       "    <tr>\n",
       "      <th>Phone</th>\n",
       "      <td>0.000000</td>\n",
       "      <td>1.000000</td>\n",
       "      <td>1.000000</td>\n",
       "      <td>1.000000</td>\n",
       "      <td>1.000000</td>\n",
       "    </tr>\n",
       "    <tr>\n",
       "      <th>Contract_period</th>\n",
       "      <td>6.000000</td>\n",
       "      <td>12.000000</td>\n",
       "      <td>1.000000</td>\n",
       "      <td>12.000000</td>\n",
       "      <td>1.000000</td>\n",
       "    </tr>\n",
       "    <tr>\n",
       "      <th>Group_visits</th>\n",
       "      <td>1.000000</td>\n",
       "      <td>1.000000</td>\n",
       "      <td>0.000000</td>\n",
       "      <td>1.000000</td>\n",
       "      <td>0.000000</td>\n",
       "    </tr>\n",
       "    <tr>\n",
       "      <th>Age</th>\n",
       "      <td>29.000000</td>\n",
       "      <td>31.000000</td>\n",
       "      <td>28.000000</td>\n",
       "      <td>33.000000</td>\n",
       "      <td>26.000000</td>\n",
       "    </tr>\n",
       "    <tr>\n",
       "      <th>Avg_additional_charges_total</th>\n",
       "      <td>14.227470</td>\n",
       "      <td>113.202938</td>\n",
       "      <td>129.448479</td>\n",
       "      <td>62.669863</td>\n",
       "      <td>198.362265</td>\n",
       "    </tr>\n",
       "    <tr>\n",
       "      <th>Month_to_end_contract</th>\n",
       "      <td>5.000000</td>\n",
       "      <td>12.000000</td>\n",
       "      <td>1.000000</td>\n",
       "      <td>12.000000</td>\n",
       "      <td>1.000000</td>\n",
       "    </tr>\n",
       "    <tr>\n",
       "      <th>Lifetime</th>\n",
       "      <td>3.000000</td>\n",
       "      <td>7.000000</td>\n",
       "      <td>2.000000</td>\n",
       "      <td>2.000000</td>\n",
       "      <td>3.000000</td>\n",
       "    </tr>\n",
       "    <tr>\n",
       "      <th>Avg_class_frequency_total</th>\n",
       "      <td>0.020398</td>\n",
       "      <td>1.922936</td>\n",
       "      <td>1.859098</td>\n",
       "      <td>3.205633</td>\n",
       "      <td>1.113884</td>\n",
       "    </tr>\n",
       "    <tr>\n",
       "      <th>Avg_class_frequency_current_month</th>\n",
       "      <td>0.000000</td>\n",
       "      <td>1.910244</td>\n",
       "      <td>1.736502</td>\n",
       "      <td>3.357215</td>\n",
       "      <td>1.120078</td>\n",
       "    </tr>\n",
       "    <tr>\n",
       "      <th>Churn</th>\n",
       "      <td>0.000000</td>\n",
       "      <td>0.000000</td>\n",
       "      <td>0.000000</td>\n",
       "      <td>0.000000</td>\n",
       "      <td>0.000000</td>\n",
       "    </tr>\n",
       "  </tbody>\n",
       "</table>\n",
       "</div>"
      ],
      "text/plain": [
       "                                           0           1           2  \\\n",
       "gender                              1.000000    0.000000    0.000000   \n",
       "Near_Location                       1.000000    1.000000    1.000000   \n",
       "Partner                             1.000000    0.000000    1.000000   \n",
       "Promo_friends                       1.000000    0.000000    0.000000   \n",
       "Phone                               0.000000    1.000000    1.000000   \n",
       "Contract_period                     6.000000   12.000000    1.000000   \n",
       "Group_visits                        1.000000    1.000000    0.000000   \n",
       "Age                                29.000000   31.000000   28.000000   \n",
       "Avg_additional_charges_total       14.227470  113.202938  129.448479   \n",
       "Month_to_end_contract               5.000000   12.000000    1.000000   \n",
       "Lifetime                            3.000000    7.000000    2.000000   \n",
       "Avg_class_frequency_total           0.020398    1.922936    1.859098   \n",
       "Avg_class_frequency_current_month   0.000000    1.910244    1.736502   \n",
       "Churn                               0.000000    0.000000    0.000000   \n",
       "\n",
       "                                           3           4  \n",
       "gender                              0.000000    1.000000  \n",
       "Near_Location                       1.000000    1.000000  \n",
       "Partner                             1.000000    1.000000  \n",
       "Promo_friends                       1.000000    1.000000  \n",
       "Phone                               1.000000    1.000000  \n",
       "Contract_period                    12.000000    1.000000  \n",
       "Group_visits                        1.000000    0.000000  \n",
       "Age                                33.000000   26.000000  \n",
       "Avg_additional_charges_total       62.669863  198.362265  \n",
       "Month_to_end_contract              12.000000    1.000000  \n",
       "Lifetime                            2.000000    3.000000  \n",
       "Avg_class_frequency_total           3.205633    1.113884  \n",
       "Avg_class_frequency_current_month   3.357215    1.120078  \n",
       "Churn                               0.000000    0.000000  "
      ]
     },
     "metadata": {},
     "output_type": "display_data"
    }
   ],
   "source": [
    "display(data.shape)\n",
    "display(data.head().T)"
   ]
  },
  {
   "cell_type": "markdown",
   "metadata": {},
   "source": [
    "Приведем наименования полей к нижнему регистру."
   ]
  },
  {
   "cell_type": "code",
   "execution_count": 4,
   "metadata": {},
   "outputs": [],
   "source": [
    "data.columns = data.columns.str.lower()"
   ]
  },
  {
   "cell_type": "code",
   "execution_count": 5,
   "metadata": {},
   "outputs": [
    {
     "name": "stdout",
     "output_type": "stream",
     "text": [
      "<class 'pandas.core.frame.DataFrame'>\n",
      "RangeIndex: 4000 entries, 0 to 3999\n",
      "Data columns (total 14 columns):\n",
      " #   Column                             Non-Null Count  Dtype  \n",
      "---  ------                             --------------  -----  \n",
      " 0   gender                             4000 non-null   int64  \n",
      " 1   near_location                      4000 non-null   int64  \n",
      " 2   partner                            4000 non-null   int64  \n",
      " 3   promo_friends                      4000 non-null   int64  \n",
      " 4   phone                              4000 non-null   int64  \n",
      " 5   contract_period                    4000 non-null   int64  \n",
      " 6   group_visits                       4000 non-null   int64  \n",
      " 7   age                                4000 non-null   int64  \n",
      " 8   avg_additional_charges_total       4000 non-null   float64\n",
      " 9   month_to_end_contract              4000 non-null   float64\n",
      " 10  lifetime                           4000 non-null   int64  \n",
      " 11  avg_class_frequency_total          4000 non-null   float64\n",
      " 12  avg_class_frequency_current_month  4000 non-null   float64\n",
      " 13  churn                              4000 non-null   int64  \n",
      "dtypes: float64(4), int64(10)\n",
      "memory usage: 437.6 KB\n"
     ]
    }
   ],
   "source": [
    "data.info()"
   ]
  },
  {
   "cell_type": "markdown",
   "metadata": {},
   "source": [
    "Поле \"Month_to_end_contract\" требует приведения данных к типу \"int\". Выполним приведение. "
   ]
  },
  {
   "cell_type": "code",
   "execution_count": 6,
   "metadata": {},
   "outputs": [],
   "source": [
    "data['month_to_end_contract'] = data['month_to_end_contract'].astype(int)"
   ]
  },
  {
   "cell_type": "markdown",
   "metadata": {},
   "source": [
    "Пропуски в данных отсутствуют. Выведем средние значения и стандартные отклонения."
   ]
  },
  {
   "cell_type": "code",
   "execution_count": 7,
   "metadata": {},
   "outputs": [
    {
     "data": {
      "text/html": [
       "<div>\n",
       "<style scoped>\n",
       "    .dataframe tbody tr th:only-of-type {\n",
       "        vertical-align: middle;\n",
       "    }\n",
       "\n",
       "    .dataframe tbody tr th {\n",
       "        vertical-align: top;\n",
       "    }\n",
       "\n",
       "    .dataframe thead th {\n",
       "        text-align: right;\n",
       "    }\n",
       "</style>\n",
       "<table border=\"1\" class=\"dataframe\">\n",
       "  <thead>\n",
       "    <tr style=\"text-align: right;\">\n",
       "      <th></th>\n",
       "      <th>count</th>\n",
       "      <th>mean</th>\n",
       "      <th>std</th>\n",
       "      <th>min</th>\n",
       "      <th>25%</th>\n",
       "      <th>50%</th>\n",
       "      <th>75%</th>\n",
       "      <th>max</th>\n",
       "    </tr>\n",
       "  </thead>\n",
       "  <tbody>\n",
       "    <tr>\n",
       "      <th>gender</th>\n",
       "      <td>4000.0</td>\n",
       "      <td>0.510250</td>\n",
       "      <td>0.499957</td>\n",
       "      <td>0.000000</td>\n",
       "      <td>0.000000</td>\n",
       "      <td>1.000000</td>\n",
       "      <td>1.000000</td>\n",
       "      <td>1.000000</td>\n",
       "    </tr>\n",
       "    <tr>\n",
       "      <th>near_location</th>\n",
       "      <td>4000.0</td>\n",
       "      <td>0.845250</td>\n",
       "      <td>0.361711</td>\n",
       "      <td>0.000000</td>\n",
       "      <td>1.000000</td>\n",
       "      <td>1.000000</td>\n",
       "      <td>1.000000</td>\n",
       "      <td>1.000000</td>\n",
       "    </tr>\n",
       "    <tr>\n",
       "      <th>partner</th>\n",
       "      <td>4000.0</td>\n",
       "      <td>0.486750</td>\n",
       "      <td>0.499887</td>\n",
       "      <td>0.000000</td>\n",
       "      <td>0.000000</td>\n",
       "      <td>0.000000</td>\n",
       "      <td>1.000000</td>\n",
       "      <td>1.000000</td>\n",
       "    </tr>\n",
       "    <tr>\n",
       "      <th>promo_friends</th>\n",
       "      <td>4000.0</td>\n",
       "      <td>0.308500</td>\n",
       "      <td>0.461932</td>\n",
       "      <td>0.000000</td>\n",
       "      <td>0.000000</td>\n",
       "      <td>0.000000</td>\n",
       "      <td>1.000000</td>\n",
       "      <td>1.000000</td>\n",
       "    </tr>\n",
       "    <tr>\n",
       "      <th>phone</th>\n",
       "      <td>4000.0</td>\n",
       "      <td>0.903500</td>\n",
       "      <td>0.295313</td>\n",
       "      <td>0.000000</td>\n",
       "      <td>1.000000</td>\n",
       "      <td>1.000000</td>\n",
       "      <td>1.000000</td>\n",
       "      <td>1.000000</td>\n",
       "    </tr>\n",
       "    <tr>\n",
       "      <th>contract_period</th>\n",
       "      <td>4000.0</td>\n",
       "      <td>4.681250</td>\n",
       "      <td>4.549706</td>\n",
       "      <td>1.000000</td>\n",
       "      <td>1.000000</td>\n",
       "      <td>1.000000</td>\n",
       "      <td>6.000000</td>\n",
       "      <td>12.000000</td>\n",
       "    </tr>\n",
       "    <tr>\n",
       "      <th>group_visits</th>\n",
       "      <td>4000.0</td>\n",
       "      <td>0.412250</td>\n",
       "      <td>0.492301</td>\n",
       "      <td>0.000000</td>\n",
       "      <td>0.000000</td>\n",
       "      <td>0.000000</td>\n",
       "      <td>1.000000</td>\n",
       "      <td>1.000000</td>\n",
       "    </tr>\n",
       "    <tr>\n",
       "      <th>age</th>\n",
       "      <td>4000.0</td>\n",
       "      <td>29.184250</td>\n",
       "      <td>3.258367</td>\n",
       "      <td>18.000000</td>\n",
       "      <td>27.000000</td>\n",
       "      <td>29.000000</td>\n",
       "      <td>31.000000</td>\n",
       "      <td>41.000000</td>\n",
       "    </tr>\n",
       "    <tr>\n",
       "      <th>avg_additional_charges_total</th>\n",
       "      <td>4000.0</td>\n",
       "      <td>146.943728</td>\n",
       "      <td>96.355602</td>\n",
       "      <td>0.148205</td>\n",
       "      <td>68.868830</td>\n",
       "      <td>136.220159</td>\n",
       "      <td>210.949625</td>\n",
       "      <td>552.590740</td>\n",
       "    </tr>\n",
       "    <tr>\n",
       "      <th>month_to_end_contract</th>\n",
       "      <td>4000.0</td>\n",
       "      <td>4.322750</td>\n",
       "      <td>4.191297</td>\n",
       "      <td>1.000000</td>\n",
       "      <td>1.000000</td>\n",
       "      <td>1.000000</td>\n",
       "      <td>6.000000</td>\n",
       "      <td>12.000000</td>\n",
       "    </tr>\n",
       "    <tr>\n",
       "      <th>lifetime</th>\n",
       "      <td>4000.0</td>\n",
       "      <td>3.724750</td>\n",
       "      <td>3.749267</td>\n",
       "      <td>0.000000</td>\n",
       "      <td>1.000000</td>\n",
       "      <td>3.000000</td>\n",
       "      <td>5.000000</td>\n",
       "      <td>31.000000</td>\n",
       "    </tr>\n",
       "    <tr>\n",
       "      <th>avg_class_frequency_total</th>\n",
       "      <td>4000.0</td>\n",
       "      <td>1.879020</td>\n",
       "      <td>0.972245</td>\n",
       "      <td>0.000000</td>\n",
       "      <td>1.180875</td>\n",
       "      <td>1.832768</td>\n",
       "      <td>2.536078</td>\n",
       "      <td>6.023668</td>\n",
       "    </tr>\n",
       "    <tr>\n",
       "      <th>avg_class_frequency_current_month</th>\n",
       "      <td>4000.0</td>\n",
       "      <td>1.767052</td>\n",
       "      <td>1.052906</td>\n",
       "      <td>0.000000</td>\n",
       "      <td>0.963003</td>\n",
       "      <td>1.719574</td>\n",
       "      <td>2.510336</td>\n",
       "      <td>6.146783</td>\n",
       "    </tr>\n",
       "    <tr>\n",
       "      <th>churn</th>\n",
       "      <td>4000.0</td>\n",
       "      <td>0.265250</td>\n",
       "      <td>0.441521</td>\n",
       "      <td>0.000000</td>\n",
       "      <td>0.000000</td>\n",
       "      <td>0.000000</td>\n",
       "      <td>1.000000</td>\n",
       "      <td>1.000000</td>\n",
       "    </tr>\n",
       "  </tbody>\n",
       "</table>\n",
       "</div>"
      ],
      "text/plain": [
       "                                    count        mean        std        min  \\\n",
       "gender                             4000.0    0.510250   0.499957   0.000000   \n",
       "near_location                      4000.0    0.845250   0.361711   0.000000   \n",
       "partner                            4000.0    0.486750   0.499887   0.000000   \n",
       "promo_friends                      4000.0    0.308500   0.461932   0.000000   \n",
       "phone                              4000.0    0.903500   0.295313   0.000000   \n",
       "contract_period                    4000.0    4.681250   4.549706   1.000000   \n",
       "group_visits                       4000.0    0.412250   0.492301   0.000000   \n",
       "age                                4000.0   29.184250   3.258367  18.000000   \n",
       "avg_additional_charges_total       4000.0  146.943728  96.355602   0.148205   \n",
       "month_to_end_contract              4000.0    4.322750   4.191297   1.000000   \n",
       "lifetime                           4000.0    3.724750   3.749267   0.000000   \n",
       "avg_class_frequency_total          4000.0    1.879020   0.972245   0.000000   \n",
       "avg_class_frequency_current_month  4000.0    1.767052   1.052906   0.000000   \n",
       "churn                              4000.0    0.265250   0.441521   0.000000   \n",
       "\n",
       "                                         25%         50%         75%  \\\n",
       "gender                              0.000000    1.000000    1.000000   \n",
       "near_location                       1.000000    1.000000    1.000000   \n",
       "partner                             0.000000    0.000000    1.000000   \n",
       "promo_friends                       0.000000    0.000000    1.000000   \n",
       "phone                               1.000000    1.000000    1.000000   \n",
       "contract_period                     1.000000    1.000000    6.000000   \n",
       "group_visits                        0.000000    0.000000    1.000000   \n",
       "age                                27.000000   29.000000   31.000000   \n",
       "avg_additional_charges_total       68.868830  136.220159  210.949625   \n",
       "month_to_end_contract               1.000000    1.000000    6.000000   \n",
       "lifetime                            1.000000    3.000000    5.000000   \n",
       "avg_class_frequency_total           1.180875    1.832768    2.536078   \n",
       "avg_class_frequency_current_month   0.963003    1.719574    2.510336   \n",
       "churn                               0.000000    0.000000    1.000000   \n",
       "\n",
       "                                          max  \n",
       "gender                               1.000000  \n",
       "near_location                        1.000000  \n",
       "partner                              1.000000  \n",
       "promo_friends                        1.000000  \n",
       "phone                                1.000000  \n",
       "contract_period                     12.000000  \n",
       "group_visits                         1.000000  \n",
       "age                                 41.000000  \n",
       "avg_additional_charges_total       552.590740  \n",
       "month_to_end_contract               12.000000  \n",
       "lifetime                            31.000000  \n",
       "avg_class_frequency_total            6.023668  \n",
       "avg_class_frequency_current_month    6.146783  \n",
       "churn                                1.000000  "
      ]
     },
     "execution_count": 7,
     "metadata": {},
     "output_type": "execute_result"
    }
   ],
   "source": [
    "data.describe().T"
   ]
  },
  {
   "cell_type": "markdown",
   "metadata": {},
   "source": [
    "По средним значениям видно, что один из полов \"преобладает\" на 1%. В задании не обозначено, какой пол соответствует значению 1, а какой 0 - поэтому условно примем 1 - мужской, 0 - женский. "
   ]
  },
  {
   "cell_type": "markdown",
   "metadata": {},
   "source": [
    "Средние значения признаков для тех, кто ушел"
   ]
  },
  {
   "cell_type": "code",
   "execution_count": 8,
   "metadata": {},
   "outputs": [
    {
     "data": {
      "text/html": [
       "<div>\n",
       "<style scoped>\n",
       "    .dataframe tbody tr th:only-of-type {\n",
       "        vertical-align: middle;\n",
       "    }\n",
       "\n",
       "    .dataframe tbody tr th {\n",
       "        vertical-align: top;\n",
       "    }\n",
       "\n",
       "    .dataframe thead th {\n",
       "        text-align: right;\n",
       "    }\n",
       "</style>\n",
       "<table border=\"1\" class=\"dataframe\">\n",
       "  <thead>\n",
       "    <tr style=\"text-align: right;\">\n",
       "      <th>churn</th>\n",
       "      <th>0</th>\n",
       "      <th>1</th>\n",
       "    </tr>\n",
       "  </thead>\n",
       "  <tbody>\n",
       "    <tr>\n",
       "      <th>gender</th>\n",
       "      <td>0.510037</td>\n",
       "      <td>0.510839</td>\n",
       "    </tr>\n",
       "    <tr>\n",
       "      <th>near_location</th>\n",
       "      <td>0.873086</td>\n",
       "      <td>0.768143</td>\n",
       "    </tr>\n",
       "    <tr>\n",
       "      <th>partner</th>\n",
       "      <td>0.534195</td>\n",
       "      <td>0.355325</td>\n",
       "    </tr>\n",
       "    <tr>\n",
       "      <th>promo_friends</th>\n",
       "      <td>0.353522</td>\n",
       "      <td>0.183789</td>\n",
       "    </tr>\n",
       "    <tr>\n",
       "      <th>phone</th>\n",
       "      <td>0.903709</td>\n",
       "      <td>0.902922</td>\n",
       "    </tr>\n",
       "    <tr>\n",
       "      <th>contract_period</th>\n",
       "      <td>5.747193</td>\n",
       "      <td>1.728558</td>\n",
       "    </tr>\n",
       "    <tr>\n",
       "      <th>group_visits</th>\n",
       "      <td>0.464103</td>\n",
       "      <td>0.268615</td>\n",
       "    </tr>\n",
       "    <tr>\n",
       "      <th>age</th>\n",
       "      <td>29.976523</td>\n",
       "      <td>26.989632</td>\n",
       "    </tr>\n",
       "    <tr>\n",
       "      <th>avg_additional_charges_total</th>\n",
       "      <td>158.445715</td>\n",
       "      <td>115.082899</td>\n",
       "    </tr>\n",
       "    <tr>\n",
       "      <th>month_to_end_contract</th>\n",
       "      <td>5.283089</td>\n",
       "      <td>1.662582</td>\n",
       "    </tr>\n",
       "    <tr>\n",
       "      <th>lifetime</th>\n",
       "      <td>4.711807</td>\n",
       "      <td>0.990575</td>\n",
       "    </tr>\n",
       "    <tr>\n",
       "      <th>avg_class_frequency_total</th>\n",
       "      <td>2.024876</td>\n",
       "      <td>1.474995</td>\n",
       "    </tr>\n",
       "    <tr>\n",
       "      <th>avg_class_frequency_current_month</th>\n",
       "      <td>2.027882</td>\n",
       "      <td>1.044546</td>\n",
       "    </tr>\n",
       "  </tbody>\n",
       "</table>\n",
       "</div>"
      ],
      "text/plain": [
       "churn                                       0           1\n",
       "gender                               0.510037    0.510839\n",
       "near_location                        0.873086    0.768143\n",
       "partner                              0.534195    0.355325\n",
       "promo_friends                        0.353522    0.183789\n",
       "phone                                0.903709    0.902922\n",
       "contract_period                      5.747193    1.728558\n",
       "group_visits                         0.464103    0.268615\n",
       "age                                 29.976523   26.989632\n",
       "avg_additional_charges_total       158.445715  115.082899\n",
       "month_to_end_contract                5.283089    1.662582\n",
       "lifetime                             4.711807    0.990575\n",
       "avg_class_frequency_total            2.024876    1.474995\n",
       "avg_class_frequency_current_month    2.027882    1.044546"
      ]
     },
     "execution_count": 8,
     "metadata": {},
     "output_type": "execute_result"
    }
   ],
   "source": [
    "data.groupby('churn').mean().T"
   ]
  },
  {
   "cell_type": "markdown",
   "metadata": {},
   "source": [
    "По половому составу разница практически отсутствует. В текущем месяце больше ушло пользователей, не проживающий в районе расположения фитнес-центра. Значительная разница в количестве ушедших наблюдается между сотрудниками партнерских организаций и не являющимися сотрудниками партнерских организаций. Вторых существенно больше. Среди ушедших в пришедших по акции \"приведи друга\" - в два раза больше. Для ушедших в текущем месяце средняя длительность контракта составляет 1,7 месяцев против 5,7 для не ушедших. В два раза реже ушедщие посещают групповые занятия. Ушедшие в среднем на три года моложе и реже пользуются дополниительными услугами. У ушедших в среднем в 4,7 раза меньше время с момента первого обращения и на четветь меньше средняя частота посещений в неделю за все время. За предыдущий месяц перед уходом средняя чстота недельных посещений в два раза меньше. "
   ]
  },
  {
   "cell_type": "markdown",
   "metadata": {},
   "source": [
    "Диаграммы распределения признаков для ушедших и оставшихся пользователей."
   ]
  },
  {
   "cell_type": "code",
   "execution_count": 9,
   "metadata": {},
   "outputs": [
    {
     "data": {
      "image/png": "[encoded data removed]",
      "text/plain": [
       "<Figure size 504x1008 with 7 Axes>"
      ]
     },
     "metadata": {
      "needs_background": "light"
     },
     "output_type": "display_data"
    }
   ],
   "source": [
    "data_gone = data.query('churn == 1')\n",
    "data_not_gone = data.query('churn == 0')\n",
    "\n",
    "fig, axs= plt.subplots(7,1,figsize=(7,14))\n",
    "\n",
    "list_items = ['contract_period',\n",
    "        'age',\n",
    "        'avg_additional_charges_total',\n",
    "        'month_to_end_contract',\n",
    "        'lifetime',\n",
    "        'avg_class_frequency_total',\n",
    "        'avg_class_frequency_current_month'\n",
    "       ]\n",
    "\n",
    "list_descr = ['Длительность абонемента',\n",
    "        'Возраст (годы)',\n",
    "        'Выручка от дополнений',\n",
    "        'Число месяцев до окончания текущего договора',\n",
    "        'Время с момента первого обращения.',\n",
    "        'Cр частота посещений в неделю за все время',\n",
    "        'Cр частота посещений в неделю за пред месяц'\n",
    "       ]\n",
    "\n",
    "for i in range(0, len(list_items)): \n",
    "   # sign = ] \n",
    "    axs[i].hist(data_not_gone[list_items[i]], bins = 15,label = 'ушедшие') \n",
    "    axs[i].hist(data_gone[list_items[i]], bins = 15, label = 'оставшиеся')\n",
    "    axs[i].set_title(list_descr[i])\n",
    "    axs[i].legend(loc=\"upper right\")\n",
    "    \n",
    "fig.subplots_adjust(left=0.08, right=2, bottom=0.2, top=3,\n",
    "                    hspace=0.3, wspace=0.6)\n",
    "\n",
    "#labels= [\"ушедшие\",\"оставшиеся\"]\n",
    "#plt.legend(handles, labels)\n",
    "plt.show()"
   ]
  },
  {
   "cell_type": "markdown",
   "metadata": {},
   "source": [
    "Уходят люди с короткими абонементами. Клиенты cтарще 33 лет уходят существенно чаще. Подавляющее большинство ушедших имеют срок до окончания договора - 1 месяц. Но этот показатель коррелирует с длительностью абономентов. Оставшиеся занимаются в среднем реже - как на всем периоде, так и в последний месяц перед уходом."
   ]
  },
  {
   "cell_type": "markdown",
   "metadata": {},
   "source": [
    "Построим матрицу корреляций."
   ]
  },
  {
   "cell_type": "code",
   "execution_count": 10,
   "metadata": {},
   "outputs": [
    {
     "data": {
      "image/png": "[encoded data removed]",
      "text/plain": [
       "<Figure size 1080x1080 with 2 Axes>"
      ]
     },
     "metadata": {
      "needs_background": "light"
     },
     "output_type": "display_data"
    }
   ],
   "source": [
    "cm = data.corr()\n",
    "fig, ax = plt.subplots(figsize=(15,15))\n",
    "sns.heatmap(cm, annot=True, square=True)#ваш код здесь\n",
    "ax.set_ylim(\n",
    "    15, 0\n",
    ")  # корректировка \"рваных\" полей heatmap в последней версии библиотеки\n",
    "plt.show()"
   ]
  },
  {
   "cell_type": "markdown",
   "metadata": {},
   "source": [
    "Как отмечалось выше, сильная корреляция между количеством месяцев до окончания договора и длительностью самого договора. Также, сильно коррелирует средняя недельная посещаемость за последний месяц и за весь период."
   ]
  },
  {
   "cell_type": "markdown",
   "metadata": {},
   "source": [
    "<h3>3. Модель прогнозирования оттока клиентов</h3>"
   ]
  },
  {
   "cell_type": "markdown",
   "metadata": {},
   "source": [
    "Строим модель бинарной классификации клиентов. Целевой признак — факт оттока клиента в следующем месяце."
   ]
  },
  {
   "cell_type": "markdown",
   "metadata": {},
   "source": [
    "Разбиваем данные на обучающую и валидационную выборку."
   ]
  },
  {
   "cell_type": "code",
   "execution_count": 11,
   "metadata": {},
   "outputs": [],
   "source": [
    "X = data.drop(columns=['churn'])\n",
    "y = data['churn']\n",
    "X_train, X_test, y_train, y_test = train_test_split(X, y, test_size=0.2, random_state=0)"
   ]
  },
  {
   "cell_type": "code",
   "execution_count": 12,
   "metadata": {},
   "outputs": [
    {
     "data": {
      "text/html": [
       "<div>\n",
       "<style scoped>\n",
       "    .dataframe tbody tr th:only-of-type {\n",
       "        vertical-align: middle;\n",
       "    }\n",
       "\n",
       "    .dataframe tbody tr th {\n",
       "        vertical-align: top;\n",
       "    }\n",
       "\n",
       "    .dataframe thead th {\n",
       "        text-align: right;\n",
       "    }\n",
       "</style>\n",
       "<table border=\"1\" class=\"dataframe\">\n",
       "  <thead>\n",
       "    <tr style=\"text-align: right;\">\n",
       "      <th></th>\n",
       "      <th>gender</th>\n",
       "      <th>near_location</th>\n",
       "      <th>partner</th>\n",
       "      <th>promo_friends</th>\n",
       "      <th>phone</th>\n",
       "      <th>contract_period</th>\n",
       "      <th>group_visits</th>\n",
       "      <th>age</th>\n",
       "      <th>avg_additional_charges_total</th>\n",
       "      <th>month_to_end_contract</th>\n",
       "      <th>lifetime</th>\n",
       "      <th>avg_class_frequency_total</th>\n",
       "      <th>avg_class_frequency_current_month</th>\n",
       "    </tr>\n",
       "  </thead>\n",
       "  <tbody>\n",
       "    <tr>\n",
       "      <th>1161</th>\n",
       "      <td>0</td>\n",
       "      <td>1</td>\n",
       "      <td>1</td>\n",
       "      <td>1</td>\n",
       "      <td>1</td>\n",
       "      <td>12</td>\n",
       "      <td>0</td>\n",
       "      <td>31</td>\n",
       "      <td>183.340029</td>\n",
       "      <td>11</td>\n",
       "      <td>8</td>\n",
       "      <td>3.590505</td>\n",
       "      <td>3.473680</td>\n",
       "    </tr>\n",
       "    <tr>\n",
       "      <th>2355</th>\n",
       "      <td>0</td>\n",
       "      <td>1</td>\n",
       "      <td>0</td>\n",
       "      <td>0</td>\n",
       "      <td>1</td>\n",
       "      <td>1</td>\n",
       "      <td>0</td>\n",
       "      <td>30</td>\n",
       "      <td>40.559417</td>\n",
       "      <td>1</td>\n",
       "      <td>26</td>\n",
       "      <td>1.663034</td>\n",
       "      <td>1.750301</td>\n",
       "    </tr>\n",
       "    <tr>\n",
       "      <th>1831</th>\n",
       "      <td>1</td>\n",
       "      <td>1</td>\n",
       "      <td>1</td>\n",
       "      <td>0</td>\n",
       "      <td>1</td>\n",
       "      <td>12</td>\n",
       "      <td>0</td>\n",
       "      <td>27</td>\n",
       "      <td>32.123604</td>\n",
       "      <td>12</td>\n",
       "      <td>5</td>\n",
       "      <td>1.060272</td>\n",
       "      <td>0.913766</td>\n",
       "    </tr>\n",
       "    <tr>\n",
       "      <th>156</th>\n",
       "      <td>0</td>\n",
       "      <td>1</td>\n",
       "      <td>1</td>\n",
       "      <td>1</td>\n",
       "      <td>1</td>\n",
       "      <td>6</td>\n",
       "      <td>0</td>\n",
       "      <td>26</td>\n",
       "      <td>54.694211</td>\n",
       "      <td>6</td>\n",
       "      <td>9</td>\n",
       "      <td>2.531159</td>\n",
       "      <td>2.446842</td>\n",
       "    </tr>\n",
       "    <tr>\n",
       "      <th>195</th>\n",
       "      <td>0</td>\n",
       "      <td>1</td>\n",
       "      <td>0</td>\n",
       "      <td>0</td>\n",
       "      <td>0</td>\n",
       "      <td>1</td>\n",
       "      <td>0</td>\n",
       "      <td>29</td>\n",
       "      <td>241.701674</td>\n",
       "      <td>1</td>\n",
       "      <td>4</td>\n",
       "      <td>1.690380</td>\n",
       "      <td>1.595065</td>\n",
       "    </tr>\n",
       "    <tr>\n",
       "      <th>...</th>\n",
       "      <td>...</td>\n",
       "      <td>...</td>\n",
       "      <td>...</td>\n",
       "      <td>...</td>\n",
       "      <td>...</td>\n",
       "      <td>...</td>\n",
       "      <td>...</td>\n",
       "      <td>...</td>\n",
       "      <td>...</td>\n",
       "      <td>...</td>\n",
       "      <td>...</td>\n",
       "      <td>...</td>\n",
       "      <td>...</td>\n",
       "    </tr>\n",
       "    <tr>\n",
       "      <th>835</th>\n",
       "      <td>0</td>\n",
       "      <td>0</td>\n",
       "      <td>0</td>\n",
       "      <td>0</td>\n",
       "      <td>0</td>\n",
       "      <td>1</td>\n",
       "      <td>0</td>\n",
       "      <td>31</td>\n",
       "      <td>139.665457</td>\n",
       "      <td>1</td>\n",
       "      <td>3</td>\n",
       "      <td>2.104185</td>\n",
       "      <td>2.144784</td>\n",
       "    </tr>\n",
       "    <tr>\n",
       "      <th>3264</th>\n",
       "      <td>1</td>\n",
       "      <td>1</td>\n",
       "      <td>1</td>\n",
       "      <td>1</td>\n",
       "      <td>0</td>\n",
       "      <td>12</td>\n",
       "      <td>1</td>\n",
       "      <td>34</td>\n",
       "      <td>232.148448</td>\n",
       "      <td>10</td>\n",
       "      <td>9</td>\n",
       "      <td>1.330589</td>\n",
       "      <td>1.273503</td>\n",
       "    </tr>\n",
       "    <tr>\n",
       "      <th>1653</th>\n",
       "      <td>0</td>\n",
       "      <td>1</td>\n",
       "      <td>0</td>\n",
       "      <td>0</td>\n",
       "      <td>1</td>\n",
       "      <td>1</td>\n",
       "      <td>0</td>\n",
       "      <td>25</td>\n",
       "      <td>179.043886</td>\n",
       "      <td>1</td>\n",
       "      <td>3</td>\n",
       "      <td>1.128035</td>\n",
       "      <td>1.155351</td>\n",
       "    </tr>\n",
       "    <tr>\n",
       "      <th>2607</th>\n",
       "      <td>1</td>\n",
       "      <td>1</td>\n",
       "      <td>0</td>\n",
       "      <td>0</td>\n",
       "      <td>1</td>\n",
       "      <td>1</td>\n",
       "      <td>1</td>\n",
       "      <td>28</td>\n",
       "      <td>7.614528</td>\n",
       "      <td>1</td>\n",
       "      <td>2</td>\n",
       "      <td>1.920819</td>\n",
       "      <td>1.737227</td>\n",
       "    </tr>\n",
       "    <tr>\n",
       "      <th>2732</th>\n",
       "      <td>1</td>\n",
       "      <td>1</td>\n",
       "      <td>0</td>\n",
       "      <td>0</td>\n",
       "      <td>1</td>\n",
       "      <td>12</td>\n",
       "      <td>1</td>\n",
       "      <td>27</td>\n",
       "      <td>208.140775</td>\n",
       "      <td>11</td>\n",
       "      <td>7</td>\n",
       "      <td>2.323108</td>\n",
       "      <td>2.396562</td>\n",
       "    </tr>\n",
       "  </tbody>\n",
       "</table>\n",
       "<p>3200 rows × 13 columns</p>\n",
       "</div>"
      ],
      "text/plain": [
       "      gender  near_location  partner  promo_friends  phone  contract_period  \\\n",
       "1161       0              1        1              1      1               12   \n",
       "2355       0              1        0              0      1                1   \n",
       "1831       1              1        1              0      1               12   \n",
       "156        0              1        1              1      1                6   \n",
       "195        0              1        0              0      0                1   \n",
       "...      ...            ...      ...            ...    ...              ...   \n",
       "835        0              0        0              0      0                1   \n",
       "3264       1              1        1              1      0               12   \n",
       "1653       0              1        0              0      1                1   \n",
       "2607       1              1        0              0      1                1   \n",
       "2732       1              1        0              0      1               12   \n",
       "\n",
       "      group_visits  age  avg_additional_charges_total  month_to_end_contract  \\\n",
       "1161             0   31                    183.340029                     11   \n",
       "2355             0   30                     40.559417                      1   \n",
       "1831             0   27                     32.123604                     12   \n",
       "156              0   26                     54.694211                      6   \n",
       "195              0   29                    241.701674                      1   \n",
       "...            ...  ...                           ...                    ...   \n",
       "835              0   31                    139.665457                      1   \n",
       "3264             1   34                    232.148448                     10   \n",
       "1653             0   25                    179.043886                      1   \n",
       "2607             1   28                      7.614528                      1   \n",
       "2732             1   27                    208.140775                     11   \n",
       "\n",
       "      lifetime  avg_class_frequency_total  avg_class_frequency_current_month  \n",
       "1161         8                   3.590505                           3.473680  \n",
       "2355        26                   1.663034                           1.750301  \n",
       "1831         5                   1.060272                           0.913766  \n",
       "156          9                   2.531159                           2.446842  \n",
       "195          4                   1.690380                           1.595065  \n",
       "...        ...                        ...                                ...  \n",
       "835          3                   2.104185                           2.144784  \n",
       "3264         9                   1.330589                           1.273503  \n",
       "1653         3                   1.128035                           1.155351  \n",
       "2607         2                   1.920819                           1.737227  \n",
       "2732         7                   2.323108                           2.396562  \n",
       "\n",
       "[3200 rows x 13 columns]"
      ]
     },
     "execution_count": 12,
     "metadata": {},
     "output_type": "execute_result"
    }
   ],
   "source": [
    "X_train"
   ]
  },
  {
   "cell_type": "markdown",
   "metadata": {},
   "source": [
    "Обучаем модель логистической регрессией:"
   ]
  },
  {
   "cell_type": "code",
   "execution_count": 13,
   "metadata": {},
   "outputs": [],
   "source": [
    "model = LogisticRegression(solver='liblinear',random_state=0)\n",
    "model.fit(X_train, y_train)\n",
    "predictions = model.predict(X_test)\n",
    "probabilities = model.predict_proba(X_test)[:,1]"
   ]
  },
  {
   "cell_type": "code",
   "execution_count": 14,
   "metadata": {},
   "outputs": [
    {
     "name": "stdout",
     "output_type": "stream",
     "text": [
      "Accuracy: 0.93\n",
      "Precision: 0.86\n",
      "Recall: 0.83\n",
      "F1: 0.85\n"
     ]
    }
   ],
   "source": [
    "print('Accuracy: {:.2f}'.format(accuracy_score(y_test, predictions)))\n",
    "print('Precision: {:.2f}'.format(precision_score(y_test, predictions)))\n",
    "print('Recall: {:.2f}'.format(recall_score(y_test, predictions)))\n",
    "print('F1: {:.2f}'.format(f1_score(y_test, predictions)))"
   ]
  },
  {
   "cell_type": "markdown",
   "metadata": {},
   "source": [
    "Обучаем модель случайным лесом:"
   ]
  },
  {
   "cell_type": "code",
   "execution_count": 15,
   "metadata": {},
   "outputs": [
    {
     "name": "stdout",
     "output_type": "stream",
     "text": [
      "Accuracy: 0.92\n",
      "Precision: 0.84\n",
      "Recall: 0.82\n",
      "F1: 0.83\n"
     ]
    }
   ],
   "source": [
    "rf_model = RandomForestClassifier(n_estimators = 100, random_state = 0)\n",
    "rf_model.fit(X_train, y_train)\n",
    "rf_predictions = rf_model.predict(X_test)\n",
    "rf_probabilities = rf_model.predict_proba(X_test)[:, 1]\n",
    "\n",
    "print('Accuracy: {:.2f}'.format(accuracy_score(y_test, rf_predictions)))\n",
    "print('Precision: {:.2f}'.format(precision_score(y_test, rf_predictions)))\n",
    "print('Recall: {:.2f}'.format(recall_score(y_test, rf_predictions)))\n",
    "print('F1: {:.2f}'.format(f1_score(y_test, rf_predictions)))"
   ]
  },
  {
   "cell_type": "markdown",
   "metadata": {},
   "source": [
    "По доле правильных ответов модель логистической регрессии выигрывает у модели Случайного леса. По доле правильных ответов среди целевого класса модель Случайного леса также проигрывает. Метрики \"Recall\" и \"F1\" у модели случайного леса также ниже. На основании метрик лучше себя показывает модель Логистической регрессии. "
   ]
  },
  {
   "cell_type": "markdown",
   "metadata": {},
   "source": [
    "<h3>4. Кластеризация клиентов</h3>"
   ]
  },
  {
   "cell_type": "markdown",
   "metadata": {},
   "source": [
    "Стандартизируем данные"
   ]
  },
  {
   "cell_type": "code",
   "execution_count": 16,
   "metadata": {},
   "outputs": [],
   "source": [
    "scaler = StandardScaler() # создаём объект класса scaler (нормализатор)\n",
    "x_sc = scaler.fit_transform(data.drop(columns = ['churn']))"
   ]
  },
  {
   "cell_type": "markdown",
   "metadata": {},
   "source": [
    "Построим матрицу расстояний и дендрограмму"
   ]
  },
  {
   "cell_type": "code",
   "execution_count": 17,
   "metadata": {},
   "outputs": [
    {
     "data": {
      "image/png": "[encoded data removed]",
      "text/plain": [
       "<Figure size 1080x720 with 1 Axes>"
      ]
     },
     "metadata": {
      "needs_background": "light"
     },
     "output_type": "display_data"
    }
   ],
   "source": [
    "linked = linkage(x_sc, method = 'ward')\n",
    "plt.figure(figsize=(15, 10))  \n",
    "dendrogram(linked, orientation='top')\n",
    "plt.title('Hierarchial clustering for GYM')\n",
    "plt.show() "
   ]
  },
  {
   "cell_type": "markdown",
   "metadata": {},
   "source": [
    "Предложенное оптимальное число кластеров - четыре. В соответствии с заданием проекта принимаем пять."
   ]
  },
  {
   "cell_type": "markdown",
   "metadata": {},
   "source": [
    "Обучим модель кластеризации на основании алгоритма K-means."
   ]
  },
  {
   "cell_type": "code",
   "execution_count": 18,
   "metadata": {},
   "outputs": [
    {
     "data": {
      "text/html": [
       "<div>\n",
       "<style scoped>\n",
       "    .dataframe tbody tr th:only-of-type {\n",
       "        vertical-align: middle;\n",
       "    }\n",
       "\n",
       "    .dataframe tbody tr th {\n",
       "        vertical-align: top;\n",
       "    }\n",
       "\n",
       "    .dataframe thead th {\n",
       "        text-align: right;\n",
       "    }\n",
       "</style>\n",
       "<table border=\"1\" class=\"dataframe\">\n",
       "  <thead>\n",
       "    <tr style=\"text-align: right;\">\n",
       "      <th>cluster_km</th>\n",
       "      <th>0</th>\n",
       "      <th>1</th>\n",
       "      <th>2</th>\n",
       "      <th>3</th>\n",
       "      <th>4</th>\n",
       "    </tr>\n",
       "  </thead>\n",
       "  <tbody>\n",
       "    <tr>\n",
       "      <th>gender</th>\n",
       "      <td>0.502970</td>\n",
       "      <td>0.522078</td>\n",
       "      <td>0.495050</td>\n",
       "      <td>0.485737</td>\n",
       "      <td>0.559666</td>\n",
       "    </tr>\n",
       "    <tr>\n",
       "      <th>near_location</th>\n",
       "      <td>0.959406</td>\n",
       "      <td>0.862338</td>\n",
       "      <td>0.000000</td>\n",
       "      <td>1.000000</td>\n",
       "      <td>0.976134</td>\n",
       "    </tr>\n",
       "    <tr>\n",
       "      <th>partner</th>\n",
       "      <td>0.783168</td>\n",
       "      <td>0.470130</td>\n",
       "      <td>0.463366</td>\n",
       "      <td>0.350238</td>\n",
       "      <td>0.356802</td>\n",
       "    </tr>\n",
       "    <tr>\n",
       "      <th>promo_friends</th>\n",
       "      <td>0.574257</td>\n",
       "      <td>0.306494</td>\n",
       "      <td>0.079208</td>\n",
       "      <td>0.240095</td>\n",
       "      <td>0.230310</td>\n",
       "    </tr>\n",
       "    <tr>\n",
       "      <th>phone</th>\n",
       "      <td>1.000000</td>\n",
       "      <td>0.000000</td>\n",
       "      <td>1.000000</td>\n",
       "      <td>1.000000</td>\n",
       "      <td>0.998807</td>\n",
       "    </tr>\n",
       "    <tr>\n",
       "      <th>contract_period</th>\n",
       "      <td>10.889109</td>\n",
       "      <td>4.787013</td>\n",
       "      <td>2.352475</td>\n",
       "      <td>1.948494</td>\n",
       "      <td>2.669451</td>\n",
       "    </tr>\n",
       "    <tr>\n",
       "      <th>group_visits</th>\n",
       "      <td>0.542574</td>\n",
       "      <td>0.425974</td>\n",
       "      <td>0.215842</td>\n",
       "      <td>0.341521</td>\n",
       "      <td>0.473747</td>\n",
       "    </tr>\n",
       "    <tr>\n",
       "      <th>age</th>\n",
       "      <td>29.982178</td>\n",
       "      <td>29.301299</td>\n",
       "      <td>28.477228</td>\n",
       "      <td>28.167987</td>\n",
       "      <td>30.125298</td>\n",
       "    </tr>\n",
       "    <tr>\n",
       "      <th>avg_additional_charges_total</th>\n",
       "      <td>160.761016</td>\n",
       "      <td>143.957664</td>\n",
       "      <td>135.457501</td>\n",
       "      <td>131.622204</td>\n",
       "      <td>161.657905</td>\n",
       "    </tr>\n",
       "    <tr>\n",
       "      <th>month_to_end_contract</th>\n",
       "      <td>9.954455</td>\n",
       "      <td>4.475325</td>\n",
       "      <td>2.198020</td>\n",
       "      <td>1.856577</td>\n",
       "      <td>2.459427</td>\n",
       "    </tr>\n",
       "    <tr>\n",
       "      <th>lifetime</th>\n",
       "      <td>4.736634</td>\n",
       "      <td>3.924675</td>\n",
       "      <td>2.809901</td>\n",
       "      <td>2.440571</td>\n",
       "      <td>4.898568</td>\n",
       "    </tr>\n",
       "    <tr>\n",
       "      <th>avg_class_frequency_total</th>\n",
       "      <td>1.982055</td>\n",
       "      <td>1.847220</td>\n",
       "      <td>1.660461</td>\n",
       "      <td>1.247634</td>\n",
       "      <td>2.852002</td>\n",
       "    </tr>\n",
       "    <tr>\n",
       "      <th>avg_class_frequency_current_month</th>\n",
       "      <td>1.974789</td>\n",
       "      <td>1.716369</td>\n",
       "      <td>1.477324</td>\n",
       "      <td>1.012983</td>\n",
       "      <td>2.850161</td>\n",
       "    </tr>\n",
       "    <tr>\n",
       "      <th>churn</th>\n",
       "      <td>0.027723</td>\n",
       "      <td>0.267532</td>\n",
       "      <td>0.443564</td>\n",
       "      <td>0.514263</td>\n",
       "      <td>0.068019</td>\n",
       "    </tr>\n",
       "  </tbody>\n",
       "</table>\n",
       "</div>"
      ],
      "text/plain": [
       "cluster_km                                  0           1           2  \\\n",
       "gender                               0.502970    0.522078    0.495050   \n",
       "near_location                        0.959406    0.862338    0.000000   \n",
       "partner                              0.783168    0.470130    0.463366   \n",
       "promo_friends                        0.574257    0.306494    0.079208   \n",
       "phone                                1.000000    0.000000    1.000000   \n",
       "contract_period                     10.889109    4.787013    2.352475   \n",
       "group_visits                         0.542574    0.425974    0.215842   \n",
       "age                                 29.982178   29.301299   28.477228   \n",
       "avg_additional_charges_total       160.761016  143.957664  135.457501   \n",
       "month_to_end_contract                9.954455    4.475325    2.198020   \n",
       "lifetime                             4.736634    3.924675    2.809901   \n",
       "avg_class_frequency_total            1.982055    1.847220    1.660461   \n",
       "avg_class_frequency_current_month    1.974789    1.716369    1.477324   \n",
       "churn                                0.027723    0.267532    0.443564   \n",
       "\n",
       "cluster_km                                  3           4  \n",
       "gender                               0.485737    0.559666  \n",
       "near_location                        1.000000    0.976134  \n",
       "partner                              0.350238    0.356802  \n",
       "promo_friends                        0.240095    0.230310  \n",
       "phone                                1.000000    0.998807  \n",
       "contract_period                      1.948494    2.669451  \n",
       "group_visits                         0.341521    0.473747  \n",
       "age                                 28.167987   30.125298  \n",
       "avg_additional_charges_total       131.622204  161.657905  \n",
       "month_to_end_contract                1.856577    2.459427  \n",
       "lifetime                             2.440571    4.898568  \n",
       "avg_class_frequency_total            1.247634    2.852002  \n",
       "avg_class_frequency_current_month    1.012983    2.850161  \n",
       "churn                                0.514263    0.068019  "
      ]
     },
     "metadata": {},
     "output_type": "display_data"
    }
   ],
   "source": [
    "km = KMeans(n_clusters=5, random_state=0) # задаём число кластеров, равное 5, и фиксируем значение random_state для воспроизводимости результата\n",
    "labels = km.fit_predict(x_sc)\n",
    "data['cluster_km'] = labels\n",
    "clusters = data.groupby(['cluster_km']).mean()\n",
    "display(clusters.T)"
   ]
  },
  {
   "cell_type": "markdown",
   "metadata": {},
   "source": [
    "Можно заметить следующее: 1) У кластеров 0 и 4 среднее значение оттока на порядок ниже, чем у остальных кластеров 2) При этом у кластера номер 0 (самый низкий отток) - наиболее длинные абонементы. 3) По среднему возрасту кластеры почти не отличаются 4) В кластере номер 2 абсолютно никто не живет в одном районе с фитнес-центром. В кластере 3 - наоборот, все живут в районе фитнес-центра. При этом по оттоку кластеры 2 и 3 сушественно не отличаются. 5) Из кластера 2 (не из района) почти никто из пользователей не был приведем другом по акции. "
   ]
  },
  {
   "cell_type": "markdown",
   "metadata": {},
   "source": [
    "Построим распределения признаков для кластеров."
   ]
  },
  {
   "cell_type": "code",
   "execution_count": 20,
   "metadata": {},
   "outputs": [
    {
     "data": {
      "image/png": "[encoded data removed]",
      "text/plain": [
       "<Figure size 720x3600 with 7 Axes>"
      ]
     },
     "metadata": {
      "needs_background": "light"
     },
     "output_type": "display_data"
    }
   ],
   "source": [
    "clusters.reset_index(inplace = True)\n",
    "fig, axs= plt.subplots(7,1,figsize=(10,50))\n",
    "\n",
    "title = ['Абонемент, мес', \n",
    "         'Возраст, г.',\n",
    "         'Доп. выручка, р',\n",
    "         'До оконч договора, мес',\n",
    "         'Лайфтайм, мес',\n",
    "         'Ср посещ нед',\n",
    "         'Ср пос нед посл месяц']\n",
    "items = ['contract_period',\n",
    "         'age',\n",
    "         'avg_additional_charges_total',\n",
    "         'month_to_end_contract',\n",
    "         'lifetime',\n",
    "         'avg_class_frequency_total',\n",
    "         'avg_class_frequency_current_month'\n",
    "         ]\n",
    "\n",
    "sns.barplot(data = clusters, x ='cluster_km' ,y = 'age')\n",
    "\n",
    "for i in range(0,7):\n",
    "    sns.barplot(ax = axs[i], data = clusters, x ='cluster_km' ,y = items[i])\n",
    "    axs[i].set_title(title[i])       "
   ]
  },
  {
   "cell_type": "markdown",
   "metadata": {},
   "source": [
    "Анализ гистограм и средних значений можно кластерам дать названия - характеристики"
   ]
  },
  {
   "cell_type": "markdown",
   "metadata": {},
   "source": [
    "Кластер 0 - длинные абонементы;\n",
    "Кластер 1 - не указавшие телефон;\n",
    "Кластер 2 - \"не местные\";\n",
    "Кластер 3 - \"местные\";\n",
    "Кластер 4 - остальные."
   ]
  },
  {
   "cell_type": "markdown",
   "metadata": {},
   "source": [
    "Рассчитаем долю оттока для каждого кластера"
   ]
  },
  {
   "cell_type": "code",
   "execution_count": null,
   "metadata": {},
   "outputs": [],
   "source": [
    "clusters_churn = data.groupby('cluster_km').mean()\n",
    "clusters_churn = pd.DataFrame(clusters_churn['churn']).reset_index().rename(columns = {'cluster_km':'Кластер','churn':'Доля Оттока'})\n",
    "display(clusters_churn.set_index('Кластер'))"
   ]
  },
  {
   "cell_type": "markdown",
   "metadata": {},
   "source": [
    "Доля оттока повторят средние значения, выведенные выше. Вывод: кластеры 0 (длинные абонементы) и 4 (местные)\n",
    "    по оттоку отстают от остальных классов на порядок. "
   ]
  },
  {
   "cell_type": "markdown",
   "metadata": {},
   "source": [
    "<h3>5. Выводы и рекомедации</h3>"
   ]
  },
  {
   "cell_type": "markdown",
   "metadata": {},
   "source": [
    "Клиенты с длинными абонементами уходят значительно реже остальных категорий. Следовательно, имеет смысл работать над оттоком в других группах (кластерах)."
   ]
  },
  {
   "cell_type": "markdown",
   "metadata": {},
   "source": [
    "Cтоит обратить внимание на то, что по оттоку лидируют \"местные\". Вероятно, их низкая лояльность обусловлена ротацией между соседними клубами (месяц позанимался - и ушел к соседу, так как оба рядом). \n",
    "\n",
    "Соответственно, следует проанализировать политику близко расположенных конкурентов и разработать \"маркетинговые действия\" (акции, специальные предложения). Также стоит рассмотреть изменения \"продукта\", предложив услуги, которых нет у соседей (особые тренажеры или групповые занятия). "
   ]
  },
  {
   "cell_type": "markdown",
   "metadata": {},
   "source": [
    "У \"местных\" (кластер 3) распределение возраста смещено в сторону более высоких значений. Следовательно, имеет смысл сделать специальные предложения и провести маркетинговые мероприятия, нацеленные на местную \"молодежь\".\n",
    "\"Не местные\" (кластер 2) слабо посещают групповые занятия. Стоит попробовать их привлечь.\n"
   ]
  },
  {
   "cell_type": "markdown",
   "metadata": {},
   "source": [
    "Также, у \"местных\" самая низкая посещаемость. Еще один аргумент в пользу того, что следует спланировать маркетинговые мероприятия для них и \"отстроиться\" от конкурентов-соседей."
   ]
  }
 ],
 "metadata": {
  "ExecuteTimeLog": [
   {
    "duration": 1518,
    "start_time": "2022-08-21T06:02:15.060Z"
   },
   {
    "duration": 92,
    "start_time": "2022-08-21T06:02:38.024Z"
   },
   {
    "duration": 33,
    "start_time": "2022-08-21T06:02:56.506Z"
   },
   {
    "duration": 57,
    "start_time": "2022-08-21T06:03:28.693Z"
   },
   {
    "duration": 1394,
    "start_time": "2022-08-22T08:45:51.871Z"
   },
   {
    "duration": 32,
    "start_time": "2022-08-22T08:45:53.267Z"
   },
   {
    "duration": 9,
    "start_time": "2022-08-22T08:45:53.300Z"
   },
   {
    "duration": 2,
    "start_time": "2022-08-22T08:45:53.311Z"
   },
   {
    "duration": 11,
    "start_time": "2022-08-22T08:45:53.315Z"
   },
   {
    "duration": 5,
    "start_time": "2022-08-22T08:45:53.328Z"
   },
   {
    "duration": 40,
    "start_time": "2022-08-22T08:45:53.334Z"
   },
   {
    "duration": 33,
    "start_time": "2022-08-22T08:45:53.376Z"
   },
   {
    "duration": 1525,
    "start_time": "2022-08-22T08:45:53.411Z"
   },
   {
    "duration": 1291,
    "start_time": "2022-08-22T08:45:54.938Z"
   },
   {
    "duration": 8,
    "start_time": "2022-08-22T08:45:56.231Z"
   },
   {
    "duration": 65,
    "start_time": "2022-08-22T08:45:56.242Z"
   },
   {
    "duration": 99,
    "start_time": "2022-08-22T08:45:56.308Z"
   },
   {
    "duration": 386,
    "start_time": "2022-08-22T08:45:56.409Z"
   },
   {
    "duration": 13,
    "start_time": "2022-08-22T08:45:56.797Z"
   },
   {
    "duration": 97878,
    "start_time": "2022-08-22T08:45:56.811Z"
   },
   {
    "duration": 1125,
    "start_time": "2022-08-22T08:47:34.691Z"
   },
   {
    "duration": 3068,
    "start_time": "2022-08-22T08:47:35.907Z"
   },
   {
    "duration": 11,
    "start_time": "2022-08-22T08:47:38.976Z"
   },
   {
    "duration": 98,
    "start_time": "2022-08-22T08:47:38.988Z"
   },
   {
    "duration": 89,
    "start_time": "2022-08-22T09:19:50.987Z"
   },
   {
    "duration": 1567,
    "start_time": "2022-08-22T09:19:56.576Z"
   },
   {
    "duration": 70,
    "start_time": "2022-08-22T09:19:58.861Z"
   },
   {
    "duration": 9,
    "start_time": "2022-08-22T09:20:00.229Z"
   },
   {
    "duration": 133,
    "start_time": "2022-08-22T09:23:12.571Z"
   },
   {
    "duration": 1461,
    "start_time": "2022-08-22T09:23:26.650Z"
   },
   {
    "duration": 31,
    "start_time": "2022-08-22T09:23:28.113Z"
   },
   {
    "duration": 8,
    "start_time": "2022-08-22T09:23:28.146Z"
   },
   {
    "duration": 3,
    "start_time": "2022-08-22T09:23:28.956Z"
   },
   {
    "duration": 11,
    "start_time": "2022-08-22T09:23:29.153Z"
   },
   {
    "duration": 4,
    "start_time": "2022-08-22T09:23:29.560Z"
   },
   {
    "duration": 40,
    "start_time": "2022-08-22T09:23:30.408Z"
   },
   {
    "duration": 10,
    "start_time": "2022-08-22T09:23:32.036Z"
   },
   {
    "duration": 1258,
    "start_time": "2022-08-22T09:23:37.341Z"
   },
   {
    "duration": 6,
    "start_time": "2022-08-22T09:23:42.806Z"
   },
   {
    "duration": 13,
    "start_time": "2022-08-22T09:23:48.208Z"
   },
   {
    "duration": 31,
    "start_time": "2022-08-22T09:25:39.645Z"
   },
   {
    "duration": 10,
    "start_time": "2022-08-22T09:25:39.822Z"
   },
   {
    "duration": 11,
    "start_time": "2022-08-22T09:25:52.685Z"
   },
   {
    "duration": 10,
    "start_time": "2022-08-22T09:26:21.346Z"
   },
   {
    "duration": 119,
    "start_time": "2022-08-22T09:26:41.870Z"
   },
   {
    "duration": 5,
    "start_time": "2022-08-22T09:26:44.359Z"
   },
   {
    "duration": 16,
    "start_time": "2022-08-22T09:26:44.564Z"
   },
   {
    "duration": 8,
    "start_time": "2022-08-22T09:26:54.563Z"
   },
   {
    "duration": 1592,
    "start_time": "2022-08-22T09:27:18.766Z"
   },
   {
    "duration": 32,
    "start_time": "2022-08-22T09:27:20.360Z"
   },
   {
    "duration": 8,
    "start_time": "2022-08-22T09:27:20.394Z"
   },
   {
    "duration": 9,
    "start_time": "2022-08-22T09:27:20.403Z"
   },
   {
    "duration": 15,
    "start_time": "2022-08-22T09:27:20.414Z"
   },
   {
    "duration": 3,
    "start_time": "2022-08-22T09:27:20.430Z"
   },
   {
    "duration": 43,
    "start_time": "2022-08-22T09:27:20.434Z"
   },
   {
    "duration": 10,
    "start_time": "2022-08-22T09:27:20.479Z"
   },
   {
    "duration": 1589,
    "start_time": "2022-08-22T09:27:20.490Z"
   },
   {
    "duration": 1363,
    "start_time": "2022-08-22T09:27:22.080Z"
   },
   {
    "duration": 6,
    "start_time": "2022-08-22T09:27:23.445Z"
   },
   {
    "duration": 15,
    "start_time": "2022-08-22T09:27:23.453Z"
   },
   {
    "duration": 42,
    "start_time": "2022-08-22T09:27:23.470Z"
   },
   {
    "duration": 97,
    "start_time": "2022-08-22T09:27:23.515Z"
   },
   {
    "duration": 468,
    "start_time": "2022-08-22T09:27:23.614Z"
   },
   {
    "duration": 8,
    "start_time": "2022-08-22T09:27:24.084Z"
   },
   {
    "duration": 46930,
    "start_time": "2022-08-22T09:27:24.094Z"
   },
   {
    "duration": 0,
    "start_time": "2022-08-22T09:28:11.025Z"
   },
   {
    "duration": 0,
    "start_time": "2022-08-22T09:28:11.026Z"
   },
   {
    "duration": 0,
    "start_time": "2022-08-22T09:28:11.028Z"
   },
   {
    "duration": 0,
    "start_time": "2022-08-22T09:28:11.029Z"
   },
   {
    "duration": 3,
    "start_time": "2022-08-22T09:28:14.821Z"
   },
   {
    "duration": 1166,
    "start_time": "2022-08-22T09:28:18.348Z"
   },
   {
    "duration": 2845,
    "start_time": "2022-08-22T09:28:19.516Z"
   },
   {
    "duration": 11,
    "start_time": "2022-08-22T09:28:22.363Z"
   },
   {
    "duration": 105,
    "start_time": "2022-08-22T09:28:22.375Z"
   },
   {
    "duration": 91,
    "start_time": "2022-08-22T12:46:38.232Z"
   },
   {
    "duration": 1716,
    "start_time": "2022-08-22T12:46:47.566Z"
   },
   {
    "duration": 149,
    "start_time": "2022-08-22T12:46:49.285Z"
   },
   {
    "duration": 11,
    "start_time": "2022-08-22T12:46:49.436Z"
   },
   {
    "duration": 3,
    "start_time": "2022-08-22T12:46:49.449Z"
   },
   {
    "duration": 14,
    "start_time": "2022-08-22T12:46:49.454Z"
   },
   {
    "duration": 4,
    "start_time": "2022-08-22T12:46:49.470Z"
   },
   {
    "duration": 51,
    "start_time": "2022-08-22T12:46:49.475Z"
   },
   {
    "duration": 13,
    "start_time": "2022-08-22T12:46:49.528Z"
   },
   {
    "duration": 1830,
    "start_time": "2022-08-22T12:46:49.543Z"
   },
   {
    "duration": 1591,
    "start_time": "2022-08-22T12:46:51.376Z"
   },
   {
    "duration": 8,
    "start_time": "2022-08-22T12:46:52.970Z"
   },
   {
    "duration": 27,
    "start_time": "2022-08-22T12:46:52.980Z"
   },
   {
    "duration": 29,
    "start_time": "2022-08-22T12:46:53.009Z"
   },
   {
    "duration": 12,
    "start_time": "2022-08-22T12:46:53.094Z"
   },
   {
    "duration": 431,
    "start_time": "2022-08-22T12:46:53.193Z"
   },
   {
    "duration": 10,
    "start_time": "2022-08-22T12:46:53.626Z"
   },
   {
    "duration": 1487,
    "start_time": "2022-08-22T12:47:50.018Z"
   },
   {
    "duration": 35,
    "start_time": "2022-08-22T12:47:51.507Z"
   },
   {
    "duration": 10,
    "start_time": "2022-08-22T12:47:51.543Z"
   },
   {
    "duration": 3,
    "start_time": "2022-08-22T12:47:51.555Z"
   },
   {
    "duration": 15,
    "start_time": "2022-08-22T12:47:51.560Z"
   },
   {
    "duration": 4,
    "start_time": "2022-08-22T12:47:51.577Z"
   },
   {
    "duration": 46,
    "start_time": "2022-08-22T12:47:51.583Z"
   },
   {
    "duration": 11,
    "start_time": "2022-08-22T12:47:51.632Z"
   },
   {
    "duration": 1808,
    "start_time": "2022-08-22T12:47:51.645Z"
   },
   {
    "duration": 1590,
    "start_time": "2022-08-22T12:47:53.455Z"
   },
   {
    "duration": 7,
    "start_time": "2022-08-22T12:47:55.047Z"
   },
   {
    "duration": 21,
    "start_time": "2022-08-22T12:47:55.056Z"
   },
   {
    "duration": 105,
    "start_time": "2022-08-22T12:47:55.093Z"
   },
   {
    "duration": 102,
    "start_time": "2022-08-22T12:47:55.292Z"
   },
   {
    "duration": 412,
    "start_time": "2022-08-22T12:47:55.396Z"
   },
   {
    "duration": 10,
    "start_time": "2022-08-22T12:47:55.810Z"
   },
   {
    "duration": 1407,
    "start_time": "2022-08-22T12:48:48.623Z"
   },
   {
    "duration": 35,
    "start_time": "2022-08-22T12:48:50.032Z"
   },
   {
    "duration": 10,
    "start_time": "2022-08-22T12:48:50.069Z"
   },
   {
    "duration": 20,
    "start_time": "2022-08-22T12:48:50.080Z"
   },
   {
    "duration": 19,
    "start_time": "2022-08-22T12:48:50.103Z"
   },
   {
    "duration": 4,
    "start_time": "2022-08-22T12:48:50.123Z"
   },
   {
    "duration": 56,
    "start_time": "2022-08-22T12:48:50.129Z"
   },
   {
    "duration": 15,
    "start_time": "2022-08-22T12:48:50.186Z"
   },
   {
    "duration": 1531,
    "start_time": "2022-08-22T12:48:50.202Z"
   },
   {
    "duration": 1502,
    "start_time": "2022-08-22T12:48:51.735Z"
   },
   {
    "duration": 9,
    "start_time": "2022-08-22T12:48:53.239Z"
   },
   {
    "duration": 21,
    "start_time": "2022-08-22T12:48:53.250Z"
   },
   {
    "duration": 47,
    "start_time": "2022-08-22T12:48:53.272Z"
   },
   {
    "duration": 75,
    "start_time": "2022-08-22T12:48:53.322Z"
   },
   {
    "duration": 490,
    "start_time": "2022-08-22T12:48:53.399Z"
   },
   {
    "duration": 9,
    "start_time": "2022-08-22T12:48:53.892Z"
   },
   {
    "duration": 1534,
    "start_time": "2022-08-22T12:49:58.390Z"
   },
   {
    "duration": 35,
    "start_time": "2022-08-22T12:49:59.926Z"
   },
   {
    "duration": 10,
    "start_time": "2022-08-22T12:49:59.962Z"
   },
   {
    "duration": 9,
    "start_time": "2022-08-22T12:49:59.974Z"
   },
   {
    "duration": 36,
    "start_time": "2022-08-22T12:49:59.986Z"
   },
   {
    "duration": 4,
    "start_time": "2022-08-22T12:50:00.024Z"
   },
   {
    "duration": 61,
    "start_time": "2022-08-22T12:50:00.029Z"
   },
   {
    "duration": 14,
    "start_time": "2022-08-22T12:50:00.091Z"
   },
   {
    "duration": 614,
    "start_time": "2022-08-22T12:50:00.107Z"
   },
   {
    "duration": 0,
    "start_time": "2022-08-22T12:50:00.723Z"
   },
   {
    "duration": 0,
    "start_time": "2022-08-22T12:50:00.724Z"
   },
   {
    "duration": 0,
    "start_time": "2022-08-22T12:50:00.726Z"
   },
   {
    "duration": 0,
    "start_time": "2022-08-22T12:50:00.727Z"
   },
   {
    "duration": 0,
    "start_time": "2022-08-22T12:50:00.728Z"
   },
   {
    "duration": 0,
    "start_time": "2022-08-22T12:50:00.730Z"
   },
   {
    "duration": 0,
    "start_time": "2022-08-22T12:50:00.731Z"
   },
   {
    "duration": 0,
    "start_time": "2022-08-22T12:50:00.732Z"
   },
   {
    "duration": 0,
    "start_time": "2022-08-22T12:50:00.733Z"
   },
   {
    "duration": 0,
    "start_time": "2022-08-22T12:50:00.735Z"
   },
   {
    "duration": 0,
    "start_time": "2022-08-22T12:50:00.736Z"
   },
   {
    "duration": 1119,
    "start_time": "2022-08-22T12:51:19.294Z"
   },
   {
    "duration": 1043,
    "start_time": "2022-08-22T12:51:34.926Z"
   },
   {
    "duration": 1068,
    "start_time": "2022-08-22T12:51:45.364Z"
   },
   {
    "duration": 992,
    "start_time": "2022-08-22T12:53:28.329Z"
   },
   {
    "duration": 1158,
    "start_time": "2022-08-22T12:53:42.932Z"
   },
   {
    "duration": 137,
    "start_time": "2022-08-22T13:01:19.454Z"
   },
   {
    "duration": 486,
    "start_time": "2022-08-22T13:02:13.865Z"
   },
   {
    "duration": 75,
    "start_time": "2022-08-22T13:02:36.554Z"
   },
   {
    "duration": 5,
    "start_time": "2022-08-22T13:02:48.762Z"
   },
   {
    "duration": 465,
    "start_time": "2022-08-22T13:02:51.967Z"
   },
   {
    "duration": 466,
    "start_time": "2022-08-22T13:03:09.727Z"
   },
   {
    "duration": 79,
    "start_time": "2022-08-22T13:04:06.419Z"
   },
   {
    "duration": 572,
    "start_time": "2022-08-22T13:04:10.695Z"
   },
   {
    "duration": 462,
    "start_time": "2022-08-22T13:04:16.618Z"
   },
   {
    "duration": 8052,
    "start_time": "2022-08-22T13:04:47.775Z"
   },
   {
    "duration": 4654,
    "start_time": "2022-08-22T13:05:24.012Z"
   },
   {
    "duration": 4800,
    "start_time": "2022-08-22T13:05:57.935Z"
   },
   {
    "duration": 688,
    "start_time": "2022-08-22T13:06:20.131Z"
   },
   {
    "duration": 1024,
    "start_time": "2022-08-22T13:06:35.447Z"
   },
   {
    "duration": 126,
    "start_time": "2022-08-22T13:08:12.045Z"
   },
   {
    "duration": 92,
    "start_time": "2022-08-22T13:08:17.681Z"
   },
   {
    "duration": 1457,
    "start_time": "2022-08-22T13:08:31.825Z"
   },
   {
    "duration": 1315,
    "start_time": "2022-08-22T13:08:58.265Z"
   },
   {
    "duration": 1217,
    "start_time": "2022-08-22T13:09:31.012Z"
   },
   {
    "duration": 1357,
    "start_time": "2022-08-22T13:09:43.545Z"
   },
   {
    "duration": 1325,
    "start_time": "2022-08-22T13:22:33.338Z"
   },
   {
    "duration": 1503,
    "start_time": "2022-08-22T13:24:20.099Z"
   },
   {
    "duration": 98,
    "start_time": "2022-08-22T13:25:32.710Z"
   },
   {
    "duration": 1531,
    "start_time": "2022-08-22T13:25:35.542Z"
   },
   {
    "duration": 1293,
    "start_time": "2022-08-22T13:25:49.264Z"
   },
   {
    "duration": 1579,
    "start_time": "2022-08-22T13:27:29.848Z"
   },
   {
    "duration": 80,
    "start_time": "2022-08-22T13:29:03.936Z"
   },
   {
    "duration": 80,
    "start_time": "2022-08-22T13:30:21.505Z"
   },
   {
    "duration": 604,
    "start_time": "2022-08-22T13:31:34.509Z"
   },
   {
    "duration": 1277,
    "start_time": "2022-08-22T13:32:00.477Z"
   },
   {
    "duration": 1573,
    "start_time": "2022-08-22T13:32:10.590Z"
   },
   {
    "duration": 1481,
    "start_time": "2022-08-22T13:32:24.958Z"
   },
   {
    "duration": 1257,
    "start_time": "2022-08-22T13:32:35.185Z"
   },
   {
    "duration": 1524,
    "start_time": "2022-08-22T13:33:18.204Z"
   },
   {
    "duration": 1346,
    "start_time": "2022-08-22T13:33:25.590Z"
   },
   {
    "duration": 1609,
    "start_time": "2022-08-22T13:33:49.713Z"
   },
   {
    "duration": 1509,
    "start_time": "2022-08-22T13:34:10.014Z"
   },
   {
    "duration": 1409,
    "start_time": "2022-08-22T13:34:36.238Z"
   },
   {
    "duration": 12,
    "start_time": "2022-08-22T13:43:50.285Z"
   },
   {
    "duration": 1459,
    "start_time": "2022-08-22T13:44:09.546Z"
   },
   {
    "duration": 36,
    "start_time": "2022-08-22T13:44:11.008Z"
   },
   {
    "duration": 10,
    "start_time": "2022-08-22T13:44:11.046Z"
   },
   {
    "duration": 4,
    "start_time": "2022-08-22T13:44:11.060Z"
   },
   {
    "duration": 20,
    "start_time": "2022-08-22T13:44:11.066Z"
   },
   {
    "duration": 4,
    "start_time": "2022-08-22T13:44:11.087Z"
   },
   {
    "duration": 53,
    "start_time": "2022-08-22T13:44:11.093Z"
   },
   {
    "duration": 12,
    "start_time": "2022-08-22T13:44:11.148Z"
   },
   {
    "duration": 1415,
    "start_time": "2022-08-22T13:44:11.162Z"
   },
   {
    "duration": 1593,
    "start_time": "2022-08-22T13:44:12.579Z"
   },
   {
    "duration": 7,
    "start_time": "2022-08-22T13:44:14.173Z"
   },
   {
    "duration": 24,
    "start_time": "2022-08-22T13:44:14.181Z"
   },
   {
    "duration": 90,
    "start_time": "2022-08-22T13:44:14.206Z"
   },
   {
    "duration": 103,
    "start_time": "2022-08-22T13:44:14.299Z"
   },
   {
    "duration": 496,
    "start_time": "2022-08-22T13:44:14.405Z"
   },
   {
    "duration": 10,
    "start_time": "2022-08-22T13:44:14.908Z"
   },
   {
    "duration": 118437,
    "start_time": "2022-08-22T13:44:14.920Z"
   },
   {
    "duration": 1542,
    "start_time": "2022-08-22T13:46:13.359Z"
   },
   {
    "duration": 3610,
    "start_time": "2022-08-22T13:46:14.903Z"
   },
   {
    "duration": 12,
    "start_time": "2022-08-22T13:46:18.515Z"
   },
   {
    "duration": 1405,
    "start_time": "2022-08-22T13:46:59.796Z"
   },
   {
    "duration": 22,
    "start_time": "2022-08-22T13:47:18.161Z"
   },
   {
    "duration": 139,
    "start_time": "2022-08-22T13:59:04.469Z"
   },
   {
    "duration": 15,
    "start_time": "2022-08-22T13:59:13.300Z"
   },
   {
    "duration": 12,
    "start_time": "2022-08-22T13:59:18.648Z"
   },
   {
    "duration": 11,
    "start_time": "2022-08-22T13:59:26.994Z"
   },
   {
    "duration": 15,
    "start_time": "2022-08-22T13:59:31.373Z"
   },
   {
    "duration": 12,
    "start_time": "2022-08-22T13:59:41.628Z"
   },
   {
    "duration": 12,
    "start_time": "2022-08-22T13:59:46.161Z"
   },
   {
    "duration": 12,
    "start_time": "2022-08-22T14:00:20.281Z"
   },
   {
    "duration": 128,
    "start_time": "2022-08-22T14:03:03.365Z"
   },
   {
    "duration": 106,
    "start_time": "2022-08-22T14:03:45.081Z"
   },
   {
    "duration": 1913,
    "start_time": "2022-08-22T14:03:49.967Z"
   },
   {
    "duration": 538,
    "start_time": "2022-08-22T14:04:11.950Z"
   },
   {
    "duration": 448,
    "start_time": "2022-08-22T14:04:22.262Z"
   },
   {
    "duration": 465,
    "start_time": "2022-08-22T14:08:09.573Z"
   },
   {
    "duration": 735,
    "start_time": "2022-08-22T14:09:31.916Z"
   },
   {
    "duration": 1064,
    "start_time": "2022-08-22T14:09:57.028Z"
   },
   {
    "duration": 472,
    "start_time": "2022-08-22T14:11:21.714Z"
   },
   {
    "duration": 4953,
    "start_time": "2022-08-22T14:11:29.454Z"
   },
   {
    "duration": 5473,
    "start_time": "2022-08-22T14:12:03.298Z"
   },
   {
    "duration": 1512,
    "start_time": "2022-08-22T14:18:39.410Z"
   },
   {
    "duration": 35,
    "start_time": "2022-08-22T14:18:40.924Z"
   },
   {
    "duration": 17,
    "start_time": "2022-08-22T14:18:40.960Z"
   },
   {
    "duration": 3,
    "start_time": "2022-08-22T14:18:40.978Z"
   },
   {
    "duration": 15,
    "start_time": "2022-08-22T14:18:40.984Z"
   },
   {
    "duration": 11,
    "start_time": "2022-08-22T14:18:41.000Z"
   },
   {
    "duration": 48,
    "start_time": "2022-08-22T14:18:41.013Z"
   },
   {
    "duration": 12,
    "start_time": "2022-08-22T14:18:41.062Z"
   },
   {
    "duration": 1511,
    "start_time": "2022-08-22T14:18:41.076Z"
   },
   {
    "duration": 1590,
    "start_time": "2022-08-22T14:18:42.589Z"
   },
   {
    "duration": 11,
    "start_time": "2022-08-22T14:18:44.181Z"
   },
   {
    "duration": 21,
    "start_time": "2022-08-22T14:18:44.194Z"
   },
   {
    "duration": 77,
    "start_time": "2022-08-22T14:18:44.217Z"
   },
   {
    "duration": 102,
    "start_time": "2022-08-22T14:18:44.298Z"
   },
   {
    "duration": 462,
    "start_time": "2022-08-22T14:18:44.402Z"
   },
   {
    "duration": 8,
    "start_time": "2022-08-22T14:18:44.866Z"
   },
   {
    "duration": 124972,
    "start_time": "2022-08-22T14:18:44.876Z"
   },
   {
    "duration": 1257,
    "start_time": "2022-08-22T14:20:49.850Z"
   },
   {
    "duration": 5332,
    "start_time": "2022-08-22T14:20:51.114Z"
   },
   {
    "duration": 3621,
    "start_time": "2022-08-22T14:20:56.448Z"
   },
   {
    "duration": 25,
    "start_time": "2022-08-22T14:21:00.071Z"
   },
   {
    "duration": 5864,
    "start_time": "2022-08-22T14:27:48.228Z"
   },
   {
    "duration": 5888,
    "start_time": "2022-08-22T14:30:53.147Z"
   },
   {
    "duration": 5536,
    "start_time": "2022-08-22T14:31:31.673Z"
   },
   {
    "duration": 5822,
    "start_time": "2022-08-22T14:31:44.907Z"
   },
   {
    "duration": 172,
    "start_time": "2022-08-22T14:33:15.451Z"
   },
   {
    "duration": 89,
    "start_time": "2022-08-22T14:33:38.133Z"
   },
   {
    "duration": 5629,
    "start_time": "2022-08-22T14:34:01.057Z"
   },
   {
    "duration": 1370,
    "start_time": "2022-08-22T14:37:23.804Z"
   },
   {
    "duration": 621,
    "start_time": "2022-08-22T14:37:36.614Z"
   },
   {
    "duration": 1749,
    "start_time": "2022-08-22T14:37:49.270Z"
   },
   {
    "duration": 1592,
    "start_time": "2022-08-22T14:39:33.200Z"
   },
   {
    "duration": 2005,
    "start_time": "2022-08-22T14:40:04.045Z"
   },
   {
    "duration": 1781,
    "start_time": "2022-08-22T14:40:15.669Z"
   },
   {
    "duration": 1399,
    "start_time": "2022-08-22T14:40:20.850Z"
   },
   {
    "duration": 3077,
    "start_time": "2022-08-22T14:40:33.484Z"
   },
   {
    "duration": 2085,
    "start_time": "2022-08-22T14:40:43.092Z"
   },
   {
    "duration": 2305,
    "start_time": "2022-08-22T14:41:37.848Z"
   },
   {
    "duration": 2429,
    "start_time": "2022-08-22T14:42:07.510Z"
   },
   {
    "duration": 2325,
    "start_time": "2022-08-22T14:42:39.705Z"
   },
   {
    "duration": 515,
    "start_time": "2022-08-22T14:42:59.029Z"
   },
   {
    "duration": 2376,
    "start_time": "2022-08-22T14:43:04.105Z"
   },
   {
    "duration": 540,
    "start_time": "2022-08-22T14:43:12.939Z"
   },
   {
    "duration": 2642,
    "start_time": "2022-08-22T14:43:24.094Z"
   },
   {
    "duration": 2448,
    "start_time": "2022-08-22T14:43:33.091Z"
   },
   {
    "duration": 1516,
    "start_time": "2022-08-22T14:53:46.726Z"
   },
   {
    "duration": 1911,
    "start_time": "2022-08-22T14:53:53.840Z"
   },
   {
    "duration": 1940,
    "start_time": "2022-08-22T14:55:39.541Z"
   },
   {
    "duration": 50,
    "start_time": "2022-08-22T15:27:16.282Z"
   },
   {
    "duration": 1793,
    "start_time": "2022-08-22T15:27:25.271Z"
   },
   {
    "duration": 46,
    "start_time": "2022-08-22T15:27:27.067Z"
   },
   {
    "duration": 23,
    "start_time": "2022-08-22T15:27:27.114Z"
   },
   {
    "duration": 3,
    "start_time": "2022-08-22T15:27:27.140Z"
   },
   {
    "duration": 16,
    "start_time": "2022-08-22T15:27:27.145Z"
   },
   {
    "duration": 21,
    "start_time": "2022-08-22T15:27:27.163Z"
   },
   {
    "duration": 60,
    "start_time": "2022-08-22T15:27:27.187Z"
   },
   {
    "duration": 12,
    "start_time": "2022-08-22T15:27:27.249Z"
   },
   {
    "duration": 1538,
    "start_time": "2022-08-22T15:27:27.263Z"
   },
   {
    "duration": 1662,
    "start_time": "2022-08-22T15:27:28.803Z"
   },
   {
    "duration": 9,
    "start_time": "2022-08-22T15:27:30.468Z"
   },
   {
    "duration": 27,
    "start_time": "2022-08-22T15:27:30.482Z"
   },
   {
    "duration": 59,
    "start_time": "2022-08-22T15:27:30.511Z"
   },
   {
    "duration": 95,
    "start_time": "2022-08-22T15:27:30.573Z"
   },
   {
    "duration": 520,
    "start_time": "2022-08-22T15:27:30.669Z"
   },
   {
    "duration": 9,
    "start_time": "2022-08-22T15:27:31.192Z"
   },
   {
    "duration": 6926,
    "start_time": "2022-08-22T15:27:31.202Z"
   },
   {
    "duration": 0,
    "start_time": "2022-08-22T15:27:38.130Z"
   },
   {
    "duration": 0,
    "start_time": "2022-08-22T15:27:38.132Z"
   },
   {
    "duration": 0,
    "start_time": "2022-08-22T15:27:38.133Z"
   },
   {
    "duration": 0,
    "start_time": "2022-08-22T15:27:38.135Z"
   },
   {
    "duration": 3,
    "start_time": "2022-08-22T15:27:39.950Z"
   },
   {
    "duration": 832,
    "start_time": "2022-08-22T15:27:42.151Z"
   },
   {
    "duration": 2192,
    "start_time": "2022-08-22T15:27:43.903Z"
   },
   {
    "duration": 1904,
    "start_time": "2022-08-22T15:27:47.150Z"
   },
   {
    "duration": 144,
    "start_time": "2022-08-22T15:27:50.006Z"
   },
   {
    "duration": 29,
    "start_time": "2022-08-22T15:29:14.599Z"
   },
   {
    "duration": 18,
    "start_time": "2022-08-22T15:29:25.355Z"
   },
   {
    "duration": 150,
    "start_time": "2022-08-22T15:29:28.846Z"
   },
   {
    "duration": 26,
    "start_time": "2022-08-22T15:29:37.867Z"
   },
   {
    "duration": 683,
    "start_time": "2022-08-22T15:30:01.738Z"
   },
   {
    "duration": 11,
    "start_time": "2022-08-22T15:30:40.085Z"
   },
   {
    "duration": 299,
    "start_time": "2022-08-22T15:30:54.928Z"
   },
   {
    "duration": 767,
    "start_time": "2022-08-22T15:31:01.797Z"
   },
   {
    "duration": 272,
    "start_time": "2022-08-22T15:32:20.730Z"
   },
   {
    "duration": 277,
    "start_time": "2022-08-22T15:32:41.060Z"
   },
   {
    "duration": 52,
    "start_time": "2022-08-22T17:28:42.541Z"
   },
   {
    "duration": 10,
    "start_time": "2022-08-22T17:28:49.420Z"
   },
   {
    "duration": 9,
    "start_time": "2022-08-22T17:29:29.705Z"
   },
   {
    "duration": 10,
    "start_time": "2022-08-22T17:29:42.543Z"
   },
   {
    "duration": 9,
    "start_time": "2022-08-22T17:30:15.267Z"
   },
   {
    "duration": 9,
    "start_time": "2022-08-22T17:30:39.855Z"
   },
   {
    "duration": 12,
    "start_time": "2022-08-22T17:30:48.376Z"
   },
   {
    "duration": 10,
    "start_time": "2022-08-22T17:30:58.936Z"
   },
   {
    "duration": 1632,
    "start_time": "2022-08-22T17:31:15.419Z"
   },
   {
    "duration": 75,
    "start_time": "2022-08-22T17:31:17.053Z"
   },
   {
    "duration": 20,
    "start_time": "2022-08-22T17:31:17.129Z"
   },
   {
    "duration": 3,
    "start_time": "2022-08-22T17:31:17.151Z"
   },
   {
    "duration": 16,
    "start_time": "2022-08-22T17:31:17.156Z"
   },
   {
    "duration": 5,
    "start_time": "2022-08-22T17:31:17.174Z"
   },
   {
    "duration": 62,
    "start_time": "2022-08-22T17:31:17.181Z"
   },
   {
    "duration": 14,
    "start_time": "2022-08-22T17:31:17.245Z"
   },
   {
    "duration": 1541,
    "start_time": "2022-08-22T17:31:17.260Z"
   },
   {
    "duration": 1663,
    "start_time": "2022-08-22T17:31:18.804Z"
   },
   {
    "duration": 7,
    "start_time": "2022-08-22T17:31:20.469Z"
   },
   {
    "duration": 33,
    "start_time": "2022-08-22T17:31:20.477Z"
   },
   {
    "duration": 36,
    "start_time": "2022-08-22T17:31:20.512Z"
   },
   {
    "duration": 62,
    "start_time": "2022-08-22T17:31:20.550Z"
   },
   {
    "duration": 503,
    "start_time": "2022-08-22T17:31:20.614Z"
   },
   {
    "duration": 11,
    "start_time": "2022-08-22T17:31:21.118Z"
   },
   {
    "duration": 1520,
    "start_time": "2022-08-22T18:13:29.251Z"
   },
   {
    "duration": 43,
    "start_time": "2022-08-22T18:13:30.773Z"
   },
   {
    "duration": 24,
    "start_time": "2022-08-22T18:13:30.820Z"
   },
   {
    "duration": 9,
    "start_time": "2022-08-22T18:13:30.846Z"
   },
   {
    "duration": 54,
    "start_time": "2022-08-22T18:13:30.857Z"
   },
   {
    "duration": 19,
    "start_time": "2022-08-22T18:13:30.921Z"
   },
   {
    "duration": 89,
    "start_time": "2022-08-22T18:13:30.942Z"
   },
   {
    "duration": 16,
    "start_time": "2022-08-22T18:13:31.034Z"
   },
   {
    "duration": 1668,
    "start_time": "2022-08-22T18:13:31.052Z"
   },
   {
    "duration": 1734,
    "start_time": "2022-08-22T18:13:32.722Z"
   },
   {
    "duration": 8,
    "start_time": "2022-08-22T18:13:34.458Z"
   },
   {
    "duration": 27,
    "start_time": "2022-08-22T18:13:34.467Z"
   },
   {
    "duration": 104,
    "start_time": "2022-08-22T18:13:34.505Z"
   },
   {
    "duration": 92,
    "start_time": "2022-08-22T18:13:34.614Z"
   },
   {
    "duration": 485,
    "start_time": "2022-08-22T18:13:34.708Z"
   },
   {
    "duration": 9,
    "start_time": "2022-08-22T18:13:35.194Z"
   },
   {
    "duration": 126474,
    "start_time": "2022-08-22T18:13:35.207Z"
   },
   {
    "duration": 1233,
    "start_time": "2022-08-22T18:15:41.682Z"
   },
   {
    "duration": 140,
    "start_time": "2022-08-22T18:15:42.917Z"
   },
   {
    "duration": 0,
    "start_time": "2022-08-22T18:15:43.059Z"
   },
   {
    "duration": 50,
    "start_time": "2022-08-22T18:19:46.459Z"
   },
   {
    "duration": 4060,
    "start_time": "2022-08-22T18:20:05.655Z"
   },
   {
    "duration": 4252,
    "start_time": "2022-08-22T18:23:00.869Z"
   },
   {
    "duration": 4467,
    "start_time": "2022-08-22T18:24:30.881Z"
   },
   {
    "duration": 648,
    "start_time": "2022-08-22T18:25:10.090Z"
   },
   {
    "duration": 4438,
    "start_time": "2022-08-22T18:25:20.950Z"
   },
   {
    "duration": 4631,
    "start_time": "2022-08-22T18:25:34.080Z"
   },
   {
    "duration": 4559,
    "start_time": "2022-08-22T18:25:48.490Z"
   },
   {
    "duration": 4879,
    "start_time": "2022-08-22T18:26:37.361Z"
   },
   {
    "duration": 825,
    "start_time": "2022-08-22T18:28:26.655Z"
   },
   {
    "duration": 901,
    "start_time": "2022-08-22T18:28:41.780Z"
   },
   {
    "duration": 945,
    "start_time": "2022-08-22T18:29:04.100Z"
   },
   {
    "duration": 811,
    "start_time": "2022-08-22T18:29:29.026Z"
   },
   {
    "duration": 811,
    "start_time": "2022-08-22T18:29:41.445Z"
   },
   {
    "duration": 59,
    "start_time": "2022-08-22T18:30:15.691Z"
   },
   {
    "duration": 53,
    "start_time": "2022-08-22T18:30:35.732Z"
   },
   {
    "duration": 847,
    "start_time": "2022-08-22T18:30:40.796Z"
   },
   {
    "duration": 51,
    "start_time": "2022-08-22T18:31:25.345Z"
   },
   {
    "duration": 15,
    "start_time": "2022-08-22T18:31:31.106Z"
   },
   {
    "duration": 15,
    "start_time": "2022-08-22T18:32:29.181Z"
   },
   {
    "duration": 16,
    "start_time": "2022-08-22T18:32:44.456Z"
   },
   {
    "duration": 14,
    "start_time": "2022-08-22T18:33:01.811Z"
   },
   {
    "duration": 21,
    "start_time": "2022-08-22T18:33:10.850Z"
   },
   {
    "duration": 18,
    "start_time": "2022-08-22T18:33:20.190Z"
   },
   {
    "duration": 14,
    "start_time": "2022-08-22T18:33:32.597Z"
   },
   {
    "duration": 20,
    "start_time": "2022-08-22T18:33:40.834Z"
   },
   {
    "duration": 20,
    "start_time": "2022-08-22T18:33:52.175Z"
   },
   {
    "duration": 14,
    "start_time": "2022-08-22T18:34:34.487Z"
   },
   {
    "duration": 1530,
    "start_time": "2022-08-22T18:34:51.833Z"
   },
   {
    "duration": 36,
    "start_time": "2022-08-22T18:34:53.365Z"
   },
   {
    "duration": 18,
    "start_time": "2022-08-22T18:34:53.403Z"
   },
   {
    "duration": 3,
    "start_time": "2022-08-22T18:34:53.423Z"
   },
   {
    "duration": 17,
    "start_time": "2022-08-22T18:34:53.429Z"
   },
   {
    "duration": 5,
    "start_time": "2022-08-22T18:34:53.448Z"
   },
   {
    "duration": 96,
    "start_time": "2022-08-22T18:34:53.454Z"
   },
   {
    "duration": 16,
    "start_time": "2022-08-22T18:34:53.553Z"
   },
   {
    "duration": 1510,
    "start_time": "2022-08-22T18:34:53.571Z"
   },
   {
    "duration": 1597,
    "start_time": "2022-08-22T18:34:55.083Z"
   },
   {
    "duration": 7,
    "start_time": "2022-08-22T18:34:56.682Z"
   },
   {
    "duration": 28,
    "start_time": "2022-08-22T18:34:56.691Z"
   },
   {
    "duration": 89,
    "start_time": "2022-08-22T18:34:56.721Z"
   },
   {
    "duration": 193,
    "start_time": "2022-08-22T18:34:56.813Z"
   },
   {
    "duration": 418,
    "start_time": "2022-08-22T18:34:57.010Z"
   },
   {
    "duration": 11,
    "start_time": "2022-08-22T18:34:57.430Z"
   },
   {
    "duration": 122064,
    "start_time": "2022-08-22T18:34:57.444Z"
   },
   {
    "duration": 1396,
    "start_time": "2022-08-22T18:36:59.510Z"
   },
   {
    "duration": 146,
    "start_time": "2022-08-22T18:37:00.907Z"
   },
   {
    "duration": 14,
    "start_time": "2022-08-22T18:37:01.055Z"
   },
   {
    "duration": 1738,
    "start_time": "2022-08-22T19:08:13.204Z"
   },
   {
    "duration": 35,
    "start_time": "2022-08-22T19:08:14.944Z"
   },
   {
    "duration": 21,
    "start_time": "2022-08-22T19:08:14.981Z"
   },
   {
    "duration": 4,
    "start_time": "2022-08-22T19:08:15.004Z"
   },
   {
    "duration": 23,
    "start_time": "2022-08-22T19:08:15.011Z"
   },
   {
    "duration": 4,
    "start_time": "2022-08-22T19:08:15.037Z"
   },
   {
    "duration": 98,
    "start_time": "2022-08-22T19:08:15.044Z"
   },
   {
    "duration": 15,
    "start_time": "2022-08-22T19:08:15.144Z"
   },
   {
    "duration": 1600,
    "start_time": "2022-08-22T19:08:15.161Z"
   },
   {
    "duration": 1815,
    "start_time": "2022-08-22T19:08:16.764Z"
   },
   {
    "duration": 22,
    "start_time": "2022-08-22T19:08:18.581Z"
   },
   {
    "duration": 30,
    "start_time": "2022-08-22T19:08:18.605Z"
   },
   {
    "duration": 177,
    "start_time": "2022-08-22T19:08:18.637Z"
   },
   {
    "duration": 93,
    "start_time": "2022-08-22T19:08:18.817Z"
   },
   {
    "duration": 490,
    "start_time": "2022-08-22T19:08:18.913Z"
   },
   {
    "duration": 12,
    "start_time": "2022-08-22T19:08:19.406Z"
   },
   {
    "duration": 124575,
    "start_time": "2022-08-22T19:08:19.420Z"
   },
   {
    "duration": 1530,
    "start_time": "2022-08-22T19:10:23.997Z"
   },
   {
    "duration": 233,
    "start_time": "2022-08-22T19:10:25.529Z"
   },
   {
    "duration": 19,
    "start_time": "2022-08-22T19:10:25.765Z"
   },
   {
    "duration": 1035,
    "start_time": "2022-08-22T19:12:16.997Z"
   },
   {
    "duration": 311,
    "start_time": "2022-08-22T19:12:34.173Z"
   },
   {
    "duration": 13,
    "start_time": "2022-08-22T19:12:56.778Z"
   },
   {
    "duration": 1033,
    "start_time": "2022-08-22T19:13:46.238Z"
   },
   {
    "duration": 1326,
    "start_time": "2022-08-22T19:14:28.087Z"
   },
   {
    "duration": 1127,
    "start_time": "2022-08-22T19:14:31.977Z"
   },
   {
    "duration": 1273,
    "start_time": "2022-08-22T19:14:46.201Z"
   },
   {
    "duration": 900,
    "start_time": "2022-08-22T19:15:18.266Z"
   },
   {
    "duration": 957,
    "start_time": "2022-08-22T19:15:26.120Z"
   },
   {
    "duration": 1068,
    "start_time": "2022-08-22T19:15:38.018Z"
   },
   {
    "duration": 1515,
    "start_time": "2022-08-22T19:46:52.597Z"
   },
   {
    "duration": 36,
    "start_time": "2022-08-22T19:46:54.115Z"
   },
   {
    "duration": 25,
    "start_time": "2022-08-22T19:46:54.153Z"
   },
   {
    "duration": 5,
    "start_time": "2022-08-22T19:46:54.180Z"
   },
   {
    "duration": 22,
    "start_time": "2022-08-22T19:46:54.188Z"
   },
   {
    "duration": 5,
    "start_time": "2022-08-22T19:46:54.212Z"
   },
   {
    "duration": 52,
    "start_time": "2022-08-22T19:46:54.220Z"
   },
   {
    "duration": 14,
    "start_time": "2022-08-22T19:46:54.303Z"
   },
   {
    "duration": 1564,
    "start_time": "2022-08-22T19:46:54.319Z"
   },
   {
    "duration": 1720,
    "start_time": "2022-08-22T19:46:55.885Z"
   },
   {
    "duration": 10,
    "start_time": "2022-08-22T19:46:57.607Z"
   },
   {
    "duration": 29,
    "start_time": "2022-08-22T19:46:57.620Z"
   },
   {
    "duration": 58,
    "start_time": "2022-08-22T19:46:57.652Z"
   },
   {
    "duration": 92,
    "start_time": "2022-08-22T19:46:57.713Z"
   },
   {
    "duration": 559,
    "start_time": "2022-08-22T19:46:57.807Z"
   },
   {
    "duration": 10,
    "start_time": "2022-08-22T19:46:58.368Z"
   },
   {
    "duration": 127834,
    "start_time": "2022-08-22T19:46:58.381Z"
   },
   {
    "duration": 1900,
    "start_time": "2022-08-22T19:49:06.217Z"
   },
   {
    "duration": 944,
    "start_time": "2022-08-22T19:49:08.119Z"
   },
   {
    "duration": 0,
    "start_time": "2022-08-22T19:49:09.065Z"
   },
   {
    "duration": 1023,
    "start_time": "2022-08-22T19:49:15.058Z"
   }
  ],
  "kernelspec": {
   "display_name": "Python 3 (ipykernel)",
   "language": "python",
   "name": "python3"
  },
  "language_info": {
   "codemirror_mode": {
    "name": "ipython",
    "version": 3
   },
   "file_extension": ".py",
   "mimetype": "text/x-python",
   "name": "python",
   "nbconvert_exporter": "python",
   "pygments_lexer": "ipython3",
   "version": "3.9.7"
  },
  "toc": {
   "base_numbering": 1,
   "nav_menu": {},
   "number_sections": true,
   "sideBar": true,
   "skip_h1_title": true,
   "title_cell": "Table of Contents",
   "title_sidebar": "Contents",
   "toc_cell": false,
   "toc_position": {},
   "toc_section_display": true,
   "toc_window_display": false
  }
 },
 "nbformat": 4,
 "nbformat_minor": 2
}
