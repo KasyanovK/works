{
 "cells": [
  {
   "cell_type": "markdown",
   "metadata": {},
   "source": [
    "## 1. Изучение данных"
   ]
  },
  {
   "cell_type": "markdown",
   "metadata": {},
   "source": [
    "Импорт библиотек:"
   ]
  },
  {
   "cell_type": "code",
   "execution_count": 1,
   "metadata": {},
   "outputs": [],
   "source": [
    "import pandas as pd\n",
    "import numpy as np\n",
    "import matplotlib.pyplot as plt"
   ]
  },
  {
   "cell_type": "markdown",
   "metadata": {},
   "source": [
    "Чтение файла - создание исходного датафрейма из файла с разделителем \"\\\""
   ]
  },
  {
   "cell_type": "code",
   "execution_count": 2,
   "metadata": {},
   "outputs": [],
   "source": [
    "df=pd.read_csv('/datasets/real_estate_data.csv', sep='\\t')"
   ]
  },
  {
   "cell_type": "markdown",
   "metadata": {},
   "source": [
    "Узнаем типы данных в столбцах. "
   ]
  },
  {
   "cell_type": "code",
   "execution_count": 3,
   "metadata": {},
   "outputs": [
    {
     "data": {
      "text/plain": [
       "total_images              int64\n",
       "last_price              float64\n",
       "total_area              float64\n",
       "first_day_exposition     object\n",
       "rooms                     int64\n",
       "ceiling_height          float64\n",
       "floors_total            float64\n",
       "living_area             float64\n",
       "floor                     int64\n",
       "is_apartment             object\n",
       "studio                     bool\n",
       "open_plan                  bool\n",
       "kitchen_area            float64\n",
       "balcony                 float64\n",
       "locality_name            object\n",
       "airports_nearest        float64\n",
       "cityCenters_nearest     float64\n",
       "parks_around3000        float64\n",
       "parks_nearest           float64\n",
       "ponds_around3000        float64\n",
       "ponds_nearest           float64\n",
       "days_exposition         float64\n",
       "dtype: object"
      ]
     },
     "execution_count": 3,
     "metadata": {},
     "output_type": "execute_result"
    }
   ],
   "source": [
    "df.dtypes"
   ]
  },
  {
   "cell_type": "markdown",
   "metadata": {},
   "source": [
    "Отметим, что тип данных \"first_day_exposition\" - object, хотя ожидается формат дата-время. \"Is appartment\" - object, хотя ожидается bool. Тип данных в balcony и floors_total - float, хотя ожидается int. Скорее всего, понадобятся преобразования. Посмотрим, как выглядят значения в первых 5ти строках датафрейма. "
   ]
  },
  {
   "cell_type": "code",
   "execution_count": 4,
   "metadata": {},
   "outputs": [
    {
     "name": "stdout",
     "output_type": "stream",
     "text": [
      "   total_images  last_price  total_area first_day_exposition  rooms  \\\n",
      "0            20  13000000.0       108.0  2019-03-07T00:00:00      3   \n",
      "1             7   3350000.0        40.4  2018-12-04T00:00:00      1   \n",
      "2            10   5196000.0        56.0  2015-08-20T00:00:00      2   \n",
      "3             0  64900000.0       159.0  2015-07-24T00:00:00      3   \n",
      "4             2  10000000.0       100.0  2018-06-19T00:00:00      2   \n",
      "\n",
      "   ceiling_height  floors_total  living_area  floor is_apartment  ...  \\\n",
      "0            2.70          16.0         51.0      8          NaN  ...   \n",
      "1             NaN          11.0         18.6      1          NaN  ...   \n",
      "2             NaN           5.0         34.3      4          NaN  ...   \n",
      "3             NaN          14.0          NaN      9          NaN  ...   \n",
      "4            3.03          14.0         32.0     13          NaN  ...   \n",
      "\n",
      "   kitchen_area  balcony    locality_name  airports_nearest  \\\n",
      "0          25.0      NaN  Санкт-Петербург           18863.0   \n",
      "1          11.0      2.0   посёлок Шушары           12817.0   \n",
      "2           8.3      0.0  Санкт-Петербург           21741.0   \n",
      "3           NaN      0.0  Санкт-Петербург           28098.0   \n",
      "4          41.0      NaN  Санкт-Петербург           31856.0   \n",
      "\n",
      "  cityCenters_nearest  parks_around3000  parks_nearest  ponds_around3000  \\\n",
      "0             16028.0               1.0          482.0               2.0   \n",
      "1             18603.0               0.0            NaN               0.0   \n",
      "2             13933.0               1.0           90.0               2.0   \n",
      "3              6800.0               2.0           84.0               3.0   \n",
      "4              8098.0               2.0          112.0               1.0   \n",
      "\n",
      "   ponds_nearest  days_exposition  \n",
      "0          755.0              NaN  \n",
      "1            NaN             81.0  \n",
      "2          574.0            558.0  \n",
      "3          234.0            424.0  \n",
      "4           48.0            121.0  \n",
      "\n",
      "[5 rows x 22 columns]\n"
     ]
    }
   ],
   "source": [
    "print(df.head(5))"
   ]
  },
  {
   "cell_type": "markdown",
   "metadata": {},
   "source": [
    "### Вывод"
   ]
  },
  {
   "cell_type": "markdown",
   "metadata": {},
   "source": [
    "В данных, очевидно, имеются пропуски. Предстоит, как минимум, работа с пропусками, и с большой вероятностью, преобраззования типов данных. "
   ]
  },
  {
   "cell_type": "markdown",
   "metadata": {},
   "source": [
    "## 2. Предобработка данных"
   ]
  },
  {
   "cell_type": "markdown",
   "metadata": {},
   "source": [
    "Cделаем обзор пропусков в данных:"
   ]
  },
  {
   "cell_type": "code",
   "execution_count": 5,
   "metadata": {},
   "outputs": [
    {
     "name": "stdout",
     "output_type": "stream",
     "text": [
      "<class 'pandas.core.frame.DataFrame'>\n",
      "RangeIndex: 23699 entries, 0 to 23698\n",
      "Data columns (total 22 columns):\n",
      " #   Column                Non-Null Count  Dtype  \n",
      "---  ------                --------------  -----  \n",
      " 0   total_images          23699 non-null  int64  \n",
      " 1   last_price            23699 non-null  float64\n",
      " 2   total_area            23699 non-null  float64\n",
      " 3   first_day_exposition  23699 non-null  object \n",
      " 4   rooms                 23699 non-null  int64  \n",
      " 5   ceiling_height        14504 non-null  float64\n",
      " 6   floors_total          23613 non-null  float64\n",
      " 7   living_area           21796 non-null  float64\n",
      " 8   floor                 23699 non-null  int64  \n",
      " 9   is_apartment          2775 non-null   object \n",
      " 10  studio                23699 non-null  bool   \n",
      " 11  open_plan             23699 non-null  bool   \n",
      " 12  kitchen_area          21421 non-null  float64\n",
      " 13  balcony               12180 non-null  float64\n",
      " 14  locality_name         23650 non-null  object \n",
      " 15  airports_nearest      18157 non-null  float64\n",
      " 16  cityCenters_nearest   18180 non-null  float64\n",
      " 17  parks_around3000      18181 non-null  float64\n",
      " 18  parks_nearest         8079 non-null   float64\n",
      " 19  ponds_around3000      18181 non-null  float64\n",
      " 20  ponds_nearest         9110 non-null   float64\n",
      " 21  days_exposition       20518 non-null  float64\n",
      "dtypes: bool(2), float64(14), int64(3), object(3)\n",
      "memory usage: 3.7+ MB\n"
     ]
    }
   ],
   "source": [
    "df.info()"
   ]
  },
  {
   "cell_type": "markdown",
   "metadata": {},
   "source": [
    "Во многих колонках имеются пропуски. Начнем с количества балконов. Предположим, что если в данной \n",
    "колонке встречается NaN, то заполняющий анкету человек решил не вводить \"0\". Преобразуем тип данных в кололнке в int, и заполним пропуски нулями.  "
   ]
  },
  {
   "cell_type": "code",
   "execution_count": 6,
   "metadata": {},
   "outputs": [],
   "source": [
    "df = df.astype({\"balcony\": \"Int64\"})\n",
    "df=df.fillna({'balcony':0})"
   ]
  },
  {
   "cell_type": "markdown",
   "metadata": {},
   "source": [
    "Рассмотрим параметр \"высота потолков\". В проектном задании этот параметр фигурирует только один раз: требуется построить гистограмму его распределения. На данном этапе невозможно сделать предположение, по какой причине в значительном количестве строк не введены данные о высоте потолков. Заполнение медианным значением или нулями впоследствии исказит гистограмму. Пока оставим в соответствующих ячейках NaN,а при построении гистограммы не будем их учитывать. Предположим, что данные с пропусками и без вводились при одинаковых условиях. Соответственно, с учетом того, что размер отброшенной части сопоставим с размером остаюшщейся, распределение высоты потолка по отброшенной из рассмотрения части квартир (со значением NaN) будет таким же, как и по неотброшенной.  "
   ]
  },
  {
   "cell_type": "markdown",
   "metadata": {},
   "source": [
    "Рассмотрим пропуски в столбцах floors_total и . Их пренебрежимо малое количество. Рассчитаем соотношение в процентах:"
   ]
  },
  {
   "cell_type": "code",
   "execution_count": 7,
   "metadata": {},
   "outputs": [
    {
     "name": "stdout",
     "output_type": "stream",
     "text": [
      "0.36\n",
      "8.03\n"
     ]
    }
   ],
   "source": [
    "floors_total_ratio=round(df.floors_total.isna().sum()/(len(df.floors_total))*100,2)\n",
    "living_area_ratio=round(df.living_area .isna().sum()/(len(df.living_area ))*100,2)\n",
    "print(floors_total_ratio)\n",
    "print(living_area_ratio)"
   ]
  },
  {
   "cell_type": "markdown",
   "metadata": {},
   "source": [
    "Учитывая малое относительное количество незаполненных ячеек, пока оставляем в ячейках NaN. Аналогичная ситуация со столбоцм \"is appartment\" - является ли помещение аппартаментами. Даже если бы поле фигурировало в проектном задании, то абсолютно невозможно адекватно целям исследования заполнить в \"is_appartment\" количество пропусков, в 8-9 раз большее, чем количество заполненных ячеек."
   ]
  },
  {
   "cell_type": "markdown",
   "metadata": {},
   "source": [
    "Рассмотрим kitchen_area. Здесь количество пропусков - 10%."
   ]
  },
  {
   "cell_type": "code",
   "execution_count": 8,
   "metadata": {},
   "outputs": [
    {
     "data": {
      "text/plain": [
       "9.61"
      ]
     },
     "execution_count": 8,
     "metadata": {},
     "output_type": "execute_result"
    }
   ],
   "source": [
    "round(df.kitchen_area.isna().sum()/(len(df.kitchen_area))*100,2)"
   ]
  },
  {
   "cell_type": "markdown",
   "metadata": {},
   "source": [
    "Отсутствующие значения площади кухни целесообразно заполнить медианным для каждого количества комнат. \n",
    "Cгруппируем датафрейм по количеству комнат. Выведем медианные площади кухонь:"
   ]
  },
  {
   "cell_type": "code",
   "execution_count": 9,
   "metadata": {
    "scrolled": true
   },
   "outputs": [
    {
     "name": "stdout",
     "output_type": "stream",
     "text": [
      "rooms\n",
      "0        NaN\n",
      "1       9.04\n",
      "2       8.80\n",
      "3       9.50\n",
      "4      11.10\n",
      "5      15.10\n",
      "6      19.50\n",
      "7      20.00\n",
      "8      25.00\n",
      "9      14.30\n",
      "10     19.80\n",
      "11     12.60\n",
      "12    112.00\n",
      "14     21.25\n",
      "15    100.00\n",
      "16     13.00\n",
      "19     27.60\n",
      "Name: kitchen_area, dtype: float64\n"
     ]
    }
   ],
   "source": [
    "areas_median=df.groupby('rooms').kitchen_area.median()\n",
    "print(areas_median)"
   ]
  },
  {
   "cell_type": "markdown",
   "metadata": {},
   "source": [
    "Обнаружились аномальные значения. С ними имеет смысл работать позднее. Кроме одного. На данном этапе, поскольку у соответствующих помещений медианная площадь кухни отсутствует (NaN) следует решить, что делать с помещениями с нулевым количеством комнат. Поскольку среди столбцов датафрейма нет ни одного, указывающего на то, что в базе данных есть какие-либо помещения, не являющиеся ни квартирами ни аппаратаментами, нулевое количество комнат является ошибкой при подготовке данных. \n",
    "Другие данные в строках с нулевым количеством комнат могут оказаться пригодными для анализа. Поэтому,не удаляем эти строки. "
   ]
  },
  {
   "cell_type": "markdown",
   "metadata": {},
   "source": [
    "Найдем с помощью группировки медианные площади кухонь для каждого количества комнат. И заполним ими отсутствующие\n",
    "данные в столбце kitchen_area. "
   ]
  },
  {
   "cell_type": "code",
   "execution_count": 10,
   "metadata": {},
   "outputs": [],
   "source": [
    "kitchen_group = lambda a: areas_median[a]\n",
    "df['kitchen_median']=df['rooms'].apply(kitchen_group)\n",
    "df['kitchen_area']=df.fillna({'kitchen_area': 'kitchen_median'})"
   ]
  },
  {
   "cell_type": "markdown",
   "metadata": {},
   "source": [
    "Проверим, что отсутствующих значений в \"kitchen_area\" не осталось:"
   ]
  },
  {
   "cell_type": "code",
   "execution_count": 11,
   "metadata": {},
   "outputs": [
    {
     "data": {
      "text/plain": [
       "0"
      ]
     },
     "execution_count": 11,
     "metadata": {},
     "output_type": "execute_result"
    }
   ],
   "source": [
    "df.kitchen_area.isna().sum()"
   ]
  },
  {
   "cell_type": "markdown",
   "metadata": {},
   "source": [
    "Отсутствующие данные есть в названии населенного пункта. Их всего 49. Игнорируем. "
   ]
  },
  {
   "cell_type": "markdown",
   "metadata": {},
   "source": [
    "Оставшиеся столбцы с отсутствующими данными: \"airports_nearest\", \"cityCenters_nearest\", \"parks_around3000\", \"parks_nearest\", \"ponds_around3000\", \"ponds_nearest\",\"days_exposition\" - не имеет смысла чем-либо заполнять. \n",
    "Они могут быть какими угодно. Привязать их в каким-либо категориям других столбцов невозможно. Если, например, площадь кухни может иметь связь с количеством комнат или площадью квартиры, то \"расстояние до центра/аэропорта\" или \"количество прудов\" привязать не к чему.  "
   ]
  },
  {
   "cell_type": "markdown",
   "metadata": {},
   "source": [
    "Удалим полностью пустые строки:"
   ]
  },
  {
   "cell_type": "code",
   "execution_count": 12,
   "metadata": {},
   "outputs": [
    {
     "data": {
      "text/plain": [
       "23699"
      ]
     },
     "execution_count": 12,
     "metadata": {},
     "output_type": "execute_result"
    }
   ],
   "source": [
    "df=df.dropna(how='all')\n",
    "len(df)"
   ]
  },
  {
   "cell_type": "markdown",
   "metadata": {},
   "source": [
    "Длина датафрейма не изменилась, следовательно, полностью пустых строк не было."
   ]
  },
  {
   "cell_type": "markdown",
   "metadata": {},
   "source": [
    "Приведем данные в столбце \"first_day_explosion\" к типу Datetime:"
   ]
  },
  {
   "cell_type": "code",
   "execution_count": 13,
   "metadata": {},
   "outputs": [],
   "source": [
    "df['first_day_exposition']=pd.to_datetime(df['first_day_exposition'])"
   ]
  },
  {
   "cell_type": "markdown",
   "metadata": {},
   "source": [
    "Приводить данные в столбце \"is appartment\" к типу bool нет смысла, так как столбец в проектном задании не фигурирует."
   ]
  },
  {
   "cell_type": "markdown",
   "metadata": {},
   "source": [
    "Приведем данные в столбцах \"floors_total\" и \"balcony\" к типу int. Для этого значения NaN в 'floors_total' заменим на ноль. Выкидывать строки с ними пока рано, а тип данных преобразовать необходимо."
   ]
  },
  {
   "cell_type": "code",
   "execution_count": 14,
   "metadata": {},
   "outputs": [],
   "source": [
    "df['balcony']=pd.to_numeric(df['balcony'])\n",
    "df['floors_total']=df['floors_total'].fillna(0)\n",
    "df['floors_total']=df['floors_total'].astype('int')"
   ]
  },
  {
   "cell_type": "markdown",
   "metadata": {},
   "source": [
    "Ниже показываем, что типы преобразовались:"
   ]
  },
  {
   "cell_type": "code",
   "execution_count": 15,
   "metadata": {},
   "outputs": [
    {
     "data": {
      "text/plain": [
       "total_images                     int64\n",
       "last_price                     float64\n",
       "total_area                     float64\n",
       "first_day_exposition    datetime64[ns]\n",
       "rooms                            int64\n",
       "ceiling_height                 float64\n",
       "floors_total                     int64\n",
       "living_area                    float64\n",
       "floor                            int64\n",
       "is_apartment                    object\n",
       "studio                            bool\n",
       "open_plan                         bool\n",
       "kitchen_area                    object\n",
       "balcony                          Int64\n",
       "locality_name                   object\n",
       "airports_nearest               float64\n",
       "cityCenters_nearest            float64\n",
       "parks_around3000               float64\n",
       "parks_nearest                  float64\n",
       "ponds_around3000               float64\n",
       "ponds_nearest                  float64\n",
       "days_exposition                float64\n",
       "kitchen_median                 float64\n",
       "dtype: object"
      ]
     },
     "execution_count": 15,
     "metadata": {},
     "output_type": "execute_result"
    }
   ],
   "source": [
    "df.dtypes"
   ]
  },
  {
   "cell_type": "markdown",
   "metadata": {},
   "source": [
    "## 3. Расчёты и добавление результатов в таблицу"
   ]
  },
  {
   "cell_type": "markdown",
   "metadata": {},
   "source": [
    "### 3.1 Цена квадратного метра"
   ]
  },
  {
   "cell_type": "markdown",
   "metadata": {},
   "source": [
    "Рассчитаем цену квадратного метра как отношение полной площади к цене. Внесем ее в колонку \"price_per_meter\":"
   ]
  },
  {
   "cell_type": "code",
   "execution_count": 16,
   "metadata": {},
   "outputs": [],
   "source": [
    "df['price_per_meter'] = df['last_price']/df['total_area']"
   ]
  },
  {
   "cell_type": "markdown",
   "metadata": {},
   "source": [
    "### 3.2 Колонки с днем недели, месяцем и годом публикации объявления:"
   ]
  },
  {
   "cell_type": "code",
   "execution_count": 17,
   "metadata": {},
   "outputs": [],
   "source": [
    "df['weekday']=pd.DatetimeIndex(df['first_day_exposition']).weekday\n",
    "df['month']=pd.DatetimeIndex(df['first_day_exposition']).month\n",
    "df['year']=pd.DatetimeIndex(df['first_day_exposition']).year"
   ]
  },
  {
   "cell_type": "markdown",
   "metadata": {},
   "source": [
    "Проверим,что столбцы появились:"
   ]
  },
  {
   "cell_type": "code",
   "execution_count": 18,
   "metadata": {},
   "outputs": [
    {
     "name": "stdout",
     "output_type": "stream",
     "text": [
      "<class 'pandas.core.frame.DataFrame'>\n",
      "Int64Index: 23699 entries, 0 to 23698\n",
      "Data columns (total 27 columns):\n",
      " #   Column                Non-Null Count  Dtype         \n",
      "---  ------                --------------  -----         \n",
      " 0   total_images          23699 non-null  int64         \n",
      " 1   last_price            23699 non-null  float64       \n",
      " 2   total_area            23699 non-null  float64       \n",
      " 3   first_day_exposition  23699 non-null  datetime64[ns]\n",
      " 4   rooms                 23699 non-null  int64         \n",
      " 5   ceiling_height        14504 non-null  float64       \n",
      " 6   floors_total          23699 non-null  int64         \n",
      " 7   living_area           21796 non-null  float64       \n",
      " 8   floor                 23699 non-null  int64         \n",
      " 9   is_apartment          2775 non-null   object        \n",
      " 10  studio                23699 non-null  bool          \n",
      " 11  open_plan             23699 non-null  bool          \n",
      " 12  kitchen_area          23699 non-null  object        \n",
      " 13  balcony               23699 non-null  Int64         \n",
      " 14  locality_name         23650 non-null  object        \n",
      " 15  airports_nearest      18157 non-null  float64       \n",
      " 16  cityCenters_nearest   18180 non-null  float64       \n",
      " 17  parks_around3000      18181 non-null  float64       \n",
      " 18  parks_nearest         8079 non-null   float64       \n",
      " 19  ponds_around3000      18181 non-null  float64       \n",
      " 20  ponds_nearest         9110 non-null   float64       \n",
      " 21  days_exposition       20518 non-null  float64       \n",
      " 22  kitchen_median        23502 non-null  float64       \n",
      " 23  price_per_meter       23699 non-null  float64       \n",
      " 24  weekday               23699 non-null  int64         \n",
      " 25  month                 23699 non-null  int64         \n",
      " 26  year                  23699 non-null  int64         \n",
      "dtypes: Int64(1), bool(2), datetime64[ns](1), float64(13), int64(7), object(3)\n",
      "memory usage: 4.8+ MB\n"
     ]
    }
   ],
   "source": [
    "df.info()"
   ]
  },
  {
   "cell_type": "markdown",
   "metadata": {},
   "source": [
    "### 3.3 Разбиение на категории этажей\n",
    "Разобьем этажи на категории: первый, последний, другой. Создадим новый столбец \"floor_category\", содержащий \n",
    "\"категории\" этажей:"
   ]
  },
  {
   "cell_type": "code",
   "execution_count": 19,
   "metadata": {},
   "outputs": [],
   "source": [
    "for i in range(0, len(df)):\n",
    "    if df.loc[i,'floor']==1:\n",
    "        df.loc[i,'floor_category']='first'\n",
    "    elif df.loc[i,'floor'] == df.loc[i,'floors_total']:\n",
    "        df.loc[i,'floor_category']='last'\n",
    "    else:\n",
    "        df.loc[i,'floor_category']='another'"
   ]
  },
  {
   "cell_type": "markdown",
   "metadata": {},
   "source": [
    "Проверим разбиение на категории:"
   ]
  },
  {
   "cell_type": "code",
   "execution_count": 20,
   "metadata": {},
   "outputs": [
    {
     "data": {
      "text/plain": [
       "floor_category\n",
       "another    17446\n",
       "first       2917\n",
       "last        3336\n",
       "Name: floor_category, dtype: int64"
      ]
     },
     "execution_count": 20,
     "metadata": {},
     "output_type": "execute_result"
    }
   ],
   "source": [
    "df.groupby('floor_category').floor_category.count()"
   ]
  },
  {
   "cell_type": "markdown",
   "metadata": {},
   "source": [
    "### 3.4 Отношение общей и жилой площади\n",
    "Введем новый столбец, содержащий отношение жилой и общей площади:"
   ]
  },
  {
   "cell_type": "code",
   "execution_count": 21,
   "metadata": {},
   "outputs": [],
   "source": [
    "df['living_area_ratio'] = df['living_area']/df['total_area']"
   ]
  },
  {
   "cell_type": "markdown",
   "metadata": {},
   "source": [
    "Проверяем наличие cтолбца \"living_area_ratio\". В нем будут встречаться NaN, поскольку NaN присутствуют в столбце living_area. Их пока оставляем. "
   ]
  },
  {
   "cell_type": "code",
   "execution_count": 22,
   "metadata": {},
   "outputs": [
    {
     "data": {
      "text/plain": [
       "0    0.472222\n",
       "1    0.460396\n",
       "2    0.612500\n",
       "3         NaN\n",
       "4    0.320000\n",
       "Name: living_area_ratio, dtype: float64"
      ]
     },
     "metadata": {},
     "output_type": "display_data"
    }
   ],
   "source": [
    "display(df['living_area_ratio'].head())"
   ]
  },
  {
   "cell_type": "markdown",
   "metadata": {},
   "source": [
    "3.5 Отношение площади кухни к общей площади\n",
    "Введем новый столбец \"kitchen_area_ratio\", содержащий отношение площади кухни к общей площади . В нем будут встречаться NaN, поскольку NaN присутствуют в столбце kitchen_area. Их пока оставляем."
   ]
  },
  {
   "cell_type": "code",
   "execution_count": 23,
   "metadata": {},
   "outputs": [],
   "source": [
    "df['kitchen_area_ratio'] = df['kitchen_area']/df['total_area']"
   ]
  },
  {
   "cell_type": "markdown",
   "metadata": {},
   "source": [
    "Проверяем наличие cтолбца \"kitchen_area_ratio\". В нем будут встречаться NaN, поскольку NaN \n",
    "присутствуют в столбце living_area. Их пока оставляем."
   ]
  },
  {
   "cell_type": "code",
   "execution_count": 24,
   "metadata": {},
   "outputs": [
    {
     "data": {
      "text/plain": [
       "0    0.185185\n",
       "1    0.173267\n",
       "2    0.178571\n",
       "3         0.0\n",
       "4        0.02\n",
       "Name: kitchen_area_ratio, dtype: object"
      ]
     },
     "metadata": {},
     "output_type": "display_data"
    }
   ],
   "source": [
    "display(df['kitchen_area_ratio'].head())"
   ]
  },
  {
   "cell_type": "markdown",
   "metadata": {},
   "source": [
    "Отметим наличие значения \"0\". Это означает, что в столбце \"kitchen_area\" присутствуют нулевые значения.\n",
    "Рассмотрим их в последующих пунктах."
   ]
  },
  {
   "cell_type": "markdown",
   "metadata": {},
   "source": [
    "## Исследовательский анализ данных"
   ]
  },
  {
   "cell_type": "markdown",
   "metadata": {},
   "source": [
    "### 4.1 Гистограммы распределения площади, цены, числа комнат, высоты потолков"
   ]
  },
  {
   "cell_type": "code",
   "execution_count": 62,
   "metadata": {},
   "outputs": [
    {
     "data": {
      "text/plain": [
       "array([[<AxesSubplot:title={'center':'ceiling_height'}>]], dtype=object)"
      ]
     },
     "execution_count": 62,
     "metadata": {},
     "output_type": "execute_result"
    },
    {
     "data": {
      "image/png": "[encoded data removed]",
      "text/plain": [
       "<Figure size 360x360 with 1 Axes>"
      ]
     },
     "metadata": {
      "needs_background": "light"
     },
     "output_type": "display_data"
    },
    {
     "data": {
      "image/png": "[encoded data removed]",
      "text/plain": [
       "<Figure size 360x360 with 1 Axes>"
      ]
     },
     "metadata": {
      "needs_background": "light"
     },
     "output_type": "display_data"
    },
    {
     "data": {
      "image/png": "[encoded data removed]",
      "text/plain": [
       "<Figure size 360x360 with 1 Axes>"
      ]
     },
     "metadata": {
      "needs_background": "light"
     },
     "output_type": "display_data"
    },
    {
     "data": {
      "image/png": "[encoded data removed]",
      "text/plain": [
       "<Figure size 360x360 with 1 Axes>"
      ]
     },
     "metadata": {
      "needs_background": "light"
     },
     "output_type": "display_data"
    }
   ],
   "source": [
    "df.hist('total_area',bins=30,grid=True, figsize=(5,5))\n",
    "df.hist('last_price',bins=100,grid=True, figsize=(5,5))\n",
    "df.hist('rooms',bins=10,grid=True, figsize=(5,5))\n",
    "df.hist('ceiling_height',bins=30,grid=True, figsize=(5,5))"
   ]
  },
  {
   "cell_type": "markdown",
   "metadata": {},
   "source": [
    "На всех четырех гистограммах присутствуют аномально высокие значения. Начнем с рассмотрения наиболее неправдоподобных данных - высоты потолков больше 8м. Посмотрим на остальные параметры таких квартир. Отфильтруем их. "
   ]
  },
  {
   "cell_type": "code",
   "execution_count": 26,
   "metadata": {},
   "outputs": [
    {
     "data": {
      "text/html": [
       "<div>\n",
       "<style scoped>\n",
       "    .dataframe tbody tr th:only-of-type {\n",
       "        vertical-align: middle;\n",
       "    }\n",
       "\n",
       "    .dataframe tbody tr th {\n",
       "        vertical-align: top;\n",
       "    }\n",
       "\n",
       "    .dataframe thead th {\n",
       "        text-align: right;\n",
       "    }\n",
       "</style>\n",
       "<table border=\"1\" class=\"dataframe\">\n",
       "  <thead>\n",
       "    <tr style=\"text-align: right;\">\n",
       "      <th></th>\n",
       "      <th>total_images</th>\n",
       "      <th>last_price</th>\n",
       "      <th>total_area</th>\n",
       "      <th>first_day_exposition</th>\n",
       "      <th>rooms</th>\n",
       "      <th>ceiling_height</th>\n",
       "      <th>floors_total</th>\n",
       "      <th>living_area</th>\n",
       "      <th>floor</th>\n",
       "      <th>is_apartment</th>\n",
       "      <th>...</th>\n",
       "      <th>ponds_nearest</th>\n",
       "      <th>days_exposition</th>\n",
       "      <th>kitchen_median</th>\n",
       "      <th>price_per_meter</th>\n",
       "      <th>weekday</th>\n",
       "      <th>month</th>\n",
       "      <th>year</th>\n",
       "      <th>floor_category</th>\n",
       "      <th>living_area_ratio</th>\n",
       "      <th>kitchen_area_ratio</th>\n",
       "    </tr>\n",
       "  </thead>\n",
       "  <tbody>\n",
       "    <tr>\n",
       "      <th>355</th>\n",
       "      <td>17</td>\n",
       "      <td>3600000.0</td>\n",
       "      <td>55.2</td>\n",
       "      <td>2018-07-12</td>\n",
       "      <td>2</td>\n",
       "      <td>25.0</td>\n",
       "      <td>5</td>\n",
       "      <td>32.0</td>\n",
       "      <td>2</td>\n",
       "      <td>False</td>\n",
       "      <td>...</td>\n",
       "      <td>NaN</td>\n",
       "      <td>259.0</td>\n",
       "      <td>8.80</td>\n",
       "      <td>65217.391304</td>\n",
       "      <td>3</td>\n",
       "      <td>7</td>\n",
       "      <td>2018</td>\n",
       "      <td>another</td>\n",
       "      <td>0.579710</td>\n",
       "      <td>0.307971</td>\n",
       "    </tr>\n",
       "    <tr>\n",
       "      <th>464</th>\n",
       "      <td>15</td>\n",
       "      <td>66571000.0</td>\n",
       "      <td>280.3</td>\n",
       "      <td>2015-06-11</td>\n",
       "      <td>6</td>\n",
       "      <td>5.2</td>\n",
       "      <td>8</td>\n",
       "      <td>159.5</td>\n",
       "      <td>7</td>\n",
       "      <td>NaN</td>\n",
       "      <td>...</td>\n",
       "      <td>616.0</td>\n",
       "      <td>578.0</td>\n",
       "      <td>19.50</td>\n",
       "      <td>237499.108098</td>\n",
       "      <td>3</td>\n",
       "      <td>6</td>\n",
       "      <td>2015</td>\n",
       "      <td>another</td>\n",
       "      <td>0.569033</td>\n",
       "      <td>0.053514</td>\n",
       "    </tr>\n",
       "    <tr>\n",
       "      <th>1026</th>\n",
       "      <td>20</td>\n",
       "      <td>155000000.0</td>\n",
       "      <td>310.0</td>\n",
       "      <td>2018-10-12</td>\n",
       "      <td>5</td>\n",
       "      <td>5.3</td>\n",
       "      <td>3</td>\n",
       "      <td>190.0</td>\n",
       "      <td>3</td>\n",
       "      <td>NaN</td>\n",
       "      <td>...</td>\n",
       "      <td>603.0</td>\n",
       "      <td>NaN</td>\n",
       "      <td>15.10</td>\n",
       "      <td>500000.000000</td>\n",
       "      <td>4</td>\n",
       "      <td>10</td>\n",
       "      <td>2018</td>\n",
       "      <td>last</td>\n",
       "      <td>0.612903</td>\n",
       "      <td>0.064516</td>\n",
       "    </tr>\n",
       "    <tr>\n",
       "      <th>1388</th>\n",
       "      <td>20</td>\n",
       "      <td>59800000.0</td>\n",
       "      <td>399.0</td>\n",
       "      <td>2015-01-21</td>\n",
       "      <td>5</td>\n",
       "      <td>5.6</td>\n",
       "      <td>6</td>\n",
       "      <td>NaN</td>\n",
       "      <td>6</td>\n",
       "      <td>NaN</td>\n",
       "      <td>...</td>\n",
       "      <td>577.0</td>\n",
       "      <td>719.0</td>\n",
       "      <td>15.10</td>\n",
       "      <td>149874.686717</td>\n",
       "      <td>2</td>\n",
       "      <td>1</td>\n",
       "      <td>2015</td>\n",
       "      <td>last</td>\n",
       "      <td>NaN</td>\n",
       "      <td>0.050125</td>\n",
       "    </tr>\n",
       "    <tr>\n",
       "      <th>3148</th>\n",
       "      <td>14</td>\n",
       "      <td>2900000.0</td>\n",
       "      <td>75.0</td>\n",
       "      <td>2018-11-12</td>\n",
       "      <td>3</td>\n",
       "      <td>32.0</td>\n",
       "      <td>3</td>\n",
       "      <td>53.0</td>\n",
       "      <td>2</td>\n",
       "      <td>NaN</td>\n",
       "      <td>...</td>\n",
       "      <td>NaN</td>\n",
       "      <td>NaN</td>\n",
       "      <td>9.50</td>\n",
       "      <td>38666.666667</td>\n",
       "      <td>0</td>\n",
       "      <td>11</td>\n",
       "      <td>2018</td>\n",
       "      <td>another</td>\n",
       "      <td>0.706667</td>\n",
       "      <td>0.186667</td>\n",
       "    </tr>\n",
       "    <tr>\n",
       "      <th>3474</th>\n",
       "      <td>3</td>\n",
       "      <td>1400000.0</td>\n",
       "      <td>30.0</td>\n",
       "      <td>2018-03-16</td>\n",
       "      <td>1</td>\n",
       "      <td>8.0</td>\n",
       "      <td>5</td>\n",
       "      <td>15.3</td>\n",
       "      <td>2</td>\n",
       "      <td>False</td>\n",
       "      <td>...</td>\n",
       "      <td>NaN</td>\n",
       "      <td>125.0</td>\n",
       "      <td>9.04</td>\n",
       "      <td>46666.666667</td>\n",
       "      <td>4</td>\n",
       "      <td>3</td>\n",
       "      <td>2018</td>\n",
       "      <td>another</td>\n",
       "      <td>0.510000</td>\n",
       "      <td>0.1</td>\n",
       "    </tr>\n",
       "    <tr>\n",
       "      <th>4643</th>\n",
       "      <td>0</td>\n",
       "      <td>4300000.0</td>\n",
       "      <td>45.0</td>\n",
       "      <td>2018-02-01</td>\n",
       "      <td>2</td>\n",
       "      <td>25.0</td>\n",
       "      <td>9</td>\n",
       "      <td>30.0</td>\n",
       "      <td>2</td>\n",
       "      <td>NaN</td>\n",
       "      <td>...</td>\n",
       "      <td>331.0</td>\n",
       "      <td>181.0</td>\n",
       "      <td>8.80</td>\n",
       "      <td>95555.555556</td>\n",
       "      <td>3</td>\n",
       "      <td>2</td>\n",
       "      <td>2018</td>\n",
       "      <td>another</td>\n",
       "      <td>0.666667</td>\n",
       "      <td>0.0</td>\n",
       "    </tr>\n",
       "    <tr>\n",
       "      <th>4876</th>\n",
       "      <td>7</td>\n",
       "      <td>3000000.0</td>\n",
       "      <td>25.0</td>\n",
       "      <td>2017-09-27</td>\n",
       "      <td>0</td>\n",
       "      <td>27.0</td>\n",
       "      <td>25</td>\n",
       "      <td>17.0</td>\n",
       "      <td>17</td>\n",
       "      <td>NaN</td>\n",
       "      <td>...</td>\n",
       "      <td>NaN</td>\n",
       "      <td>28.0</td>\n",
       "      <td>NaN</td>\n",
       "      <td>120000.000000</td>\n",
       "      <td>2</td>\n",
       "      <td>9</td>\n",
       "      <td>2017</td>\n",
       "      <td>another</td>\n",
       "      <td>0.680000</td>\n",
       "      <td>0.28</td>\n",
       "    </tr>\n",
       "    <tr>\n",
       "      <th>5076</th>\n",
       "      <td>0</td>\n",
       "      <td>3850000.0</td>\n",
       "      <td>30.5</td>\n",
       "      <td>2018-10-03</td>\n",
       "      <td>1</td>\n",
       "      <td>24.0</td>\n",
       "      <td>5</td>\n",
       "      <td>19.5</td>\n",
       "      <td>1</td>\n",
       "      <td>True</td>\n",
       "      <td>...</td>\n",
       "      <td>578.0</td>\n",
       "      <td>7.0</td>\n",
       "      <td>9.04</td>\n",
       "      <td>126229.508197</td>\n",
       "      <td>2</td>\n",
       "      <td>10</td>\n",
       "      <td>2018</td>\n",
       "      <td>first</td>\n",
       "      <td>0.639344</td>\n",
       "      <td>0.0</td>\n",
       "    </tr>\n",
       "    <tr>\n",
       "      <th>5246</th>\n",
       "      <td>0</td>\n",
       "      <td>2500000.0</td>\n",
       "      <td>54.0</td>\n",
       "      <td>2017-10-13</td>\n",
       "      <td>2</td>\n",
       "      <td>27.0</td>\n",
       "      <td>5</td>\n",
       "      <td>30.0</td>\n",
       "      <td>3</td>\n",
       "      <td>NaN</td>\n",
       "      <td>...</td>\n",
       "      <td>NaN</td>\n",
       "      <td>540.0</td>\n",
       "      <td>8.80</td>\n",
       "      <td>46296.296296</td>\n",
       "      <td>4</td>\n",
       "      <td>10</td>\n",
       "      <td>2017</td>\n",
       "      <td>another</td>\n",
       "      <td>0.555556</td>\n",
       "      <td>0.0</td>\n",
       "    </tr>\n",
       "    <tr>\n",
       "      <th>5669</th>\n",
       "      <td>4</td>\n",
       "      <td>4400000.0</td>\n",
       "      <td>50.0</td>\n",
       "      <td>2017-08-08</td>\n",
       "      <td>2</td>\n",
       "      <td>26.0</td>\n",
       "      <td>9</td>\n",
       "      <td>21.3</td>\n",
       "      <td>3</td>\n",
       "      <td>NaN</td>\n",
       "      <td>...</td>\n",
       "      <td>NaN</td>\n",
       "      <td>267.0</td>\n",
       "      <td>8.80</td>\n",
       "      <td>88000.000000</td>\n",
       "      <td>1</td>\n",
       "      <td>8</td>\n",
       "      <td>2017</td>\n",
       "      <td>another</td>\n",
       "      <td>0.426000</td>\n",
       "      <td>0.08</td>\n",
       "    </tr>\n",
       "    <tr>\n",
       "      <th>5807</th>\n",
       "      <td>17</td>\n",
       "      <td>8150000.0</td>\n",
       "      <td>80.0</td>\n",
       "      <td>2019-01-09</td>\n",
       "      <td>2</td>\n",
       "      <td>27.0</td>\n",
       "      <td>36</td>\n",
       "      <td>41.0</td>\n",
       "      <td>13</td>\n",
       "      <td>NaN</td>\n",
       "      <td>...</td>\n",
       "      <td>80.0</td>\n",
       "      <td>38.0</td>\n",
       "      <td>8.80</td>\n",
       "      <td>101875.000000</td>\n",
       "      <td>2</td>\n",
       "      <td>1</td>\n",
       "      <td>2019</td>\n",
       "      <td>another</td>\n",
       "      <td>0.512500</td>\n",
       "      <td>0.2125</td>\n",
       "    </tr>\n",
       "    <tr>\n",
       "      <th>5863</th>\n",
       "      <td>20</td>\n",
       "      <td>5650000.0</td>\n",
       "      <td>45.0</td>\n",
       "      <td>2018-08-15</td>\n",
       "      <td>1</td>\n",
       "      <td>8.3</td>\n",
       "      <td>16</td>\n",
       "      <td>19.3</td>\n",
       "      <td>14</td>\n",
       "      <td>NaN</td>\n",
       "      <td>...</td>\n",
       "      <td>613.0</td>\n",
       "      <td>14.0</td>\n",
       "      <td>9.04</td>\n",
       "      <td>125555.555556</td>\n",
       "      <td>2</td>\n",
       "      <td>8</td>\n",
       "      <td>2018</td>\n",
       "      <td>another</td>\n",
       "      <td>0.428889</td>\n",
       "      <td>0.444444</td>\n",
       "    </tr>\n",
       "    <tr>\n",
       "      <th>6246</th>\n",
       "      <td>6</td>\n",
       "      <td>3300000.0</td>\n",
       "      <td>44.4</td>\n",
       "      <td>2019-03-25</td>\n",
       "      <td>2</td>\n",
       "      <td>25.0</td>\n",
       "      <td>5</td>\n",
       "      <td>31.3</td>\n",
       "      <td>5</td>\n",
       "      <td>NaN</td>\n",
       "      <td>...</td>\n",
       "      <td>73.0</td>\n",
       "      <td>NaN</td>\n",
       "      <td>8.80</td>\n",
       "      <td>74324.324324</td>\n",
       "      <td>0</td>\n",
       "      <td>3</td>\n",
       "      <td>2019</td>\n",
       "      <td>last</td>\n",
       "      <td>0.704955</td>\n",
       "      <td>0.135135</td>\n",
       "    </tr>\n",
       "    <tr>\n",
       "      <th>7578</th>\n",
       "      <td>17</td>\n",
       "      <td>38000000.0</td>\n",
       "      <td>143.0</td>\n",
       "      <td>2017-11-02</td>\n",
       "      <td>3</td>\n",
       "      <td>5.5</td>\n",
       "      <td>5</td>\n",
       "      <td>83.0</td>\n",
       "      <td>5</td>\n",
       "      <td>NaN</td>\n",
       "      <td>...</td>\n",
       "      <td>NaN</td>\n",
       "      <td>NaN</td>\n",
       "      <td>9.50</td>\n",
       "      <td>265734.265734</td>\n",
       "      <td>3</td>\n",
       "      <td>11</td>\n",
       "      <td>2017</td>\n",
       "      <td>last</td>\n",
       "      <td>0.580420</td>\n",
       "      <td>0.118881</td>\n",
       "    </tr>\n",
       "    <tr>\n",
       "      <th>9379</th>\n",
       "      <td>5</td>\n",
       "      <td>3950000.0</td>\n",
       "      <td>42.0</td>\n",
       "      <td>2017-03-26</td>\n",
       "      <td>3</td>\n",
       "      <td>25.0</td>\n",
       "      <td>5</td>\n",
       "      <td>30.0</td>\n",
       "      <td>2</td>\n",
       "      <td>NaN</td>\n",
       "      <td>...</td>\n",
       "      <td>NaN</td>\n",
       "      <td>NaN</td>\n",
       "      <td>9.50</td>\n",
       "      <td>94047.619048</td>\n",
       "      <td>6</td>\n",
       "      <td>3</td>\n",
       "      <td>2017</td>\n",
       "      <td>another</td>\n",
       "      <td>0.714286</td>\n",
       "      <td>0.119048</td>\n",
       "    </tr>\n",
       "    <tr>\n",
       "      <th>10773</th>\n",
       "      <td>8</td>\n",
       "      <td>3800000.0</td>\n",
       "      <td>58.0</td>\n",
       "      <td>2017-10-13</td>\n",
       "      <td>2</td>\n",
       "      <td>27.0</td>\n",
       "      <td>10</td>\n",
       "      <td>30.1</td>\n",
       "      <td>3</td>\n",
       "      <td>False</td>\n",
       "      <td>...</td>\n",
       "      <td>NaN</td>\n",
       "      <td>71.0</td>\n",
       "      <td>8.80</td>\n",
       "      <td>65517.241379</td>\n",
       "      <td>4</td>\n",
       "      <td>10</td>\n",
       "      <td>2017</td>\n",
       "      <td>another</td>\n",
       "      <td>0.518966</td>\n",
       "      <td>0.137931</td>\n",
       "    </tr>\n",
       "    <tr>\n",
       "      <th>11285</th>\n",
       "      <td>0</td>\n",
       "      <td>1950000.0</td>\n",
       "      <td>37.0</td>\n",
       "      <td>2019-03-20</td>\n",
       "      <td>1</td>\n",
       "      <td>25.0</td>\n",
       "      <td>5</td>\n",
       "      <td>17.0</td>\n",
       "      <td>4</td>\n",
       "      <td>False</td>\n",
       "      <td>...</td>\n",
       "      <td>NaN</td>\n",
       "      <td>18.0</td>\n",
       "      <td>9.04</td>\n",
       "      <td>52702.702703</td>\n",
       "      <td>2</td>\n",
       "      <td>3</td>\n",
       "      <td>2019</td>\n",
       "      <td>another</td>\n",
       "      <td>0.459459</td>\n",
       "      <td>0.0</td>\n",
       "    </tr>\n",
       "    <tr>\n",
       "      <th>12628</th>\n",
       "      <td>14</td>\n",
       "      <td>3900000.0</td>\n",
       "      <td>50.0</td>\n",
       "      <td>2018-03-29</td>\n",
       "      <td>1</td>\n",
       "      <td>5.3</td>\n",
       "      <td>5</td>\n",
       "      <td>NaN</td>\n",
       "      <td>5</td>\n",
       "      <td>NaN</td>\n",
       "      <td>...</td>\n",
       "      <td>92.0</td>\n",
       "      <td>8.0</td>\n",
       "      <td>9.04</td>\n",
       "      <td>78000.000000</td>\n",
       "      <td>3</td>\n",
       "      <td>3</td>\n",
       "      <td>2018</td>\n",
       "      <td>last</td>\n",
       "      <td>NaN</td>\n",
       "      <td>0.28</td>\n",
       "    </tr>\n",
       "    <tr>\n",
       "      <th>14382</th>\n",
       "      <td>9</td>\n",
       "      <td>1700000.0</td>\n",
       "      <td>35.0</td>\n",
       "      <td>2015-12-04</td>\n",
       "      <td>1</td>\n",
       "      <td>25.0</td>\n",
       "      <td>5</td>\n",
       "      <td>20.0</td>\n",
       "      <td>2</td>\n",
       "      <td>False</td>\n",
       "      <td>...</td>\n",
       "      <td>NaN</td>\n",
       "      <td>206.0</td>\n",
       "      <td>9.04</td>\n",
       "      <td>48571.428571</td>\n",
       "      <td>4</td>\n",
       "      <td>12</td>\n",
       "      <td>2015</td>\n",
       "      <td>another</td>\n",
       "      <td>0.571429</td>\n",
       "      <td>0.257143</td>\n",
       "    </tr>\n",
       "    <tr>\n",
       "      <th>15061</th>\n",
       "      <td>19</td>\n",
       "      <td>5600000.0</td>\n",
       "      <td>56.4</td>\n",
       "      <td>2018-05-11</td>\n",
       "      <td>2</td>\n",
       "      <td>14.0</td>\n",
       "      <td>14</td>\n",
       "      <td>32.4</td>\n",
       "      <td>5</td>\n",
       "      <td>NaN</td>\n",
       "      <td>...</td>\n",
       "      <td>NaN</td>\n",
       "      <td>315.0</td>\n",
       "      <td>8.80</td>\n",
       "      <td>99290.780142</td>\n",
       "      <td>4</td>\n",
       "      <td>5</td>\n",
       "      <td>2018</td>\n",
       "      <td>another</td>\n",
       "      <td>0.574468</td>\n",
       "      <td>0.336879</td>\n",
       "    </tr>\n",
       "    <tr>\n",
       "      <th>15743</th>\n",
       "      <td>14</td>\n",
       "      <td>5600000.0</td>\n",
       "      <td>67.0</td>\n",
       "      <td>2016-11-11</td>\n",
       "      <td>3</td>\n",
       "      <td>8.0</td>\n",
       "      <td>16</td>\n",
       "      <td>41.0</td>\n",
       "      <td>1</td>\n",
       "      <td>NaN</td>\n",
       "      <td>...</td>\n",
       "      <td>NaN</td>\n",
       "      <td>474.0</td>\n",
       "      <td>9.50</td>\n",
       "      <td>83582.089552</td>\n",
       "      <td>4</td>\n",
       "      <td>11</td>\n",
       "      <td>2016</td>\n",
       "      <td>first</td>\n",
       "      <td>0.611940</td>\n",
       "      <td>0.208955</td>\n",
       "    </tr>\n",
       "    <tr>\n",
       "      <th>17442</th>\n",
       "      <td>0</td>\n",
       "      <td>5350000.0</td>\n",
       "      <td>54.0</td>\n",
       "      <td>2015-06-16</td>\n",
       "      <td>2</td>\n",
       "      <td>8.0</td>\n",
       "      <td>5</td>\n",
       "      <td>29.0</td>\n",
       "      <td>2</td>\n",
       "      <td>NaN</td>\n",
       "      <td>...</td>\n",
       "      <td>NaN</td>\n",
       "      <td>469.0</td>\n",
       "      <td>8.80</td>\n",
       "      <td>99074.074074</td>\n",
       "      <td>1</td>\n",
       "      <td>6</td>\n",
       "      <td>2015</td>\n",
       "      <td>another</td>\n",
       "      <td>0.537037</td>\n",
       "      <td>0.0</td>\n",
       "    </tr>\n",
       "    <tr>\n",
       "      <th>17496</th>\n",
       "      <td>15</td>\n",
       "      <td>6700000.0</td>\n",
       "      <td>92.9</td>\n",
       "      <td>2019-02-19</td>\n",
       "      <td>3</td>\n",
       "      <td>20.0</td>\n",
       "      <td>17</td>\n",
       "      <td>53.2</td>\n",
       "      <td>14</td>\n",
       "      <td>NaN</td>\n",
       "      <td>...</td>\n",
       "      <td>NaN</td>\n",
       "      <td>NaN</td>\n",
       "      <td>9.50</td>\n",
       "      <td>72120.559742</td>\n",
       "      <td>1</td>\n",
       "      <td>2</td>\n",
       "      <td>2019</td>\n",
       "      <td>another</td>\n",
       "      <td>0.572659</td>\n",
       "      <td>0.161464</td>\n",
       "    </tr>\n",
       "    <tr>\n",
       "      <th>17857</th>\n",
       "      <td>1</td>\n",
       "      <td>3900000.0</td>\n",
       "      <td>56.0</td>\n",
       "      <td>2017-12-22</td>\n",
       "      <td>3</td>\n",
       "      <td>27.0</td>\n",
       "      <td>5</td>\n",
       "      <td>33.0</td>\n",
       "      <td>4</td>\n",
       "      <td>False</td>\n",
       "      <td>...</td>\n",
       "      <td>NaN</td>\n",
       "      <td>73.0</td>\n",
       "      <td>9.50</td>\n",
       "      <td>69642.857143</td>\n",
       "      <td>4</td>\n",
       "      <td>12</td>\n",
       "      <td>2017</td>\n",
       "      <td>another</td>\n",
       "      <td>0.589286</td>\n",
       "      <td>0.017857</td>\n",
       "    </tr>\n",
       "    <tr>\n",
       "      <th>18545</th>\n",
       "      <td>6</td>\n",
       "      <td>3750000.0</td>\n",
       "      <td>43.0</td>\n",
       "      <td>2019-03-18</td>\n",
       "      <td>2</td>\n",
       "      <td>25.0</td>\n",
       "      <td>5</td>\n",
       "      <td>29.0</td>\n",
       "      <td>3</td>\n",
       "      <td>False</td>\n",
       "      <td>...</td>\n",
       "      <td>NaN</td>\n",
       "      <td>12.0</td>\n",
       "      <td>8.80</td>\n",
       "      <td>87209.302326</td>\n",
       "      <td>0</td>\n",
       "      <td>3</td>\n",
       "      <td>2019</td>\n",
       "      <td>another</td>\n",
       "      <td>0.674419</td>\n",
       "      <td>0.139535</td>\n",
       "    </tr>\n",
       "    <tr>\n",
       "      <th>20264</th>\n",
       "      <td>17</td>\n",
       "      <td>119000000.0</td>\n",
       "      <td>187.6</td>\n",
       "      <td>2017-07-10</td>\n",
       "      <td>4</td>\n",
       "      <td>6.0</td>\n",
       "      <td>7</td>\n",
       "      <td>147.0</td>\n",
       "      <td>7</td>\n",
       "      <td>NaN</td>\n",
       "      <td>...</td>\n",
       "      <td>305.0</td>\n",
       "      <td>259.0</td>\n",
       "      <td>11.10</td>\n",
       "      <td>634328.358209</td>\n",
       "      <td>0</td>\n",
       "      <td>7</td>\n",
       "      <td>2017</td>\n",
       "      <td>last</td>\n",
       "      <td>0.783582</td>\n",
       "      <td>0.090618</td>\n",
       "    </tr>\n",
       "    <tr>\n",
       "      <th>20478</th>\n",
       "      <td>11</td>\n",
       "      <td>8000000.0</td>\n",
       "      <td>45.0</td>\n",
       "      <td>2017-07-18</td>\n",
       "      <td>1</td>\n",
       "      <td>27.0</td>\n",
       "      <td>4</td>\n",
       "      <td>22.0</td>\n",
       "      <td>2</td>\n",
       "      <td>NaN</td>\n",
       "      <td>...</td>\n",
       "      <td>449.0</td>\n",
       "      <td>429.0</td>\n",
       "      <td>9.04</td>\n",
       "      <td>177777.777778</td>\n",
       "      <td>1</td>\n",
       "      <td>7</td>\n",
       "      <td>2017</td>\n",
       "      <td>another</td>\n",
       "      <td>0.488889</td>\n",
       "      <td>0.244444</td>\n",
       "    </tr>\n",
       "    <tr>\n",
       "      <th>20507</th>\n",
       "      <td>12</td>\n",
       "      <td>5950000.0</td>\n",
       "      <td>60.0</td>\n",
       "      <td>2018-02-19</td>\n",
       "      <td>2</td>\n",
       "      <td>22.6</td>\n",
       "      <td>14</td>\n",
       "      <td>35.0</td>\n",
       "      <td>11</td>\n",
       "      <td>NaN</td>\n",
       "      <td>...</td>\n",
       "      <td>NaN</td>\n",
       "      <td>40.0</td>\n",
       "      <td>8.80</td>\n",
       "      <td>99166.666667</td>\n",
       "      <td>0</td>\n",
       "      <td>2</td>\n",
       "      <td>2018</td>\n",
       "      <td>another</td>\n",
       "      <td>0.583333</td>\n",
       "      <td>0.2</td>\n",
       "    </tr>\n",
       "    <tr>\n",
       "      <th>21227</th>\n",
       "      <td>0</td>\n",
       "      <td>8200000.0</td>\n",
       "      <td>71.0</td>\n",
       "      <td>2017-07-21</td>\n",
       "      <td>0</td>\n",
       "      <td>5.8</td>\n",
       "      <td>5</td>\n",
       "      <td>68.0</td>\n",
       "      <td>5</td>\n",
       "      <td>NaN</td>\n",
       "      <td>...</td>\n",
       "      <td>366.0</td>\n",
       "      <td>30.0</td>\n",
       "      <td>NaN</td>\n",
       "      <td>115492.957746</td>\n",
       "      <td>4</td>\n",
       "      <td>7</td>\n",
       "      <td>2017</td>\n",
       "      <td>last</td>\n",
       "      <td>0.957746</td>\n",
       "      <td>0.0</td>\n",
       "    </tr>\n",
       "    <tr>\n",
       "      <th>21377</th>\n",
       "      <td>19</td>\n",
       "      <td>4900000.0</td>\n",
       "      <td>42.0</td>\n",
       "      <td>2017-04-18</td>\n",
       "      <td>1</td>\n",
       "      <td>27.5</td>\n",
       "      <td>24</td>\n",
       "      <td>37.7</td>\n",
       "      <td>19</td>\n",
       "      <td>False</td>\n",
       "      <td>...</td>\n",
       "      <td>NaN</td>\n",
       "      <td>61.0</td>\n",
       "      <td>9.04</td>\n",
       "      <td>116666.666667</td>\n",
       "      <td>1</td>\n",
       "      <td>4</td>\n",
       "      <td>2017</td>\n",
       "      <td>another</td>\n",
       "      <td>0.897619</td>\n",
       "      <td>0.452381</td>\n",
       "    </tr>\n",
       "    <tr>\n",
       "      <th>21824</th>\n",
       "      <td>20</td>\n",
       "      <td>2450000.0</td>\n",
       "      <td>44.0</td>\n",
       "      <td>2019-02-12</td>\n",
       "      <td>2</td>\n",
       "      <td>27.0</td>\n",
       "      <td>2</td>\n",
       "      <td>38.0</td>\n",
       "      <td>2</td>\n",
       "      <td>False</td>\n",
       "      <td>...</td>\n",
       "      <td>NaN</td>\n",
       "      <td>NaN</td>\n",
       "      <td>8.80</td>\n",
       "      <td>55681.818182</td>\n",
       "      <td>1</td>\n",
       "      <td>2</td>\n",
       "      <td>2019</td>\n",
       "      <td>last</td>\n",
       "      <td>0.863636</td>\n",
       "      <td>0.454545</td>\n",
       "    </tr>\n",
       "    <tr>\n",
       "      <th>22309</th>\n",
       "      <td>20</td>\n",
       "      <td>5300000.0</td>\n",
       "      <td>45.0</td>\n",
       "      <td>2017-09-30</td>\n",
       "      <td>1</td>\n",
       "      <td>10.3</td>\n",
       "      <td>16</td>\n",
       "      <td>15.5</td>\n",
       "      <td>15</td>\n",
       "      <td>NaN</td>\n",
       "      <td>...</td>\n",
       "      <td>450.0</td>\n",
       "      <td>136.0</td>\n",
       "      <td>9.04</td>\n",
       "      <td>117777.777778</td>\n",
       "      <td>5</td>\n",
       "      <td>9</td>\n",
       "      <td>2017</td>\n",
       "      <td>another</td>\n",
       "      <td>0.344444</td>\n",
       "      <td>0.444444</td>\n",
       "    </tr>\n",
       "    <tr>\n",
       "      <th>22336</th>\n",
       "      <td>19</td>\n",
       "      <td>9999000.0</td>\n",
       "      <td>92.4</td>\n",
       "      <td>2019-04-05</td>\n",
       "      <td>2</td>\n",
       "      <td>32.0</td>\n",
       "      <td>6</td>\n",
       "      <td>55.5</td>\n",
       "      <td>5</td>\n",
       "      <td>False</td>\n",
       "      <td>...</td>\n",
       "      <td>511.0</td>\n",
       "      <td>NaN</td>\n",
       "      <td>8.80</td>\n",
       "      <td>108214.285714</td>\n",
       "      <td>4</td>\n",
       "      <td>4</td>\n",
       "      <td>2019</td>\n",
       "      <td>another</td>\n",
       "      <td>0.600649</td>\n",
       "      <td>0.205628</td>\n",
       "    </tr>\n",
       "    <tr>\n",
       "      <th>22869</th>\n",
       "      <td>0</td>\n",
       "      <td>15000000.0</td>\n",
       "      <td>25.0</td>\n",
       "      <td>2018-07-25</td>\n",
       "      <td>1</td>\n",
       "      <td>100.0</td>\n",
       "      <td>5</td>\n",
       "      <td>14.0</td>\n",
       "      <td>5</td>\n",
       "      <td>True</td>\n",
       "      <td>...</td>\n",
       "      <td>30.0</td>\n",
       "      <td>19.0</td>\n",
       "      <td>9.04</td>\n",
       "      <td>600000.000000</td>\n",
       "      <td>2</td>\n",
       "      <td>7</td>\n",
       "      <td>2018</td>\n",
       "      <td>last</td>\n",
       "      <td>0.560000</td>\n",
       "      <td>0.0</td>\n",
       "    </tr>\n",
       "    <tr>\n",
       "      <th>22938</th>\n",
       "      <td>14</td>\n",
       "      <td>4000000.0</td>\n",
       "      <td>98.0</td>\n",
       "      <td>2018-03-15</td>\n",
       "      <td>4</td>\n",
       "      <td>27.0</td>\n",
       "      <td>2</td>\n",
       "      <td>73.0</td>\n",
       "      <td>2</td>\n",
       "      <td>True</td>\n",
       "      <td>...</td>\n",
       "      <td>NaN</td>\n",
       "      <td>27.0</td>\n",
       "      <td>11.10</td>\n",
       "      <td>40816.326531</td>\n",
       "      <td>3</td>\n",
       "      <td>3</td>\n",
       "      <td>2018</td>\n",
       "      <td>last</td>\n",
       "      <td>0.744898</td>\n",
       "      <td>0.142857</td>\n",
       "    </tr>\n",
       "  </tbody>\n",
       "</table>\n",
       "<p>36 rows × 30 columns</p>\n",
       "</div>"
      ],
      "text/plain": [
       "       total_images   last_price  total_area first_day_exposition  rooms  \\\n",
       "355              17    3600000.0        55.2           2018-07-12      2   \n",
       "464              15   66571000.0       280.3           2015-06-11      6   \n",
       "1026             20  155000000.0       310.0           2018-10-12      5   \n",
       "1388             20   59800000.0       399.0           2015-01-21      5   \n",
       "3148             14    2900000.0        75.0           2018-11-12      3   \n",
       "3474              3    1400000.0        30.0           2018-03-16      1   \n",
       "4643              0    4300000.0        45.0           2018-02-01      2   \n",
       "4876              7    3000000.0        25.0           2017-09-27      0   \n",
       "5076              0    3850000.0        30.5           2018-10-03      1   \n",
       "5246              0    2500000.0        54.0           2017-10-13      2   \n",
       "5669              4    4400000.0        50.0           2017-08-08      2   \n",
       "5807             17    8150000.0        80.0           2019-01-09      2   \n",
       "5863             20    5650000.0        45.0           2018-08-15      1   \n",
       "6246              6    3300000.0        44.4           2019-03-25      2   \n",
       "7578             17   38000000.0       143.0           2017-11-02      3   \n",
       "9379              5    3950000.0        42.0           2017-03-26      3   \n",
       "10773             8    3800000.0        58.0           2017-10-13      2   \n",
       "11285             0    1950000.0        37.0           2019-03-20      1   \n",
       "12628            14    3900000.0        50.0           2018-03-29      1   \n",
       "14382             9    1700000.0        35.0           2015-12-04      1   \n",
       "15061            19    5600000.0        56.4           2018-05-11      2   \n",
       "15743            14    5600000.0        67.0           2016-11-11      3   \n",
       "17442             0    5350000.0        54.0           2015-06-16      2   \n",
       "17496            15    6700000.0        92.9           2019-02-19      3   \n",
       "17857             1    3900000.0        56.0           2017-12-22      3   \n",
       "18545             6    3750000.0        43.0           2019-03-18      2   \n",
       "20264            17  119000000.0       187.6           2017-07-10      4   \n",
       "20478            11    8000000.0        45.0           2017-07-18      1   \n",
       "20507            12    5950000.0        60.0           2018-02-19      2   \n",
       "21227             0    8200000.0        71.0           2017-07-21      0   \n",
       "21377            19    4900000.0        42.0           2017-04-18      1   \n",
       "21824            20    2450000.0        44.0           2019-02-12      2   \n",
       "22309            20    5300000.0        45.0           2017-09-30      1   \n",
       "22336            19    9999000.0        92.4           2019-04-05      2   \n",
       "22869             0   15000000.0        25.0           2018-07-25      1   \n",
       "22938            14    4000000.0        98.0           2018-03-15      4   \n",
       "\n",
       "       ceiling_height  floors_total  living_area  floor is_apartment  ...  \\\n",
       "355              25.0             5         32.0      2        False  ...   \n",
       "464               5.2             8        159.5      7          NaN  ...   \n",
       "1026              5.3             3        190.0      3          NaN  ...   \n",
       "1388              5.6             6          NaN      6          NaN  ...   \n",
       "3148             32.0             3         53.0      2          NaN  ...   \n",
       "3474              8.0             5         15.3      2        False  ...   \n",
       "4643             25.0             9         30.0      2          NaN  ...   \n",
       "4876             27.0            25         17.0     17          NaN  ...   \n",
       "5076             24.0             5         19.5      1         True  ...   \n",
       "5246             27.0             5         30.0      3          NaN  ...   \n",
       "5669             26.0             9         21.3      3          NaN  ...   \n",
       "5807             27.0            36         41.0     13          NaN  ...   \n",
       "5863              8.3            16         19.3     14          NaN  ...   \n",
       "6246             25.0             5         31.3      5          NaN  ...   \n",
       "7578              5.5             5         83.0      5          NaN  ...   \n",
       "9379             25.0             5         30.0      2          NaN  ...   \n",
       "10773            27.0            10         30.1      3        False  ...   \n",
       "11285            25.0             5         17.0      4        False  ...   \n",
       "12628             5.3             5          NaN      5          NaN  ...   \n",
       "14382            25.0             5         20.0      2        False  ...   \n",
       "15061            14.0            14         32.4      5          NaN  ...   \n",
       "15743             8.0            16         41.0      1          NaN  ...   \n",
       "17442             8.0             5         29.0      2          NaN  ...   \n",
       "17496            20.0            17         53.2     14          NaN  ...   \n",
       "17857            27.0             5         33.0      4        False  ...   \n",
       "18545            25.0             5         29.0      3        False  ...   \n",
       "20264             6.0             7        147.0      7          NaN  ...   \n",
       "20478            27.0             4         22.0      2          NaN  ...   \n",
       "20507            22.6            14         35.0     11          NaN  ...   \n",
       "21227             5.8             5         68.0      5          NaN  ...   \n",
       "21377            27.5            24         37.7     19        False  ...   \n",
       "21824            27.0             2         38.0      2        False  ...   \n",
       "22309            10.3            16         15.5     15          NaN  ...   \n",
       "22336            32.0             6         55.5      5        False  ...   \n",
       "22869           100.0             5         14.0      5         True  ...   \n",
       "22938            27.0             2         73.0      2         True  ...   \n",
       "\n",
       "       ponds_nearest  days_exposition kitchen_median  price_per_meter weekday  \\\n",
       "355              NaN            259.0           8.80     65217.391304       3   \n",
       "464            616.0            578.0          19.50    237499.108098       3   \n",
       "1026           603.0              NaN          15.10    500000.000000       4   \n",
       "1388           577.0            719.0          15.10    149874.686717       2   \n",
       "3148             NaN              NaN           9.50     38666.666667       0   \n",
       "3474             NaN            125.0           9.04     46666.666667       4   \n",
       "4643           331.0            181.0           8.80     95555.555556       3   \n",
       "4876             NaN             28.0            NaN    120000.000000       2   \n",
       "5076           578.0              7.0           9.04    126229.508197       2   \n",
       "5246             NaN            540.0           8.80     46296.296296       4   \n",
       "5669             NaN            267.0           8.80     88000.000000       1   \n",
       "5807            80.0             38.0           8.80    101875.000000       2   \n",
       "5863           613.0             14.0           9.04    125555.555556       2   \n",
       "6246            73.0              NaN           8.80     74324.324324       0   \n",
       "7578             NaN              NaN           9.50    265734.265734       3   \n",
       "9379             NaN              NaN           9.50     94047.619048       6   \n",
       "10773            NaN             71.0           8.80     65517.241379       4   \n",
       "11285            NaN             18.0           9.04     52702.702703       2   \n",
       "12628           92.0              8.0           9.04     78000.000000       3   \n",
       "14382            NaN            206.0           9.04     48571.428571       4   \n",
       "15061            NaN            315.0           8.80     99290.780142       4   \n",
       "15743            NaN            474.0           9.50     83582.089552       4   \n",
       "17442            NaN            469.0           8.80     99074.074074       1   \n",
       "17496            NaN              NaN           9.50     72120.559742       1   \n",
       "17857            NaN             73.0           9.50     69642.857143       4   \n",
       "18545            NaN             12.0           8.80     87209.302326       0   \n",
       "20264          305.0            259.0          11.10    634328.358209       0   \n",
       "20478          449.0            429.0           9.04    177777.777778       1   \n",
       "20507            NaN             40.0           8.80     99166.666667       0   \n",
       "21227          366.0             30.0            NaN    115492.957746       4   \n",
       "21377            NaN             61.0           9.04    116666.666667       1   \n",
       "21824            NaN              NaN           8.80     55681.818182       1   \n",
       "22309          450.0            136.0           9.04    117777.777778       5   \n",
       "22336          511.0              NaN           8.80    108214.285714       4   \n",
       "22869           30.0             19.0           9.04    600000.000000       2   \n",
       "22938            NaN             27.0          11.10     40816.326531       3   \n",
       "\n",
       "       month  year  floor_category  living_area_ratio  kitchen_area_ratio  \n",
       "355        7  2018         another           0.579710            0.307971  \n",
       "464        6  2015         another           0.569033            0.053514  \n",
       "1026      10  2018            last           0.612903            0.064516  \n",
       "1388       1  2015            last                NaN            0.050125  \n",
       "3148      11  2018         another           0.706667            0.186667  \n",
       "3474       3  2018         another           0.510000                 0.1  \n",
       "4643       2  2018         another           0.666667                 0.0  \n",
       "4876       9  2017         another           0.680000                0.28  \n",
       "5076      10  2018           first           0.639344                 0.0  \n",
       "5246      10  2017         another           0.555556                 0.0  \n",
       "5669       8  2017         another           0.426000                0.08  \n",
       "5807       1  2019         another           0.512500              0.2125  \n",
       "5863       8  2018         another           0.428889            0.444444  \n",
       "6246       3  2019            last           0.704955            0.135135  \n",
       "7578      11  2017            last           0.580420            0.118881  \n",
       "9379       3  2017         another           0.714286            0.119048  \n",
       "10773     10  2017         another           0.518966            0.137931  \n",
       "11285      3  2019         another           0.459459                 0.0  \n",
       "12628      3  2018            last                NaN                0.28  \n",
       "14382     12  2015         another           0.571429            0.257143  \n",
       "15061      5  2018         another           0.574468            0.336879  \n",
       "15743     11  2016           first           0.611940            0.208955  \n",
       "17442      6  2015         another           0.537037                 0.0  \n",
       "17496      2  2019         another           0.572659            0.161464  \n",
       "17857     12  2017         another           0.589286            0.017857  \n",
       "18545      3  2019         another           0.674419            0.139535  \n",
       "20264      7  2017            last           0.783582            0.090618  \n",
       "20478      7  2017         another           0.488889            0.244444  \n",
       "20507      2  2018         another           0.583333                 0.2  \n",
       "21227      7  2017            last           0.957746                 0.0  \n",
       "21377      4  2017         another           0.897619            0.452381  \n",
       "21824      2  2019            last           0.863636            0.454545  \n",
       "22309      9  2017         another           0.344444            0.444444  \n",
       "22336      4  2019         another           0.600649            0.205628  \n",
       "22869      7  2018            last           0.560000                 0.0  \n",
       "22938      3  2018            last           0.744898            0.142857  \n",
       "\n",
       "[36 rows x 30 columns]"
      ]
     },
     "metadata": {},
     "output_type": "display_data"
    }
   ],
   "source": [
    "df_extreme_ceiling_high=df.query('ceiling_height>5')\n",
    "display(df_extreme_ceiling_high)"
   ]
  },
  {
   "cell_type": "markdown",
   "metadata": {},
   "source": [
    "Рассмотрение отфильтрованных данных показывает 1) Квартиры с высотой потолков 5-6 м стоят очень дорого, и,как правило,  имеют большие площади. Признаем такие высоты потолков правдоподобными. 2) Большое количество высот потолков 20-32 м и их цены и площади, сопоставимые с ценами и площадами таких же квартиры с высотой потолков 2-3 м, сравнительно малое количество высот потолков 6-20м и 32-100м говорит о том, что высоты 20-30 м являются введенными по ошибке. Вводящий не там поставил запятую. Разделим их на 10. Квартиры с высотой потолка 6-20 м вообще выкинем из рассмотрения, их количество пренебрежимо мало. Квартиру с высотой потолка 100 м, также, выкинем из рассмотрения. "
   ]
  },
  {
   "cell_type": "markdown",
   "metadata": {},
   "source": [
    "Далее рассмотрим квартиры с неправдоподобно низкими потолками. В качестве границы примем 2м. "
   ]
  },
  {
   "cell_type": "code",
   "execution_count": 27,
   "metadata": {},
   "outputs": [
    {
     "data": {
      "text/html": [
       "<div>\n",
       "<style scoped>\n",
       "    .dataframe tbody tr th:only-of-type {\n",
       "        vertical-align: middle;\n",
       "    }\n",
       "\n",
       "    .dataframe tbody tr th {\n",
       "        vertical-align: top;\n",
       "    }\n",
       "\n",
       "    .dataframe thead th {\n",
       "        text-align: right;\n",
       "    }\n",
       "</style>\n",
       "<table border=\"1\" class=\"dataframe\">\n",
       "  <thead>\n",
       "    <tr style=\"text-align: right;\">\n",
       "      <th></th>\n",
       "      <th>total_images</th>\n",
       "      <th>last_price</th>\n",
       "      <th>total_area</th>\n",
       "      <th>first_day_exposition</th>\n",
       "      <th>rooms</th>\n",
       "      <th>ceiling_height</th>\n",
       "      <th>floors_total</th>\n",
       "      <th>living_area</th>\n",
       "      <th>floor</th>\n",
       "      <th>is_apartment</th>\n",
       "      <th>...</th>\n",
       "      <th>ponds_nearest</th>\n",
       "      <th>days_exposition</th>\n",
       "      <th>kitchen_median</th>\n",
       "      <th>price_per_meter</th>\n",
       "      <th>weekday</th>\n",
       "      <th>month</th>\n",
       "      <th>year</th>\n",
       "      <th>floor_category</th>\n",
       "      <th>living_area_ratio</th>\n",
       "      <th>kitchen_area_ratio</th>\n",
       "    </tr>\n",
       "  </thead>\n",
       "  <tbody>\n",
       "    <tr>\n",
       "      <th>5712</th>\n",
       "      <td>5</td>\n",
       "      <td>1500000.0</td>\n",
       "      <td>42.8</td>\n",
       "      <td>2017-08-14</td>\n",
       "      <td>2</td>\n",
       "      <td>1.20</td>\n",
       "      <td>2</td>\n",
       "      <td>27.5</td>\n",
       "      <td>1</td>\n",
       "      <td>NaN</td>\n",
       "      <td>...</td>\n",
       "      <td>NaN</td>\n",
       "      <td>248.0</td>\n",
       "      <td>8.80</td>\n",
       "      <td>35046.728972</td>\n",
       "      <td>0</td>\n",
       "      <td>8</td>\n",
       "      <td>2017</td>\n",
       "      <td>first</td>\n",
       "      <td>0.642523</td>\n",
       "      <td>0.116822</td>\n",
       "    </tr>\n",
       "    <tr>\n",
       "      <th>16934</th>\n",
       "      <td>5</td>\n",
       "      <td>4100000.0</td>\n",
       "      <td>40.0</td>\n",
       "      <td>2017-10-17</td>\n",
       "      <td>1</td>\n",
       "      <td>1.75</td>\n",
       "      <td>37</td>\n",
       "      <td>17.4</td>\n",
       "      <td>5</td>\n",
       "      <td>NaN</td>\n",
       "      <td>...</td>\n",
       "      <td>80.0</td>\n",
       "      <td>71.0</td>\n",
       "      <td>9.04</td>\n",
       "      <td>102500.000000</td>\n",
       "      <td>1</td>\n",
       "      <td>10</td>\n",
       "      <td>2017</td>\n",
       "      <td>another</td>\n",
       "      <td>0.435000</td>\n",
       "      <td>0.125</td>\n",
       "    </tr>\n",
       "    <tr>\n",
       "      <th>22590</th>\n",
       "      <td>16</td>\n",
       "      <td>6000000.0</td>\n",
       "      <td>55.0</td>\n",
       "      <td>2018-10-31</td>\n",
       "      <td>2</td>\n",
       "      <td>1.00</td>\n",
       "      <td>12</td>\n",
       "      <td>32.4</td>\n",
       "      <td>7</td>\n",
       "      <td>NaN</td>\n",
       "      <td>...</td>\n",
       "      <td>289.0</td>\n",
       "      <td>13.0</td>\n",
       "      <td>8.80</td>\n",
       "      <td>109090.909091</td>\n",
       "      <td>2</td>\n",
       "      <td>10</td>\n",
       "      <td>2018</td>\n",
       "      <td>another</td>\n",
       "      <td>0.589091</td>\n",
       "      <td>0.290909</td>\n",
       "    </tr>\n",
       "  </tbody>\n",
       "</table>\n",
       "<p>3 rows × 30 columns</p>\n",
       "</div>"
      ],
      "text/plain": [
       "       total_images  last_price  total_area first_day_exposition  rooms  \\\n",
       "5712              5   1500000.0        42.8           2017-08-14      2   \n",
       "16934             5   4100000.0        40.0           2017-10-17      1   \n",
       "22590            16   6000000.0        55.0           2018-10-31      2   \n",
       "\n",
       "       ceiling_height  floors_total  living_area  floor is_apartment  ...  \\\n",
       "5712             1.20             2         27.5      1          NaN  ...   \n",
       "16934            1.75            37         17.4      5          NaN  ...   \n",
       "22590            1.00            12         32.4      7          NaN  ...   \n",
       "\n",
       "       ponds_nearest  days_exposition kitchen_median  price_per_meter weekday  \\\n",
       "5712             NaN            248.0           8.80     35046.728972       0   \n",
       "16934           80.0             71.0           9.04    102500.000000       1   \n",
       "22590          289.0             13.0           8.80    109090.909091       2   \n",
       "\n",
       "       month  year  floor_category  living_area_ratio  kitchen_area_ratio  \n",
       "5712       8  2017           first           0.642523            0.116822  \n",
       "16934     10  2017         another           0.435000               0.125  \n",
       "22590     10  2018         another           0.589091            0.290909  \n",
       "\n",
       "[3 rows x 30 columns]"
      ]
     },
     "metadata": {},
     "output_type": "display_data"
    }
   ],
   "source": [
    "df_extreme_ceiling_low=df.query('ceiling_height<2')\n",
    "display(df_extreme_ceiling_low)"
   ]
  },
  {
   "cell_type": "markdown",
   "metadata": {},
   "source": [
    "Предположим, что помещение с высотой 1,2 м, стоящее недорого - это реальный объект с очень низким потолком. Например, чердак. Допустим, что квартира с потолком 1,75 м реально существует,так как высота близка к 2м, а цена правдоподобна. А помещение с потолком 1м за 6 миллионов выкинем из рассмотрения - нереальное сочетание цены и высоты потолка."
   ]
  },
  {
   "cell_type": "code",
   "execution_count": 28,
   "metadata": {},
   "outputs": [],
   "source": [
    "df_good_ceiling_1=df.query('ceiling_height<=6 & ceiling_height !=1')\n",
    "df_good_ceiling_2=df_good_ceiling_1.query('ceiling_height>=20 & ceiling_height<=32')\n",
    "h=df_good_ceiling_2['ceiling_height']\n",
    "h=h*0.1\n",
    "df_good_ceiling_2['ceiling_height']=h    \n",
    "df_good_ceiling=pd.concat([df_good_ceiling_1, df_good_ceiling_2],axis=0)"
   ]
  },
  {
   "cell_type": "markdown",
   "metadata": {},
   "source": [
    "Построим новую гистограмму распределения высот потолков по очищенным данным."
   ]
  },
  {
   "cell_type": "code",
   "execution_count": 29,
   "metadata": {},
   "outputs": [
    {
     "data": {
      "text/plain": [
       "array([[<AxesSubplot:title={'center':'ceiling_height'}>]], dtype=object)"
      ]
     },
     "execution_count": 29,
     "metadata": {},
     "output_type": "execute_result"
    },
    {
     "data": {
      "image/png": "[encoded data removed]",
      "text/plain": [
       "<Figure size 360x360 with 1 Axes>"
      ]
     },
     "metadata": {
      "needs_background": "light"
     },
     "output_type": "display_data"
    }
   ],
   "source": [
    "df_good_ceiling.hist('ceiling_height',bins=30,grid=True, figsize=(5,5))"
   ]
  },
  {
   "cell_type": "markdown",
   "metadata": {},
   "source": [
    "Теперь гистограмма высоты потолка выглядит правдоподобно. Помещений с высотой потолка больше 6 м - не бывает. А даже если и есть, для целей исследования они не важны. Большинство помещений имеют потолок 2-3.5 м. "
   ]
  },
  {
   "cell_type": "markdown",
   "metadata": {},
   "source": [
    "Перейдем к количеству комнат. Рассмотрим количеством комнат менее одной."
   ]
  },
  {
   "cell_type": "code",
   "execution_count": 30,
   "metadata": {},
   "outputs": [
    {
     "data": {
      "text/plain": [
       "197"
      ]
     },
     "execution_count": 30,
     "metadata": {},
     "output_type": "execute_result"
    }
   ],
   "source": [
    "df_extreme_rooms_low=df.query('rooms==0')\n",
    "len(df_extreme_rooms_low)"
   ]
  },
  {
   "cell_type": "markdown",
   "metadata": {},
   "source": [
    "Квартир с числом комнат \"0\" в базе 197. Скорее всего, количество комнат не было\n",
    "введено при заполнении базы. И можно было бы заполнить недостающие значениями характерными для площади. Но ввиду очень\n",
    "малого количества \"не указанных\" площадей (менее 1% базы), и учитывая то, что распределение площадей\n",
    "(косвенный показатель количества комнат) мы тоже анализируем, выкинем при построеннии гистограммы объекты с нулевым \n",
    "(не указанным количеством комнат). "
   ]
  },
  {
   "cell_type": "markdown",
   "metadata": {},
   "source": [
    "Выведем на экран все квартиры c количеством комнат более семи:"
   ]
  },
  {
   "cell_type": "code",
   "execution_count": 31,
   "metadata": {},
   "outputs": [
    {
     "data": {
      "text/html": [
       "<div>\n",
       "<style scoped>\n",
       "    .dataframe tbody tr th:only-of-type {\n",
       "        vertical-align: middle;\n",
       "    }\n",
       "\n",
       "    .dataframe tbody tr th {\n",
       "        vertical-align: top;\n",
       "    }\n",
       "\n",
       "    .dataframe thead th {\n",
       "        text-align: right;\n",
       "    }\n",
       "</style>\n",
       "<table border=\"1\" class=\"dataframe\">\n",
       "  <thead>\n",
       "    <tr style=\"text-align: right;\">\n",
       "      <th></th>\n",
       "      <th>total_images</th>\n",
       "      <th>last_price</th>\n",
       "      <th>total_area</th>\n",
       "      <th>first_day_exposition</th>\n",
       "      <th>rooms</th>\n",
       "      <th>ceiling_height</th>\n",
       "      <th>floors_total</th>\n",
       "      <th>living_area</th>\n",
       "      <th>floor</th>\n",
       "      <th>is_apartment</th>\n",
       "      <th>...</th>\n",
       "      <th>ponds_nearest</th>\n",
       "      <th>days_exposition</th>\n",
       "      <th>kitchen_median</th>\n",
       "      <th>price_per_meter</th>\n",
       "      <th>weekday</th>\n",
       "      <th>month</th>\n",
       "      <th>year</th>\n",
       "      <th>floor_category</th>\n",
       "      <th>living_area_ratio</th>\n",
       "      <th>kitchen_area_ratio</th>\n",
       "    </tr>\n",
       "  </thead>\n",
       "  <tbody>\n",
       "    <tr>\n",
       "      <th>648</th>\n",
       "      <td>3</td>\n",
       "      <td>17500000.0</td>\n",
       "      <td>183.7</td>\n",
       "      <td>2018-07-01</td>\n",
       "      <td>11</td>\n",
       "      <td>3.40</td>\n",
       "      <td>7</td>\n",
       "      <td>138.8</td>\n",
       "      <td>7</td>\n",
       "      <td>NaN</td>\n",
       "      <td>...</td>\n",
       "      <td>NaN</td>\n",
       "      <td>NaN</td>\n",
       "      <td>12.60</td>\n",
       "      <td>95264.017420</td>\n",
       "      <td>6</td>\n",
       "      <td>7</td>\n",
       "      <td>2018</td>\n",
       "      <td>last</td>\n",
       "      <td>0.755580</td>\n",
       "      <td>0.016331</td>\n",
       "    </tr>\n",
       "    <tr>\n",
       "      <th>813</th>\n",
       "      <td>7</td>\n",
       "      <td>16500000.0</td>\n",
       "      <td>229.0</td>\n",
       "      <td>2016-02-25</td>\n",
       "      <td>8</td>\n",
       "      <td>NaN</td>\n",
       "      <td>6</td>\n",
       "      <td>160.0</td>\n",
       "      <td>5</td>\n",
       "      <td>NaN</td>\n",
       "      <td>...</td>\n",
       "      <td>NaN</td>\n",
       "      <td>806.0</td>\n",
       "      <td>25.00</td>\n",
       "      <td>72052.401747</td>\n",
       "      <td>3</td>\n",
       "      <td>2</td>\n",
       "      <td>2016</td>\n",
       "      <td>another</td>\n",
       "      <td>0.698690</td>\n",
       "      <td>0.030568</td>\n",
       "    </tr>\n",
       "    <tr>\n",
       "      <th>866</th>\n",
       "      <td>5</td>\n",
       "      <td>25000000.0</td>\n",
       "      <td>363.0</td>\n",
       "      <td>2017-12-23</td>\n",
       "      <td>14</td>\n",
       "      <td>3.16</td>\n",
       "      <td>5</td>\n",
       "      <td>222.0</td>\n",
       "      <td>4</td>\n",
       "      <td>NaN</td>\n",
       "      <td>...</td>\n",
       "      <td>435.0</td>\n",
       "      <td>418.0</td>\n",
       "      <td>21.25</td>\n",
       "      <td>68870.523416</td>\n",
       "      <td>5</td>\n",
       "      <td>12</td>\n",
       "      <td>2017</td>\n",
       "      <td>another</td>\n",
       "      <td>0.611570</td>\n",
       "      <td>0.013774</td>\n",
       "    </tr>\n",
       "    <tr>\n",
       "      <th>4149</th>\n",
       "      <td>6</td>\n",
       "      <td>23000000.0</td>\n",
       "      <td>272.6</td>\n",
       "      <td>2018-01-11</td>\n",
       "      <td>10</td>\n",
       "      <td>3.14</td>\n",
       "      <td>7</td>\n",
       "      <td>145.9</td>\n",
       "      <td>7</td>\n",
       "      <td>NaN</td>\n",
       "      <td>...</td>\n",
       "      <td>531.0</td>\n",
       "      <td>NaN</td>\n",
       "      <td>19.80</td>\n",
       "      <td>84372.707263</td>\n",
       "      <td>3</td>\n",
       "      <td>1</td>\n",
       "      <td>2018</td>\n",
       "      <td>last</td>\n",
       "      <td>0.535216</td>\n",
       "      <td>0.02201</td>\n",
       "    </tr>\n",
       "    <tr>\n",
       "      <th>4435</th>\n",
       "      <td>13</td>\n",
       "      <td>22190000.0</td>\n",
       "      <td>191.2</td>\n",
       "      <td>2017-12-05</td>\n",
       "      <td>8</td>\n",
       "      <td>2.90</td>\n",
       "      <td>6</td>\n",
       "      <td>115.8</td>\n",
       "      <td>1</td>\n",
       "      <td>NaN</td>\n",
       "      <td>...</td>\n",
       "      <td>155.0</td>\n",
       "      <td>115.0</td>\n",
       "      <td>25.00</td>\n",
       "      <td>116056.485356</td>\n",
       "      <td>1</td>\n",
       "      <td>12</td>\n",
       "      <td>2017</td>\n",
       "      <td>first</td>\n",
       "      <td>0.605649</td>\n",
       "      <td>0.067992</td>\n",
       "    </tr>\n",
       "    <tr>\n",
       "      <th>5358</th>\n",
       "      <td>20</td>\n",
       "      <td>65000000.0</td>\n",
       "      <td>590.0</td>\n",
       "      <td>2019-02-14</td>\n",
       "      <td>15</td>\n",
       "      <td>3.50</td>\n",
       "      <td>6</td>\n",
       "      <td>409.0</td>\n",
       "      <td>3</td>\n",
       "      <td>NaN</td>\n",
       "      <td>...</td>\n",
       "      <td>NaN</td>\n",
       "      <td>14.0</td>\n",
       "      <td>100.00</td>\n",
       "      <td>110169.491525</td>\n",
       "      <td>3</td>\n",
       "      <td>2</td>\n",
       "      <td>2019</td>\n",
       "      <td>another</td>\n",
       "      <td>0.693220</td>\n",
       "      <td>0.033898</td>\n",
       "    </tr>\n",
       "    <tr>\n",
       "      <th>7857</th>\n",
       "      <td>11</td>\n",
       "      <td>150000000.0</td>\n",
       "      <td>230.0</td>\n",
       "      <td>2017-10-25</td>\n",
       "      <td>8</td>\n",
       "      <td>NaN</td>\n",
       "      <td>8</td>\n",
       "      <td>220.0</td>\n",
       "      <td>8</td>\n",
       "      <td>NaN</td>\n",
       "      <td>...</td>\n",
       "      <td>NaN</td>\n",
       "      <td>135.0</td>\n",
       "      <td>25.00</td>\n",
       "      <td>652173.913043</td>\n",
       "      <td>2</td>\n",
       "      <td>10</td>\n",
       "      <td>2017</td>\n",
       "      <td>last</td>\n",
       "      <td>0.956522</td>\n",
       "      <td>0.047826</td>\n",
       "    </tr>\n",
       "    <tr>\n",
       "      <th>8758</th>\n",
       "      <td>5</td>\n",
       "      <td>16100000.0</td>\n",
       "      <td>150.0</td>\n",
       "      <td>2018-07-10</td>\n",
       "      <td>8</td>\n",
       "      <td>2.92</td>\n",
       "      <td>5</td>\n",
       "      <td>107.0</td>\n",
       "      <td>1</td>\n",
       "      <td>NaN</td>\n",
       "      <td>...</td>\n",
       "      <td>NaN</td>\n",
       "      <td>NaN</td>\n",
       "      <td>25.00</td>\n",
       "      <td>107333.333333</td>\n",
       "      <td>1</td>\n",
       "      <td>7</td>\n",
       "      <td>2018</td>\n",
       "      <td>first</td>\n",
       "      <td>0.713333</td>\n",
       "      <td>0.033333</td>\n",
       "    </tr>\n",
       "    <tr>\n",
       "      <th>8822</th>\n",
       "      <td>14</td>\n",
       "      <td>49968900.0</td>\n",
       "      <td>398.0</td>\n",
       "      <td>2017-07-12</td>\n",
       "      <td>9</td>\n",
       "      <td>3.00</td>\n",
       "      <td>2</td>\n",
       "      <td>160.1</td>\n",
       "      <td>1</td>\n",
       "      <td>False</td>\n",
       "      <td>...</td>\n",
       "      <td>440.0</td>\n",
       "      <td>471.0</td>\n",
       "      <td>14.30</td>\n",
       "      <td>125550.000000</td>\n",
       "      <td>2</td>\n",
       "      <td>7</td>\n",
       "      <td>2017</td>\n",
       "      <td>first</td>\n",
       "      <td>0.402261</td>\n",
       "      <td>0.035176</td>\n",
       "    </tr>\n",
       "    <tr>\n",
       "      <th>8860</th>\n",
       "      <td>12</td>\n",
       "      <td>17000000.0</td>\n",
       "      <td>235.0</td>\n",
       "      <td>2018-07-14</td>\n",
       "      <td>9</td>\n",
       "      <td>3.00</td>\n",
       "      <td>6</td>\n",
       "      <td>NaN</td>\n",
       "      <td>3</td>\n",
       "      <td>NaN</td>\n",
       "      <td>...</td>\n",
       "      <td>NaN</td>\n",
       "      <td>90.0</td>\n",
       "      <td>14.30</td>\n",
       "      <td>72340.425532</td>\n",
       "      <td>5</td>\n",
       "      <td>7</td>\n",
       "      <td>2018</td>\n",
       "      <td>another</td>\n",
       "      <td>NaN</td>\n",
       "      <td>0.051064</td>\n",
       "    </tr>\n",
       "    <tr>\n",
       "      <th>9550</th>\n",
       "      <td>10</td>\n",
       "      <td>23500000.0</td>\n",
       "      <td>313.0</td>\n",
       "      <td>2017-02-13</td>\n",
       "      <td>9</td>\n",
       "      <td>3.20</td>\n",
       "      <td>6</td>\n",
       "      <td>179.2</td>\n",
       "      <td>5</td>\n",
       "      <td>NaN</td>\n",
       "      <td>...</td>\n",
       "      <td>NaN</td>\n",
       "      <td>NaN</td>\n",
       "      <td>14.30</td>\n",
       "      <td>75079.872204</td>\n",
       "      <td>0</td>\n",
       "      <td>2</td>\n",
       "      <td>2017</td>\n",
       "      <td>another</td>\n",
       "      <td>0.572524</td>\n",
       "      <td>0.031949</td>\n",
       "    </tr>\n",
       "    <tr>\n",
       "      <th>9688</th>\n",
       "      <td>8</td>\n",
       "      <td>33000000.0</td>\n",
       "      <td>194.1</td>\n",
       "      <td>2017-02-07</td>\n",
       "      <td>11</td>\n",
       "      <td>3.43</td>\n",
       "      <td>5</td>\n",
       "      <td>129.0</td>\n",
       "      <td>2</td>\n",
       "      <td>NaN</td>\n",
       "      <td>...</td>\n",
       "      <td>66.0</td>\n",
       "      <td>813.0</td>\n",
       "      <td>12.60</td>\n",
       "      <td>170015.455951</td>\n",
       "      <td>1</td>\n",
       "      <td>2</td>\n",
       "      <td>2017</td>\n",
       "      <td>another</td>\n",
       "      <td>0.664606</td>\n",
       "      <td>0.041216</td>\n",
       "    </tr>\n",
       "    <tr>\n",
       "      <th>10569</th>\n",
       "      <td>13</td>\n",
       "      <td>36900000.0</td>\n",
       "      <td>347.5</td>\n",
       "      <td>2017-09-14</td>\n",
       "      <td>8</td>\n",
       "      <td>NaN</td>\n",
       "      <td>4</td>\n",
       "      <td>160.0</td>\n",
       "      <td>1</td>\n",
       "      <td>NaN</td>\n",
       "      <td>...</td>\n",
       "      <td>241.0</td>\n",
       "      <td>249.0</td>\n",
       "      <td>25.00</td>\n",
       "      <td>106187.050360</td>\n",
       "      <td>3</td>\n",
       "      <td>9</td>\n",
       "      <td>2017</td>\n",
       "      <td>first</td>\n",
       "      <td>0.460432</td>\n",
       "      <td>0.03741</td>\n",
       "    </tr>\n",
       "    <tr>\n",
       "      <th>11436</th>\n",
       "      <td>4</td>\n",
       "      <td>24000000.0</td>\n",
       "      <td>316.3</td>\n",
       "      <td>2015-03-25</td>\n",
       "      <td>8</td>\n",
       "      <td>NaN</td>\n",
       "      <td>5</td>\n",
       "      <td>187.0</td>\n",
       "      <td>5</td>\n",
       "      <td>NaN</td>\n",
       "      <td>...</td>\n",
       "      <td>934.0</td>\n",
       "      <td>542.0</td>\n",
       "      <td>25.00</td>\n",
       "      <td>75877.331647</td>\n",
       "      <td>2</td>\n",
       "      <td>3</td>\n",
       "      <td>2015</td>\n",
       "      <td>last</td>\n",
       "      <td>0.591211</td>\n",
       "      <td>0.012646</td>\n",
       "    </tr>\n",
       "    <tr>\n",
       "      <th>12447</th>\n",
       "      <td>8</td>\n",
       "      <td>19900000.0</td>\n",
       "      <td>210.3</td>\n",
       "      <td>2016-04-18</td>\n",
       "      <td>8</td>\n",
       "      <td>3.30</td>\n",
       "      <td>5</td>\n",
       "      <td>144.6</td>\n",
       "      <td>2</td>\n",
       "      <td>NaN</td>\n",
       "      <td>...</td>\n",
       "      <td>NaN</td>\n",
       "      <td>102.0</td>\n",
       "      <td>25.00</td>\n",
       "      <td>94626.723728</td>\n",
       "      <td>0</td>\n",
       "      <td>4</td>\n",
       "      <td>2016</td>\n",
       "      <td>another</td>\n",
       "      <td>0.687589</td>\n",
       "      <td>0.038041</td>\n",
       "    </tr>\n",
       "    <tr>\n",
       "      <th>13019</th>\n",
       "      <td>0</td>\n",
       "      <td>22250000.0</td>\n",
       "      <td>249.9</td>\n",
       "      <td>2019-04-23</td>\n",
       "      <td>9</td>\n",
       "      <td>3.20</td>\n",
       "      <td>5</td>\n",
       "      <td>157.0</td>\n",
       "      <td>5</td>\n",
       "      <td>NaN</td>\n",
       "      <td>...</td>\n",
       "      <td>NaN</td>\n",
       "      <td>NaN</td>\n",
       "      <td>14.30</td>\n",
       "      <td>89035.614246</td>\n",
       "      <td>1</td>\n",
       "      <td>4</td>\n",
       "      <td>2019</td>\n",
       "      <td>last</td>\n",
       "      <td>0.628251</td>\n",
       "      <td>0.0</td>\n",
       "    </tr>\n",
       "    <tr>\n",
       "      <th>13397</th>\n",
       "      <td>14</td>\n",
       "      <td>19500000.0</td>\n",
       "      <td>309.7</td>\n",
       "      <td>2016-02-03</td>\n",
       "      <td>9</td>\n",
       "      <td>NaN</td>\n",
       "      <td>5</td>\n",
       "      <td>199.0</td>\n",
       "      <td>5</td>\n",
       "      <td>NaN</td>\n",
       "      <td>...</td>\n",
       "      <td>NaN</td>\n",
       "      <td>468.0</td>\n",
       "      <td>14.30</td>\n",
       "      <td>62964.158863</td>\n",
       "      <td>2</td>\n",
       "      <td>2</td>\n",
       "      <td>2016</td>\n",
       "      <td>last</td>\n",
       "      <td>0.642557</td>\n",
       "      <td>0.045205</td>\n",
       "    </tr>\n",
       "    <tr>\n",
       "      <th>14498</th>\n",
       "      <td>6</td>\n",
       "      <td>32250000.0</td>\n",
       "      <td>374.6</td>\n",
       "      <td>2018-06-09</td>\n",
       "      <td>19</td>\n",
       "      <td>NaN</td>\n",
       "      <td>5</td>\n",
       "      <td>264.5</td>\n",
       "      <td>2</td>\n",
       "      <td>NaN</td>\n",
       "      <td>...</td>\n",
       "      <td>548.0</td>\n",
       "      <td>114.0</td>\n",
       "      <td>27.60</td>\n",
       "      <td>86091.831287</td>\n",
       "      <td>5</td>\n",
       "      <td>6</td>\n",
       "      <td>2018</td>\n",
       "      <td>another</td>\n",
       "      <td>0.706086</td>\n",
       "      <td>0.016017</td>\n",
       "    </tr>\n",
       "    <tr>\n",
       "      <th>15151</th>\n",
       "      <td>15</td>\n",
       "      <td>88000000.0</td>\n",
       "      <td>400.0</td>\n",
       "      <td>2019-03-27</td>\n",
       "      <td>9</td>\n",
       "      <td>2.50</td>\n",
       "      <td>2</td>\n",
       "      <td>250.0</td>\n",
       "      <td>1</td>\n",
       "      <td>NaN</td>\n",
       "      <td>...</td>\n",
       "      <td>578.0</td>\n",
       "      <td>NaN</td>\n",
       "      <td>14.30</td>\n",
       "      <td>220000.000000</td>\n",
       "      <td>2</td>\n",
       "      <td>3</td>\n",
       "      <td>2019</td>\n",
       "      <td>first</td>\n",
       "      <td>0.625000</td>\n",
       "      <td>0.0375</td>\n",
       "    </tr>\n",
       "    <tr>\n",
       "      <th>16915</th>\n",
       "      <td>14</td>\n",
       "      <td>29000000.0</td>\n",
       "      <td>292.2</td>\n",
       "      <td>2017-01-12</td>\n",
       "      <td>9</td>\n",
       "      <td>3.35</td>\n",
       "      <td>5</td>\n",
       "      <td>225.9</td>\n",
       "      <td>4</td>\n",
       "      <td>NaN</td>\n",
       "      <td>...</td>\n",
       "      <td>NaN</td>\n",
       "      <td>825.0</td>\n",
       "      <td>14.30</td>\n",
       "      <td>99247.091034</td>\n",
       "      <td>3</td>\n",
       "      <td>1</td>\n",
       "      <td>2017</td>\n",
       "      <td>another</td>\n",
       "      <td>0.773101</td>\n",
       "      <td>0.047912</td>\n",
       "    </tr>\n",
       "    <tr>\n",
       "      <th>17203</th>\n",
       "      <td>2</td>\n",
       "      <td>35300000.0</td>\n",
       "      <td>235.0</td>\n",
       "      <td>2018-11-15</td>\n",
       "      <td>8</td>\n",
       "      <td>4.00</td>\n",
       "      <td>4</td>\n",
       "      <td>162.0</td>\n",
       "      <td>3</td>\n",
       "      <td>NaN</td>\n",
       "      <td>...</td>\n",
       "      <td>50.0</td>\n",
       "      <td>7.0</td>\n",
       "      <td>25.00</td>\n",
       "      <td>150212.765957</td>\n",
       "      <td>3</td>\n",
       "      <td>11</td>\n",
       "      <td>2018</td>\n",
       "      <td>another</td>\n",
       "      <td>0.689362</td>\n",
       "      <td>0.008511</td>\n",
       "    </tr>\n",
       "    <tr>\n",
       "      <th>18119</th>\n",
       "      <td>4</td>\n",
       "      <td>15500000.0</td>\n",
       "      <td>216.1</td>\n",
       "      <td>2016-07-04</td>\n",
       "      <td>10</td>\n",
       "      <td>3.15</td>\n",
       "      <td>5</td>\n",
       "      <td>161.4</td>\n",
       "      <td>2</td>\n",
       "      <td>NaN</td>\n",
       "      <td>...</td>\n",
       "      <td>NaN</td>\n",
       "      <td>11.0</td>\n",
       "      <td>19.80</td>\n",
       "      <td>71726.052753</td>\n",
       "      <td>0</td>\n",
       "      <td>7</td>\n",
       "      <td>2016</td>\n",
       "      <td>another</td>\n",
       "      <td>0.746876</td>\n",
       "      <td>0.01851</td>\n",
       "    </tr>\n",
       "    <tr>\n",
       "      <th>18848</th>\n",
       "      <td>6</td>\n",
       "      <td>28500000.0</td>\n",
       "      <td>270.0</td>\n",
       "      <td>2015-03-02</td>\n",
       "      <td>16</td>\n",
       "      <td>3.00</td>\n",
       "      <td>4</td>\n",
       "      <td>180.0</td>\n",
       "      <td>4</td>\n",
       "      <td>NaN</td>\n",
       "      <td>...</td>\n",
       "      <td>NaN</td>\n",
       "      <td>1365.0</td>\n",
       "      <td>13.00</td>\n",
       "      <td>105555.555556</td>\n",
       "      <td>0</td>\n",
       "      <td>3</td>\n",
       "      <td>2015</td>\n",
       "      <td>last</td>\n",
       "      <td>0.666667</td>\n",
       "      <td>0.022222</td>\n",
       "    </tr>\n",
       "    <tr>\n",
       "      <th>18891</th>\n",
       "      <td>11</td>\n",
       "      <td>40000000.0</td>\n",
       "      <td>290.0</td>\n",
       "      <td>2016-06-21</td>\n",
       "      <td>10</td>\n",
       "      <td>3.50</td>\n",
       "      <td>6</td>\n",
       "      <td>189.4</td>\n",
       "      <td>6</td>\n",
       "      <td>NaN</td>\n",
       "      <td>...</td>\n",
       "      <td>227.0</td>\n",
       "      <td>77.0</td>\n",
       "      <td>19.80</td>\n",
       "      <td>137931.034483</td>\n",
       "      <td>1</td>\n",
       "      <td>6</td>\n",
       "      <td>2016</td>\n",
       "      <td>last</td>\n",
       "      <td>0.653103</td>\n",
       "      <td>0.037931</td>\n",
       "    </tr>\n",
       "    <tr>\n",
       "      <th>18945</th>\n",
       "      <td>4</td>\n",
       "      <td>15800000.0</td>\n",
       "      <td>236.4</td>\n",
       "      <td>2015-02-19</td>\n",
       "      <td>8</td>\n",
       "      <td>NaN</td>\n",
       "      <td>6</td>\n",
       "      <td>176.6</td>\n",
       "      <td>6</td>\n",
       "      <td>NaN</td>\n",
       "      <td>...</td>\n",
       "      <td>441.0</td>\n",
       "      <td>921.0</td>\n",
       "      <td>25.00</td>\n",
       "      <td>66835.871404</td>\n",
       "      <td>3</td>\n",
       "      <td>2</td>\n",
       "      <td>2015</td>\n",
       "      <td>last</td>\n",
       "      <td>0.747039</td>\n",
       "      <td>0.01692</td>\n",
       "    </tr>\n",
       "    <tr>\n",
       "      <th>19540</th>\n",
       "      <td>8</td>\n",
       "      <td>420000000.0</td>\n",
       "      <td>900.0</td>\n",
       "      <td>2017-12-06</td>\n",
       "      <td>12</td>\n",
       "      <td>2.80</td>\n",
       "      <td>25</td>\n",
       "      <td>409.7</td>\n",
       "      <td>25</td>\n",
       "      <td>NaN</td>\n",
       "      <td>...</td>\n",
       "      <td>318.0</td>\n",
       "      <td>106.0</td>\n",
       "      <td>112.00</td>\n",
       "      <td>466666.666667</td>\n",
       "      <td>2</td>\n",
       "      <td>12</td>\n",
       "      <td>2017</td>\n",
       "      <td>last</td>\n",
       "      <td>0.455222</td>\n",
       "      <td>0.008889</td>\n",
       "    </tr>\n",
       "    <tr>\n",
       "      <th>19865</th>\n",
       "      <td>20</td>\n",
       "      <td>180000000.0</td>\n",
       "      <td>347.0</td>\n",
       "      <td>2015-01-21</td>\n",
       "      <td>8</td>\n",
       "      <td>3.90</td>\n",
       "      <td>6</td>\n",
       "      <td>260.0</td>\n",
       "      <td>3</td>\n",
       "      <td>NaN</td>\n",
       "      <td>...</td>\n",
       "      <td>501.0</td>\n",
       "      <td>834.0</td>\n",
       "      <td>25.00</td>\n",
       "      <td>518731.988473</td>\n",
       "      <td>2</td>\n",
       "      <td>1</td>\n",
       "      <td>2015</td>\n",
       "      <td>another</td>\n",
       "      <td>0.749280</td>\n",
       "      <td>0.057637</td>\n",
       "    </tr>\n",
       "    <tr>\n",
       "      <th>20788</th>\n",
       "      <td>7</td>\n",
       "      <td>18000000.0</td>\n",
       "      <td>245.0</td>\n",
       "      <td>2017-04-06</td>\n",
       "      <td>8</td>\n",
       "      <td>3.54</td>\n",
       "      <td>5</td>\n",
       "      <td>155.0</td>\n",
       "      <td>2</td>\n",
       "      <td>NaN</td>\n",
       "      <td>...</td>\n",
       "      <td>340.0</td>\n",
       "      <td>357.0</td>\n",
       "      <td>25.00</td>\n",
       "      <td>73469.387755</td>\n",
       "      <td>3</td>\n",
       "      <td>4</td>\n",
       "      <td>2017</td>\n",
       "      <td>another</td>\n",
       "      <td>0.632653</td>\n",
       "      <td>0.028571</td>\n",
       "    </tr>\n",
       "    <tr>\n",
       "      <th>20791</th>\n",
       "      <td>0</td>\n",
       "      <td>24000000.0</td>\n",
       "      <td>250.0</td>\n",
       "      <td>2019-04-23</td>\n",
       "      <td>9</td>\n",
       "      <td>3.20</td>\n",
       "      <td>5</td>\n",
       "      <td>160.6</td>\n",
       "      <td>3</td>\n",
       "      <td>NaN</td>\n",
       "      <td>...</td>\n",
       "      <td>NaN</td>\n",
       "      <td>NaN</td>\n",
       "      <td>14.30</td>\n",
       "      <td>96000.000000</td>\n",
       "      <td>1</td>\n",
       "      <td>4</td>\n",
       "      <td>2019</td>\n",
       "      <td>another</td>\n",
       "      <td>0.642400</td>\n",
       "      <td>0.0</td>\n",
       "    </tr>\n",
       "    <tr>\n",
       "      <th>20829</th>\n",
       "      <td>6</td>\n",
       "      <td>28659000.0</td>\n",
       "      <td>245.4</td>\n",
       "      <td>2016-03-31</td>\n",
       "      <td>14</td>\n",
       "      <td>NaN</td>\n",
       "      <td>4</td>\n",
       "      <td>168.3</td>\n",
       "      <td>2</td>\n",
       "      <td>NaN</td>\n",
       "      <td>...</td>\n",
       "      <td>118.0</td>\n",
       "      <td>95.0</td>\n",
       "      <td>21.25</td>\n",
       "      <td>116784.841076</td>\n",
       "      <td>3</td>\n",
       "      <td>3</td>\n",
       "      <td>2016</td>\n",
       "      <td>another</td>\n",
       "      <td>0.685819</td>\n",
       "      <td>0.02445</td>\n",
       "    </tr>\n",
       "    <tr>\n",
       "      <th>21990</th>\n",
       "      <td>20</td>\n",
       "      <td>68000000.0</td>\n",
       "      <td>373.1</td>\n",
       "      <td>2018-09-08</td>\n",
       "      <td>8</td>\n",
       "      <td>NaN</td>\n",
       "      <td>8</td>\n",
       "      <td>176.2</td>\n",
       "      <td>8</td>\n",
       "      <td>NaN</td>\n",
       "      <td>...</td>\n",
       "      <td>691.0</td>\n",
       "      <td>234.0</td>\n",
       "      <td>25.00</td>\n",
       "      <td>182256.767623</td>\n",
       "      <td>5</td>\n",
       "      <td>9</td>\n",
       "      <td>2018</td>\n",
       "      <td>last</td>\n",
       "      <td>0.472259</td>\n",
       "      <td>0.053605</td>\n",
       "    </tr>\n",
       "  </tbody>\n",
       "</table>\n",
       "<p>31 rows × 30 columns</p>\n",
       "</div>"
      ],
      "text/plain": [
       "       total_images   last_price  total_area first_day_exposition  rooms  \\\n",
       "648               3   17500000.0       183.7           2018-07-01     11   \n",
       "813               7   16500000.0       229.0           2016-02-25      8   \n",
       "866               5   25000000.0       363.0           2017-12-23     14   \n",
       "4149              6   23000000.0       272.6           2018-01-11     10   \n",
       "4435             13   22190000.0       191.2           2017-12-05      8   \n",
       "5358             20   65000000.0       590.0           2019-02-14     15   \n",
       "7857             11  150000000.0       230.0           2017-10-25      8   \n",
       "8758              5   16100000.0       150.0           2018-07-10      8   \n",
       "8822             14   49968900.0       398.0           2017-07-12      9   \n",
       "8860             12   17000000.0       235.0           2018-07-14      9   \n",
       "9550             10   23500000.0       313.0           2017-02-13      9   \n",
       "9688              8   33000000.0       194.1           2017-02-07     11   \n",
       "10569            13   36900000.0       347.5           2017-09-14      8   \n",
       "11436             4   24000000.0       316.3           2015-03-25      8   \n",
       "12447             8   19900000.0       210.3           2016-04-18      8   \n",
       "13019             0   22250000.0       249.9           2019-04-23      9   \n",
       "13397            14   19500000.0       309.7           2016-02-03      9   \n",
       "14498             6   32250000.0       374.6           2018-06-09     19   \n",
       "15151            15   88000000.0       400.0           2019-03-27      9   \n",
       "16915            14   29000000.0       292.2           2017-01-12      9   \n",
       "17203             2   35300000.0       235.0           2018-11-15      8   \n",
       "18119             4   15500000.0       216.1           2016-07-04     10   \n",
       "18848             6   28500000.0       270.0           2015-03-02     16   \n",
       "18891            11   40000000.0       290.0           2016-06-21     10   \n",
       "18945             4   15800000.0       236.4           2015-02-19      8   \n",
       "19540             8  420000000.0       900.0           2017-12-06     12   \n",
       "19865            20  180000000.0       347.0           2015-01-21      8   \n",
       "20788             7   18000000.0       245.0           2017-04-06      8   \n",
       "20791             0   24000000.0       250.0           2019-04-23      9   \n",
       "20829             6   28659000.0       245.4           2016-03-31     14   \n",
       "21990            20   68000000.0       373.1           2018-09-08      8   \n",
       "\n",
       "       ceiling_height  floors_total  living_area  floor is_apartment  ...  \\\n",
       "648              3.40             7        138.8      7          NaN  ...   \n",
       "813               NaN             6        160.0      5          NaN  ...   \n",
       "866              3.16             5        222.0      4          NaN  ...   \n",
       "4149             3.14             7        145.9      7          NaN  ...   \n",
       "4435             2.90             6        115.8      1          NaN  ...   \n",
       "5358             3.50             6        409.0      3          NaN  ...   \n",
       "7857              NaN             8        220.0      8          NaN  ...   \n",
       "8758             2.92             5        107.0      1          NaN  ...   \n",
       "8822             3.00             2        160.1      1        False  ...   \n",
       "8860             3.00             6          NaN      3          NaN  ...   \n",
       "9550             3.20             6        179.2      5          NaN  ...   \n",
       "9688             3.43             5        129.0      2          NaN  ...   \n",
       "10569             NaN             4        160.0      1          NaN  ...   \n",
       "11436             NaN             5        187.0      5          NaN  ...   \n",
       "12447            3.30             5        144.6      2          NaN  ...   \n",
       "13019            3.20             5        157.0      5          NaN  ...   \n",
       "13397             NaN             5        199.0      5          NaN  ...   \n",
       "14498             NaN             5        264.5      2          NaN  ...   \n",
       "15151            2.50             2        250.0      1          NaN  ...   \n",
       "16915            3.35             5        225.9      4          NaN  ...   \n",
       "17203            4.00             4        162.0      3          NaN  ...   \n",
       "18119            3.15             5        161.4      2          NaN  ...   \n",
       "18848            3.00             4        180.0      4          NaN  ...   \n",
       "18891            3.50             6        189.4      6          NaN  ...   \n",
       "18945             NaN             6        176.6      6          NaN  ...   \n",
       "19540            2.80            25        409.7     25          NaN  ...   \n",
       "19865            3.90             6        260.0      3          NaN  ...   \n",
       "20788            3.54             5        155.0      2          NaN  ...   \n",
       "20791            3.20             5        160.6      3          NaN  ...   \n",
       "20829             NaN             4        168.3      2          NaN  ...   \n",
       "21990             NaN             8        176.2      8          NaN  ...   \n",
       "\n",
       "       ponds_nearest  days_exposition kitchen_median  price_per_meter weekday  \\\n",
       "648              NaN              NaN          12.60     95264.017420       6   \n",
       "813              NaN            806.0          25.00     72052.401747       3   \n",
       "866            435.0            418.0          21.25     68870.523416       5   \n",
       "4149           531.0              NaN          19.80     84372.707263       3   \n",
       "4435           155.0            115.0          25.00    116056.485356       1   \n",
       "5358             NaN             14.0         100.00    110169.491525       3   \n",
       "7857             NaN            135.0          25.00    652173.913043       2   \n",
       "8758             NaN              NaN          25.00    107333.333333       1   \n",
       "8822           440.0            471.0          14.30    125550.000000       2   \n",
       "8860             NaN             90.0          14.30     72340.425532       5   \n",
       "9550             NaN              NaN          14.30     75079.872204       0   \n",
       "9688            66.0            813.0          12.60    170015.455951       1   \n",
       "10569          241.0            249.0          25.00    106187.050360       3   \n",
       "11436          934.0            542.0          25.00     75877.331647       2   \n",
       "12447            NaN            102.0          25.00     94626.723728       0   \n",
       "13019            NaN              NaN          14.30     89035.614246       1   \n",
       "13397            NaN            468.0          14.30     62964.158863       2   \n",
       "14498          548.0            114.0          27.60     86091.831287       5   \n",
       "15151          578.0              NaN          14.30    220000.000000       2   \n",
       "16915            NaN            825.0          14.30     99247.091034       3   \n",
       "17203           50.0              7.0          25.00    150212.765957       3   \n",
       "18119            NaN             11.0          19.80     71726.052753       0   \n",
       "18848            NaN           1365.0          13.00    105555.555556       0   \n",
       "18891          227.0             77.0          19.80    137931.034483       1   \n",
       "18945          441.0            921.0          25.00     66835.871404       3   \n",
       "19540          318.0            106.0         112.00    466666.666667       2   \n",
       "19865          501.0            834.0          25.00    518731.988473       2   \n",
       "20788          340.0            357.0          25.00     73469.387755       3   \n",
       "20791            NaN              NaN          14.30     96000.000000       1   \n",
       "20829          118.0             95.0          21.25    116784.841076       3   \n",
       "21990          691.0            234.0          25.00    182256.767623       5   \n",
       "\n",
       "       month  year  floor_category  living_area_ratio  kitchen_area_ratio  \n",
       "648        7  2018            last           0.755580            0.016331  \n",
       "813        2  2016         another           0.698690            0.030568  \n",
       "866       12  2017         another           0.611570            0.013774  \n",
       "4149       1  2018            last           0.535216             0.02201  \n",
       "4435      12  2017           first           0.605649            0.067992  \n",
       "5358       2  2019         another           0.693220            0.033898  \n",
       "7857      10  2017            last           0.956522            0.047826  \n",
       "8758       7  2018           first           0.713333            0.033333  \n",
       "8822       7  2017           first           0.402261            0.035176  \n",
       "8860       7  2018         another                NaN            0.051064  \n",
       "9550       2  2017         another           0.572524            0.031949  \n",
       "9688       2  2017         another           0.664606            0.041216  \n",
       "10569      9  2017           first           0.460432             0.03741  \n",
       "11436      3  2015            last           0.591211            0.012646  \n",
       "12447      4  2016         another           0.687589            0.038041  \n",
       "13019      4  2019            last           0.628251                 0.0  \n",
       "13397      2  2016            last           0.642557            0.045205  \n",
       "14498      6  2018         another           0.706086            0.016017  \n",
       "15151      3  2019           first           0.625000              0.0375  \n",
       "16915      1  2017         another           0.773101            0.047912  \n",
       "17203     11  2018         another           0.689362            0.008511  \n",
       "18119      7  2016         another           0.746876             0.01851  \n",
       "18848      3  2015            last           0.666667            0.022222  \n",
       "18891      6  2016            last           0.653103            0.037931  \n",
       "18945      2  2015            last           0.747039             0.01692  \n",
       "19540     12  2017            last           0.455222            0.008889  \n",
       "19865      1  2015         another           0.749280            0.057637  \n",
       "20788      4  2017         another           0.632653            0.028571  \n",
       "20791      4  2019         another           0.642400                 0.0  \n",
       "20829      3  2016         another           0.685819             0.02445  \n",
       "21990      9  2018            last           0.472259            0.053605  \n",
       "\n",
       "[31 rows x 30 columns]"
      ]
     },
     "metadata": {},
     "output_type": "display_data"
    }
   ],
   "source": [
    "df_extreme_rooms_high=df.query('rooms>7')\n",
    "display(df_extreme_rooms_high)"
   ]
  },
  {
   "cell_type": "markdown",
   "metadata": {},
   "source": [
    "31 объект. Явно неправдоподобных цен и площадей нет. Оставляем. Строим окончательную гистограмму с выкинутыми\n",
    "строками, в которых количество комнат равно 0."
   ]
  },
  {
   "cell_type": "code",
   "execution_count": 32,
   "metadata": {},
   "outputs": [
    {
     "data": {
      "text/plain": [
       "array([[<AxesSubplot:title={'center':'rooms'}>]], dtype=object)"
      ]
     },
     "execution_count": 32,
     "metadata": {},
     "output_type": "execute_result"
    },
    {
     "data": {
      "image/png": "[encoded data removed]",
      "text/plain": [
       "<Figure size 360x360 with 1 Axes>"
      ]
     },
     "metadata": {
      "needs_background": "light"
     },
     "output_type": "display_data"
    }
   ],
   "source": [
    "df_good_rooms=df.query('rooms > 0')\n",
    "df_good_rooms.hist('rooms',bins=20,grid=True, figsize=(5,5))"
   ]
  },
  {
   "cell_type": "markdown",
   "metadata": {},
   "source": [
    "График выглядит абсолютно ожидаемо - преобладают 2-3 комнатные помещения. "
   ]
  },
  {
   "cell_type": "markdown",
   "metadata": {},
   "source": [
    "Рассмотрим экстремальные площади свыше 400 м2"
   ]
  },
  {
   "cell_type": "code",
   "execution_count": 33,
   "metadata": {},
   "outputs": [
    {
     "data": {
      "text/html": [
       "<div>\n",
       "<style scoped>\n",
       "    .dataframe tbody tr th:only-of-type {\n",
       "        vertical-align: middle;\n",
       "    }\n",
       "\n",
       "    .dataframe tbody tr th {\n",
       "        vertical-align: top;\n",
       "    }\n",
       "\n",
       "    .dataframe thead th {\n",
       "        text-align: right;\n",
       "    }\n",
       "</style>\n",
       "<table border=\"1\" class=\"dataframe\">\n",
       "  <thead>\n",
       "    <tr style=\"text-align: right;\">\n",
       "      <th></th>\n",
       "      <th>total_images</th>\n",
       "      <th>last_price</th>\n",
       "      <th>total_area</th>\n",
       "      <th>first_day_exposition</th>\n",
       "      <th>rooms</th>\n",
       "      <th>ceiling_height</th>\n",
       "      <th>floors_total</th>\n",
       "      <th>living_area</th>\n",
       "      <th>floor</th>\n",
       "      <th>is_apartment</th>\n",
       "      <th>...</th>\n",
       "      <th>ponds_nearest</th>\n",
       "      <th>days_exposition</th>\n",
       "      <th>kitchen_median</th>\n",
       "      <th>price_per_meter</th>\n",
       "      <th>weekday</th>\n",
       "      <th>month</th>\n",
       "      <th>year</th>\n",
       "      <th>floor_category</th>\n",
       "      <th>living_area_ratio</th>\n",
       "      <th>kitchen_area_ratio</th>\n",
       "    </tr>\n",
       "  </thead>\n",
       "  <tbody>\n",
       "    <tr>\n",
       "      <th>660</th>\n",
       "      <td>3</td>\n",
       "      <td>49950000.0</td>\n",
       "      <td>483.90</td>\n",
       "      <td>2017-10-04</td>\n",
       "      <td>7</td>\n",
       "      <td>3.20</td>\n",
       "      <td>6</td>\n",
       "      <td>312.5</td>\n",
       "      <td>4</td>\n",
       "      <td>NaN</td>\n",
       "      <td>...</td>\n",
       "      <td>22.0</td>\n",
       "      <td>391.0</td>\n",
       "      <td>20.00</td>\n",
       "      <td>1.032238e+05</td>\n",
       "      <td>2</td>\n",
       "      <td>10</td>\n",
       "      <td>2017</td>\n",
       "      <td>another</td>\n",
       "      <td>0.645795</td>\n",
       "      <td>0.0062</td>\n",
       "    </tr>\n",
       "    <tr>\n",
       "      <th>3117</th>\n",
       "      <td>19</td>\n",
       "      <td>140000000.0</td>\n",
       "      <td>631.00</td>\n",
       "      <td>2019-03-30</td>\n",
       "      <td>7</td>\n",
       "      <td>NaN</td>\n",
       "      <td>5</td>\n",
       "      <td>NaN</td>\n",
       "      <td>5</td>\n",
       "      <td>NaN</td>\n",
       "      <td>...</td>\n",
       "      <td>210.0</td>\n",
       "      <td>NaN</td>\n",
       "      <td>20.00</td>\n",
       "      <td>2.218700e+05</td>\n",
       "      <td>5</td>\n",
       "      <td>3</td>\n",
       "      <td>2019</td>\n",
       "      <td>last</td>\n",
       "      <td>NaN</td>\n",
       "      <td>0.030111</td>\n",
       "    </tr>\n",
       "    <tr>\n",
       "      <th>3676</th>\n",
       "      <td>12</td>\n",
       "      <td>28789000.0</td>\n",
       "      <td>441.98</td>\n",
       "      <td>2019-01-23</td>\n",
       "      <td>4</td>\n",
       "      <td>NaN</td>\n",
       "      <td>6</td>\n",
       "      <td>NaN</td>\n",
       "      <td>6</td>\n",
       "      <td>NaN</td>\n",
       "      <td>...</td>\n",
       "      <td>NaN</td>\n",
       "      <td>NaN</td>\n",
       "      <td>11.10</td>\n",
       "      <td>6.513643e+04</td>\n",
       "      <td>2</td>\n",
       "      <td>1</td>\n",
       "      <td>2019</td>\n",
       "      <td>last</td>\n",
       "      <td>NaN</td>\n",
       "      <td>0.027151</td>\n",
       "    </tr>\n",
       "    <tr>\n",
       "      <th>4237</th>\n",
       "      <td>1</td>\n",
       "      <td>50000000.0</td>\n",
       "      <td>517.00</td>\n",
       "      <td>2017-10-14</td>\n",
       "      <td>7</td>\n",
       "      <td>NaN</td>\n",
       "      <td>4</td>\n",
       "      <td>332.0</td>\n",
       "      <td>3</td>\n",
       "      <td>NaN</td>\n",
       "      <td>...</td>\n",
       "      <td>540.0</td>\n",
       "      <td>NaN</td>\n",
       "      <td>20.00</td>\n",
       "      <td>9.671180e+04</td>\n",
       "      <td>5</td>\n",
       "      <td>10</td>\n",
       "      <td>2017</td>\n",
       "      <td>another</td>\n",
       "      <td>0.642166</td>\n",
       "      <td>0.001934</td>\n",
       "    </tr>\n",
       "    <tr>\n",
       "      <th>5358</th>\n",
       "      <td>20</td>\n",
       "      <td>65000000.0</td>\n",
       "      <td>590.00</td>\n",
       "      <td>2019-02-14</td>\n",
       "      <td>15</td>\n",
       "      <td>3.50</td>\n",
       "      <td>6</td>\n",
       "      <td>409.0</td>\n",
       "      <td>3</td>\n",
       "      <td>NaN</td>\n",
       "      <td>...</td>\n",
       "      <td>NaN</td>\n",
       "      <td>14.0</td>\n",
       "      <td>100.00</td>\n",
       "      <td>1.101695e+05</td>\n",
       "      <td>3</td>\n",
       "      <td>2</td>\n",
       "      <td>2019</td>\n",
       "      <td>another</td>\n",
       "      <td>0.693220</td>\n",
       "      <td>0.033898</td>\n",
       "    </tr>\n",
       "    <tr>\n",
       "      <th>5893</th>\n",
       "      <td>3</td>\n",
       "      <td>230000000.0</td>\n",
       "      <td>500.00</td>\n",
       "      <td>2017-05-31</td>\n",
       "      <td>6</td>\n",
       "      <td>NaN</td>\n",
       "      <td>7</td>\n",
       "      <td>NaN</td>\n",
       "      <td>7</td>\n",
       "      <td>NaN</td>\n",
       "      <td>...</td>\n",
       "      <td>198.0</td>\n",
       "      <td>50.0</td>\n",
       "      <td>19.50</td>\n",
       "      <td>4.600000e+05</td>\n",
       "      <td>2</td>\n",
       "      <td>5</td>\n",
       "      <td>2017</td>\n",
       "      <td>last</td>\n",
       "      <td>NaN</td>\n",
       "      <td>0.006</td>\n",
       "    </tr>\n",
       "    <tr>\n",
       "      <th>6221</th>\n",
       "      <td>8</td>\n",
       "      <td>34000000.0</td>\n",
       "      <td>470.30</td>\n",
       "      <td>2018-01-14</td>\n",
       "      <td>4</td>\n",
       "      <td>NaN</td>\n",
       "      <td>3</td>\n",
       "      <td>248.7</td>\n",
       "      <td>3</td>\n",
       "      <td>NaN</td>\n",
       "      <td>...</td>\n",
       "      <td>122.0</td>\n",
       "      <td>179.0</td>\n",
       "      <td>11.10</td>\n",
       "      <td>7.229428e+04</td>\n",
       "      <td>6</td>\n",
       "      <td>1</td>\n",
       "      <td>2018</td>\n",
       "      <td>last</td>\n",
       "      <td>0.528811</td>\n",
       "      <td>0.01701</td>\n",
       "    </tr>\n",
       "    <tr>\n",
       "      <th>6621</th>\n",
       "      <td>20</td>\n",
       "      <td>99000000.0</td>\n",
       "      <td>488.00</td>\n",
       "      <td>2017-04-09</td>\n",
       "      <td>5</td>\n",
       "      <td>2.95</td>\n",
       "      <td>20</td>\n",
       "      <td>216.0</td>\n",
       "      <td>17</td>\n",
       "      <td>NaN</td>\n",
       "      <td>...</td>\n",
       "      <td>368.0</td>\n",
       "      <td>351.0</td>\n",
       "      <td>15.10</td>\n",
       "      <td>2.028689e+05</td>\n",
       "      <td>6</td>\n",
       "      <td>4</td>\n",
       "      <td>2017</td>\n",
       "      <td>another</td>\n",
       "      <td>0.442623</td>\n",
       "      <td>0.040984</td>\n",
       "    </tr>\n",
       "    <tr>\n",
       "      <th>8018</th>\n",
       "      <td>20</td>\n",
       "      <td>84000000.0</td>\n",
       "      <td>507.00</td>\n",
       "      <td>2015-12-17</td>\n",
       "      <td>5</td>\n",
       "      <td>4.45</td>\n",
       "      <td>7</td>\n",
       "      <td>301.5</td>\n",
       "      <td>7</td>\n",
       "      <td>True</td>\n",
       "      <td>...</td>\n",
       "      <td>NaN</td>\n",
       "      <td>1078.0</td>\n",
       "      <td>15.10</td>\n",
       "      <td>1.656805e+05</td>\n",
       "      <td>3</td>\n",
       "      <td>12</td>\n",
       "      <td>2015</td>\n",
       "      <td>last</td>\n",
       "      <td>0.594675</td>\n",
       "      <td>0.039448</td>\n",
       "    </tr>\n",
       "    <tr>\n",
       "      <th>9826</th>\n",
       "      <td>1</td>\n",
       "      <td>43185328.0</td>\n",
       "      <td>494.10</td>\n",
       "      <td>2017-05-12</td>\n",
       "      <td>1</td>\n",
       "      <td>2.85</td>\n",
       "      <td>12</td>\n",
       "      <td>NaN</td>\n",
       "      <td>3</td>\n",
       "      <td>NaN</td>\n",
       "      <td>...</td>\n",
       "      <td>NaN</td>\n",
       "      <td>5.0</td>\n",
       "      <td>9.04</td>\n",
       "      <td>8.740200e+04</td>\n",
       "      <td>4</td>\n",
       "      <td>5</td>\n",
       "      <td>2017</td>\n",
       "      <td>another</td>\n",
       "      <td>NaN</td>\n",
       "      <td>0.002024</td>\n",
       "    </tr>\n",
       "    <tr>\n",
       "      <th>12401</th>\n",
       "      <td>20</td>\n",
       "      <td>91500000.0</td>\n",
       "      <td>495.00</td>\n",
       "      <td>2017-06-19</td>\n",
       "      <td>7</td>\n",
       "      <td>4.65</td>\n",
       "      <td>7</td>\n",
       "      <td>347.5</td>\n",
       "      <td>7</td>\n",
       "      <td>NaN</td>\n",
       "      <td>...</td>\n",
       "      <td>NaN</td>\n",
       "      <td>14.0</td>\n",
       "      <td>20.00</td>\n",
       "      <td>1.848485e+05</td>\n",
       "      <td>0</td>\n",
       "      <td>6</td>\n",
       "      <td>2017</td>\n",
       "      <td>last</td>\n",
       "      <td>0.702020</td>\n",
       "      <td>0.040404</td>\n",
       "    </tr>\n",
       "    <tr>\n",
       "      <th>12859</th>\n",
       "      <td>20</td>\n",
       "      <td>140000000.0</td>\n",
       "      <td>631.20</td>\n",
       "      <td>2019-04-09</td>\n",
       "      <td>7</td>\n",
       "      <td>3.90</td>\n",
       "      <td>4</td>\n",
       "      <td>322.3</td>\n",
       "      <td>4</td>\n",
       "      <td>NaN</td>\n",
       "      <td>...</td>\n",
       "      <td>210.0</td>\n",
       "      <td>NaN</td>\n",
       "      <td>20.00</td>\n",
       "      <td>2.217997e+05</td>\n",
       "      <td>1</td>\n",
       "      <td>4</td>\n",
       "      <td>2019</td>\n",
       "      <td>last</td>\n",
       "      <td>0.510615</td>\n",
       "      <td>0.031686</td>\n",
       "    </tr>\n",
       "    <tr>\n",
       "      <th>13749</th>\n",
       "      <td>7</td>\n",
       "      <td>240000000.0</td>\n",
       "      <td>410.00</td>\n",
       "      <td>2017-04-01</td>\n",
       "      <td>6</td>\n",
       "      <td>3.40</td>\n",
       "      <td>7</td>\n",
       "      <td>218.0</td>\n",
       "      <td>7</td>\n",
       "      <td>NaN</td>\n",
       "      <td>...</td>\n",
       "      <td>198.0</td>\n",
       "      <td>199.0</td>\n",
       "      <td>19.50</td>\n",
       "      <td>5.853659e+05</td>\n",
       "      <td>5</td>\n",
       "      <td>4</td>\n",
       "      <td>2017</td>\n",
       "      <td>last</td>\n",
       "      <td>0.531707</td>\n",
       "      <td>0.017073</td>\n",
       "    </tr>\n",
       "    <tr>\n",
       "      <th>14088</th>\n",
       "      <td>8</td>\n",
       "      <td>51000000.0</td>\n",
       "      <td>402.00</td>\n",
       "      <td>2017-02-07</td>\n",
       "      <td>6</td>\n",
       "      <td>3.15</td>\n",
       "      <td>8</td>\n",
       "      <td>300.0</td>\n",
       "      <td>6</td>\n",
       "      <td>NaN</td>\n",
       "      <td>...</td>\n",
       "      <td>NaN</td>\n",
       "      <td>32.0</td>\n",
       "      <td>19.50</td>\n",
       "      <td>1.268657e+05</td>\n",
       "      <td>1</td>\n",
       "      <td>2</td>\n",
       "      <td>2017</td>\n",
       "      <td>another</td>\n",
       "      <td>0.746269</td>\n",
       "      <td>0.0199</td>\n",
       "    </tr>\n",
       "    <tr>\n",
       "      <th>14706</th>\n",
       "      <td>15</td>\n",
       "      <td>401300000.0</td>\n",
       "      <td>401.00</td>\n",
       "      <td>2016-02-20</td>\n",
       "      <td>5</td>\n",
       "      <td>NaN</td>\n",
       "      <td>9</td>\n",
       "      <td>204.0</td>\n",
       "      <td>9</td>\n",
       "      <td>False</td>\n",
       "      <td>...</td>\n",
       "      <td>478.0</td>\n",
       "      <td>393.0</td>\n",
       "      <td>15.10</td>\n",
       "      <td>1.000748e+06</td>\n",
       "      <td>5</td>\n",
       "      <td>2</td>\n",
       "      <td>2016</td>\n",
       "      <td>last</td>\n",
       "      <td>0.508728</td>\n",
       "      <td>0.037406</td>\n",
       "    </tr>\n",
       "    <tr>\n",
       "      <th>14991</th>\n",
       "      <td>19</td>\n",
       "      <td>45000000.0</td>\n",
       "      <td>413.50</td>\n",
       "      <td>2018-09-20</td>\n",
       "      <td>7</td>\n",
       "      <td>NaN</td>\n",
       "      <td>20</td>\n",
       "      <td>74.2</td>\n",
       "      <td>18</td>\n",
       "      <td>NaN</td>\n",
       "      <td>...</td>\n",
       "      <td>NaN</td>\n",
       "      <td>182.0</td>\n",
       "      <td>20.00</td>\n",
       "      <td>1.088271e+05</td>\n",
       "      <td>3</td>\n",
       "      <td>9</td>\n",
       "      <td>2018</td>\n",
       "      <td>another</td>\n",
       "      <td>0.179444</td>\n",
       "      <td>0.045949</td>\n",
       "    </tr>\n",
       "    <tr>\n",
       "      <th>15016</th>\n",
       "      <td>8</td>\n",
       "      <td>150000000.0</td>\n",
       "      <td>500.00</td>\n",
       "      <td>2016-01-13</td>\n",
       "      <td>4</td>\n",
       "      <td>3.20</td>\n",
       "      <td>7</td>\n",
       "      <td>NaN</td>\n",
       "      <td>7</td>\n",
       "      <td>NaN</td>\n",
       "      <td>...</td>\n",
       "      <td>531.0</td>\n",
       "      <td>303.0</td>\n",
       "      <td>11.10</td>\n",
       "      <td>3.000000e+05</td>\n",
       "      <td>2</td>\n",
       "      <td>1</td>\n",
       "      <td>2016</td>\n",
       "      <td>last</td>\n",
       "      <td>NaN</td>\n",
       "      <td>0.016</td>\n",
       "    </tr>\n",
       "    <tr>\n",
       "      <th>15651</th>\n",
       "      <td>20</td>\n",
       "      <td>300000000.0</td>\n",
       "      <td>618.00</td>\n",
       "      <td>2017-12-18</td>\n",
       "      <td>7</td>\n",
       "      <td>3.40</td>\n",
       "      <td>7</td>\n",
       "      <td>258.0</td>\n",
       "      <td>5</td>\n",
       "      <td>NaN</td>\n",
       "      <td>...</td>\n",
       "      <td>198.0</td>\n",
       "      <td>111.0</td>\n",
       "      <td>20.00</td>\n",
       "      <td>4.854369e+05</td>\n",
       "      <td>0</td>\n",
       "      <td>12</td>\n",
       "      <td>2017</td>\n",
       "      <td>another</td>\n",
       "      <td>0.417476</td>\n",
       "      <td>0.032362</td>\n",
       "    </tr>\n",
       "    <tr>\n",
       "      <th>19540</th>\n",
       "      <td>8</td>\n",
       "      <td>420000000.0</td>\n",
       "      <td>900.00</td>\n",
       "      <td>2017-12-06</td>\n",
       "      <td>12</td>\n",
       "      <td>2.80</td>\n",
       "      <td>25</td>\n",
       "      <td>409.7</td>\n",
       "      <td>25</td>\n",
       "      <td>NaN</td>\n",
       "      <td>...</td>\n",
       "      <td>318.0</td>\n",
       "      <td>106.0</td>\n",
       "      <td>112.00</td>\n",
       "      <td>4.666667e+05</td>\n",
       "      <td>2</td>\n",
       "      <td>12</td>\n",
       "      <td>2017</td>\n",
       "      <td>last</td>\n",
       "      <td>0.455222</td>\n",
       "      <td>0.008889</td>\n",
       "    </tr>\n",
       "    <tr>\n",
       "      <th>20273</th>\n",
       "      <td>12</td>\n",
       "      <td>20000000.0</td>\n",
       "      <td>460.80</td>\n",
       "      <td>2019-03-20</td>\n",
       "      <td>6</td>\n",
       "      <td>3.10</td>\n",
       "      <td>3</td>\n",
       "      <td>279.6</td>\n",
       "      <td>1</td>\n",
       "      <td>NaN</td>\n",
       "      <td>...</td>\n",
       "      <td>122.0</td>\n",
       "      <td>21.0</td>\n",
       "      <td>19.50</td>\n",
       "      <td>4.340278e+04</td>\n",
       "      <td>2</td>\n",
       "      <td>3</td>\n",
       "      <td>2019</td>\n",
       "      <td>first</td>\n",
       "      <td>0.606771</td>\n",
       "      <td>0.026042</td>\n",
       "    </tr>\n",
       "    <tr>\n",
       "      <th>21955</th>\n",
       "      <td>19</td>\n",
       "      <td>130000000.0</td>\n",
       "      <td>431.00</td>\n",
       "      <td>2017-10-02</td>\n",
       "      <td>7</td>\n",
       "      <td>3.70</td>\n",
       "      <td>8</td>\n",
       "      <td>220.0</td>\n",
       "      <td>5</td>\n",
       "      <td>NaN</td>\n",
       "      <td>...</td>\n",
       "      <td>NaN</td>\n",
       "      <td>161.0</td>\n",
       "      <td>20.00</td>\n",
       "      <td>3.016241e+05</td>\n",
       "      <td>0</td>\n",
       "      <td>10</td>\n",
       "      <td>2017</td>\n",
       "      <td>another</td>\n",
       "      <td>0.510441</td>\n",
       "      <td>0.044084</td>\n",
       "    </tr>\n",
       "    <tr>\n",
       "      <th>22131</th>\n",
       "      <td>14</td>\n",
       "      <td>27000000.0</td>\n",
       "      <td>422.20</td>\n",
       "      <td>2018-10-18</td>\n",
       "      <td>5</td>\n",
       "      <td>2.70</td>\n",
       "      <td>13</td>\n",
       "      <td>NaN</td>\n",
       "      <td>11</td>\n",
       "      <td>NaN</td>\n",
       "      <td>...</td>\n",
       "      <td>NaN</td>\n",
       "      <td>NaN</td>\n",
       "      <td>15.10</td>\n",
       "      <td>6.395073e+04</td>\n",
       "      <td>3</td>\n",
       "      <td>10</td>\n",
       "      <td>2018</td>\n",
       "      <td>another</td>\n",
       "      <td>NaN</td>\n",
       "      <td>0.03316</td>\n",
       "    </tr>\n",
       "    <tr>\n",
       "      <th>22494</th>\n",
       "      <td>7</td>\n",
       "      <td>91075000.0</td>\n",
       "      <td>491.00</td>\n",
       "      <td>2017-05-27</td>\n",
       "      <td>5</td>\n",
       "      <td>4.20</td>\n",
       "      <td>9</td>\n",
       "      <td>274.0</td>\n",
       "      <td>9</td>\n",
       "      <td>NaN</td>\n",
       "      <td>...</td>\n",
       "      <td>NaN</td>\n",
       "      <td>115.0</td>\n",
       "      <td>15.10</td>\n",
       "      <td>1.854888e+05</td>\n",
       "      <td>5</td>\n",
       "      <td>5</td>\n",
       "      <td>2017</td>\n",
       "      <td>last</td>\n",
       "      <td>0.558045</td>\n",
       "      <td>0.014257</td>\n",
       "    </tr>\n",
       "  </tbody>\n",
       "</table>\n",
       "<p>23 rows × 30 columns</p>\n",
       "</div>"
      ],
      "text/plain": [
       "       total_images   last_price  total_area first_day_exposition  rooms  \\\n",
       "660               3   49950000.0      483.90           2017-10-04      7   \n",
       "3117             19  140000000.0      631.00           2019-03-30      7   \n",
       "3676             12   28789000.0      441.98           2019-01-23      4   \n",
       "4237              1   50000000.0      517.00           2017-10-14      7   \n",
       "5358             20   65000000.0      590.00           2019-02-14     15   \n",
       "5893              3  230000000.0      500.00           2017-05-31      6   \n",
       "6221              8   34000000.0      470.30           2018-01-14      4   \n",
       "6621             20   99000000.0      488.00           2017-04-09      5   \n",
       "8018             20   84000000.0      507.00           2015-12-17      5   \n",
       "9826              1   43185328.0      494.10           2017-05-12      1   \n",
       "12401            20   91500000.0      495.00           2017-06-19      7   \n",
       "12859            20  140000000.0      631.20           2019-04-09      7   \n",
       "13749             7  240000000.0      410.00           2017-04-01      6   \n",
       "14088             8   51000000.0      402.00           2017-02-07      6   \n",
       "14706            15  401300000.0      401.00           2016-02-20      5   \n",
       "14991            19   45000000.0      413.50           2018-09-20      7   \n",
       "15016             8  150000000.0      500.00           2016-01-13      4   \n",
       "15651            20  300000000.0      618.00           2017-12-18      7   \n",
       "19540             8  420000000.0      900.00           2017-12-06     12   \n",
       "20273            12   20000000.0      460.80           2019-03-20      6   \n",
       "21955            19  130000000.0      431.00           2017-10-02      7   \n",
       "22131            14   27000000.0      422.20           2018-10-18      5   \n",
       "22494             7   91075000.0      491.00           2017-05-27      5   \n",
       "\n",
       "       ceiling_height  floors_total  living_area  floor is_apartment  ...  \\\n",
       "660              3.20             6        312.5      4          NaN  ...   \n",
       "3117              NaN             5          NaN      5          NaN  ...   \n",
       "3676              NaN             6          NaN      6          NaN  ...   \n",
       "4237              NaN             4        332.0      3          NaN  ...   \n",
       "5358             3.50             6        409.0      3          NaN  ...   \n",
       "5893              NaN             7          NaN      7          NaN  ...   \n",
       "6221              NaN             3        248.7      3          NaN  ...   \n",
       "6621             2.95            20        216.0     17          NaN  ...   \n",
       "8018             4.45             7        301.5      7         True  ...   \n",
       "9826             2.85            12          NaN      3          NaN  ...   \n",
       "12401            4.65             7        347.5      7          NaN  ...   \n",
       "12859            3.90             4        322.3      4          NaN  ...   \n",
       "13749            3.40             7        218.0      7          NaN  ...   \n",
       "14088            3.15             8        300.0      6          NaN  ...   \n",
       "14706             NaN             9        204.0      9        False  ...   \n",
       "14991             NaN            20         74.2     18          NaN  ...   \n",
       "15016            3.20             7          NaN      7          NaN  ...   \n",
       "15651            3.40             7        258.0      5          NaN  ...   \n",
       "19540            2.80            25        409.7     25          NaN  ...   \n",
       "20273            3.10             3        279.6      1          NaN  ...   \n",
       "21955            3.70             8        220.0      5          NaN  ...   \n",
       "22131            2.70            13          NaN     11          NaN  ...   \n",
       "22494            4.20             9        274.0      9          NaN  ...   \n",
       "\n",
       "       ponds_nearest  days_exposition kitchen_median  price_per_meter weekday  \\\n",
       "660             22.0            391.0          20.00     1.032238e+05       2   \n",
       "3117           210.0              NaN          20.00     2.218700e+05       5   \n",
       "3676             NaN              NaN          11.10     6.513643e+04       2   \n",
       "4237           540.0              NaN          20.00     9.671180e+04       5   \n",
       "5358             NaN             14.0         100.00     1.101695e+05       3   \n",
       "5893           198.0             50.0          19.50     4.600000e+05       2   \n",
       "6221           122.0            179.0          11.10     7.229428e+04       6   \n",
       "6621           368.0            351.0          15.10     2.028689e+05       6   \n",
       "8018             NaN           1078.0          15.10     1.656805e+05       3   \n",
       "9826             NaN              5.0           9.04     8.740200e+04       4   \n",
       "12401            NaN             14.0          20.00     1.848485e+05       0   \n",
       "12859          210.0              NaN          20.00     2.217997e+05       1   \n",
       "13749          198.0            199.0          19.50     5.853659e+05       5   \n",
       "14088            NaN             32.0          19.50     1.268657e+05       1   \n",
       "14706          478.0            393.0          15.10     1.000748e+06       5   \n",
       "14991            NaN            182.0          20.00     1.088271e+05       3   \n",
       "15016          531.0            303.0          11.10     3.000000e+05       2   \n",
       "15651          198.0            111.0          20.00     4.854369e+05       0   \n",
       "19540          318.0            106.0         112.00     4.666667e+05       2   \n",
       "20273          122.0             21.0          19.50     4.340278e+04       2   \n",
       "21955            NaN            161.0          20.00     3.016241e+05       0   \n",
       "22131            NaN              NaN          15.10     6.395073e+04       3   \n",
       "22494            NaN            115.0          15.10     1.854888e+05       5   \n",
       "\n",
       "       month  year  floor_category  living_area_ratio  kitchen_area_ratio  \n",
       "660       10  2017         another           0.645795              0.0062  \n",
       "3117       3  2019            last                NaN            0.030111  \n",
       "3676       1  2019            last                NaN            0.027151  \n",
       "4237      10  2017         another           0.642166            0.001934  \n",
       "5358       2  2019         another           0.693220            0.033898  \n",
       "5893       5  2017            last                NaN               0.006  \n",
       "6221       1  2018            last           0.528811             0.01701  \n",
       "6621       4  2017         another           0.442623            0.040984  \n",
       "8018      12  2015            last           0.594675            0.039448  \n",
       "9826       5  2017         another                NaN            0.002024  \n",
       "12401      6  2017            last           0.702020            0.040404  \n",
       "12859      4  2019            last           0.510615            0.031686  \n",
       "13749      4  2017            last           0.531707            0.017073  \n",
       "14088      2  2017         another           0.746269              0.0199  \n",
       "14706      2  2016            last           0.508728            0.037406  \n",
       "14991      9  2018         another           0.179444            0.045949  \n",
       "15016      1  2016            last                NaN               0.016  \n",
       "15651     12  2017         another           0.417476            0.032362  \n",
       "19540     12  2017            last           0.455222            0.008889  \n",
       "20273      3  2019           first           0.606771            0.026042  \n",
       "21955     10  2017         another           0.510441            0.044084  \n",
       "22131     10  2018         another                NaN             0.03316  \n",
       "22494      5  2017            last           0.558045            0.014257  \n",
       "\n",
       "[23 rows x 30 columns]"
      ]
     },
     "metadata": {},
     "output_type": "display_data"
    }
   ],
   "source": [
    "df_extreme_total_area_high=df.query('total_area>400')\n",
    "display(df_extreme_total_area_high)"
   ]
  },
  {
   "cell_type": "markdown",
   "metadata": {},
   "source": [
    "Явно неправдободобные цены отсутствуют. Есть подозрительный однокомнатный объект с площадью 494.1 м2. \n",
    "Он один на гистограмму не повлияет, к тому же, может оказаться \"залом\", в котором покупателю предстоит самому\n",
    "сделать планировку. Оставим и его."
   ]
  },
  {
   "cell_type": "markdown",
   "metadata": {},
   "source": [
    "Рассмотрим экстремальные площади менее 20 м2. Согласно современным нормативам однокомнатная квартира не может иметь площадь менее 28м2. Предположим, что раньше нормативы могли быть ниже. Установим границу в 20м2."
   ]
  },
  {
   "cell_type": "code",
   "execution_count": 34,
   "metadata": {},
   "outputs": [
    {
     "data": {
      "text/html": [
       "<div>\n",
       "<style scoped>\n",
       "    .dataframe tbody tr th:only-of-type {\n",
       "        vertical-align: middle;\n",
       "    }\n",
       "\n",
       "    .dataframe tbody tr th {\n",
       "        vertical-align: top;\n",
       "    }\n",
       "\n",
       "    .dataframe thead th {\n",
       "        text-align: right;\n",
       "    }\n",
       "</style>\n",
       "<table border=\"1\" class=\"dataframe\">\n",
       "  <thead>\n",
       "    <tr style=\"text-align: right;\">\n",
       "      <th></th>\n",
       "      <th>total_images</th>\n",
       "      <th>last_price</th>\n",
       "      <th>total_area</th>\n",
       "      <th>first_day_exposition</th>\n",
       "      <th>rooms</th>\n",
       "      <th>ceiling_height</th>\n",
       "      <th>floors_total</th>\n",
       "      <th>living_area</th>\n",
       "      <th>floor</th>\n",
       "      <th>is_apartment</th>\n",
       "      <th>...</th>\n",
       "      <th>ponds_nearest</th>\n",
       "      <th>days_exposition</th>\n",
       "      <th>kitchen_median</th>\n",
       "      <th>price_per_meter</th>\n",
       "      <th>weekday</th>\n",
       "      <th>month</th>\n",
       "      <th>year</th>\n",
       "      <th>floor_category</th>\n",
       "      <th>living_area_ratio</th>\n",
       "      <th>kitchen_area_ratio</th>\n",
       "    </tr>\n",
       "  </thead>\n",
       "  <tbody>\n",
       "    <tr>\n",
       "      <th>716</th>\n",
       "      <td>5</td>\n",
       "      <td>1500000.0</td>\n",
       "      <td>17.00</td>\n",
       "      <td>2017-06-07</td>\n",
       "      <td>0</td>\n",
       "      <td>2.70</td>\n",
       "      <td>9</td>\n",
       "      <td>12.00</td>\n",
       "      <td>1</td>\n",
       "      <td>NaN</td>\n",
       "      <td>...</td>\n",
       "      <td>NaN</td>\n",
       "      <td>40.0</td>\n",
       "      <td>NaN</td>\n",
       "      <td>88235.294118</td>\n",
       "      <td>2</td>\n",
       "      <td>6</td>\n",
       "      <td>2017</td>\n",
       "      <td>first</td>\n",
       "      <td>0.705882</td>\n",
       "      <td>0.294118</td>\n",
       "    </tr>\n",
       "    <tr>\n",
       "      <th>4542</th>\n",
       "      <td>12</td>\n",
       "      <td>3300000.0</td>\n",
       "      <td>18.00</td>\n",
       "      <td>2018-11-07</td>\n",
       "      <td>1</td>\n",
       "      <td>3.50</td>\n",
       "      <td>5</td>\n",
       "      <td>9.00</td>\n",
       "      <td>2</td>\n",
       "      <td>NaN</td>\n",
       "      <td>...</td>\n",
       "      <td>963.0</td>\n",
       "      <td>9.0</td>\n",
       "      <td>9.04</td>\n",
       "      <td>183333.333333</td>\n",
       "      <td>2</td>\n",
       "      <td>11</td>\n",
       "      <td>2018</td>\n",
       "      <td>another</td>\n",
       "      <td>0.500000</td>\n",
       "      <td>0.666667</td>\n",
       "    </tr>\n",
       "    <tr>\n",
       "      <th>5855</th>\n",
       "      <td>3</td>\n",
       "      <td>945750.0</td>\n",
       "      <td>19.50</td>\n",
       "      <td>2017-09-18</td>\n",
       "      <td>0</td>\n",
       "      <td>2.76</td>\n",
       "      <td>3</td>\n",
       "      <td>12.70</td>\n",
       "      <td>2</td>\n",
       "      <td>False</td>\n",
       "      <td>...</td>\n",
       "      <td>NaN</td>\n",
       "      <td>3.0</td>\n",
       "      <td>NaN</td>\n",
       "      <td>48500.000000</td>\n",
       "      <td>0</td>\n",
       "      <td>9</td>\n",
       "      <td>2017</td>\n",
       "      <td>another</td>\n",
       "      <td>0.651282</td>\n",
       "      <td>0.153846</td>\n",
       "    </tr>\n",
       "    <tr>\n",
       "      <th>6084</th>\n",
       "      <td>6</td>\n",
       "      <td>770000.0</td>\n",
       "      <td>18.00</td>\n",
       "      <td>2017-10-16</td>\n",
       "      <td>1</td>\n",
       "      <td>NaN</td>\n",
       "      <td>5</td>\n",
       "      <td>13.00</td>\n",
       "      <td>4</td>\n",
       "      <td>NaN</td>\n",
       "      <td>...</td>\n",
       "      <td>NaN</td>\n",
       "      <td>90.0</td>\n",
       "      <td>9.04</td>\n",
       "      <td>42777.777778</td>\n",
       "      <td>0</td>\n",
       "      <td>10</td>\n",
       "      <td>2017</td>\n",
       "      <td>another</td>\n",
       "      <td>0.722222</td>\n",
       "      <td>0.333333</td>\n",
       "    </tr>\n",
       "    <tr>\n",
       "      <th>8454</th>\n",
       "      <td>7</td>\n",
       "      <td>2250000.0</td>\n",
       "      <td>19.00</td>\n",
       "      <td>2019-03-12</td>\n",
       "      <td>0</td>\n",
       "      <td>3.00</td>\n",
       "      <td>6</td>\n",
       "      <td>NaN</td>\n",
       "      <td>2</td>\n",
       "      <td>NaN</td>\n",
       "      <td>...</td>\n",
       "      <td>374.0</td>\n",
       "      <td>44.0</td>\n",
       "      <td>NaN</td>\n",
       "      <td>118421.052632</td>\n",
       "      <td>1</td>\n",
       "      <td>3</td>\n",
       "      <td>2019</td>\n",
       "      <td>another</td>\n",
       "      <td>NaN</td>\n",
       "      <td>0.368421</td>\n",
       "    </tr>\n",
       "    <tr>\n",
       "      <th>8729</th>\n",
       "      <td>9</td>\n",
       "      <td>2200000.0</td>\n",
       "      <td>18.40</td>\n",
       "      <td>2018-08-20</td>\n",
       "      <td>1</td>\n",
       "      <td>2.52</td>\n",
       "      <td>3</td>\n",
       "      <td>14.00</td>\n",
       "      <td>3</td>\n",
       "      <td>NaN</td>\n",
       "      <td>...</td>\n",
       "      <td>155.0</td>\n",
       "      <td>59.0</td>\n",
       "      <td>9.04</td>\n",
       "      <td>119565.217391</td>\n",
       "      <td>0</td>\n",
       "      <td>8</td>\n",
       "      <td>2018</td>\n",
       "      <td>last</td>\n",
       "      <td>0.760870</td>\n",
       "      <td>0.48913</td>\n",
       "    </tr>\n",
       "    <tr>\n",
       "      <th>8755</th>\n",
       "      <td>1</td>\n",
       "      <td>1350000.0</td>\n",
       "      <td>18.80</td>\n",
       "      <td>2017-11-22</td>\n",
       "      <td>0</td>\n",
       "      <td>2.75</td>\n",
       "      <td>19</td>\n",
       "      <td>15.80</td>\n",
       "      <td>1</td>\n",
       "      <td>NaN</td>\n",
       "      <td>...</td>\n",
       "      <td>1127.0</td>\n",
       "      <td>128.0</td>\n",
       "      <td>NaN</td>\n",
       "      <td>71808.510638</td>\n",
       "      <td>2</td>\n",
       "      <td>11</td>\n",
       "      <td>2017</td>\n",
       "      <td>first</td>\n",
       "      <td>0.840426</td>\n",
       "      <td>0.053191</td>\n",
       "    </tr>\n",
       "    <tr>\n",
       "      <th>8886</th>\n",
       "      <td>10</td>\n",
       "      <td>2450000.0</td>\n",
       "      <td>15.50</td>\n",
       "      <td>2018-08-22</td>\n",
       "      <td>0</td>\n",
       "      <td>NaN</td>\n",
       "      <td>5</td>\n",
       "      <td>10.00</td>\n",
       "      <td>2</td>\n",
       "      <td>NaN</td>\n",
       "      <td>...</td>\n",
       "      <td>446.0</td>\n",
       "      <td>27.0</td>\n",
       "      <td>NaN</td>\n",
       "      <td>158064.516129</td>\n",
       "      <td>2</td>\n",
       "      <td>8</td>\n",
       "      <td>2018</td>\n",
       "      <td>another</td>\n",
       "      <td>0.645161</td>\n",
       "      <td>0.645161</td>\n",
       "    </tr>\n",
       "    <tr>\n",
       "      <th>9157</th>\n",
       "      <td>0</td>\n",
       "      <td>3400000.0</td>\n",
       "      <td>17.60</td>\n",
       "      <td>2018-03-18</td>\n",
       "      <td>1</td>\n",
       "      <td>NaN</td>\n",
       "      <td>5</td>\n",
       "      <td>15.00</td>\n",
       "      <td>2</td>\n",
       "      <td>NaN</td>\n",
       "      <td>...</td>\n",
       "      <td>309.0</td>\n",
       "      <td>117.0</td>\n",
       "      <td>9.04</td>\n",
       "      <td>193181.818182</td>\n",
       "      <td>6</td>\n",
       "      <td>3</td>\n",
       "      <td>2018</td>\n",
       "      <td>another</td>\n",
       "      <td>0.852273</td>\n",
       "      <td>0.0</td>\n",
       "    </tr>\n",
       "    <tr>\n",
       "      <th>9412</th>\n",
       "      <td>5</td>\n",
       "      <td>2100000.0</td>\n",
       "      <td>16.00</td>\n",
       "      <td>2017-12-10</td>\n",
       "      <td>0</td>\n",
       "      <td>NaN</td>\n",
       "      <td>6</td>\n",
       "      <td>13.00</td>\n",
       "      <td>1</td>\n",
       "      <td>NaN</td>\n",
       "      <td>...</td>\n",
       "      <td>72.0</td>\n",
       "      <td>3.0</td>\n",
       "      <td>NaN</td>\n",
       "      <td>131250.000000</td>\n",
       "      <td>6</td>\n",
       "      <td>12</td>\n",
       "      <td>2017</td>\n",
       "      <td>first</td>\n",
       "      <td>0.812500</td>\n",
       "      <td>0.3125</td>\n",
       "    </tr>\n",
       "    <tr>\n",
       "      <th>9817</th>\n",
       "      <td>8</td>\n",
       "      <td>2190000.0</td>\n",
       "      <td>19.00</td>\n",
       "      <td>2018-10-12</td>\n",
       "      <td>0</td>\n",
       "      <td>3.50</td>\n",
       "      <td>5</td>\n",
       "      <td>15.00</td>\n",
       "      <td>1</td>\n",
       "      <td>NaN</td>\n",
       "      <td>...</td>\n",
       "      <td>781.0</td>\n",
       "      <td>89.0</td>\n",
       "      <td>NaN</td>\n",
       "      <td>115263.157895</td>\n",
       "      <td>4</td>\n",
       "      <td>10</td>\n",
       "      <td>2018</td>\n",
       "      <td>first</td>\n",
       "      <td>0.789474</td>\n",
       "      <td>0.421053</td>\n",
       "    </tr>\n",
       "    <tr>\n",
       "      <th>10208</th>\n",
       "      <td>3</td>\n",
       "      <td>1900000.0</td>\n",
       "      <td>17.00</td>\n",
       "      <td>2018-08-14</td>\n",
       "      <td>1</td>\n",
       "      <td>2.75</td>\n",
       "      <td>4</td>\n",
       "      <td>13.00</td>\n",
       "      <td>2</td>\n",
       "      <td>False</td>\n",
       "      <td>...</td>\n",
       "      <td>NaN</td>\n",
       "      <td>7.0</td>\n",
       "      <td>9.04</td>\n",
       "      <td>111764.705882</td>\n",
       "      <td>1</td>\n",
       "      <td>8</td>\n",
       "      <td>2018</td>\n",
       "      <td>another</td>\n",
       "      <td>0.764706</td>\n",
       "      <td>0.176471</td>\n",
       "    </tr>\n",
       "    <tr>\n",
       "      <th>12040</th>\n",
       "      <td>5</td>\n",
       "      <td>1900000.0</td>\n",
       "      <td>15.00</td>\n",
       "      <td>2018-06-27</td>\n",
       "      <td>1</td>\n",
       "      <td>2.50</td>\n",
       "      <td>5</td>\n",
       "      <td>NaN</td>\n",
       "      <td>1</td>\n",
       "      <td>NaN</td>\n",
       "      <td>...</td>\n",
       "      <td>NaN</td>\n",
       "      <td>45.0</td>\n",
       "      <td>9.04</td>\n",
       "      <td>126666.666667</td>\n",
       "      <td>2</td>\n",
       "      <td>6</td>\n",
       "      <td>2018</td>\n",
       "      <td>first</td>\n",
       "      <td>NaN</td>\n",
       "      <td>0.333333</td>\n",
       "    </tr>\n",
       "    <tr>\n",
       "      <th>12881</th>\n",
       "      <td>5</td>\n",
       "      <td>1500000.0</td>\n",
       "      <td>18.50</td>\n",
       "      <td>2017-12-13</td>\n",
       "      <td>1</td>\n",
       "      <td>NaN</td>\n",
       "      <td>5</td>\n",
       "      <td>NaN</td>\n",
       "      <td>5</td>\n",
       "      <td>NaN</td>\n",
       "      <td>...</td>\n",
       "      <td>NaN</td>\n",
       "      <td>41.0</td>\n",
       "      <td>9.04</td>\n",
       "      <td>81081.081081</td>\n",
       "      <td>2</td>\n",
       "      <td>12</td>\n",
       "      <td>2017</td>\n",
       "      <td>last</td>\n",
       "      <td>NaN</td>\n",
       "      <td>0.27027</td>\n",
       "    </tr>\n",
       "    <tr>\n",
       "      <th>12996</th>\n",
       "      <td>8</td>\n",
       "      <td>1900000.0</td>\n",
       "      <td>18.00</td>\n",
       "      <td>2019-01-25</td>\n",
       "      <td>0</td>\n",
       "      <td>2.60</td>\n",
       "      <td>5</td>\n",
       "      <td>16.00</td>\n",
       "      <td>3</td>\n",
       "      <td>NaN</td>\n",
       "      <td>...</td>\n",
       "      <td>496.0</td>\n",
       "      <td>10.0</td>\n",
       "      <td>NaN</td>\n",
       "      <td>105555.555556</td>\n",
       "      <td>4</td>\n",
       "      <td>1</td>\n",
       "      <td>2019</td>\n",
       "      <td>another</td>\n",
       "      <td>0.888889</td>\n",
       "      <td>0.444444</td>\n",
       "    </tr>\n",
       "    <tr>\n",
       "      <th>16949</th>\n",
       "      <td>9</td>\n",
       "      <td>1550000.0</td>\n",
       "      <td>15.00</td>\n",
       "      <td>2018-08-21</td>\n",
       "      <td>1</td>\n",
       "      <td>2.70</td>\n",
       "      <td>9</td>\n",
       "      <td>NaN</td>\n",
       "      <td>1</td>\n",
       "      <td>NaN</td>\n",
       "      <td>...</td>\n",
       "      <td>1079.0</td>\n",
       "      <td>42.0</td>\n",
       "      <td>9.04</td>\n",
       "      <td>103333.333333</td>\n",
       "      <td>1</td>\n",
       "      <td>8</td>\n",
       "      <td>2018</td>\n",
       "      <td>first</td>\n",
       "      <td>NaN</td>\n",
       "      <td>0.6</td>\n",
       "    </tr>\n",
       "    <tr>\n",
       "      <th>17961</th>\n",
       "      <td>3</td>\n",
       "      <td>1400000.0</td>\n",
       "      <td>13.00</td>\n",
       "      <td>2017-12-03</td>\n",
       "      <td>1</td>\n",
       "      <td>2.60</td>\n",
       "      <td>9</td>\n",
       "      <td>NaN</td>\n",
       "      <td>1</td>\n",
       "      <td>NaN</td>\n",
       "      <td>...</td>\n",
       "      <td>185.0</td>\n",
       "      <td>410.0</td>\n",
       "      <td>9.04</td>\n",
       "      <td>107692.307692</td>\n",
       "      <td>6</td>\n",
       "      <td>12</td>\n",
       "      <td>2017</td>\n",
       "      <td>first</td>\n",
       "      <td>NaN</td>\n",
       "      <td>0.230769</td>\n",
       "    </tr>\n",
       "    <tr>\n",
       "      <th>19311</th>\n",
       "      <td>12</td>\n",
       "      <td>2190000.0</td>\n",
       "      <td>18.00</td>\n",
       "      <td>2015-03-29</td>\n",
       "      <td>1</td>\n",
       "      <td>NaN</td>\n",
       "      <td>2</td>\n",
       "      <td>10.00</td>\n",
       "      <td>1</td>\n",
       "      <td>NaN</td>\n",
       "      <td>...</td>\n",
       "      <td>473.0</td>\n",
       "      <td>702.0</td>\n",
       "      <td>9.04</td>\n",
       "      <td>121666.666667</td>\n",
       "      <td>6</td>\n",
       "      <td>3</td>\n",
       "      <td>2015</td>\n",
       "      <td>first</td>\n",
       "      <td>0.555556</td>\n",
       "      <td>0.666667</td>\n",
       "    </tr>\n",
       "    <tr>\n",
       "      <th>19546</th>\n",
       "      <td>3</td>\n",
       "      <td>1850000.0</td>\n",
       "      <td>13.00</td>\n",
       "      <td>2019-03-11</td>\n",
       "      <td>1</td>\n",
       "      <td>3.40</td>\n",
       "      <td>5</td>\n",
       "      <td>NaN</td>\n",
       "      <td>2</td>\n",
       "      <td>False</td>\n",
       "      <td>...</td>\n",
       "      <td>NaN</td>\n",
       "      <td>24.0</td>\n",
       "      <td>9.04</td>\n",
       "      <td>142307.692308</td>\n",
       "      <td>0</td>\n",
       "      <td>3</td>\n",
       "      <td>2019</td>\n",
       "      <td>another</td>\n",
       "      <td>NaN</td>\n",
       "      <td>0.230769</td>\n",
       "    </tr>\n",
       "    <tr>\n",
       "      <th>19558</th>\n",
       "      <td>2</td>\n",
       "      <td>1686000.0</td>\n",
       "      <td>13.20</td>\n",
       "      <td>2018-12-17</td>\n",
       "      <td>1</td>\n",
       "      <td>NaN</td>\n",
       "      <td>5</td>\n",
       "      <td>NaN</td>\n",
       "      <td>1</td>\n",
       "      <td>NaN</td>\n",
       "      <td>...</td>\n",
       "      <td>155.0</td>\n",
       "      <td>19.0</td>\n",
       "      <td>9.04</td>\n",
       "      <td>127727.272727</td>\n",
       "      <td>0</td>\n",
       "      <td>12</td>\n",
       "      <td>2018</td>\n",
       "      <td>first</td>\n",
       "      <td>NaN</td>\n",
       "      <td>0.151515</td>\n",
       "    </tr>\n",
       "    <tr>\n",
       "      <th>19642</th>\n",
       "      <td>5</td>\n",
       "      <td>1190000.0</td>\n",
       "      <td>14.00</td>\n",
       "      <td>2018-07-29</td>\n",
       "      <td>1</td>\n",
       "      <td>NaN</td>\n",
       "      <td>5</td>\n",
       "      <td>11.00</td>\n",
       "      <td>1</td>\n",
       "      <td>NaN</td>\n",
       "      <td>...</td>\n",
       "      <td>NaN</td>\n",
       "      <td>4.0</td>\n",
       "      <td>9.04</td>\n",
       "      <td>85000.000000</td>\n",
       "      <td>6</td>\n",
       "      <td>7</td>\n",
       "      <td>2018</td>\n",
       "      <td>first</td>\n",
       "      <td>0.785714</td>\n",
       "      <td>0.357143</td>\n",
       "    </tr>\n",
       "    <tr>\n",
       "      <th>19807</th>\n",
       "      <td>0</td>\n",
       "      <td>3800000.0</td>\n",
       "      <td>13.00</td>\n",
       "      <td>2018-07-04</td>\n",
       "      <td>1</td>\n",
       "      <td>NaN</td>\n",
       "      <td>5</td>\n",
       "      <td>10.00</td>\n",
       "      <td>3</td>\n",
       "      <td>NaN</td>\n",
       "      <td>...</td>\n",
       "      <td>27.0</td>\n",
       "      <td>9.0</td>\n",
       "      <td>9.04</td>\n",
       "      <td>292307.692308</td>\n",
       "      <td>2</td>\n",
       "      <td>7</td>\n",
       "      <td>2018</td>\n",
       "      <td>another</td>\n",
       "      <td>0.769231</td>\n",
       "      <td>0.0</td>\n",
       "    </tr>\n",
       "    <tr>\n",
       "      <th>19904</th>\n",
       "      <td>4</td>\n",
       "      <td>2400000.0</td>\n",
       "      <td>12.00</td>\n",
       "      <td>2017-07-19</td>\n",
       "      <td>1</td>\n",
       "      <td>2.55</td>\n",
       "      <td>5</td>\n",
       "      <td>10.00</td>\n",
       "      <td>2</td>\n",
       "      <td>NaN</td>\n",
       "      <td>...</td>\n",
       "      <td>45.0</td>\n",
       "      <td>200.0</td>\n",
       "      <td>9.04</td>\n",
       "      <td>200000.000000</td>\n",
       "      <td>2</td>\n",
       "      <td>7</td>\n",
       "      <td>2017</td>\n",
       "      <td>another</td>\n",
       "      <td>0.833333</td>\n",
       "      <td>0.333333</td>\n",
       "    </tr>\n",
       "    <tr>\n",
       "      <th>20714</th>\n",
       "      <td>7</td>\n",
       "      <td>1200000.0</td>\n",
       "      <td>18.00</td>\n",
       "      <td>2018-01-04</td>\n",
       "      <td>1</td>\n",
       "      <td>NaN</td>\n",
       "      <td>4</td>\n",
       "      <td>NaN</td>\n",
       "      <td>4</td>\n",
       "      <td>NaN</td>\n",
       "      <td>...</td>\n",
       "      <td>NaN</td>\n",
       "      <td>45.0</td>\n",
       "      <td>9.04</td>\n",
       "      <td>66666.666667</td>\n",
       "      <td>3</td>\n",
       "      <td>1</td>\n",
       "      <td>2018</td>\n",
       "      <td>last</td>\n",
       "      <td>NaN</td>\n",
       "      <td>0.388889</td>\n",
       "    </tr>\n",
       "    <tr>\n",
       "      <th>21802</th>\n",
       "      <td>6</td>\n",
       "      <td>1737000.0</td>\n",
       "      <td>17.78</td>\n",
       "      <td>2018-11-22</td>\n",
       "      <td>1</td>\n",
       "      <td>2.60</td>\n",
       "      <td>9</td>\n",
       "      <td>15.89</td>\n",
       "      <td>1</td>\n",
       "      <td>NaN</td>\n",
       "      <td>...</td>\n",
       "      <td>NaN</td>\n",
       "      <td>66.0</td>\n",
       "      <td>9.04</td>\n",
       "      <td>97694.038245</td>\n",
       "      <td>3</td>\n",
       "      <td>11</td>\n",
       "      <td>2018</td>\n",
       "      <td>first</td>\n",
       "      <td>0.893701</td>\n",
       "      <td>0.337458</td>\n",
       "    </tr>\n",
       "    <tr>\n",
       "      <th>22356</th>\n",
       "      <td>6</td>\n",
       "      <td>2050000.0</td>\n",
       "      <td>17.20</td>\n",
       "      <td>2019-01-13</td>\n",
       "      <td>1</td>\n",
       "      <td>2.77</td>\n",
       "      <td>23</td>\n",
       "      <td>NaN</td>\n",
       "      <td>1</td>\n",
       "      <td>False</td>\n",
       "      <td>...</td>\n",
       "      <td>NaN</td>\n",
       "      <td>7.0</td>\n",
       "      <td>9.04</td>\n",
       "      <td>119186.046512</td>\n",
       "      <td>6</td>\n",
       "      <td>1</td>\n",
       "      <td>2019</td>\n",
       "      <td>first</td>\n",
       "      <td>NaN</td>\n",
       "      <td>0.348837</td>\n",
       "    </tr>\n",
       "    <tr>\n",
       "      <th>23191</th>\n",
       "      <td>3</td>\n",
       "      <td>1900000.0</td>\n",
       "      <td>18.90</td>\n",
       "      <td>2016-04-04</td>\n",
       "      <td>1</td>\n",
       "      <td>NaN</td>\n",
       "      <td>16</td>\n",
       "      <td>16.00</td>\n",
       "      <td>12</td>\n",
       "      <td>NaN</td>\n",
       "      <td>...</td>\n",
       "      <td>NaN</td>\n",
       "      <td>115.0</td>\n",
       "      <td>9.04</td>\n",
       "      <td>100529.100529</td>\n",
       "      <td>0</td>\n",
       "      <td>4</td>\n",
       "      <td>2016</td>\n",
       "      <td>another</td>\n",
       "      <td>0.846561</td>\n",
       "      <td>0.15873</td>\n",
       "    </tr>\n",
       "  </tbody>\n",
       "</table>\n",
       "<p>27 rows × 30 columns</p>\n",
       "</div>"
      ],
      "text/plain": [
       "       total_images  last_price  total_area first_day_exposition  rooms  \\\n",
       "716               5   1500000.0       17.00           2017-06-07      0   \n",
       "4542             12   3300000.0       18.00           2018-11-07      1   \n",
       "5855              3    945750.0       19.50           2017-09-18      0   \n",
       "6084              6    770000.0       18.00           2017-10-16      1   \n",
       "8454              7   2250000.0       19.00           2019-03-12      0   \n",
       "8729              9   2200000.0       18.40           2018-08-20      1   \n",
       "8755              1   1350000.0       18.80           2017-11-22      0   \n",
       "8886             10   2450000.0       15.50           2018-08-22      0   \n",
       "9157              0   3400000.0       17.60           2018-03-18      1   \n",
       "9412              5   2100000.0       16.00           2017-12-10      0   \n",
       "9817              8   2190000.0       19.00           2018-10-12      0   \n",
       "10208             3   1900000.0       17.00           2018-08-14      1   \n",
       "12040             5   1900000.0       15.00           2018-06-27      1   \n",
       "12881             5   1500000.0       18.50           2017-12-13      1   \n",
       "12996             8   1900000.0       18.00           2019-01-25      0   \n",
       "16949             9   1550000.0       15.00           2018-08-21      1   \n",
       "17961             3   1400000.0       13.00           2017-12-03      1   \n",
       "19311            12   2190000.0       18.00           2015-03-29      1   \n",
       "19546             3   1850000.0       13.00           2019-03-11      1   \n",
       "19558             2   1686000.0       13.20           2018-12-17      1   \n",
       "19642             5   1190000.0       14.00           2018-07-29      1   \n",
       "19807             0   3800000.0       13.00           2018-07-04      1   \n",
       "19904             4   2400000.0       12.00           2017-07-19      1   \n",
       "20714             7   1200000.0       18.00           2018-01-04      1   \n",
       "21802             6   1737000.0       17.78           2018-11-22      1   \n",
       "22356             6   2050000.0       17.20           2019-01-13      1   \n",
       "23191             3   1900000.0       18.90           2016-04-04      1   \n",
       "\n",
       "       ceiling_height  floors_total  living_area  floor is_apartment  ...  \\\n",
       "716              2.70             9        12.00      1          NaN  ...   \n",
       "4542             3.50             5         9.00      2          NaN  ...   \n",
       "5855             2.76             3        12.70      2        False  ...   \n",
       "6084              NaN             5        13.00      4          NaN  ...   \n",
       "8454             3.00             6          NaN      2          NaN  ...   \n",
       "8729             2.52             3        14.00      3          NaN  ...   \n",
       "8755             2.75            19        15.80      1          NaN  ...   \n",
       "8886              NaN             5        10.00      2          NaN  ...   \n",
       "9157              NaN             5        15.00      2          NaN  ...   \n",
       "9412              NaN             6        13.00      1          NaN  ...   \n",
       "9817             3.50             5        15.00      1          NaN  ...   \n",
       "10208            2.75             4        13.00      2        False  ...   \n",
       "12040            2.50             5          NaN      1          NaN  ...   \n",
       "12881             NaN             5          NaN      5          NaN  ...   \n",
       "12996            2.60             5        16.00      3          NaN  ...   \n",
       "16949            2.70             9          NaN      1          NaN  ...   \n",
       "17961            2.60             9          NaN      1          NaN  ...   \n",
       "19311             NaN             2        10.00      1          NaN  ...   \n",
       "19546            3.40             5          NaN      2        False  ...   \n",
       "19558             NaN             5          NaN      1          NaN  ...   \n",
       "19642             NaN             5        11.00      1          NaN  ...   \n",
       "19807             NaN             5        10.00      3          NaN  ...   \n",
       "19904            2.55             5        10.00      2          NaN  ...   \n",
       "20714             NaN             4          NaN      4          NaN  ...   \n",
       "21802            2.60             9        15.89      1          NaN  ...   \n",
       "22356            2.77            23          NaN      1        False  ...   \n",
       "23191             NaN            16        16.00     12          NaN  ...   \n",
       "\n",
       "       ponds_nearest  days_exposition kitchen_median  price_per_meter weekday  \\\n",
       "716              NaN             40.0            NaN     88235.294118       2   \n",
       "4542           963.0              9.0           9.04    183333.333333       2   \n",
       "5855             NaN              3.0            NaN     48500.000000       0   \n",
       "6084             NaN             90.0           9.04     42777.777778       0   \n",
       "8454           374.0             44.0            NaN    118421.052632       1   \n",
       "8729           155.0             59.0           9.04    119565.217391       0   \n",
       "8755          1127.0            128.0            NaN     71808.510638       2   \n",
       "8886           446.0             27.0            NaN    158064.516129       2   \n",
       "9157           309.0            117.0           9.04    193181.818182       6   \n",
       "9412            72.0              3.0            NaN    131250.000000       6   \n",
       "9817           781.0             89.0            NaN    115263.157895       4   \n",
       "10208            NaN              7.0           9.04    111764.705882       1   \n",
       "12040            NaN             45.0           9.04    126666.666667       2   \n",
       "12881            NaN             41.0           9.04     81081.081081       2   \n",
       "12996          496.0             10.0            NaN    105555.555556       4   \n",
       "16949         1079.0             42.0           9.04    103333.333333       1   \n",
       "17961          185.0            410.0           9.04    107692.307692       6   \n",
       "19311          473.0            702.0           9.04    121666.666667       6   \n",
       "19546            NaN             24.0           9.04    142307.692308       0   \n",
       "19558          155.0             19.0           9.04    127727.272727       0   \n",
       "19642            NaN              4.0           9.04     85000.000000       6   \n",
       "19807           27.0              9.0           9.04    292307.692308       2   \n",
       "19904           45.0            200.0           9.04    200000.000000       2   \n",
       "20714            NaN             45.0           9.04     66666.666667       3   \n",
       "21802            NaN             66.0           9.04     97694.038245       3   \n",
       "22356            NaN              7.0           9.04    119186.046512       6   \n",
       "23191            NaN            115.0           9.04    100529.100529       0   \n",
       "\n",
       "       month  year  floor_category  living_area_ratio  kitchen_area_ratio  \n",
       "716        6  2017           first           0.705882            0.294118  \n",
       "4542      11  2018         another           0.500000            0.666667  \n",
       "5855       9  2017         another           0.651282            0.153846  \n",
       "6084      10  2017         another           0.722222            0.333333  \n",
       "8454       3  2019         another                NaN            0.368421  \n",
       "8729       8  2018            last           0.760870             0.48913  \n",
       "8755      11  2017           first           0.840426            0.053191  \n",
       "8886       8  2018         another           0.645161            0.645161  \n",
       "9157       3  2018         another           0.852273                 0.0  \n",
       "9412      12  2017           first           0.812500              0.3125  \n",
       "9817      10  2018           first           0.789474            0.421053  \n",
       "10208      8  2018         another           0.764706            0.176471  \n",
       "12040      6  2018           first                NaN            0.333333  \n",
       "12881     12  2017            last                NaN             0.27027  \n",
       "12996      1  2019         another           0.888889            0.444444  \n",
       "16949      8  2018           first                NaN                 0.6  \n",
       "17961     12  2017           first                NaN            0.230769  \n",
       "19311      3  2015           first           0.555556            0.666667  \n",
       "19546      3  2019         another                NaN            0.230769  \n",
       "19558     12  2018           first                NaN            0.151515  \n",
       "19642      7  2018           first           0.785714            0.357143  \n",
       "19807      7  2018         another           0.769231                 0.0  \n",
       "19904      7  2017         another           0.833333            0.333333  \n",
       "20714      1  2018            last                NaN            0.388889  \n",
       "21802     11  2018           first           0.893701            0.337458  \n",
       "22356      1  2019           first                NaN            0.348837  \n",
       "23191      4  2016         another           0.846561             0.15873  \n",
       "\n",
       "[27 rows x 30 columns]"
      ]
     },
     "metadata": {},
     "output_type": "display_data"
    }
   ],
   "source": [
    "df_extreme_total_area_low=df.query('total_area<20')\n",
    "display(df_extreme_total_area_low)"
   ]
  },
  {
   "cell_type": "markdown",
   "metadata": {},
   "source": [
    "Таких объектов 27. Неправдоподобно высоких цен нет. Площадей менее 12м2 тоже нет. Поскольку в учебном задании\n",
    "мы не будем обращаться к экспертам с вопросом, существуют ли реально в Санкт-Петербурге мини-квартиры площадью\n",
    "10-12 м, и ввиду их малого количества в базе, оставим их. Таким образом, мы оставили все данные о площадях. Гистограмму, построенную выше, считаем актуальной."
   ]
  },
  {
   "cell_type": "markdown",
   "metadata": {},
   "source": [
    "Рассмотрим экстремально дорогие объекты. В качестве границы примем 200 миллионов."
   ]
  },
  {
   "cell_type": "code",
   "execution_count": 35,
   "metadata": {},
   "outputs": [
    {
     "data": {
      "text/html": [
       "<div>\n",
       "<style scoped>\n",
       "    .dataframe tbody tr th:only-of-type {\n",
       "        vertical-align: middle;\n",
       "    }\n",
       "\n",
       "    .dataframe tbody tr th {\n",
       "        vertical-align: top;\n",
       "    }\n",
       "\n",
       "    .dataframe thead th {\n",
       "        text-align: right;\n",
       "    }\n",
       "</style>\n",
       "<table border=\"1\" class=\"dataframe\">\n",
       "  <thead>\n",
       "    <tr style=\"text-align: right;\">\n",
       "      <th></th>\n",
       "      <th>total_images</th>\n",
       "      <th>last_price</th>\n",
       "      <th>total_area</th>\n",
       "      <th>first_day_exposition</th>\n",
       "      <th>rooms</th>\n",
       "      <th>ceiling_height</th>\n",
       "      <th>floors_total</th>\n",
       "      <th>living_area</th>\n",
       "      <th>floor</th>\n",
       "      <th>is_apartment</th>\n",
       "      <th>...</th>\n",
       "      <th>ponds_nearest</th>\n",
       "      <th>days_exposition</th>\n",
       "      <th>kitchen_median</th>\n",
       "      <th>price_per_meter</th>\n",
       "      <th>weekday</th>\n",
       "      <th>month</th>\n",
       "      <th>year</th>\n",
       "      <th>floor_category</th>\n",
       "      <th>living_area_ratio</th>\n",
       "      <th>kitchen_area_ratio</th>\n",
       "    </tr>\n",
       "  </thead>\n",
       "  <tbody>\n",
       "    <tr>\n",
       "      <th>1436</th>\n",
       "      <td>19</td>\n",
       "      <td>330000000.0</td>\n",
       "      <td>190.0</td>\n",
       "      <td>2018-04-04</td>\n",
       "      <td>3</td>\n",
       "      <td>3.50</td>\n",
       "      <td>7</td>\n",
       "      <td>95.0</td>\n",
       "      <td>5</td>\n",
       "      <td>NaN</td>\n",
       "      <td>...</td>\n",
       "      <td>285.0</td>\n",
       "      <td>233.0</td>\n",
       "      <td>9.5</td>\n",
       "      <td>1.736842e+06</td>\n",
       "      <td>2</td>\n",
       "      <td>4</td>\n",
       "      <td>2018</td>\n",
       "      <td>another</td>\n",
       "      <td>0.500000</td>\n",
       "      <td>0.1</td>\n",
       "    </tr>\n",
       "    <tr>\n",
       "      <th>5893</th>\n",
       "      <td>3</td>\n",
       "      <td>230000000.0</td>\n",
       "      <td>500.0</td>\n",
       "      <td>2017-05-31</td>\n",
       "      <td>6</td>\n",
       "      <td>NaN</td>\n",
       "      <td>7</td>\n",
       "      <td>NaN</td>\n",
       "      <td>7</td>\n",
       "      <td>NaN</td>\n",
       "      <td>...</td>\n",
       "      <td>198.0</td>\n",
       "      <td>50.0</td>\n",
       "      <td>19.5</td>\n",
       "      <td>4.600000e+05</td>\n",
       "      <td>2</td>\n",
       "      <td>5</td>\n",
       "      <td>2017</td>\n",
       "      <td>last</td>\n",
       "      <td>NaN</td>\n",
       "      <td>0.006</td>\n",
       "    </tr>\n",
       "    <tr>\n",
       "      <th>12971</th>\n",
       "      <td>19</td>\n",
       "      <td>763000000.0</td>\n",
       "      <td>400.0</td>\n",
       "      <td>2017-09-30</td>\n",
       "      <td>7</td>\n",
       "      <td>NaN</td>\n",
       "      <td>10</td>\n",
       "      <td>250.0</td>\n",
       "      <td>10</td>\n",
       "      <td>NaN</td>\n",
       "      <td>...</td>\n",
       "      <td>756.0</td>\n",
       "      <td>33.0</td>\n",
       "      <td>20.0</td>\n",
       "      <td>1.907500e+06</td>\n",
       "      <td>5</td>\n",
       "      <td>9</td>\n",
       "      <td>2017</td>\n",
       "      <td>last</td>\n",
       "      <td>0.625000</td>\n",
       "      <td>0.0475</td>\n",
       "    </tr>\n",
       "    <tr>\n",
       "      <th>13749</th>\n",
       "      <td>7</td>\n",
       "      <td>240000000.0</td>\n",
       "      <td>410.0</td>\n",
       "      <td>2017-04-01</td>\n",
       "      <td>6</td>\n",
       "      <td>3.40</td>\n",
       "      <td>7</td>\n",
       "      <td>218.0</td>\n",
       "      <td>7</td>\n",
       "      <td>NaN</td>\n",
       "      <td>...</td>\n",
       "      <td>198.0</td>\n",
       "      <td>199.0</td>\n",
       "      <td>19.5</td>\n",
       "      <td>5.853659e+05</td>\n",
       "      <td>5</td>\n",
       "      <td>4</td>\n",
       "      <td>2017</td>\n",
       "      <td>last</td>\n",
       "      <td>0.531707</td>\n",
       "      <td>0.017073</td>\n",
       "    </tr>\n",
       "    <tr>\n",
       "      <th>14706</th>\n",
       "      <td>15</td>\n",
       "      <td>401300000.0</td>\n",
       "      <td>401.0</td>\n",
       "      <td>2016-02-20</td>\n",
       "      <td>5</td>\n",
       "      <td>NaN</td>\n",
       "      <td>9</td>\n",
       "      <td>204.0</td>\n",
       "      <td>9</td>\n",
       "      <td>False</td>\n",
       "      <td>...</td>\n",
       "      <td>478.0</td>\n",
       "      <td>393.0</td>\n",
       "      <td>15.1</td>\n",
       "      <td>1.000748e+06</td>\n",
       "      <td>5</td>\n",
       "      <td>2</td>\n",
       "      <td>2016</td>\n",
       "      <td>last</td>\n",
       "      <td>0.508728</td>\n",
       "      <td>0.037406</td>\n",
       "    </tr>\n",
       "    <tr>\n",
       "      <th>15651</th>\n",
       "      <td>20</td>\n",
       "      <td>300000000.0</td>\n",
       "      <td>618.0</td>\n",
       "      <td>2017-12-18</td>\n",
       "      <td>7</td>\n",
       "      <td>3.40</td>\n",
       "      <td>7</td>\n",
       "      <td>258.0</td>\n",
       "      <td>5</td>\n",
       "      <td>NaN</td>\n",
       "      <td>...</td>\n",
       "      <td>198.0</td>\n",
       "      <td>111.0</td>\n",
       "      <td>20.0</td>\n",
       "      <td>4.854369e+05</td>\n",
       "      <td>0</td>\n",
       "      <td>12</td>\n",
       "      <td>2017</td>\n",
       "      <td>another</td>\n",
       "      <td>0.417476</td>\n",
       "      <td>0.032362</td>\n",
       "    </tr>\n",
       "    <tr>\n",
       "      <th>16461</th>\n",
       "      <td>17</td>\n",
       "      <td>245000000.0</td>\n",
       "      <td>285.7</td>\n",
       "      <td>2017-04-10</td>\n",
       "      <td>6</td>\n",
       "      <td>3.35</td>\n",
       "      <td>7</td>\n",
       "      <td>182.8</td>\n",
       "      <td>4</td>\n",
       "      <td>NaN</td>\n",
       "      <td>...</td>\n",
       "      <td>140.0</td>\n",
       "      <td>249.0</td>\n",
       "      <td>19.5</td>\n",
       "      <td>8.575429e+05</td>\n",
       "      <td>0</td>\n",
       "      <td>4</td>\n",
       "      <td>2017</td>\n",
       "      <td>another</td>\n",
       "      <td>0.639832</td>\n",
       "      <td>0.059503</td>\n",
       "    </tr>\n",
       "    <tr>\n",
       "      <th>19540</th>\n",
       "      <td>8</td>\n",
       "      <td>420000000.0</td>\n",
       "      <td>900.0</td>\n",
       "      <td>2017-12-06</td>\n",
       "      <td>12</td>\n",
       "      <td>2.80</td>\n",
       "      <td>25</td>\n",
       "      <td>409.7</td>\n",
       "      <td>25</td>\n",
       "      <td>NaN</td>\n",
       "      <td>...</td>\n",
       "      <td>318.0</td>\n",
       "      <td>106.0</td>\n",
       "      <td>112.0</td>\n",
       "      <td>4.666667e+05</td>\n",
       "      <td>2</td>\n",
       "      <td>12</td>\n",
       "      <td>2017</td>\n",
       "      <td>last</td>\n",
       "      <td>0.455222</td>\n",
       "      <td>0.008889</td>\n",
       "    </tr>\n",
       "    <tr>\n",
       "      <th>22831</th>\n",
       "      <td>18</td>\n",
       "      <td>289238400.0</td>\n",
       "      <td>187.5</td>\n",
       "      <td>2019-03-19</td>\n",
       "      <td>2</td>\n",
       "      <td>3.37</td>\n",
       "      <td>6</td>\n",
       "      <td>63.7</td>\n",
       "      <td>6</td>\n",
       "      <td>NaN</td>\n",
       "      <td>...</td>\n",
       "      <td>188.0</td>\n",
       "      <td>NaN</td>\n",
       "      <td>8.8</td>\n",
       "      <td>1.542605e+06</td>\n",
       "      <td>1</td>\n",
       "      <td>3</td>\n",
       "      <td>2019</td>\n",
       "      <td>last</td>\n",
       "      <td>0.339733</td>\n",
       "      <td>0.096</td>\n",
       "    </tr>\n",
       "  </tbody>\n",
       "</table>\n",
       "<p>9 rows × 30 columns</p>\n",
       "</div>"
      ],
      "text/plain": [
       "       total_images   last_price  total_area first_day_exposition  rooms  \\\n",
       "1436             19  330000000.0       190.0           2018-04-04      3   \n",
       "5893              3  230000000.0       500.0           2017-05-31      6   \n",
       "12971            19  763000000.0       400.0           2017-09-30      7   \n",
       "13749             7  240000000.0       410.0           2017-04-01      6   \n",
       "14706            15  401300000.0       401.0           2016-02-20      5   \n",
       "15651            20  300000000.0       618.0           2017-12-18      7   \n",
       "16461            17  245000000.0       285.7           2017-04-10      6   \n",
       "19540             8  420000000.0       900.0           2017-12-06     12   \n",
       "22831            18  289238400.0       187.5           2019-03-19      2   \n",
       "\n",
       "       ceiling_height  floors_total  living_area  floor is_apartment  ...  \\\n",
       "1436             3.50             7         95.0      5          NaN  ...   \n",
       "5893              NaN             7          NaN      7          NaN  ...   \n",
       "12971             NaN            10        250.0     10          NaN  ...   \n",
       "13749            3.40             7        218.0      7          NaN  ...   \n",
       "14706             NaN             9        204.0      9        False  ...   \n",
       "15651            3.40             7        258.0      5          NaN  ...   \n",
       "16461            3.35             7        182.8      4          NaN  ...   \n",
       "19540            2.80            25        409.7     25          NaN  ...   \n",
       "22831            3.37             6         63.7      6          NaN  ...   \n",
       "\n",
       "       ponds_nearest  days_exposition kitchen_median  price_per_meter weekday  \\\n",
       "1436           285.0            233.0            9.5     1.736842e+06       2   \n",
       "5893           198.0             50.0           19.5     4.600000e+05       2   \n",
       "12971          756.0             33.0           20.0     1.907500e+06       5   \n",
       "13749          198.0            199.0           19.5     5.853659e+05       5   \n",
       "14706          478.0            393.0           15.1     1.000748e+06       5   \n",
       "15651          198.0            111.0           20.0     4.854369e+05       0   \n",
       "16461          140.0            249.0           19.5     8.575429e+05       0   \n",
       "19540          318.0            106.0          112.0     4.666667e+05       2   \n",
       "22831          188.0              NaN            8.8     1.542605e+06       1   \n",
       "\n",
       "       month  year  floor_category  living_area_ratio  kitchen_area_ratio  \n",
       "1436       4  2018         another           0.500000                 0.1  \n",
       "5893       5  2017            last                NaN               0.006  \n",
       "12971      9  2017            last           0.625000              0.0475  \n",
       "13749      4  2017            last           0.531707            0.017073  \n",
       "14706      2  2016            last           0.508728            0.037406  \n",
       "15651     12  2017         another           0.417476            0.032362  \n",
       "16461      4  2017         another           0.639832            0.059503  \n",
       "19540     12  2017            last           0.455222            0.008889  \n",
       "22831      3  2019            last           0.339733               0.096  \n",
       "\n",
       "[9 rows x 30 columns]"
      ]
     },
     "metadata": {},
     "output_type": "display_data"
    }
   ],
   "source": [
    "df_extreme_price_high=df.query('last_price>2e8')\n",
    "display(df_extreme_price_high)"
   ]
  },
  {
   "cell_type": "markdown",
   "metadata": {},
   "source": [
    " В отфильтрованных данных нет подозрительно низких цен и площадей. Сверхдорогие объекты оставляем."
   ]
  },
  {
   "cell_type": "markdown",
   "metadata": {},
   "source": [
    "Объекты с экстремально низкими ценами оставим все. Ультранизкие цены могут быть обусловлены состоянием квартир,\n",
    "или юридическими уловками. Таким образом, гистограмму распределения цен, построенную выше, считаем актуальной. Но для наглядности выведем подробнее ее фрагмент с ценами до 50 миллионов. Оно соответствует ожиданиям."
   ]
  },
  {
   "cell_type": "code",
   "execution_count": 36,
   "metadata": {},
   "outputs": [
    {
     "data": {
      "text/plain": [
       "array([[<AxesSubplot:title={'center':'last_price'}>]], dtype=object)"
      ]
     },
     "execution_count": 36,
     "metadata": {},
     "output_type": "execute_result"
    },
    {
     "data": {
      "image/png": "[encoded data removed]",
      "text/plain": [
       "<Figure size 360x360 with 1 Axes>"
      ]
     },
     "metadata": {
      "needs_background": "light"
     },
     "output_type": "display_data"
    }
   ],
   "source": [
    "maj_of_prices = df.query('last_price<50e6')\n",
    "maj_of_prices.hist('last_price',bins=50,grid=True, figsize=(5,5))"
   ]
  },
  {
   "cell_type": "markdown",
   "metadata": {},
   "source": [
    "Далее оперируем с датафреймом df_good_ceiling с обработанными высотами потолков. "
   ]
  },
  {
   "cell_type": "markdown",
   "metadata": {},
   "source": [
    "### 4.2 Время продажи квартиры\n",
    "Построим гистограмму:"
   ]
  },
  {
   "cell_type": "code",
   "execution_count": 37,
   "metadata": {},
   "outputs": [
    {
     "data": {
      "text/plain": [
       "array([[<AxesSubplot:title={'center':'days_exposition'}>]], dtype=object)"
      ]
     },
     "execution_count": 37,
     "metadata": {},
     "output_type": "execute_result"
    },
    {
     "data": {
      "image/png": "[encoded data removed]",
      "text/plain": [
       "<Figure size 360x360 with 1 Axes>"
      ]
     },
     "metadata": {
      "needs_background": "light"
     },
     "output_type": "display_data"
    }
   ],
   "source": [
    "df.hist('days_exposition',bins=50,grid=True, figsize=(5,5))"
   ]
  },
  {
   "cell_type": "markdown",
   "metadata": {},
   "source": [
    "Гистограмма напоминает распределение Пуассона. То есть, выглядит ожидаемо. Рассчитаем среднее и медиану."
   ]
  },
  {
   "cell_type": "code",
   "execution_count": 38,
   "metadata": {},
   "outputs": [
    {
     "data": {
      "text/plain": [
       "181.0"
      ]
     },
     "execution_count": 38,
     "metadata": {},
     "output_type": "execute_result"
    }
   ],
   "source": [
    "round(df['days_exposition'].mean(),0)"
   ]
  },
  {
   "cell_type": "code",
   "execution_count": 39,
   "metadata": {},
   "outputs": [
    {
     "data": {
      "text/plain": [
       "95.0"
      ]
     },
     "execution_count": 39,
     "metadata": {},
     "output_type": "execute_result"
    }
   ],
   "source": [
    "round(df['days_exposition'].median(),0)"
   ]
  },
  {
   "cell_type": "markdown",
   "metadata": {},
   "source": [
    "Среднее количество дней от публикации до продажи - 181. Медианное 95. Учитывая наличие значительного количества \n",
    "продаж со сроком более 200 дней, типичным временем продажи будем считать медианное. Построим диаграмму размаха. И выведем описание данных по срокам продаж."
   ]
  },
  {
   "cell_type": "code",
   "execution_count": 105,
   "metadata": {},
   "outputs": [
    {
     "data": {
      "text/plain": [
       "Text(0.5, 1.0, 'Диаграмма размаха времени продажи, дн')"
      ]
     },
     "execution_count": 105,
     "metadata": {},
     "output_type": "execute_result"
    },
    {
     "data": {
      "image/png": "[encoded data removed]",
      "text/plain": [
       "<Figure size 432x288 with 1 Axes>"
      ]
     },
     "metadata": {
      "needs_background": "light"
     },
     "output_type": "display_data"
    }
   ],
   "source": [
    "plt.ylim(0, 1000)\n",
    "df.boxplot('days_exposition',rot=0)\n",
    "plt.title(label='Диаграмма размаха времени продажи, дн', pad = 15)"
   ]
  },
  {
   "cell_type": "code",
   "execution_count": 41,
   "metadata": {},
   "outputs": [
    {
     "data": {
      "text/plain": [
       "count    20518.000000\n",
       "mean       180.888634\n",
       "std        219.727988\n",
       "min          1.000000\n",
       "25%         45.000000\n",
       "50%         95.000000\n",
       "75%        232.000000\n",
       "max       1580.000000\n",
       "Name: days_exposition, dtype: float64"
      ]
     },
     "execution_count": 41,
     "metadata": {},
     "output_type": "execute_result"
    }
   ],
   "source": [
    "df['days_exposition'].describe()"
   ]
  },
  {
   "cell_type": "markdown",
   "metadata": {},
   "source": [
    "Необычно долгими продажами будем считать продажи со сроком более 500 дней - верхняя граница диаграммы размаха - полтора межквартильных расстояния от третьего квартиля. Необычно быстрыми - 1 день - из аналогичных соображений. Имеется существенное количество выбросов за верхнюю границу. По нижней границе проходит всего одно."
   ]
  },
  {
   "cell_type": "markdown",
   "metadata": {},
   "source": [
    "### 4.3 Зависимость цены от различных факторов\n",
    "Рассмотрим зависимость цены от площади. Построим точки данных в координатах \"площадь-цена\":"
   ]
  },
  {
   "cell_type": "code",
   "execution_count": 117,
   "metadata": {},
   "outputs": [
    {
     "data": {
      "text/plain": [
       "Text(0, 0.5, 'Цена, р')"
      ]
     },
     "execution_count": 117,
     "metadata": {},
     "output_type": "execute_result"
    },
    {
     "data": {
      "image/png": "[encoded data removed]",
      "text/plain": [
       "<Figure size 432x288 with 1 Axes>"
      ]
     },
     "metadata": {
      "needs_background": "light"
     },
     "output_type": "display_data"
    }
   ],
   "source": [
    "df.plot(x='total_area', y='last_price', kind='scatter', alpha=0.3, grid=True) \n",
    "plt.title('Зависимость цены от общей площади', pad=15)\n",
    "plt.xlabel('Площадь, м2')\n",
    "plt.ylabel('Цена, р')"
   ]
  },
  {
   "cell_type": "markdown",
   "metadata": {},
   "source": [
    "Цена ожидаемо растет вместе с площадью. Разброс цен также растет вместе с площадью. Аномально высокие значения\n",
    "для площади 400 м2 пока нельзя считать ошибками, так как на цену квартиры могут влиять факторы,\n",
    "даже не попавшие в рассматриваемый датафрейм. Например, историческое прошлое квартиры, уникальный вид и подобные."
   ]
  },
  {
   "cell_type": "markdown",
   "metadata": {},
   "source": [
    "Рассмотрим зависимость цены от количества комнат. Построим точки данных в координатах \"количество комнат - медианная цена\":"
   ]
  },
  {
   "cell_type": "code",
   "execution_count": 134,
   "metadata": {},
   "outputs": [
    {
     "data": {
      "text/plain": [
       "Text(0, 0.5, 'Цена, р')"
      ]
     },
     "execution_count": 134,
     "metadata": {},
     "output_type": "execute_result"
    },
    {
     "data": {
      "image/png": "[encoded data removed]",
      "text/plain": [
       "<Figure size 864x360 with 1 Axes>"
      ]
     },
     "metadata": {
      "needs_background": "light"
     },
     "output_type": "display_data"
    }
   ],
   "source": [
    "df.pivot_table(index='rooms',values='last_price', aggfunc='median').plot(grid=True, figsize=(12, 5), legend=False)\n",
    "plt.title('Зависимость цены, р от количества комнат', pad=15)\n",
    "plt.xlabel('Кол-во комнат')\n",
    "plt.ylabel('Цена, р')"
   ]
  },
  {
   "cell_type": "markdown",
   "metadata": {},
   "source": [
    "Посмотрим на выпадающую двеннадцати-пятнадцатикомнатные квартиры:"
   ]
  },
  {
   "cell_type": "code",
   "execution_count": 44,
   "metadata": {
    "scrolled": true
   },
   "outputs": [
    {
     "data": {
      "text/html": [
       "<div>\n",
       "<style scoped>\n",
       "    .dataframe tbody tr th:only-of-type {\n",
       "        vertical-align: middle;\n",
       "    }\n",
       "\n",
       "    .dataframe tbody tr th {\n",
       "        vertical-align: top;\n",
       "    }\n",
       "\n",
       "    .dataframe thead th {\n",
       "        text-align: right;\n",
       "    }\n",
       "</style>\n",
       "<table border=\"1\" class=\"dataframe\">\n",
       "  <thead>\n",
       "    <tr style=\"text-align: right;\">\n",
       "      <th></th>\n",
       "      <th>total_images</th>\n",
       "      <th>last_price</th>\n",
       "      <th>total_area</th>\n",
       "      <th>first_day_exposition</th>\n",
       "      <th>rooms</th>\n",
       "      <th>ceiling_height</th>\n",
       "      <th>floors_total</th>\n",
       "      <th>living_area</th>\n",
       "      <th>floor</th>\n",
       "      <th>is_apartment</th>\n",
       "      <th>...</th>\n",
       "      <th>ponds_nearest</th>\n",
       "      <th>days_exposition</th>\n",
       "      <th>kitchen_median</th>\n",
       "      <th>price_per_meter</th>\n",
       "      <th>weekday</th>\n",
       "      <th>month</th>\n",
       "      <th>year</th>\n",
       "      <th>floor_category</th>\n",
       "      <th>living_area_ratio</th>\n",
       "      <th>kitchen_area_ratio</th>\n",
       "    </tr>\n",
       "  </thead>\n",
       "  <tbody>\n",
       "    <tr>\n",
       "      <th>866</th>\n",
       "      <td>5</td>\n",
       "      <td>25000000.0</td>\n",
       "      <td>363.0</td>\n",
       "      <td>2017-12-23</td>\n",
       "      <td>14</td>\n",
       "      <td>3.16</td>\n",
       "      <td>5</td>\n",
       "      <td>222.0</td>\n",
       "      <td>4</td>\n",
       "      <td>NaN</td>\n",
       "      <td>...</td>\n",
       "      <td>435.0</td>\n",
       "      <td>418.0</td>\n",
       "      <td>21.25</td>\n",
       "      <td>68870.523416</td>\n",
       "      <td>5</td>\n",
       "      <td>12</td>\n",
       "      <td>2017</td>\n",
       "      <td>another</td>\n",
       "      <td>0.611570</td>\n",
       "      <td>0.013774</td>\n",
       "    </tr>\n",
       "    <tr>\n",
       "      <th>5358</th>\n",
       "      <td>20</td>\n",
       "      <td>65000000.0</td>\n",
       "      <td>590.0</td>\n",
       "      <td>2019-02-14</td>\n",
       "      <td>15</td>\n",
       "      <td>3.50</td>\n",
       "      <td>6</td>\n",
       "      <td>409.0</td>\n",
       "      <td>3</td>\n",
       "      <td>NaN</td>\n",
       "      <td>...</td>\n",
       "      <td>NaN</td>\n",
       "      <td>14.0</td>\n",
       "      <td>100.00</td>\n",
       "      <td>110169.491525</td>\n",
       "      <td>3</td>\n",
       "      <td>2</td>\n",
       "      <td>2019</td>\n",
       "      <td>another</td>\n",
       "      <td>0.693220</td>\n",
       "      <td>0.033898</td>\n",
       "    </tr>\n",
       "    <tr>\n",
       "      <th>14498</th>\n",
       "      <td>6</td>\n",
       "      <td>32250000.0</td>\n",
       "      <td>374.6</td>\n",
       "      <td>2018-06-09</td>\n",
       "      <td>19</td>\n",
       "      <td>NaN</td>\n",
       "      <td>5</td>\n",
       "      <td>264.5</td>\n",
       "      <td>2</td>\n",
       "      <td>NaN</td>\n",
       "      <td>...</td>\n",
       "      <td>548.0</td>\n",
       "      <td>114.0</td>\n",
       "      <td>27.60</td>\n",
       "      <td>86091.831287</td>\n",
       "      <td>5</td>\n",
       "      <td>6</td>\n",
       "      <td>2018</td>\n",
       "      <td>another</td>\n",
       "      <td>0.706086</td>\n",
       "      <td>0.016017</td>\n",
       "    </tr>\n",
       "    <tr>\n",
       "      <th>18848</th>\n",
       "      <td>6</td>\n",
       "      <td>28500000.0</td>\n",
       "      <td>270.0</td>\n",
       "      <td>2015-03-02</td>\n",
       "      <td>16</td>\n",
       "      <td>3.00</td>\n",
       "      <td>4</td>\n",
       "      <td>180.0</td>\n",
       "      <td>4</td>\n",
       "      <td>NaN</td>\n",
       "      <td>...</td>\n",
       "      <td>NaN</td>\n",
       "      <td>1365.0</td>\n",
       "      <td>13.00</td>\n",
       "      <td>105555.555556</td>\n",
       "      <td>0</td>\n",
       "      <td>3</td>\n",
       "      <td>2015</td>\n",
       "      <td>last</td>\n",
       "      <td>0.666667</td>\n",
       "      <td>0.022222</td>\n",
       "    </tr>\n",
       "    <tr>\n",
       "      <th>19540</th>\n",
       "      <td>8</td>\n",
       "      <td>420000000.0</td>\n",
       "      <td>900.0</td>\n",
       "      <td>2017-12-06</td>\n",
       "      <td>12</td>\n",
       "      <td>2.80</td>\n",
       "      <td>25</td>\n",
       "      <td>409.7</td>\n",
       "      <td>25</td>\n",
       "      <td>NaN</td>\n",
       "      <td>...</td>\n",
       "      <td>318.0</td>\n",
       "      <td>106.0</td>\n",
       "      <td>112.00</td>\n",
       "      <td>466666.666667</td>\n",
       "      <td>2</td>\n",
       "      <td>12</td>\n",
       "      <td>2017</td>\n",
       "      <td>last</td>\n",
       "      <td>0.455222</td>\n",
       "      <td>0.008889</td>\n",
       "    </tr>\n",
       "    <tr>\n",
       "      <th>20829</th>\n",
       "      <td>6</td>\n",
       "      <td>28659000.0</td>\n",
       "      <td>245.4</td>\n",
       "      <td>2016-03-31</td>\n",
       "      <td>14</td>\n",
       "      <td>NaN</td>\n",
       "      <td>4</td>\n",
       "      <td>168.3</td>\n",
       "      <td>2</td>\n",
       "      <td>NaN</td>\n",
       "      <td>...</td>\n",
       "      <td>118.0</td>\n",
       "      <td>95.0</td>\n",
       "      <td>21.25</td>\n",
       "      <td>116784.841076</td>\n",
       "      <td>3</td>\n",
       "      <td>3</td>\n",
       "      <td>2016</td>\n",
       "      <td>another</td>\n",
       "      <td>0.685819</td>\n",
       "      <td>0.02445</td>\n",
       "    </tr>\n",
       "  </tbody>\n",
       "</table>\n",
       "<p>6 rows × 30 columns</p>\n",
       "</div>"
      ],
      "text/plain": [
       "       total_images   last_price  total_area first_day_exposition  rooms  \\\n",
       "866               5   25000000.0       363.0           2017-12-23     14   \n",
       "5358             20   65000000.0       590.0           2019-02-14     15   \n",
       "14498             6   32250000.0       374.6           2018-06-09     19   \n",
       "18848             6   28500000.0       270.0           2015-03-02     16   \n",
       "19540             8  420000000.0       900.0           2017-12-06     12   \n",
       "20829             6   28659000.0       245.4           2016-03-31     14   \n",
       "\n",
       "       ceiling_height  floors_total  living_area  floor is_apartment  ...  \\\n",
       "866              3.16             5        222.0      4          NaN  ...   \n",
       "5358             3.50             6        409.0      3          NaN  ...   \n",
       "14498             NaN             5        264.5      2          NaN  ...   \n",
       "18848            3.00             4        180.0      4          NaN  ...   \n",
       "19540            2.80            25        409.7     25          NaN  ...   \n",
       "20829             NaN             4        168.3      2          NaN  ...   \n",
       "\n",
       "       ponds_nearest  days_exposition kitchen_median  price_per_meter weekday  \\\n",
       "866            435.0            418.0          21.25     68870.523416       5   \n",
       "5358             NaN             14.0         100.00    110169.491525       3   \n",
       "14498          548.0            114.0          27.60     86091.831287       5   \n",
       "18848            NaN           1365.0          13.00    105555.555556       0   \n",
       "19540          318.0            106.0         112.00    466666.666667       2   \n",
       "20829          118.0             95.0          21.25    116784.841076       3   \n",
       "\n",
       "       month  year  floor_category  living_area_ratio  kitchen_area_ratio  \n",
       "866       12  2017         another           0.611570            0.013774  \n",
       "5358       2  2019         another           0.693220            0.033898  \n",
       "14498      6  2018         another           0.706086            0.016017  \n",
       "18848      3  2015            last           0.666667            0.022222  \n",
       "19540     12  2017            last           0.455222            0.008889  \n",
       "20829      3  2016         another           0.685819             0.02445  \n",
       "\n",
       "[6 rows x 30 columns]"
      ]
     },
     "execution_count": 44,
     "metadata": {},
     "output_type": "execute_result"
    }
   ],
   "source": [
    "df.query('rooms >= 12')"
   ]
  },
  {
   "cell_type": "markdown",
   "metadata": {},
   "source": [
    "Их по одной. Кроме триннадцатикомнатных, которых нет вообще. Цена \"выбивающейся\" 12ти-комнатной квартиры представлятся\n",
    "правдоподобной ввиду ее огромной площади по сравнению с 14ти и 16ти комнатными. Поскольку квартиры с числом комнат больше 11ти представлены в единичном экземпляре, для большей наглядности имеет смысл их не в включать в окончательный график."
   ]
  },
  {
   "cell_type": "code",
   "execution_count": 162,
   "metadata": {},
   "outputs": [
    {
     "data": {
      "text/plain": [
       "Text(0, 0.5, 'Цена, р')"
      ]
     },
     "execution_count": 162,
     "metadata": {},
     "output_type": "execute_result"
    },
    {
     "data": {
      "image/png": "[encoded data removed]",
      "text/plain": [
       "<Figure size 864x360 with 1 Axes>"
      ]
     },
     "metadata": {
      "needs_background": "light"
     },
     "output_type": "display_data"
    }
   ],
   "source": [
    "(\n",
    "df.query('rooms < 12')\n",
    ".pivot_table(index='rooms',values='last_price', aggfunc='median').plot(grid=True, figsize=(12, 5), xlim=(0,10)\n",
    ", ylim=(0, 2.5e7))\n",
    ")\n",
    "plt.title('Зависимость цены, р от количества комнат', pad=15)\n",
    "plt.xlabel('Кол-во комнат')\n",
    "plt.ylabel('Цена, р')"
   ]
  },
  {
   "cell_type": "markdown",
   "metadata": {},
   "source": [
    "С ростом числа комнат, скорость роста цены возрастает. Зависимость не прямая. Cкорее, экспоненциальная. Это объяснимо,\n",
    "так как при малом количестве комнат это количетво существенным образом влияет на качество жизни семьи. На отрезке 6-8 комнат рост замедляется, так как влияние количества комнат на качество жизни семьи становится менее заметным. И такие \n",
    "квартиры могут покупать не для жизни семьи. Квартиры с числом комнат больше 7ми слишком редки. Поэтому колебания цены в имеющейся базе данных ничего не говорят о тренде. Слишком мало данных. Можно было бы локализовать рассмотрение в пределах 1-7 комнат. "
   ]
  },
  {
   "cell_type": "markdown",
   "metadata": {},
   "source": [
    "Рассмотрим зависимость цены от категории этажа (первый, последний, другой). Построим точки данных в координатах \"этаж - медианная цена\":"
   ]
  },
  {
   "cell_type": "code",
   "execution_count": 190,
   "metadata": {
    "scrolled": true
   },
   "outputs": [
    {
     "data": {
      "text/plain": [
       "Text(0, 0.5, 'Цена, р')"
      ]
     },
     "execution_count": 190,
     "metadata": {},
     "output_type": "execute_result"
    },
    {
     "data": {
      "image/png": "[encoded data removed]",
      "text/plain": [
       "<Figure size 576x288 with 1 Axes>"
      ]
     },
     "metadata": {
      "needs_background": "light"
     },
     "output_type": "display_data"
    }
   ],
   "source": [
    "(\n",
    "df.pivot_table(index='floor_category',values='last_price', aggfunc='median')    \n",
    "      .plot(grid=True, kind='bar', figsize=(8, 4), rot=0)\n",
    ")\n",
    "plt.title('Зависимость цены, р от категории этажа', pad=15)\n",
    "plt.xlabel('Категория этажа')\n",
    "plt.ylabel('Цена, р')\n"
   ]
  },
  {
   "cell_type": "markdown",
   "metadata": {},
   "source": [
    "Ожидаемо, что квартиры на первом этаже - самые недорогие. Последний этаж немного дороже. Другие этажи еще дороже. Разница в медианной цене между первыми и \"не первыми и не последними\" этажами составляет примерно 25%."
   ]
  },
  {
   "cell_type": "markdown",
   "metadata": {},
   "source": [
    "Рассмотрим зависимость медианной цены квартиры от дня недели, месяца и года размещения. "
   ]
  },
  {
   "cell_type": "code",
   "execution_count": 194,
   "metadata": {},
   "outputs": [
    {
     "data": {
      "text/plain": [
       "Text(0, 0.5, 'Цена, р')"
      ]
     },
     "execution_count": 194,
     "metadata": {},
     "output_type": "execute_result"
    },
    {
     "data": {
      "image/png": "[encoded data removed]",
      "text/plain": [
       "<Figure size 576x288 with 1 Axes>"
      ]
     },
     "metadata": {
      "needs_background": "light"
     },
     "output_type": "display_data"
    },
    {
     "data": {
      "image/png": "[encoded data removed]",
      "text/plain": [
       "<Figure size 576x288 with 1 Axes>"
      ]
     },
     "metadata": {
      "needs_background": "light"
     },
     "output_type": "display_data"
    },
    {
     "data": {
      "image/png": "[encoded data removed]",
      "text/plain": [
       "<Figure size 576x288 with 1 Axes>"
      ]
     },
     "metadata": {
      "needs_background": "light"
     },
     "output_type": "display_data"
    }
   ],
   "source": [
    "(\n",
    "df.pivot_table(index='weekday',values='last_price', aggfunc='median')\n",
    "               .plot(grid=False, kind='bar', figsize=(8, 4), rot=0, ylim=(4.2e6,4.8e6)) \n",
    ")\n",
    "plt.title('Зависимость цены (р) от дня недели публикации', pad=15)\n",
    "plt.xlabel('День недели публикации')\n",
    "plt.ylabel('Цена, р')\n",
    "  \n",
    "(\n",
    "df.pivot_table(index='year',values='last_price', aggfunc='median')\n",
    "               .plot(grid=True, figsize=(8, 4)) \n",
    ")\n",
    "plt.title('Зависимость цены (р) от года публикации', pad=15)\n",
    "plt.xlabel('Год публикации')\n",
    "plt.ylabel('Цена, р')    \n",
    "\n",
    "(\n",
    "df.pivot_table(index='month',values='last_price', aggfunc='median')\n",
    "               .plot(grid=False, kind='bar', figsize=(8, 4), rot=0, ylim=(4.2e6,4.8e6)) \n",
    ")\n",
    "plt.title('Зависимость цены (р) от месяца публикации', pad=15)\n",
    "plt.xlabel('Год публикации')\n",
    "plt.ylabel('Цена, р')\n"
   ]
  },
  {
   "cell_type": "markdown",
   "metadata": {},
   "source": [
    "Хотя окончательная цена квартиры и является различной для разных дней недели, в которые было опубликовано объявление, нет смысла интерпретировать гистограмму и искать закономерности. При медианном времени продажи \"95 дней\" от публикации не имеет значения день недели самой публикации. Колебания случайны. К тому же, не превышают 4%.  "
   ]
  },
  {
   "cell_type": "markdown",
   "metadata": {},
   "source": [
    "Завимисоть окончательной цены от года ожидаема и объснима. Провал во время экономичекого кризиса 2014-2015 г. Далее - медленный рост. На всякий случай проверим количество объявлений в 2014 году. Если оно относительно мало, высоким ценам 2014 доверять нельзя."
   ]
  },
  {
   "cell_type": "code",
   "execution_count": 48,
   "metadata": {},
   "outputs": [
    {
     "data": {
      "text/html": [
       "<div>\n",
       "<style scoped>\n",
       "    .dataframe tbody tr th:only-of-type {\n",
       "        vertical-align: middle;\n",
       "    }\n",
       "\n",
       "    .dataframe tbody tr th {\n",
       "        vertical-align: top;\n",
       "    }\n",
       "\n",
       "    .dataframe thead th {\n",
       "        text-align: right;\n",
       "    }\n",
       "</style>\n",
       "<table border=\"1\" class=\"dataframe\">\n",
       "  <thead>\n",
       "    <tr style=\"text-align: right;\">\n",
       "      <th></th>\n",
       "      <th>total_images</th>\n",
       "      <th>last_price</th>\n",
       "      <th>total_area</th>\n",
       "      <th>first_day_exposition</th>\n",
       "      <th>rooms</th>\n",
       "      <th>ceiling_height</th>\n",
       "      <th>floors_total</th>\n",
       "      <th>living_area</th>\n",
       "      <th>floor</th>\n",
       "      <th>is_apartment</th>\n",
       "      <th>...</th>\n",
       "      <th>ponds_nearest</th>\n",
       "      <th>days_exposition</th>\n",
       "      <th>kitchen_median</th>\n",
       "      <th>price_per_meter</th>\n",
       "      <th>weekday</th>\n",
       "      <th>month</th>\n",
       "      <th>year</th>\n",
       "      <th>floor_category</th>\n",
       "      <th>living_area_ratio</th>\n",
       "      <th>kitchen_area_ratio</th>\n",
       "    </tr>\n",
       "  </thead>\n",
       "  <tbody>\n",
       "    <tr>\n",
       "      <th>98</th>\n",
       "      <td>11</td>\n",
       "      <td>11700000.0</td>\n",
       "      <td>80.00</td>\n",
       "      <td>2014-12-10</td>\n",
       "      <td>3</td>\n",
       "      <td>NaN</td>\n",
       "      <td>5</td>\n",
       "      <td>55.10</td>\n",
       "      <td>3</td>\n",
       "      <td>NaN</td>\n",
       "      <td>...</td>\n",
       "      <td>NaN</td>\n",
       "      <td>831.0</td>\n",
       "      <td>9.50</td>\n",
       "      <td>146250.000000</td>\n",
       "      <td>2</td>\n",
       "      <td>12</td>\n",
       "      <td>2014</td>\n",
       "      <td>another</td>\n",
       "      <td>0.688750</td>\n",
       "      <td>0.1375</td>\n",
       "    </tr>\n",
       "    <tr>\n",
       "      <th>260</th>\n",
       "      <td>8</td>\n",
       "      <td>17250000.0</td>\n",
       "      <td>102.40</td>\n",
       "      <td>2014-12-09</td>\n",
       "      <td>3</td>\n",
       "      <td>NaN</td>\n",
       "      <td>8</td>\n",
       "      <td>53.20</td>\n",
       "      <td>3</td>\n",
       "      <td>NaN</td>\n",
       "      <td>...</td>\n",
       "      <td>NaN</td>\n",
       "      <td>NaN</td>\n",
       "      <td>9.50</td>\n",
       "      <td>168457.031250</td>\n",
       "      <td>1</td>\n",
       "      <td>12</td>\n",
       "      <td>2014</td>\n",
       "      <td>another</td>\n",
       "      <td>0.519531</td>\n",
       "      <td>0.078125</td>\n",
       "    </tr>\n",
       "    <tr>\n",
       "      <th>398</th>\n",
       "      <td>7</td>\n",
       "      <td>12789000.0</td>\n",
       "      <td>79.30</td>\n",
       "      <td>2014-12-09</td>\n",
       "      <td>2</td>\n",
       "      <td>3.00</td>\n",
       "      <td>8</td>\n",
       "      <td>43.10</td>\n",
       "      <td>5</td>\n",
       "      <td>False</td>\n",
       "      <td>...</td>\n",
       "      <td>NaN</td>\n",
       "      <td>1345.0</td>\n",
       "      <td>8.80</td>\n",
       "      <td>161273.644388</td>\n",
       "      <td>1</td>\n",
       "      <td>12</td>\n",
       "      <td>2014</td>\n",
       "      <td>another</td>\n",
       "      <td>0.543506</td>\n",
       "      <td>0.088272</td>\n",
       "    </tr>\n",
       "    <tr>\n",
       "      <th>411</th>\n",
       "      <td>1</td>\n",
       "      <td>40662000.0</td>\n",
       "      <td>151.00</td>\n",
       "      <td>2014-12-09</td>\n",
       "      <td>3</td>\n",
       "      <td>NaN</td>\n",
       "      <td>8</td>\n",
       "      <td>85.00</td>\n",
       "      <td>3</td>\n",
       "      <td>NaN</td>\n",
       "      <td>...</td>\n",
       "      <td>100.0</td>\n",
       "      <td>594.0</td>\n",
       "      <td>9.50</td>\n",
       "      <td>269284.768212</td>\n",
       "      <td>1</td>\n",
       "      <td>12</td>\n",
       "      <td>2014</td>\n",
       "      <td>another</td>\n",
       "      <td>0.562914</td>\n",
       "      <td>0.006623</td>\n",
       "    </tr>\n",
       "    <tr>\n",
       "      <th>512</th>\n",
       "      <td>8</td>\n",
       "      <td>6260000.0</td>\n",
       "      <td>43.30</td>\n",
       "      <td>2014-12-09</td>\n",
       "      <td>1</td>\n",
       "      <td>NaN</td>\n",
       "      <td>8</td>\n",
       "      <td>NaN</td>\n",
       "      <td>5</td>\n",
       "      <td>NaN</td>\n",
       "      <td>...</td>\n",
       "      <td>303.0</td>\n",
       "      <td>1155.0</td>\n",
       "      <td>9.04</td>\n",
       "      <td>144572.748268</td>\n",
       "      <td>1</td>\n",
       "      <td>12</td>\n",
       "      <td>2014</td>\n",
       "      <td>another</td>\n",
       "      <td>NaN</td>\n",
       "      <td>0.184758</td>\n",
       "    </tr>\n",
       "    <tr>\n",
       "      <th>532</th>\n",
       "      <td>7</td>\n",
       "      <td>6800000.0</td>\n",
       "      <td>90.00</td>\n",
       "      <td>2014-12-16</td>\n",
       "      <td>3</td>\n",
       "      <td>2.60</td>\n",
       "      <td>9</td>\n",
       "      <td>43.30</td>\n",
       "      <td>1</td>\n",
       "      <td>False</td>\n",
       "      <td>...</td>\n",
       "      <td>837.0</td>\n",
       "      <td>608.0</td>\n",
       "      <td>9.50</td>\n",
       "      <td>75555.555556</td>\n",
       "      <td>1</td>\n",
       "      <td>12</td>\n",
       "      <td>2014</td>\n",
       "      <td>first</td>\n",
       "      <td>0.481111</td>\n",
       "      <td>0.077778</td>\n",
       "    </tr>\n",
       "    <tr>\n",
       "      <th>617</th>\n",
       "      <td>1</td>\n",
       "      <td>12036000.0</td>\n",
       "      <td>100.00</td>\n",
       "      <td>2014-11-27</td>\n",
       "      <td>3</td>\n",
       "      <td>NaN</td>\n",
       "      <td>16</td>\n",
       "      <td>52.00</td>\n",
       "      <td>3</td>\n",
       "      <td>NaN</td>\n",
       "      <td>...</td>\n",
       "      <td>454.0</td>\n",
       "      <td>606.0</td>\n",
       "      <td>9.50</td>\n",
       "      <td>120360.000000</td>\n",
       "      <td>3</td>\n",
       "      <td>11</td>\n",
       "      <td>2014</td>\n",
       "      <td>another</td>\n",
       "      <td>0.520000</td>\n",
       "      <td>0.01</td>\n",
       "    </tr>\n",
       "    <tr>\n",
       "      <th>653</th>\n",
       "      <td>0</td>\n",
       "      <td>27250000.0</td>\n",
       "      <td>169.00</td>\n",
       "      <td>2014-12-09</td>\n",
       "      <td>5</td>\n",
       "      <td>NaN</td>\n",
       "      <td>12</td>\n",
       "      <td>89.00</td>\n",
       "      <td>9</td>\n",
       "      <td>NaN</td>\n",
       "      <td>...</td>\n",
       "      <td>69.0</td>\n",
       "      <td>594.0</td>\n",
       "      <td>15.10</td>\n",
       "      <td>161242.603550</td>\n",
       "      <td>1</td>\n",
       "      <td>12</td>\n",
       "      <td>2014</td>\n",
       "      <td>another</td>\n",
       "      <td>0.526627</td>\n",
       "      <td>0.0</td>\n",
       "    </tr>\n",
       "    <tr>\n",
       "      <th>684</th>\n",
       "      <td>5</td>\n",
       "      <td>9200000.0</td>\n",
       "      <td>82.93</td>\n",
       "      <td>2014-12-09</td>\n",
       "      <td>2</td>\n",
       "      <td>NaN</td>\n",
       "      <td>12</td>\n",
       "      <td>41.92</td>\n",
       "      <td>6</td>\n",
       "      <td>NaN</td>\n",
       "      <td>...</td>\n",
       "      <td>303.0</td>\n",
       "      <td>1141.0</td>\n",
       "      <td>8.80</td>\n",
       "      <td>110936.934764</td>\n",
       "      <td>1</td>\n",
       "      <td>12</td>\n",
       "      <td>2014</td>\n",
       "      <td>another</td>\n",
       "      <td>0.505487</td>\n",
       "      <td>0.060292</td>\n",
       "    </tr>\n",
       "    <tr>\n",
       "      <th>696</th>\n",
       "      <td>1</td>\n",
       "      <td>3364930.0</td>\n",
       "      <td>34.69</td>\n",
       "      <td>2014-11-27</td>\n",
       "      <td>1</td>\n",
       "      <td>2.64</td>\n",
       "      <td>25</td>\n",
       "      <td>23.43</td>\n",
       "      <td>25</td>\n",
       "      <td>NaN</td>\n",
       "      <td>...</td>\n",
       "      <td>NaN</td>\n",
       "      <td>574.0</td>\n",
       "      <td>9.04</td>\n",
       "      <td>97000.000000</td>\n",
       "      <td>3</td>\n",
       "      <td>11</td>\n",
       "      <td>2014</td>\n",
       "      <td>last</td>\n",
       "      <td>0.675411</td>\n",
       "      <td>0.028827</td>\n",
       "    </tr>\n",
       "    <tr>\n",
       "      <th>878</th>\n",
       "      <td>20</td>\n",
       "      <td>19800000.0</td>\n",
       "      <td>139.80</td>\n",
       "      <td>2014-12-09</td>\n",
       "      <td>4</td>\n",
       "      <td>3.40</td>\n",
       "      <td>3</td>\n",
       "      <td>93.50</td>\n",
       "      <td>3</td>\n",
       "      <td>NaN</td>\n",
       "      <td>...</td>\n",
       "      <td>NaN</td>\n",
       "      <td>637.0</td>\n",
       "      <td>11.10</td>\n",
       "      <td>141630.901288</td>\n",
       "      <td>1</td>\n",
       "      <td>12</td>\n",
       "      <td>2014</td>\n",
       "      <td>last</td>\n",
       "      <td>0.668813</td>\n",
       "      <td>0.143062</td>\n",
       "    </tr>\n",
       "    <tr>\n",
       "      <th>1109</th>\n",
       "      <td>1</td>\n",
       "      <td>34878556.0</td>\n",
       "      <td>95.80</td>\n",
       "      <td>2014-12-09</td>\n",
       "      <td>2</td>\n",
       "      <td>NaN</td>\n",
       "      <td>6</td>\n",
       "      <td>58.30</td>\n",
       "      <td>5</td>\n",
       "      <td>True</td>\n",
       "      <td>...</td>\n",
       "      <td>569.0</td>\n",
       "      <td>1572.0</td>\n",
       "      <td>8.80</td>\n",
       "      <td>364076.784969</td>\n",
       "      <td>1</td>\n",
       "      <td>12</td>\n",
       "      <td>2014</td>\n",
       "      <td>another</td>\n",
       "      <td>0.608559</td>\n",
       "      <td>0.010438</td>\n",
       "    </tr>\n",
       "    <tr>\n",
       "      <th>1461</th>\n",
       "      <td>17</td>\n",
       "      <td>13800000.0</td>\n",
       "      <td>103.00</td>\n",
       "      <td>2014-12-15</td>\n",
       "      <td>3</td>\n",
       "      <td>2.80</td>\n",
       "      <td>9</td>\n",
       "      <td>56.00</td>\n",
       "      <td>7</td>\n",
       "      <td>NaN</td>\n",
       "      <td>...</td>\n",
       "      <td>NaN</td>\n",
       "      <td>554.0</td>\n",
       "      <td>9.50</td>\n",
       "      <td>133980.582524</td>\n",
       "      <td>0</td>\n",
       "      <td>12</td>\n",
       "      <td>2014</td>\n",
       "      <td>another</td>\n",
       "      <td>0.543689</td>\n",
       "      <td>0.165049</td>\n",
       "    </tr>\n",
       "    <tr>\n",
       "      <th>1519</th>\n",
       "      <td>13</td>\n",
       "      <td>22000000.0</td>\n",
       "      <td>174.00</td>\n",
       "      <td>2014-12-10</td>\n",
       "      <td>4</td>\n",
       "      <td>2.80</td>\n",
       "      <td>4</td>\n",
       "      <td>80.90</td>\n",
       "      <td>2</td>\n",
       "      <td>NaN</td>\n",
       "      <td>...</td>\n",
       "      <td>907.0</td>\n",
       "      <td>1133.0</td>\n",
       "      <td>11.10</td>\n",
       "      <td>126436.781609</td>\n",
       "      <td>2</td>\n",
       "      <td>12</td>\n",
       "      <td>2014</td>\n",
       "      <td>another</td>\n",
       "      <td>0.464943</td>\n",
       "      <td>0.074713</td>\n",
       "    </tr>\n",
       "    <tr>\n",
       "      <th>1885</th>\n",
       "      <td>2</td>\n",
       "      <td>13300000.0</td>\n",
       "      <td>79.60</td>\n",
       "      <td>2014-12-09</td>\n",
       "      <td>2</td>\n",
       "      <td>3.00</td>\n",
       "      <td>8</td>\n",
       "      <td>42.70</td>\n",
       "      <td>7</td>\n",
       "      <td>NaN</td>\n",
       "      <td>...</td>\n",
       "      <td>NaN</td>\n",
       "      <td>1513.0</td>\n",
       "      <td>8.80</td>\n",
       "      <td>167085.427136</td>\n",
       "      <td>1</td>\n",
       "      <td>12</td>\n",
       "      <td>2014</td>\n",
       "      <td>another</td>\n",
       "      <td>0.536432</td>\n",
       "      <td>0.025126</td>\n",
       "    </tr>\n",
       "    <tr>\n",
       "      <th>2063</th>\n",
       "      <td>0</td>\n",
       "      <td>1300000.0</td>\n",
       "      <td>52.70</td>\n",
       "      <td>2014-12-05</td>\n",
       "      <td>3</td>\n",
       "      <td>NaN</td>\n",
       "      <td>5</td>\n",
       "      <td>39.40</td>\n",
       "      <td>1</td>\n",
       "      <td>NaN</td>\n",
       "      <td>...</td>\n",
       "      <td>NaN</td>\n",
       "      <td>581.0</td>\n",
       "      <td>9.50</td>\n",
       "      <td>24667.931689</td>\n",
       "      <td>4</td>\n",
       "      <td>12</td>\n",
       "      <td>2014</td>\n",
       "      <td>first</td>\n",
       "      <td>0.747628</td>\n",
       "      <td>0.0</td>\n",
       "    </tr>\n",
       "    <tr>\n",
       "      <th>2235</th>\n",
       "      <td>0</td>\n",
       "      <td>3700000.0</td>\n",
       "      <td>45.30</td>\n",
       "      <td>2014-12-22</td>\n",
       "      <td>2</td>\n",
       "      <td>NaN</td>\n",
       "      <td>5</td>\n",
       "      <td>29.80</td>\n",
       "      <td>2</td>\n",
       "      <td>NaN</td>\n",
       "      <td>...</td>\n",
       "      <td>736.0</td>\n",
       "      <td>946.0</td>\n",
       "      <td>8.80</td>\n",
       "      <td>81677.704194</td>\n",
       "      <td>0</td>\n",
       "      <td>12</td>\n",
       "      <td>2014</td>\n",
       "      <td>another</td>\n",
       "      <td>0.657837</td>\n",
       "      <td>0.0</td>\n",
       "    </tr>\n",
       "    <tr>\n",
       "      <th>2814</th>\n",
       "      <td>4</td>\n",
       "      <td>14485000.0</td>\n",
       "      <td>101.57</td>\n",
       "      <td>2014-12-11</td>\n",
       "      <td>3</td>\n",
       "      <td>3.00</td>\n",
       "      <td>17</td>\n",
       "      <td>53.35</td>\n",
       "      <td>3</td>\n",
       "      <td>NaN</td>\n",
       "      <td>...</td>\n",
       "      <td>196.0</td>\n",
       "      <td>NaN</td>\n",
       "      <td>9.50</td>\n",
       "      <td>142611.007187</td>\n",
       "      <td>3</td>\n",
       "      <td>12</td>\n",
       "      <td>2014</td>\n",
       "      <td>another</td>\n",
       "      <td>0.525254</td>\n",
       "      <td>0.039382</td>\n",
       "    </tr>\n",
       "    <tr>\n",
       "      <th>2831</th>\n",
       "      <td>9</td>\n",
       "      <td>5990000.0</td>\n",
       "      <td>64.40</td>\n",
       "      <td>2014-11-27</td>\n",
       "      <td>2</td>\n",
       "      <td>3.12</td>\n",
       "      <td>4</td>\n",
       "      <td>36.20</td>\n",
       "      <td>1</td>\n",
       "      <td>NaN</td>\n",
       "      <td>...</td>\n",
       "      <td>NaN</td>\n",
       "      <td>1069.0</td>\n",
       "      <td>8.80</td>\n",
       "      <td>93012.422360</td>\n",
       "      <td>3</td>\n",
       "      <td>11</td>\n",
       "      <td>2014</td>\n",
       "      <td>first</td>\n",
       "      <td>0.562112</td>\n",
       "      <td>0.139752</td>\n",
       "    </tr>\n",
       "    <tr>\n",
       "      <th>3056</th>\n",
       "      <td>20</td>\n",
       "      <td>45900000.0</td>\n",
       "      <td>143.00</td>\n",
       "      <td>2014-12-09</td>\n",
       "      <td>2</td>\n",
       "      <td>3.30</td>\n",
       "      <td>8</td>\n",
       "      <td>83.50</td>\n",
       "      <td>6</td>\n",
       "      <td>NaN</td>\n",
       "      <td>...</td>\n",
       "      <td>100.0</td>\n",
       "      <td>NaN</td>\n",
       "      <td>8.80</td>\n",
       "      <td>320979.020979</td>\n",
       "      <td>1</td>\n",
       "      <td>12</td>\n",
       "      <td>2014</td>\n",
       "      <td>another</td>\n",
       "      <td>0.583916</td>\n",
       "      <td>0.13986</td>\n",
       "    </tr>\n",
       "    <tr>\n",
       "      <th>3202</th>\n",
       "      <td>20</td>\n",
       "      <td>3390000.0</td>\n",
       "      <td>42.20</td>\n",
       "      <td>2014-12-19</td>\n",
       "      <td>1</td>\n",
       "      <td>NaN</td>\n",
       "      <td>16</td>\n",
       "      <td>17.50</td>\n",
       "      <td>10</td>\n",
       "      <td>False</td>\n",
       "      <td>...</td>\n",
       "      <td>922.0</td>\n",
       "      <td>690.0</td>\n",
       "      <td>9.04</td>\n",
       "      <td>80331.753555</td>\n",
       "      <td>4</td>\n",
       "      <td>12</td>\n",
       "      <td>2014</td>\n",
       "      <td>another</td>\n",
       "      <td>0.414692</td>\n",
       "      <td>0.473934</td>\n",
       "    </tr>\n",
       "    <tr>\n",
       "      <th>3291</th>\n",
       "      <td>8</td>\n",
       "      <td>8200000.0</td>\n",
       "      <td>52.50</td>\n",
       "      <td>2014-11-27</td>\n",
       "      <td>1</td>\n",
       "      <td>NaN</td>\n",
       "      <td>8</td>\n",
       "      <td>21.50</td>\n",
       "      <td>2</td>\n",
       "      <td>NaN</td>\n",
       "      <td>...</td>\n",
       "      <td>NaN</td>\n",
       "      <td>NaN</td>\n",
       "      <td>9.04</td>\n",
       "      <td>156190.476190</td>\n",
       "      <td>3</td>\n",
       "      <td>11</td>\n",
       "      <td>2014</td>\n",
       "      <td>another</td>\n",
       "      <td>0.409524</td>\n",
       "      <td>0.152381</td>\n",
       "    </tr>\n",
       "    <tr>\n",
       "      <th>3486</th>\n",
       "      <td>2</td>\n",
       "      <td>14500000.0</td>\n",
       "      <td>97.40</td>\n",
       "      <td>2014-11-27</td>\n",
       "      <td>2</td>\n",
       "      <td>3.00</td>\n",
       "      <td>8</td>\n",
       "      <td>36.30</td>\n",
       "      <td>2</td>\n",
       "      <td>False</td>\n",
       "      <td>...</td>\n",
       "      <td>NaN</td>\n",
       "      <td>1078.0</td>\n",
       "      <td>8.80</td>\n",
       "      <td>148870.636550</td>\n",
       "      <td>3</td>\n",
       "      <td>11</td>\n",
       "      <td>2014</td>\n",
       "      <td>another</td>\n",
       "      <td>0.372690</td>\n",
       "      <td>0.020534</td>\n",
       "    </tr>\n",
       "    <tr>\n",
       "      <th>3552</th>\n",
       "      <td>6</td>\n",
       "      <td>19090000.0</td>\n",
       "      <td>115.70</td>\n",
       "      <td>2014-12-25</td>\n",
       "      <td>3</td>\n",
       "      <td>3.00</td>\n",
       "      <td>10</td>\n",
       "      <td>47.40</td>\n",
       "      <td>10</td>\n",
       "      <td>False</td>\n",
       "      <td>...</td>\n",
       "      <td>935.0</td>\n",
       "      <td>942.0</td>\n",
       "      <td>9.50</td>\n",
       "      <td>164995.678479</td>\n",
       "      <td>3</td>\n",
       "      <td>12</td>\n",
       "      <td>2014</td>\n",
       "      <td>last</td>\n",
       "      <td>0.409680</td>\n",
       "      <td>0.051858</td>\n",
       "    </tr>\n",
       "    <tr>\n",
       "      <th>3618</th>\n",
       "      <td>16</td>\n",
       "      <td>4000000.0</td>\n",
       "      <td>75.03</td>\n",
       "      <td>2014-12-15</td>\n",
       "      <td>2</td>\n",
       "      <td>2.53</td>\n",
       "      <td>3</td>\n",
       "      <td>66.22</td>\n",
       "      <td>3</td>\n",
       "      <td>NaN</td>\n",
       "      <td>...</td>\n",
       "      <td>NaN</td>\n",
       "      <td>588.0</td>\n",
       "      <td>8.80</td>\n",
       "      <td>53312.008530</td>\n",
       "      <td>0</td>\n",
       "      <td>12</td>\n",
       "      <td>2014</td>\n",
       "      <td>last</td>\n",
       "      <td>0.882580</td>\n",
       "      <td>0.213248</td>\n",
       "    </tr>\n",
       "    <tr>\n",
       "      <th>3643</th>\n",
       "      <td>0</td>\n",
       "      <td>12738000.0</td>\n",
       "      <td>124.00</td>\n",
       "      <td>2014-12-09</td>\n",
       "      <td>4</td>\n",
       "      <td>NaN</td>\n",
       "      <td>15</td>\n",
       "      <td>62.00</td>\n",
       "      <td>10</td>\n",
       "      <td>NaN</td>\n",
       "      <td>...</td>\n",
       "      <td>852.0</td>\n",
       "      <td>594.0</td>\n",
       "      <td>11.10</td>\n",
       "      <td>102725.806452</td>\n",
       "      <td>1</td>\n",
       "      <td>12</td>\n",
       "      <td>2014</td>\n",
       "      <td>another</td>\n",
       "      <td>0.500000</td>\n",
       "      <td>0.0</td>\n",
       "    </tr>\n",
       "    <tr>\n",
       "      <th>3859</th>\n",
       "      <td>8</td>\n",
       "      <td>2765000.0</td>\n",
       "      <td>62.00</td>\n",
       "      <td>2014-12-23</td>\n",
       "      <td>2</td>\n",
       "      <td>2.77</td>\n",
       "      <td>9</td>\n",
       "      <td>32.00</td>\n",
       "      <td>9</td>\n",
       "      <td>False</td>\n",
       "      <td>...</td>\n",
       "      <td>NaN</td>\n",
       "      <td>816.0</td>\n",
       "      <td>8.80</td>\n",
       "      <td>44596.774194</td>\n",
       "      <td>1</td>\n",
       "      <td>12</td>\n",
       "      <td>2014</td>\n",
       "      <td>last</td>\n",
       "      <td>0.516129</td>\n",
       "      <td>0.129032</td>\n",
       "    </tr>\n",
       "    <tr>\n",
       "      <th>3873</th>\n",
       "      <td>7</td>\n",
       "      <td>20100000.0</td>\n",
       "      <td>117.60</td>\n",
       "      <td>2014-11-27</td>\n",
       "      <td>3</td>\n",
       "      <td>NaN</td>\n",
       "      <td>8</td>\n",
       "      <td>62.50</td>\n",
       "      <td>7</td>\n",
       "      <td>NaN</td>\n",
       "      <td>...</td>\n",
       "      <td>NaN</td>\n",
       "      <td>NaN</td>\n",
       "      <td>9.50</td>\n",
       "      <td>170918.367347</td>\n",
       "      <td>3</td>\n",
       "      <td>11</td>\n",
       "      <td>2014</td>\n",
       "      <td>another</td>\n",
       "      <td>0.531463</td>\n",
       "      <td>0.059524</td>\n",
       "    </tr>\n",
       "    <tr>\n",
       "      <th>3955</th>\n",
       "      <td>1</td>\n",
       "      <td>12561120.0</td>\n",
       "      <td>93.60</td>\n",
       "      <td>2014-11-27</td>\n",
       "      <td>3</td>\n",
       "      <td>3.00</td>\n",
       "      <td>16</td>\n",
       "      <td>52.00</td>\n",
       "      <td>5</td>\n",
       "      <td>NaN</td>\n",
       "      <td>...</td>\n",
       "      <td>454.0</td>\n",
       "      <td>583.0</td>\n",
       "      <td>9.50</td>\n",
       "      <td>134200.000000</td>\n",
       "      <td>3</td>\n",
       "      <td>11</td>\n",
       "      <td>2014</td>\n",
       "      <td>another</td>\n",
       "      <td>0.555556</td>\n",
       "      <td>0.010684</td>\n",
       "    </tr>\n",
       "    <tr>\n",
       "      <th>3974</th>\n",
       "      <td>16</td>\n",
       "      <td>3150000.0</td>\n",
       "      <td>54.10</td>\n",
       "      <td>2014-12-10</td>\n",
       "      <td>2</td>\n",
       "      <td>2.55</td>\n",
       "      <td>5</td>\n",
       "      <td>29.90</td>\n",
       "      <td>1</td>\n",
       "      <td>NaN</td>\n",
       "      <td>...</td>\n",
       "      <td>NaN</td>\n",
       "      <td>NaN</td>\n",
       "      <td>8.80</td>\n",
       "      <td>58225.508318</td>\n",
       "      <td>2</td>\n",
       "      <td>12</td>\n",
       "      <td>2014</td>\n",
       "      <td>first</td>\n",
       "      <td>0.552680</td>\n",
       "      <td>0.295749</td>\n",
       "    </tr>\n",
       "    <tr>\n",
       "      <th>4151</th>\n",
       "      <td>17</td>\n",
       "      <td>17600000.0</td>\n",
       "      <td>89.50</td>\n",
       "      <td>2014-12-09</td>\n",
       "      <td>2</td>\n",
       "      <td>3.00</td>\n",
       "      <td>8</td>\n",
       "      <td>39.62</td>\n",
       "      <td>7</td>\n",
       "      <td>NaN</td>\n",
       "      <td>...</td>\n",
       "      <td>722.0</td>\n",
       "      <td>869.0</td>\n",
       "      <td>8.80</td>\n",
       "      <td>196648.044693</td>\n",
       "      <td>1</td>\n",
       "      <td>12</td>\n",
       "      <td>2014</td>\n",
       "      <td>another</td>\n",
       "      <td>0.442682</td>\n",
       "      <td>0.189944</td>\n",
       "    </tr>\n",
       "    <tr>\n",
       "      <th>4293</th>\n",
       "      <td>9</td>\n",
       "      <td>17000000.0</td>\n",
       "      <td>156.00</td>\n",
       "      <td>2014-12-12</td>\n",
       "      <td>4</td>\n",
       "      <td>3.50</td>\n",
       "      <td>5</td>\n",
       "      <td>115.00</td>\n",
       "      <td>5</td>\n",
       "      <td>NaN</td>\n",
       "      <td>...</td>\n",
       "      <td>650.0</td>\n",
       "      <td>692.0</td>\n",
       "      <td>11.10</td>\n",
       "      <td>108974.358974</td>\n",
       "      <td>4</td>\n",
       "      <td>12</td>\n",
       "      <td>2014</td>\n",
       "      <td>last</td>\n",
       "      <td>0.737179</td>\n",
       "      <td>0.057692</td>\n",
       "    </tr>\n",
       "    <tr>\n",
       "      <th>4348</th>\n",
       "      <td>13</td>\n",
       "      <td>5990000.0</td>\n",
       "      <td>74.50</td>\n",
       "      <td>2014-12-10</td>\n",
       "      <td>4</td>\n",
       "      <td>2.52</td>\n",
       "      <td>9</td>\n",
       "      <td>55.10</td>\n",
       "      <td>6</td>\n",
       "      <td>NaN</td>\n",
       "      <td>...</td>\n",
       "      <td>NaN</td>\n",
       "      <td>924.0</td>\n",
       "      <td>11.10</td>\n",
       "      <td>80402.684564</td>\n",
       "      <td>2</td>\n",
       "      <td>12</td>\n",
       "      <td>2014</td>\n",
       "      <td>another</td>\n",
       "      <td>0.739597</td>\n",
       "      <td>0.174497</td>\n",
       "    </tr>\n",
       "    <tr>\n",
       "      <th>4561</th>\n",
       "      <td>10</td>\n",
       "      <td>9990000.0</td>\n",
       "      <td>95.00</td>\n",
       "      <td>2014-12-11</td>\n",
       "      <td>3</td>\n",
       "      <td>NaN</td>\n",
       "      <td>4</td>\n",
       "      <td>73.00</td>\n",
       "      <td>3</td>\n",
       "      <td>NaN</td>\n",
       "      <td>...</td>\n",
       "      <td>636.0</td>\n",
       "      <td>561.0</td>\n",
       "      <td>9.50</td>\n",
       "      <td>105157.894737</td>\n",
       "      <td>3</td>\n",
       "      <td>12</td>\n",
       "      <td>2014</td>\n",
       "      <td>another</td>\n",
       "      <td>0.768421</td>\n",
       "      <td>0.105263</td>\n",
       "    </tr>\n",
       "    <tr>\n",
       "      <th>4571</th>\n",
       "      <td>9</td>\n",
       "      <td>5320000.0</td>\n",
       "      <td>50.10</td>\n",
       "      <td>2014-12-09</td>\n",
       "      <td>2</td>\n",
       "      <td>NaN</td>\n",
       "      <td>9</td>\n",
       "      <td>30.40</td>\n",
       "      <td>4</td>\n",
       "      <td>NaN</td>\n",
       "      <td>...</td>\n",
       "      <td>789.0</td>\n",
       "      <td>561.0</td>\n",
       "      <td>8.80</td>\n",
       "      <td>106187.624750</td>\n",
       "      <td>1</td>\n",
       "      <td>12</td>\n",
       "      <td>2014</td>\n",
       "      <td>another</td>\n",
       "      <td>0.606786</td>\n",
       "      <td>0.179641</td>\n",
       "    </tr>\n",
       "    <tr>\n",
       "      <th>4812</th>\n",
       "      <td>1</td>\n",
       "      <td>27933600.0</td>\n",
       "      <td>180.80</td>\n",
       "      <td>2014-11-27</td>\n",
       "      <td>4</td>\n",
       "      <td>3.10</td>\n",
       "      <td>16</td>\n",
       "      <td>94.89</td>\n",
       "      <td>11</td>\n",
       "      <td>NaN</td>\n",
       "      <td>...</td>\n",
       "      <td>454.0</td>\n",
       "      <td>586.0</td>\n",
       "      <td>11.10</td>\n",
       "      <td>154500.000000</td>\n",
       "      <td>3</td>\n",
       "      <td>11</td>\n",
       "      <td>2014</td>\n",
       "      <td>another</td>\n",
       "      <td>0.524834</td>\n",
       "      <td>0.005531</td>\n",
       "    </tr>\n",
       "    <tr>\n",
       "      <th>4889</th>\n",
       "      <td>8</td>\n",
       "      <td>3300000.0</td>\n",
       "      <td>71.70</td>\n",
       "      <td>2014-12-10</td>\n",
       "      <td>3</td>\n",
       "      <td>NaN</td>\n",
       "      <td>9</td>\n",
       "      <td>43.10</td>\n",
       "      <td>4</td>\n",
       "      <td>NaN</td>\n",
       "      <td>...</td>\n",
       "      <td>NaN</td>\n",
       "      <td>1314.0</td>\n",
       "      <td>9.50</td>\n",
       "      <td>46025.104603</td>\n",
       "      <td>2</td>\n",
       "      <td>12</td>\n",
       "      <td>2014</td>\n",
       "      <td>another</td>\n",
       "      <td>0.601116</td>\n",
       "      <td>0.111576</td>\n",
       "    </tr>\n",
       "    <tr>\n",
       "      <th>5077</th>\n",
       "      <td>13</td>\n",
       "      <td>18500000.0</td>\n",
       "      <td>140.00</td>\n",
       "      <td>2014-12-11</td>\n",
       "      <td>4</td>\n",
       "      <td>NaN</td>\n",
       "      <td>16</td>\n",
       "      <td>78.00</td>\n",
       "      <td>12</td>\n",
       "      <td>NaN</td>\n",
       "      <td>...</td>\n",
       "      <td>NaN</td>\n",
       "      <td>752.0</td>\n",
       "      <td>11.10</td>\n",
       "      <td>132142.857143</td>\n",
       "      <td>3</td>\n",
       "      <td>12</td>\n",
       "      <td>2014</td>\n",
       "      <td>another</td>\n",
       "      <td>0.557143</td>\n",
       "      <td>0.092857</td>\n",
       "    </tr>\n",
       "    <tr>\n",
       "      <th>5223</th>\n",
       "      <td>2</td>\n",
       "      <td>2750000.0</td>\n",
       "      <td>41.00</td>\n",
       "      <td>2014-12-08</td>\n",
       "      <td>1</td>\n",
       "      <td>2.50</td>\n",
       "      <td>10</td>\n",
       "      <td>20.00</td>\n",
       "      <td>7</td>\n",
       "      <td>NaN</td>\n",
       "      <td>...</td>\n",
       "      <td>NaN</td>\n",
       "      <td>562.0</td>\n",
       "      <td>9.04</td>\n",
       "      <td>67073.170732</td>\n",
       "      <td>0</td>\n",
       "      <td>12</td>\n",
       "      <td>2014</td>\n",
       "      <td>another</td>\n",
       "      <td>0.487805</td>\n",
       "      <td>0.04878</td>\n",
       "    </tr>\n",
       "    <tr>\n",
       "      <th>5629</th>\n",
       "      <td>20</td>\n",
       "      <td>6200000.0</td>\n",
       "      <td>80.00</td>\n",
       "      <td>2014-12-10</td>\n",
       "      <td>3</td>\n",
       "      <td>2.70</td>\n",
       "      <td>5</td>\n",
       "      <td>55.60</td>\n",
       "      <td>4</td>\n",
       "      <td>NaN</td>\n",
       "      <td>...</td>\n",
       "      <td>NaN</td>\n",
       "      <td>NaN</td>\n",
       "      <td>9.50</td>\n",
       "      <td>77500.000000</td>\n",
       "      <td>2</td>\n",
       "      <td>12</td>\n",
       "      <td>2014</td>\n",
       "      <td>another</td>\n",
       "      <td>0.695000</td>\n",
       "      <td>0.25</td>\n",
       "    </tr>\n",
       "  </tbody>\n",
       "</table>\n",
       "<p>40 rows × 30 columns</p>\n",
       "</div>"
      ],
      "text/plain": [
       "      total_images  last_price  total_area first_day_exposition  rooms  \\\n",
       "98              11  11700000.0       80.00           2014-12-10      3   \n",
       "260              8  17250000.0      102.40           2014-12-09      3   \n",
       "398              7  12789000.0       79.30           2014-12-09      2   \n",
       "411              1  40662000.0      151.00           2014-12-09      3   \n",
       "512              8   6260000.0       43.30           2014-12-09      1   \n",
       "532              7   6800000.0       90.00           2014-12-16      3   \n",
       "617              1  12036000.0      100.00           2014-11-27      3   \n",
       "653              0  27250000.0      169.00           2014-12-09      5   \n",
       "684              5   9200000.0       82.93           2014-12-09      2   \n",
       "696              1   3364930.0       34.69           2014-11-27      1   \n",
       "878             20  19800000.0      139.80           2014-12-09      4   \n",
       "1109             1  34878556.0       95.80           2014-12-09      2   \n",
       "1461            17  13800000.0      103.00           2014-12-15      3   \n",
       "1519            13  22000000.0      174.00           2014-12-10      4   \n",
       "1885             2  13300000.0       79.60           2014-12-09      2   \n",
       "2063             0   1300000.0       52.70           2014-12-05      3   \n",
       "2235             0   3700000.0       45.30           2014-12-22      2   \n",
       "2814             4  14485000.0      101.57           2014-12-11      3   \n",
       "2831             9   5990000.0       64.40           2014-11-27      2   \n",
       "3056            20  45900000.0      143.00           2014-12-09      2   \n",
       "3202            20   3390000.0       42.20           2014-12-19      1   \n",
       "3291             8   8200000.0       52.50           2014-11-27      1   \n",
       "3486             2  14500000.0       97.40           2014-11-27      2   \n",
       "3552             6  19090000.0      115.70           2014-12-25      3   \n",
       "3618            16   4000000.0       75.03           2014-12-15      2   \n",
       "3643             0  12738000.0      124.00           2014-12-09      4   \n",
       "3859             8   2765000.0       62.00           2014-12-23      2   \n",
       "3873             7  20100000.0      117.60           2014-11-27      3   \n",
       "3955             1  12561120.0       93.60           2014-11-27      3   \n",
       "3974            16   3150000.0       54.10           2014-12-10      2   \n",
       "4151            17  17600000.0       89.50           2014-12-09      2   \n",
       "4293             9  17000000.0      156.00           2014-12-12      4   \n",
       "4348            13   5990000.0       74.50           2014-12-10      4   \n",
       "4561            10   9990000.0       95.00           2014-12-11      3   \n",
       "4571             9   5320000.0       50.10           2014-12-09      2   \n",
       "4812             1  27933600.0      180.80           2014-11-27      4   \n",
       "4889             8   3300000.0       71.70           2014-12-10      3   \n",
       "5077            13  18500000.0      140.00           2014-12-11      4   \n",
       "5223             2   2750000.0       41.00           2014-12-08      1   \n",
       "5629            20   6200000.0       80.00           2014-12-10      3   \n",
       "\n",
       "      ceiling_height  floors_total  living_area  floor is_apartment  ...  \\\n",
       "98               NaN             5        55.10      3          NaN  ...   \n",
       "260              NaN             8        53.20      3          NaN  ...   \n",
       "398             3.00             8        43.10      5        False  ...   \n",
       "411              NaN             8        85.00      3          NaN  ...   \n",
       "512              NaN             8          NaN      5          NaN  ...   \n",
       "532             2.60             9        43.30      1        False  ...   \n",
       "617              NaN            16        52.00      3          NaN  ...   \n",
       "653              NaN            12        89.00      9          NaN  ...   \n",
       "684              NaN            12        41.92      6          NaN  ...   \n",
       "696             2.64            25        23.43     25          NaN  ...   \n",
       "878             3.40             3        93.50      3          NaN  ...   \n",
       "1109             NaN             6        58.30      5         True  ...   \n",
       "1461            2.80             9        56.00      7          NaN  ...   \n",
       "1519            2.80             4        80.90      2          NaN  ...   \n",
       "1885            3.00             8        42.70      7          NaN  ...   \n",
       "2063             NaN             5        39.40      1          NaN  ...   \n",
       "2235             NaN             5        29.80      2          NaN  ...   \n",
       "2814            3.00            17        53.35      3          NaN  ...   \n",
       "2831            3.12             4        36.20      1          NaN  ...   \n",
       "3056            3.30             8        83.50      6          NaN  ...   \n",
       "3202             NaN            16        17.50     10        False  ...   \n",
       "3291             NaN             8        21.50      2          NaN  ...   \n",
       "3486            3.00             8        36.30      2        False  ...   \n",
       "3552            3.00            10        47.40     10        False  ...   \n",
       "3618            2.53             3        66.22      3          NaN  ...   \n",
       "3643             NaN            15        62.00     10          NaN  ...   \n",
       "3859            2.77             9        32.00      9        False  ...   \n",
       "3873             NaN             8        62.50      7          NaN  ...   \n",
       "3955            3.00            16        52.00      5          NaN  ...   \n",
       "3974            2.55             5        29.90      1          NaN  ...   \n",
       "4151            3.00             8        39.62      7          NaN  ...   \n",
       "4293            3.50             5       115.00      5          NaN  ...   \n",
       "4348            2.52             9        55.10      6          NaN  ...   \n",
       "4561             NaN             4        73.00      3          NaN  ...   \n",
       "4571             NaN             9        30.40      4          NaN  ...   \n",
       "4812            3.10            16        94.89     11          NaN  ...   \n",
       "4889             NaN             9        43.10      4          NaN  ...   \n",
       "5077             NaN            16        78.00     12          NaN  ...   \n",
       "5223            2.50            10        20.00      7          NaN  ...   \n",
       "5629            2.70             5        55.60      4          NaN  ...   \n",
       "\n",
       "      ponds_nearest  days_exposition kitchen_median  price_per_meter weekday  \\\n",
       "98              NaN            831.0           9.50    146250.000000       2   \n",
       "260             NaN              NaN           9.50    168457.031250       1   \n",
       "398             NaN           1345.0           8.80    161273.644388       1   \n",
       "411           100.0            594.0           9.50    269284.768212       1   \n",
       "512           303.0           1155.0           9.04    144572.748268       1   \n",
       "532           837.0            608.0           9.50     75555.555556       1   \n",
       "617           454.0            606.0           9.50    120360.000000       3   \n",
       "653            69.0            594.0          15.10    161242.603550       1   \n",
       "684           303.0           1141.0           8.80    110936.934764       1   \n",
       "696             NaN            574.0           9.04     97000.000000       3   \n",
       "878             NaN            637.0          11.10    141630.901288       1   \n",
       "1109          569.0           1572.0           8.80    364076.784969       1   \n",
       "1461            NaN            554.0           9.50    133980.582524       0   \n",
       "1519          907.0           1133.0          11.10    126436.781609       2   \n",
       "1885            NaN           1513.0           8.80    167085.427136       1   \n",
       "2063            NaN            581.0           9.50     24667.931689       4   \n",
       "2235          736.0            946.0           8.80     81677.704194       0   \n",
       "2814          196.0              NaN           9.50    142611.007187       3   \n",
       "2831            NaN           1069.0           8.80     93012.422360       3   \n",
       "3056          100.0              NaN           8.80    320979.020979       1   \n",
       "3202          922.0            690.0           9.04     80331.753555       4   \n",
       "3291            NaN              NaN           9.04    156190.476190       3   \n",
       "3486            NaN           1078.0           8.80    148870.636550       3   \n",
       "3552          935.0            942.0           9.50    164995.678479       3   \n",
       "3618            NaN            588.0           8.80     53312.008530       0   \n",
       "3643          852.0            594.0          11.10    102725.806452       1   \n",
       "3859            NaN            816.0           8.80     44596.774194       1   \n",
       "3873            NaN              NaN           9.50    170918.367347       3   \n",
       "3955          454.0            583.0           9.50    134200.000000       3   \n",
       "3974            NaN              NaN           8.80     58225.508318       2   \n",
       "4151          722.0            869.0           8.80    196648.044693       1   \n",
       "4293          650.0            692.0          11.10    108974.358974       4   \n",
       "4348            NaN            924.0          11.10     80402.684564       2   \n",
       "4561          636.0            561.0           9.50    105157.894737       3   \n",
       "4571          789.0            561.0           8.80    106187.624750       1   \n",
       "4812          454.0            586.0          11.10    154500.000000       3   \n",
       "4889            NaN           1314.0           9.50     46025.104603       2   \n",
       "5077            NaN            752.0          11.10    132142.857143       3   \n",
       "5223            NaN            562.0           9.04     67073.170732       0   \n",
       "5629            NaN              NaN           9.50     77500.000000       2   \n",
       "\n",
       "      month  year  floor_category  living_area_ratio  kitchen_area_ratio  \n",
       "98       12  2014         another           0.688750              0.1375  \n",
       "260      12  2014         another           0.519531            0.078125  \n",
       "398      12  2014         another           0.543506            0.088272  \n",
       "411      12  2014         another           0.562914            0.006623  \n",
       "512      12  2014         another                NaN            0.184758  \n",
       "532      12  2014           first           0.481111            0.077778  \n",
       "617      11  2014         another           0.520000                0.01  \n",
       "653      12  2014         another           0.526627                 0.0  \n",
       "684      12  2014         another           0.505487            0.060292  \n",
       "696      11  2014            last           0.675411            0.028827  \n",
       "878      12  2014            last           0.668813            0.143062  \n",
       "1109     12  2014         another           0.608559            0.010438  \n",
       "1461     12  2014         another           0.543689            0.165049  \n",
       "1519     12  2014         another           0.464943            0.074713  \n",
       "1885     12  2014         another           0.536432            0.025126  \n",
       "2063     12  2014           first           0.747628                 0.0  \n",
       "2235     12  2014         another           0.657837                 0.0  \n",
       "2814     12  2014         another           0.525254            0.039382  \n",
       "2831     11  2014           first           0.562112            0.139752  \n",
       "3056     12  2014         another           0.583916             0.13986  \n",
       "3202     12  2014         another           0.414692            0.473934  \n",
       "3291     11  2014         another           0.409524            0.152381  \n",
       "3486     11  2014         another           0.372690            0.020534  \n",
       "3552     12  2014            last           0.409680            0.051858  \n",
       "3618     12  2014            last           0.882580            0.213248  \n",
       "3643     12  2014         another           0.500000                 0.0  \n",
       "3859     12  2014            last           0.516129            0.129032  \n",
       "3873     11  2014         another           0.531463            0.059524  \n",
       "3955     11  2014         another           0.555556            0.010684  \n",
       "3974     12  2014           first           0.552680            0.295749  \n",
       "4151     12  2014         another           0.442682            0.189944  \n",
       "4293     12  2014            last           0.737179            0.057692  \n",
       "4348     12  2014         another           0.739597            0.174497  \n",
       "4561     12  2014         another           0.768421            0.105263  \n",
       "4571     12  2014         another           0.606786            0.179641  \n",
       "4812     11  2014         another           0.524834            0.005531  \n",
       "4889     12  2014         another           0.601116            0.111576  \n",
       "5077     12  2014         another           0.557143            0.092857  \n",
       "5223     12  2014         another           0.487805             0.04878  \n",
       "5629     12  2014         another           0.695000                0.25  \n",
       "\n",
       "[40 rows x 30 columns]"
      ]
     },
     "metadata": {},
     "output_type": "display_data"
    },
    {
     "data": {
      "text/plain": [
       "137"
      ]
     },
     "execution_count": 48,
     "metadata": {},
     "output_type": "execute_result"
    }
   ],
   "source": [
    "flats_2014 = df.query('year<2015')\n",
    "display(flats_2014.head(40))\n",
    "len(flats_2014)"
   ]
  },
  {
   "cell_type": "markdown",
   "metadata": {},
   "source": [
    "Данных немного, но квартиры  - обычные. Считаем, что высокие цены в 2014 - реальны. Если бы задание не было учебным, можно было бы проконсультироваться с экспертами и узнать, был ли провал в ценах в 2015 году."
   ]
  },
  {
   "cell_type": "markdown",
   "metadata": {},
   "source": [
    "Завимисоть окончательной цены от месяца публикации интерпретируется аналогично зависимости от дня недели. При медианном\n",
    "времени от публикации до продажи 103 дня, месяц не имеет столь же важного значения, как если бы квартиры продавались\n",
    "за неделю. Тем не менее, если 103 дня - это время до сделки, то окончательная цена согласуется сторонами \n",
    "cущественно раньше. Допустим 50-80 дней. Тогда апрельский пик объясним. В начале лета (как раз через пару месяцев после\n",
    "апреля) людям удобно начать ремонт/переезд. Например, потому, что детей и пенсионеров отправляют из города.\n",
    "Аналогично объясняется и спад в июне. "
   ]
  },
  {
   "cell_type": "markdown",
   "metadata": {},
   "source": [
    "4.3 Статистика по населенным пунктам с наибольшим числом объявлений\n",
    "Выберем 10 населенных пунктов с наибольшим числом объявлений. Рассчитаем среднюю цену квадратного метра в этих населённых пунктах."
   ]
  },
  {
   "cell_type": "code",
   "execution_count": 49,
   "metadata": {
    "scrolled": true
   },
   "outputs": [
    {
     "data": {
      "text/html": [
       "<div>\n",
       "<style scoped>\n",
       "    .dataframe tbody tr th:only-of-type {\n",
       "        vertical-align: middle;\n",
       "    }\n",
       "\n",
       "    .dataframe tbody tr th {\n",
       "        vertical-align: top;\n",
       "    }\n",
       "\n",
       "    .dataframe thead th {\n",
       "        text-align: right;\n",
       "    }\n",
       "</style>\n",
       "<table border=\"1\" class=\"dataframe\">\n",
       "  <thead>\n",
       "    <tr style=\"text-align: right;\">\n",
       "      <th></th>\n",
       "      <th>Количество объявлений</th>\n",
       "      <th>Cредняя Цена за м2</th>\n",
       "    </tr>\n",
       "    <tr>\n",
       "      <th>locality_name</th>\n",
       "      <th></th>\n",
       "      <th></th>\n",
       "    </tr>\n",
       "  </thead>\n",
       "  <tbody>\n",
       "    <tr>\n",
       "      <th>Санкт-Петербург</th>\n",
       "      <td>15721</td>\n",
       "      <td>114849.008794</td>\n",
       "    </tr>\n",
       "    <tr>\n",
       "      <th>Пушкин</th>\n",
       "      <td>369</td>\n",
       "      <td>103125.819291</td>\n",
       "    </tr>\n",
       "    <tr>\n",
       "      <th>деревня Кудрово</th>\n",
       "      <td>299</td>\n",
       "      <td>92473.547576</td>\n",
       "    </tr>\n",
       "    <tr>\n",
       "      <th>посёлок Парголово</th>\n",
       "      <td>327</td>\n",
       "      <td>90175.913458</td>\n",
       "    </tr>\n",
       "    <tr>\n",
       "      <th>посёлок Мурино</th>\n",
       "      <td>522</td>\n",
       "      <td>85752.189195</td>\n",
       "    </tr>\n",
       "    <tr>\n",
       "      <th>посёлок Шушары</th>\n",
       "      <td>440</td>\n",
       "      <td>78677.364217</td>\n",
       "    </tr>\n",
       "    <tr>\n",
       "      <th>Колпино</th>\n",
       "      <td>338</td>\n",
       "      <td>75424.579098</td>\n",
       "    </tr>\n",
       "    <tr>\n",
       "      <th>Гатчина</th>\n",
       "      <td>307</td>\n",
       "      <td>68746.146763</td>\n",
       "    </tr>\n",
       "    <tr>\n",
       "      <th>Всеволожск</th>\n",
       "      <td>398</td>\n",
       "      <td>68654.473986</td>\n",
       "    </tr>\n",
       "    <tr>\n",
       "      <th>Выборг</th>\n",
       "      <td>237</td>\n",
       "      <td>58141.909153</td>\n",
       "    </tr>\n",
       "  </tbody>\n",
       "</table>\n",
       "</div>"
      ],
      "text/plain": [
       "                   Количество объявлений  Cредняя Цена за м2\n",
       "locality_name                                               \n",
       "Санкт-Петербург                    15721       114849.008794\n",
       "Пушкин                               369       103125.819291\n",
       "деревня Кудрово                      299        92473.547576\n",
       "посёлок Парголово                    327        90175.913458\n",
       "посёлок Мурино                       522        85752.189195\n",
       "посёлок Шушары                       440        78677.364217\n",
       "Колпино                              338        75424.579098\n",
       "Гатчина                              307        68746.146763\n",
       "Всеволожск                           398        68654.473986\n",
       "Выборг                               237        58141.909153"
      ]
     },
     "execution_count": 49,
     "metadata": {},
     "output_type": "execute_result"
    }
   ],
   "source": [
    "df['sq_m_price']=df['last_price']/df['total_area']\n",
    "locality_group_count=df.pivot_table(index='locality_name', values='sq_m_price', aggfunc='count')\n",
    "locality_group_count_sorted = pd.DataFrame(locality_group_count.sort_values(by='sq_m_price', ascending=False))\n",
    "first_10_pub=locality_group_count_sorted[0:10]\n",
    "locality_group_price=df.pivot_table(index='locality_name', values='sq_m_price', aggfunc='mean')\n",
    "locality_group=first_10_pub.merge(locality_group_price, on='locality_name')\n",
    "locality_group.columns=['Количество объявлений','Cредняя Цена за м2']\n",
    "locality_group.sort_values(by='Cредняя Цена за м2', ascending=False)\n"
   ]
  },
  {
   "cell_type": "markdown",
   "metadata": {},
   "source": [
    "Результат ожидаемый.Самая высокая стоимость квадратного метра - в Санкт-Петербурге. Найдем населенные пункты с самой \n",
    "низкой стоимостью квадратного метра. Самая низкая - в Выборге. \n",
    "Согласно условию проекта рассматривались только 10 населенных пунктов с наибольшим количеством объявлений."
   ]
  },
  {
   "cell_type": "markdown",
   "metadata": {},
   "source": [
    "### 4.4 Зависимость средней цены квартиры в Санкт-Петербурге от удаленности от центра\n",
    "Создадим новый столбец с округленными значениями расстояний, переведенными в километры."
   ]
  },
  {
   "cell_type": "code",
   "execution_count": 197,
   "metadata": {},
   "outputs": [
    {
     "data": {
      "text/plain": [
       "<AxesSubplot:xlabel='Расстояние до центра, км'>"
      ]
     },
     "execution_count": 197,
     "metadata": {},
     "output_type": "execute_result"
    },
    {
     "data": {
      "image/png": "[encoded data removed]",
      "text/plain": [
       "<Figure size 1152x288 with 1 Axes>"
      ]
     },
     "metadata": {
      "needs_background": "light"
     },
     "output_type": "display_data"
    }
   ],
   "source": [
    "df['to_center_rounded']=round(df['cityCenters_nearest']/1000,0)\n",
    "only_spb=df.query('locality_name == \"Санкт-Петербург\"')\n",
    "spb_sq_m_price=only_spb.pivot_table(index='to_center_rounded', values='sq_m_price', aggfunc='mean')\n",
    "spb_sq_m_price.columns=['Цена за кв.м, р']\n",
    "spb_sq_m_price.plot(grid=False, kind='bar', figsize=(16, 4), rot=0, xlabel='Расстояние до центра, км', ylim=(0,250000)) "
   ]
  },
  {
   "cell_type": "markdown",
   "metadata": {},
   "source": [
    "В задании требуется определить границу центральной зоны. Стоимость резко подскакивает вверх на расстоянии\n",
    "7 км от центра. Соответственно, зону в радиусе 0-7 км от центра будем считать центральной."
   ]
  },
  {
   "cell_type": "markdown",
   "metadata": {},
   "source": [
    "### 4.5 Рассмотрение сегмента квартир в центре. Сопоставление с данными по всему региону\n",
    "Создадим новый датафрейм."
   ]
  },
  {
   "cell_type": "code",
   "execution_count": 51,
   "metadata": {},
   "outputs": [],
   "source": [
    "df_center=df.loc[df['to_center_rounded']<8]"
   ]
  },
  {
   "cell_type": "markdown",
   "metadata": {},
   "source": [
    "Аналогично предыдущему этапу исследования построим для центральной зоны гистограммы распределения площади, \n",
    "цены, количества комнат и высоты потолков. К данным применим аналогичные операции \"очистки\". И выведем подряд парами:  \"гистограмма для всего города - гистограмма для центра\". Гистограмму цены локализуем в пределеах 0-10 млн для удобства сравнения участков уменьшения. Количество комнат - в пределах 0-8."
   ]
  },
  {
   "cell_type": "markdown",
   "metadata": {},
   "source": []
  },
  {
   "cell_type": "code",
   "execution_count": 52,
   "metadata": {},
   "outputs": [
    {
     "data": {
      "text/plain": [
       "array([[<AxesSubplot:title={'center':'total_area'}>]], dtype=object)"
      ]
     },
     "execution_count": 52,
     "metadata": {},
     "output_type": "execute_result"
    },
    {
     "data": {
      "image/png": "[encoded data removed]",
      "text/plain": [
       "<Figure size 720x360 with 1 Axes>"
      ]
     },
     "metadata": {
      "needs_background": "light"
     },
     "output_type": "display_data"
    },
    {
     "data": {
      "image/png": "[encoded data removed]",
      "text/plain": [
       "<Figure size 720x360 with 1 Axes>"
      ]
     },
     "metadata": {
      "needs_background": "light"
     },
     "output_type": "display_data"
    }
   ],
   "source": [
    "df_center.hist('total_area',bins=50,grid=True, figsize=(10,5))\n",
    "df.hist('total_area',bins=50,grid=True, figsize=(10,5))"
   ]
  },
  {
   "cell_type": "markdown",
   "metadata": {},
   "source": [
    "С увеличением площади количество больших квартир 100-200 м2 в центре уменьшается медленее. Результат ожидаемый,\n",
    "так как в центре больше жилья более высокого класса, соответственно, более просторного."
   ]
  },
  {
   "cell_type": "code",
   "execution_count": 53,
   "metadata": {},
   "outputs": [
    {
     "data": {
      "text/plain": [
       "array([[<AxesSubplot:title={'center':'last_price'}>]], dtype=object)"
      ]
     },
     "execution_count": 53,
     "metadata": {},
     "output_type": "execute_result"
    },
    {
     "data": {
      "image/png": "[encoded data removed]",
      "text/plain": [
       "<Figure size 720x360 with 1 Axes>"
      ]
     },
     "metadata": {
      "needs_background": "light"
     },
     "output_type": "display_data"
    },
    {
     "data": {
      "image/png": "[encoded data removed]",
      "text/plain": [
       "<Figure size 720x360 with 1 Axes>"
      ]
     },
     "metadata": {
      "needs_background": "light"
     },
     "output_type": "display_data"
    }
   ],
   "source": [
    "df_center.query('0<last_price<=1e8').hist('last_price',bins=100,grid=True, figsize=(10,5))\n",
    "df.query('0<last_price<=1e8').hist('last_price',bins=100,grid=True, figsize=(10,5))"
   ]
  },
  {
   "cell_type": "markdown",
   "metadata": {},
   "source": [
    "Ожидаемым резуьтатом является более медленное уменьшение количества проданных квартир в центре с увеличением цены. Логично, что в центре дорогих квартир больше."
   ]
  },
  {
   "cell_type": "code",
   "execution_count": 54,
   "metadata": {},
   "outputs": [
    {
     "data": {
      "text/plain": [
       "array([[<AxesSubplot:title={'center':'rooms'}>]], dtype=object)"
      ]
     },
     "execution_count": 54,
     "metadata": {},
     "output_type": "execute_result"
    },
    {
     "data": {
      "image/png": "[encoded data removed]",
      "text/plain": [
       "<Figure size 360x360 with 1 Axes>"
      ]
     },
     "metadata": {
      "needs_background": "light"
     },
     "output_type": "display_data"
    },
    {
     "data": {
      "image/png": "[encoded data removed]",
      "text/plain": [
       "<Figure size 360x360 with 1 Axes>"
      ]
     },
     "metadata": {
      "needs_background": "light"
     },
     "output_type": "display_data"
    }
   ],
   "source": [
    "df_center.query('0<rooms<=8').hist('rooms',bins=8,grid=True, figsize=(5,5))\n",
    "df_good_rooms.query('0<rooms<=8').hist('rooms',bins=8,grid=True, figsize=(5,5))"
   ]
  },
  {
   "cell_type": "markdown",
   "metadata": {},
   "source": [
    "Выясняется, что в центре по сравнению с данными по всему региону другое соотношение количества однокомнатых \n",
    "квартир к числу двух и трехкомнатных. В регионе количество однокомнатных квартир почти равно\n",
    "количеству двухкомнатных. В центре СПб их в два раза меньше."
   ]
  },
  {
   "cell_type": "code",
   "execution_count": null,
   "metadata": {},
   "outputs": [],
   "source": [
    "df_center_ceiling_1=df_center.query('ceiling_height<=6 & ceiling_height !=1')\n",
    "df_center_ceiling_2=df_center_ceiling_1.query('ceiling_height>=20 & ceiling_height<=32')\n",
    "h1=df_center_ceiling_2['ceiling_height']\n",
    "h1=h*0.1\n",
    "df_center_ceiling_2['ceiling_height']=h    \n",
    "\n",
    "df_center_ceiling = pd.concat([df_center_ceiling_1, df_center_ceiling_2],axis=0)\n",
    "df_center_ceiling.hist('ceiling_height',bins=30,grid=True, figsize=(5,5))    \n",
    "\n",
    "df_good_ceiling.hist('ceiling_height',bins=30,grid=True, figsize=(5,5))"
   ]
  },
  {
   "cell_type": "markdown",
   "metadata": {},
   "source": []
  },
  {
   "cell_type": "markdown",
   "metadata": {},
   "source": [
    "В центре больше старых и новых элитных квартир с высокими потолками (более 3 м). \n",
    "Первая гистограмма(высоты потолков в центре) - иллюстрирует этот факт."
   ]
  },
  {
   "cell_type": "markdown",
   "metadata": {},
   "source": [
    "Сопоставим зависимости цены квартиры от площади, цены, числа комнат, высоты потолков в центре и во всем регионе."
   ]
  },
  {
   "cell_type": "markdown",
   "metadata": {},
   "source": [
    "Построим графики цена-число комнат. Первый - для центра СПб, второй - по всем региону."
   ]
  },
  {
   "cell_type": "code",
   "execution_count": 204,
   "metadata": {},
   "outputs": [
    {
     "data": {
      "text/plain": [
       "Text(0, 0.5, 'Цена, р')"
      ]
     },
     "execution_count": 204,
     "metadata": {},
     "output_type": "execute_result"
    },
    {
     "data": {
      "image/png": "[encoded data removed]",
      "text/plain": [
       "<Figure size 864x360 with 1 Axes>"
      ]
     },
     "metadata": {
      "needs_background": "light"
     },
     "output_type": "display_data"
    },
    {
     "data": {
      "image/png": "[encoded data removed]",
      "text/plain": [
       "<Figure size 864x360 with 1 Axes>"
      ]
     },
     "metadata": {
      "needs_background": "light"
     },
     "output_type": "display_data"
    }
   ],
   "source": [
    "(\n",
    "df_center.query('rooms < 12')\n",
    ".pivot_table(index='rooms',values='last_price', aggfunc='median').plot(grid=True, figsize=(12, 5), xlim=(0,10) ,ylim=(0,3e7)) \n",
    ")\n",
    "plt.title('Зависимость цены (р) от количества комнат. Зона \"Центр CПб\"', pad=15)\n",
    "plt.xlabel('Количество комнат')\n",
    "plt.ylabel('Цена, р')\n",
    "(\n",
    "df.query('rooms < 12')\n",
    ".pivot_table(index='rooms',values='last_price', aggfunc='median').plot(grid=True, figsize=(12, 5),xlim=(0,10) ,ylim=(0,3e7)) \n",
    ")\n",
    "plt.title('Зависимость цены (р) от количества комнат. Весь регион', pad=15)\n",
    "plt.xlabel('Количество комнат')\n",
    "plt.ylabel('Цена, р')\n"
   ]
  },
  {
   "cell_type": "markdown",
   "metadata": {},
   "source": [
    "Зависимости цена-число комнат имеют схожую природу для центра и всего решиона. "
   ]
  },
  {
   "cell_type": "markdown",
   "metadata": {},
   "source": [
    "Построим графики цена-площадь. Первый - для центра СПб, второй - по всем региону."
   ]
  },
  {
   "cell_type": "code",
   "execution_count": 210,
   "metadata": {},
   "outputs": [
    {
     "data": {
      "text/plain": [
       "Text(0, 0.5, 'Цена, р')"
      ]
     },
     "execution_count": 210,
     "metadata": {},
     "output_type": "execute_result"
    },
    {
     "data": {
      "image/png": "[encoded data removed]",
      "text/plain": [
       "<Figure size 576x288 with 1 Axes>"
      ]
     },
     "metadata": {
      "needs_background": "light"
     },
     "output_type": "display_data"
    },
    {
     "data": {
      "image/png": "[encoded data removed]",
      "text/plain": [
       "<Figure size 576x288 with 1 Axes>"
      ]
     },
     "metadata": {
      "needs_background": "light"
     },
     "output_type": "display_data"
    }
   ],
   "source": [
    "(\n",
    "df_center.pivot_table(index='floor_category',values='last_price', aggfunc='median')\n",
    "               .plot(grid=False, kind='bar', figsize=(8, 4), rot=0) \n",
    ")\n",
    "plt.title('Зависимость цены (р) от категории этажа. Зона \"Центр CПб\"', pad=15)\n",
    "plt.xlabel('Категории: \"другой\", \"первый\", \"последний\"')\n",
    "plt.ylabel('Цена, р')\n",
    "\n",
    "(\n",
    "df.pivot_table(index='floor_category',values='last_price', aggfunc='median')\n",
    "               .plot(grid=False, kind='bar', figsize=(8, 4), rot=0) \n",
    ")\n",
    "plt.title('Зависимость цены (р) от категории этажа. Весь регион', pad=15)\n",
    "plt.xlabel('Категории: \"другой\", \"первый\", \"последний\"')\n",
    "plt.ylabel('Цена, р')"
   ]
  },
  {
   "cell_type": "markdown",
   "metadata": {},
   "source": [
    "Качественно соотношения для центра и всего региона - одинаковые."
   ]
  },
  {
   "cell_type": "markdown",
   "metadata": {},
   "source": [
    "Столбчатая диаграмму \"цена - удаленность от центра\". Локализуем ее в пределах центра (0-8 км)."
   ]
  },
  {
   "cell_type": "code",
   "execution_count": 211,
   "metadata": {},
   "outputs": [
    {
     "data": {
      "text/plain": [
       "Text(0, 0.5, 'Цена, р')"
      ]
     },
     "execution_count": 211,
     "metadata": {},
     "output_type": "execute_result"
    },
    {
     "data": {
      "image/png": "[encoded data removed]",
      "text/plain": [
       "<Figure size 1152x288 with 1 Axes>"
      ]
     },
     "metadata": {
      "needs_background": "light"
     },
     "output_type": "display_data"
    }
   ],
   "source": [
    "spb_sq_m_price.plot(grid=False, kind='bar', figsize=(16, 4), rot=0, xlabel='Расстояние до центра, км') \n",
    "plt.title('Зависимость цены (р) от расстояния до центра СПб', pad=15)\n",
    "plt.xlabel('Расстояние до центра, км')\n",
    "plt.ylabel('Цена, р')"
   ]
  },
  {
   "cell_type": "markdown",
   "metadata": {},
   "source": [
    "Имеется необъяснимый минимум на расстоянии 3 км от центра. Он не похож на случайный, так как при движении\n",
    "\"в центр\" от 7 до 3 км цена снижается монотонно, а далее - монотонно повышается. Вероятно, причину следует\n",
    "искать в градостроительных особенностях Санкт-Петербурга, в возрасте домов, особенностях инфраструктуры для жизни. "
   ]
  },
  {
   "cell_type": "code",
   "execution_count": null,
   "metadata": {},
   "outputs": [],
   "source": [
    "Рассмотрим зависимости \"день/месяц/год публикации - цена\". Построим графики парами \"Центр СПб Vs Весь Регион\""
   ]
  },
  {
   "cell_type": "code",
   "execution_count": 215,
   "metadata": {},
   "outputs": [
    {
     "data": {
      "text/plain": [
       "Text(0, 0.5, 'Цена, р')"
      ]
     },
     "execution_count": 215,
     "metadata": {},
     "output_type": "execute_result"
    },
    {
     "data": {
      "image/png": "[encoded data removed]",
      "text/plain": [
       "<Figure size 576x288 with 1 Axes>"
      ]
     },
     "metadata": {
      "needs_background": "light"
     },
     "output_type": "display_data"
    },
    {
     "data": {
      "image/png": "[encoded data removed]",
      "text/plain": [
       "<Figure size 576x288 with 1 Axes>"
      ]
     },
     "metadata": {
      "needs_background": "light"
     },
     "output_type": "display_data"
    }
   ],
   "source": [
    "(\n",
    "df_center.pivot_table(index='weekday',values='last_price', aggfunc='median')\n",
    "               .plot(grid=False, kind='bar', figsize=(8, 4), rot=0, ylim=(4.2e6,10e6))\n",
    ")  \n",
    "plt.title('Зависимость цены (р) от дня недели публикации. Центр CПб', pad=15)\n",
    "plt.xlabel('День недели')\n",
    "plt.ylabel('Цена, р')\n",
    "\n",
    "(\n",
    "df.pivot_table(index='weekday',values='last_price', aggfunc='median')\n",
    "               .plot(grid=False, kind='bar', figsize=(8, 4), rot=0, ylim=(4.2e6,5e6))\n",
    ")\n",
    "plt.title('Зависимость цены (р) от дня недели публикации. Весь регион', pad=15)\n",
    "plt.xlabel('День недели')\n",
    "plt.ylabel('Цена, р')"
   ]
  },
  {
   "cell_type": "markdown",
   "metadata": {},
   "source": [
    "Корреляция визуально не наблюдается. Но в п.4.3 показано, что сам график не имеет большого смысла, поэтому анализировать корреляцию не стоит. "
   ]
  },
  {
   "cell_type": "code",
   "execution_count": 218,
   "metadata": {},
   "outputs": [
    {
     "data": {
      "text/plain": [
       "Text(0, 0.5, 'Цена, р')"
      ]
     },
     "execution_count": 218,
     "metadata": {},
     "output_type": "execute_result"
    },
    {
     "data": {
      "image/png": "[encoded data removed]",
      "text/plain": [
       "<Figure size 576x288 with 1 Axes>"
      ]
     },
     "metadata": {
      "needs_background": "light"
     },
     "output_type": "display_data"
    },
    {
     "data": {
      "image/png": "[encoded data removed]",
      "text/plain": [
       "<Figure size 576x288 with 1 Axes>"
      ]
     },
     "metadata": {
      "needs_background": "light"
     },
     "output_type": "display_data"
    }
   ],
   "source": [
    "(\n",
    "df_center.pivot_table(index='year',values='last_price', aggfunc='median')\n",
    "               .plot(grid=False, kind='bar', figsize=(8, 4), rot=0, ylim=(4.2e6,1.4e7))\n",
    ")  \n",
    "plt.title('Зависимость цены (р) от года публикации. Центр CПб', pad=15)\n",
    "plt.xlabel('Год')\n",
    "plt.ylabel('Цена, р')\n",
    "(\n",
    "df.pivot_table(index='year',values='last_price', aggfunc='median')\n",
    "               .plot(grid=False, kind='bar', figsize=(8, 4), rot=0, ylim=(4.2e6,9e6))\n",
    ")\n",
    "plt.title('Зависимость цены (р) от года публикации. Весь регион', pad=15)\n",
    "plt.xlabel('Год')\n",
    "plt.ylabel('Цена, р')"
   ]
  },
  {
   "cell_type": "markdown",
   "metadata": {},
   "source": [
    "Периоды возрастания и убывания цен на квартиры в центре СПб и всем регионе при рассмотрении\n",
    "в масштабе десятилетия - одни и те же. "
   ]
  },
  {
   "cell_type": "code",
   "execution_count": 219,
   "metadata": {},
   "outputs": [
    {
     "data": {
      "text/plain": [
       "<AxesSubplot:xlabel='month'>"
      ]
     },
     "execution_count": 219,
     "metadata": {},
     "output_type": "execute_result"
    },
    {
     "data": {
      "image/png": "[encoded data removed]",
      "text/plain": [
       "<Figure size 576x288 with 1 Axes>"
      ]
     },
     "metadata": {
      "needs_background": "light"
     },
     "output_type": "display_data"
    },
    {
     "data": {
      "image/png": "[encoded data removed]",
      "text/plain": [
       "<Figure size 576x288 with 1 Axes>"
      ]
     },
     "metadata": {
      "needs_background": "light"
     },
     "output_type": "display_data"
    }
   ],
   "source": [
    "(\n",
    "df_center.pivot_table(index='month',values='last_price', aggfunc='median')\n",
    "               .plot(grid=False, kind='bar', figsize=(8, 4), rot=0, ylim=(4.2e6,1.4e7))\n",
    ")  \n",
    "plt.title('Зависимость цены (р) от месяца публикации. Центр CПб', pad=15)\n",
    "plt.xlabel('Месяц')\n",
    "plt.ylabel('Цена, р')\n",
    "\n",
    "(\n",
    "df.pivot_table(index='month',values='last_price', aggfunc='median')\n",
    "               .plot(grid=False, kind='bar', figsize=(8, 4), rot=0, ylim=(4.2e6,5e6))\n",
    ")\n",
    "plt.title('Зависимость цены (р) от месяца публикации. Весь регион', pad=15)\n",
    "plt.xlabel('Месяц')\n",
    "plt.ylabel('Цена, р')"
   ]
  },
  {
   "cell_type": "markdown",
   "metadata": {},
   "source": [
    "Центр более стабилен с точки зрения влияния месяца публикации на цену. Это объяснимо - в центре меньше семей, подверженных сезонному ритму. И многие помещения приобретаютя вообще не для семьи. "
   ]
  },
  {
   "cell_type": "markdown",
   "metadata": {},
   "source": [
    "## Общий вывод"
   ]
  },
  {
   "cell_type": "markdown",
   "metadata": {},
   "source": [
    "Ожидаемым образом цена на квартиры растет вместе с площадью. Имеется непрямая (степенная или\n",
    "экспоненциальная) зависимость цены от количества комнат.\n",
    "Неожиданный результат  - квартиры в трех километрах от центра дешевле, чем в семи, или в одном.\n",
    "Неочевидный, но объяснимый результат - в 2015 году по отношению к 2014 цены упали. \n",
    "Квартиры в малых городах и спальных районах подвержены сезонным колебаниям цен. "
   ]
  }
 ],
 "metadata": {
  "ExecuteTimeLog": [
   {
    "duration": 388,
    "start_time": "2022-04-12T16:54:17.112Z"
   },
   {
    "duration": 79,
    "start_time": "2022-04-12T16:54:18.782Z"
   },
   {
    "duration": 71,
    "start_time": "2022-04-12T16:55:21.201Z"
   },
   {
    "duration": 7,
    "start_time": "2022-04-12T16:55:32.960Z"
   },
   {
    "duration": 7,
    "start_time": "2022-04-12T16:55:40.921Z"
   },
   {
    "duration": 14,
    "start_time": "2022-04-12T16:55:48.312Z"
   },
   {
    "duration": 8,
    "start_time": "2022-04-12T16:56:40.931Z"
   },
   {
    "duration": 10,
    "start_time": "2022-04-12T16:56:47.754Z"
   },
   {
    "duration": 7,
    "start_time": "2022-04-12T16:57:11.731Z"
   },
   {
    "duration": 9,
    "start_time": "2022-04-12T16:57:20.749Z"
   },
   {
    "duration": 13,
    "start_time": "2022-04-12T16:57:39.588Z"
   },
   {
    "duration": 9,
    "start_time": "2022-04-12T16:57:51.610Z"
   },
   {
    "duration": 119,
    "start_time": "2022-04-12T16:58:14.880Z"
   },
   {
    "duration": 88,
    "start_time": "2022-04-12T16:58:28.869Z"
   },
   {
    "duration": 6,
    "start_time": "2022-04-12T16:58:30.729Z"
   },
   {
    "duration": 14,
    "start_time": "2022-04-12T17:03:44.302Z"
   },
   {
    "duration": 16,
    "start_time": "2022-04-12T17:04:27.381Z"
   },
   {
    "duration": 15,
    "start_time": "2022-04-12T17:05:02.950Z"
   },
   {
    "duration": 17,
    "start_time": "2022-04-12T17:05:10.310Z"
   },
   {
    "duration": 14,
    "start_time": "2022-04-12T17:05:29.910Z"
   },
   {
    "duration": 24,
    "start_time": "2022-04-12T17:08:36.985Z"
   },
   {
    "duration": 19,
    "start_time": "2022-04-12T17:09:48.577Z"
   },
   {
    "duration": 10,
    "start_time": "2022-04-12T17:15:30.991Z"
   },
   {
    "duration": 11,
    "start_time": "2022-04-12T17:15:46.952Z"
   },
   {
    "duration": 8,
    "start_time": "2022-04-12T17:16:00.545Z"
   },
   {
    "duration": 8,
    "start_time": "2022-04-12T17:16:07.799Z"
   },
   {
    "duration": 9,
    "start_time": "2022-04-12T17:16:13.679Z"
   },
   {
    "duration": 12,
    "start_time": "2022-04-12T17:17:33.463Z"
   },
   {
    "duration": 13,
    "start_time": "2022-04-12T17:18:04.691Z"
   },
   {
    "duration": 18,
    "start_time": "2022-04-12T17:18:24.512Z"
   },
   {
    "duration": 16,
    "start_time": "2022-04-12T17:18:30.227Z"
   },
   {
    "duration": 11,
    "start_time": "2022-04-12T17:18:37.652Z"
   },
   {
    "duration": 5,
    "start_time": "2022-04-12T18:49:01.255Z"
   },
   {
    "duration": 4,
    "start_time": "2022-04-12T18:49:10.198Z"
   },
   {
    "duration": 6,
    "start_time": "2022-04-12T18:49:23.759Z"
   },
   {
    "duration": 5,
    "start_time": "2022-04-12T18:49:41.180Z"
   },
   {
    "duration": 5,
    "start_time": "2022-04-12T18:49:54.916Z"
   },
   {
    "duration": 6,
    "start_time": "2022-04-12T18:50:04.859Z"
   },
   {
    "duration": 4,
    "start_time": "2022-04-12T18:50:21.101Z"
   },
   {
    "duration": 4,
    "start_time": "2022-04-12T18:50:26.355Z"
   },
   {
    "duration": 4,
    "start_time": "2022-04-12T18:50:41.469Z"
   },
   {
    "duration": 5,
    "start_time": "2022-04-12T18:50:44.511Z"
   },
   {
    "duration": 4,
    "start_time": "2022-04-12T18:50:55.417Z"
   },
   {
    "duration": 6,
    "start_time": "2022-04-12T18:53:46.038Z"
   },
   {
    "duration": 5,
    "start_time": "2022-04-12T18:54:41.461Z"
   },
   {
    "duration": 4,
    "start_time": "2022-04-12T19:07:51.000Z"
   },
   {
    "duration": 6,
    "start_time": "2022-04-12T19:07:55.718Z"
   },
   {
    "duration": 35,
    "start_time": "2022-04-12T19:10:51.613Z"
   },
   {
    "duration": 40,
    "start_time": "2022-04-12T19:11:10.128Z"
   },
   {
    "duration": 1866,
    "start_time": "2022-04-12T19:12:12.289Z"
   },
   {
    "duration": 108,
    "start_time": "2022-04-12T19:12:32.050Z"
   },
   {
    "duration": 101,
    "start_time": "2022-04-12T19:12:42.607Z"
   },
   {
    "duration": 10,
    "start_time": "2022-04-12T19:12:45.372Z"
   },
   {
    "duration": 10,
    "start_time": "2022-04-12T19:12:56.273Z"
   },
   {
    "duration": 42,
    "start_time": "2022-04-12T19:13:09.042Z"
   },
   {
    "duration": 7,
    "start_time": "2022-04-12T19:22:51.372Z"
   },
   {
    "duration": 105,
    "start_time": "2022-04-12T19:24:58.540Z"
   },
   {
    "duration": 13,
    "start_time": "2022-04-12T19:25:01.908Z"
   },
   {
    "duration": 10,
    "start_time": "2022-04-12T19:25:07.529Z"
   },
   {
    "duration": 874,
    "start_time": "2022-04-12T19:25:17.423Z"
   },
   {
    "duration": 893,
    "start_time": "2022-04-12T19:25:35.721Z"
   },
   {
    "duration": 837,
    "start_time": "2022-04-12T19:25:52.362Z"
   },
   {
    "duration": 866,
    "start_time": "2022-04-12T19:26:45.511Z"
   },
   {
    "duration": 878,
    "start_time": "2022-04-12T19:26:54.041Z"
   },
   {
    "duration": 10,
    "start_time": "2022-04-12T19:27:52.775Z"
   },
   {
    "duration": 9,
    "start_time": "2022-04-12T19:27:58.075Z"
   },
   {
    "duration": 15,
    "start_time": "2022-04-12T19:28:01.335Z"
   },
   {
    "duration": 10,
    "start_time": "2022-04-12T19:28:05.401Z"
   },
   {
    "duration": 12,
    "start_time": "2022-04-12T19:28:58.173Z"
   },
   {
    "duration": 13,
    "start_time": "2022-04-12T19:29:02.093Z"
   },
   {
    "duration": 2,
    "start_time": "2022-04-12T19:29:11.009Z"
   },
   {
    "duration": 82,
    "start_time": "2022-04-12T19:29:12.467Z"
   },
   {
    "duration": 6,
    "start_time": "2022-04-12T19:29:14.087Z"
   },
   {
    "duration": 15,
    "start_time": "2022-04-12T19:29:17.260Z"
   },
   {
    "duration": 16,
    "start_time": "2022-04-12T19:29:22.127Z"
   },
   {
    "duration": 14,
    "start_time": "2022-04-12T19:29:25.507Z"
   },
   {
    "duration": 6,
    "start_time": "2022-04-12T19:29:36.131Z"
   },
   {
    "duration": 5,
    "start_time": "2022-04-12T19:29:39.433Z"
   },
   {
    "duration": 12,
    "start_time": "2022-04-12T19:29:43.264Z"
   },
   {
    "duration": 7,
    "start_time": "2022-04-12T19:41:02.129Z"
   },
   {
    "duration": 10,
    "start_time": "2022-04-12T19:42:06.844Z"
   },
   {
    "duration": 38,
    "start_time": "2022-04-12T19:42:14.066Z"
   },
   {
    "duration": 10,
    "start_time": "2022-04-12T19:42:40.728Z"
   },
   {
    "duration": 109,
    "start_time": "2022-04-12T19:56:02.652Z"
   },
   {
    "duration": 14,
    "start_time": "2022-04-12T19:56:05.770Z"
   },
   {
    "duration": 7,
    "start_time": "2022-04-12T19:56:35.939Z"
   },
   {
    "duration": 110,
    "start_time": "2022-04-12T20:04:22.585Z"
   },
   {
    "duration": 9,
    "start_time": "2022-04-12T20:04:27.355Z"
   },
   {
    "duration": 9,
    "start_time": "2022-04-12T20:04:45.150Z"
   },
   {
    "duration": 10,
    "start_time": "2022-04-12T20:06:22.640Z"
   },
   {
    "duration": 6,
    "start_time": "2022-04-12T20:08:38.930Z"
   },
   {
    "duration": 5,
    "start_time": "2022-04-12T20:08:41.794Z"
   },
   {
    "duration": 6,
    "start_time": "2022-04-12T20:08:46.954Z"
   },
   {
    "duration": 7,
    "start_time": "2022-04-12T20:08:52.477Z"
   },
   {
    "duration": 6,
    "start_time": "2022-04-12T20:08:55.052Z"
   },
   {
    "duration": 12,
    "start_time": "2022-04-12T20:09:45.044Z"
   },
   {
    "duration": 10,
    "start_time": "2022-04-12T20:09:53.202Z"
   },
   {
    "duration": 108,
    "start_time": "2022-04-12T20:10:19.186Z"
   },
   {
    "duration": 10,
    "start_time": "2022-04-12T20:10:41.019Z"
   },
   {
    "duration": 107,
    "start_time": "2022-04-12T20:11:06.848Z"
   },
   {
    "duration": 72,
    "start_time": "2022-04-12T20:11:09.681Z"
   },
   {
    "duration": 75,
    "start_time": "2022-04-12T20:11:28.939Z"
   },
   {
    "duration": 6,
    "start_time": "2022-04-12T20:13:06.404Z"
   },
   {
    "duration": 37,
    "start_time": "2022-04-12T20:16:05.913Z"
   },
   {
    "duration": 10,
    "start_time": "2022-04-12T20:16:44.251Z"
   },
   {
    "duration": 10,
    "start_time": "2022-04-12T20:16:47.008Z"
   },
   {
    "duration": 8,
    "start_time": "2022-04-12T20:16:59.114Z"
   },
   {
    "duration": 33,
    "start_time": "2022-04-12T20:17:24.697Z"
   },
   {
    "duration": 5,
    "start_time": "2022-04-12T20:17:33.965Z"
   },
   {
    "duration": 34,
    "start_time": "2022-04-12T20:19:13.838Z"
   },
   {
    "duration": 77,
    "start_time": "2022-04-12T20:26:12.214Z"
   },
   {
    "duration": 1738,
    "start_time": "2022-04-12T20:28:46.105Z"
   },
   {
    "duration": 1740,
    "start_time": "2022-04-12T20:28:57.146Z"
   },
   {
    "duration": 76,
    "start_time": "2022-04-12T20:29:06.402Z"
   },
   {
    "duration": 108,
    "start_time": "2022-04-12T20:32:52.253Z"
   },
   {
    "duration": 7,
    "start_time": "2022-04-12T20:35:48.559Z"
   },
   {
    "duration": 6,
    "start_time": "2022-04-12T20:35:54.062Z"
   },
   {
    "duration": 7,
    "start_time": "2022-04-12T20:35:59.776Z"
   },
   {
    "duration": 45,
    "start_time": "2022-04-12T20:45:52.304Z"
   },
   {
    "duration": 37,
    "start_time": "2022-04-12T20:45:58.684Z"
   },
   {
    "duration": 11,
    "start_time": "2022-04-12T20:46:21.518Z"
   },
   {
    "duration": 6,
    "start_time": "2022-04-12T20:46:27.635Z"
   },
   {
    "duration": 8,
    "start_time": "2022-04-12T20:47:07.191Z"
   },
   {
    "duration": 76,
    "start_time": "2022-04-12T20:47:16.968Z"
   },
   {
    "duration": 15,
    "start_time": "2022-04-12T20:47:21.067Z"
   },
   {
    "duration": 15,
    "start_time": "2022-04-12T20:47:25.075Z"
   },
   {
    "duration": 6,
    "start_time": "2022-04-12T20:47:33.227Z"
   },
   {
    "duration": 111,
    "start_time": "2022-04-12T20:47:36.640Z"
   },
   {
    "duration": 6,
    "start_time": "2022-04-12T20:47:38.580Z"
   },
   {
    "duration": 23,
    "start_time": "2022-04-12T20:47:40.290Z"
   },
   {
    "duration": 9,
    "start_time": "2022-04-12T21:26:53.221Z"
   },
   {
    "duration": 8,
    "start_time": "2022-04-12T21:27:03.146Z"
   },
   {
    "duration": 8,
    "start_time": "2022-04-12T21:28:14.254Z"
   },
   {
    "duration": 59,
    "start_time": "2022-04-12T21:28:24.797Z"
   },
   {
    "duration": 11,
    "start_time": "2022-04-12T21:28:54.306Z"
   },
   {
    "duration": 9,
    "start_time": "2022-04-12T21:30:44.310Z"
   },
   {
    "duration": 8,
    "start_time": "2022-04-12T21:31:09.058Z"
   },
   {
    "duration": 25,
    "start_time": "2022-04-12T21:31:15.465Z"
   },
   {
    "duration": 1614,
    "start_time": "2022-04-12T21:31:34.412Z"
   },
   {
    "duration": 1812,
    "start_time": "2022-04-12T21:31:53.660Z"
   },
   {
    "duration": 10,
    "start_time": "2022-04-12T21:33:14.127Z"
   },
   {
    "duration": 68,
    "start_time": "2022-04-12T21:33:24.547Z"
   },
   {
    "duration": 11,
    "start_time": "2022-04-12T21:33:30.741Z"
   },
   {
    "duration": 10,
    "start_time": "2022-04-12T21:33:35.514Z"
   },
   {
    "duration": 12,
    "start_time": "2022-04-12T21:33:56.291Z"
   },
   {
    "duration": 13,
    "start_time": "2022-04-12T21:34:00.656Z"
   },
   {
    "duration": 24,
    "start_time": "2022-04-12T21:34:04.833Z"
   },
   {
    "duration": 10,
    "start_time": "2022-04-12T21:34:12.364Z"
   },
   {
    "duration": 8,
    "start_time": "2022-04-12T21:35:09.943Z"
   },
   {
    "duration": 8,
    "start_time": "2022-04-12T21:35:56.701Z"
   },
   {
    "duration": 8,
    "start_time": "2022-04-12T21:36:05.907Z"
   },
   {
    "duration": 8,
    "start_time": "2022-04-12T21:36:53.534Z"
   },
   {
    "duration": 7,
    "start_time": "2022-04-12T21:37:07.117Z"
   },
   {
    "duration": 1742,
    "start_time": "2022-04-12T21:38:07.314Z"
   },
   {
    "duration": 8,
    "start_time": "2022-04-12T21:41:53.207Z"
   },
   {
    "duration": 8,
    "start_time": "2022-04-12T21:41:58.657Z"
   },
   {
    "duration": 8,
    "start_time": "2022-04-12T21:42:04.503Z"
   },
   {
    "duration": 8,
    "start_time": "2022-04-12T21:42:09.734Z"
   },
   {
    "duration": 7,
    "start_time": "2022-04-12T21:42:16.291Z"
   },
   {
    "duration": 7,
    "start_time": "2022-04-12T21:42:50.855Z"
   },
   {
    "duration": 4,
    "start_time": "2022-04-12T21:42:55.492Z"
   },
   {
    "duration": 15,
    "start_time": "2022-04-12T21:43:06.509Z"
   },
   {
    "duration": 401,
    "start_time": "2022-04-12T21:43:42.072Z"
   },
   {
    "duration": 79,
    "start_time": "2022-04-12T21:43:42.475Z"
   },
   {
    "duration": 17,
    "start_time": "2022-04-12T21:43:42.556Z"
   },
   {
    "duration": 14,
    "start_time": "2022-04-12T21:43:42.575Z"
   },
   {
    "duration": 14,
    "start_time": "2022-04-12T21:43:42.590Z"
   },
   {
    "duration": 13,
    "start_time": "2022-04-12T21:43:42.606Z"
   },
   {
    "duration": 6,
    "start_time": "2022-04-12T21:43:42.713Z"
   },
   {
    "duration": 5,
    "start_time": "2022-04-12T21:43:42.855Z"
   },
   {
    "duration": 8,
    "start_time": "2022-04-12T21:43:42.928Z"
   },
   {
    "duration": 142,
    "start_time": "2022-04-12T21:43:43.103Z"
   },
   {
    "duration": 6,
    "start_time": "2022-04-12T21:43:43.247Z"
   },
   {
    "duration": 22,
    "start_time": "2022-04-12T21:43:43.352Z"
   },
   {
    "duration": 8,
    "start_time": "2022-04-12T21:43:43.478Z"
   },
   {
    "duration": 4,
    "start_time": "2022-04-12T21:43:43.623Z"
   },
   {
    "duration": 16,
    "start_time": "2022-04-12T21:43:43.694Z"
   },
   {
    "duration": 5,
    "start_time": "2022-04-12T21:50:54.891Z"
   },
   {
    "duration": 107,
    "start_time": "2022-04-12T21:58:46.410Z"
   },
   {
    "duration": 16,
    "start_time": "2022-04-12T21:59:26.467Z"
   },
   {
    "duration": 15,
    "start_time": "2022-04-12T21:59:30.728Z"
   },
   {
    "duration": 9,
    "start_time": "2022-04-12T21:59:44.067Z"
   },
   {
    "duration": 9,
    "start_time": "2022-04-12T22:00:46.806Z"
   },
   {
    "duration": 8,
    "start_time": "2022-04-12T22:00:52.017Z"
   },
   {
    "duration": 10,
    "start_time": "2022-04-12T22:00:59.477Z"
   },
   {
    "duration": 8,
    "start_time": "2022-04-12T22:01:03.049Z"
   },
   {
    "duration": 14,
    "start_time": "2022-04-12T22:02:14.293Z"
   },
   {
    "duration": 9,
    "start_time": "2022-04-12T22:02:37.063Z"
   },
   {
    "duration": 8,
    "start_time": "2022-04-12T22:02:45.229Z"
   },
   {
    "duration": 7,
    "start_time": "2022-04-12T22:02:48.807Z"
   },
   {
    "duration": 9,
    "start_time": "2022-04-12T22:03:01.935Z"
   },
   {
    "duration": 8,
    "start_time": "2022-04-12T22:03:10.025Z"
   },
   {
    "duration": 8,
    "start_time": "2022-04-12T22:03:14.189Z"
   },
   {
    "duration": 5,
    "start_time": "2022-04-12T22:04:40.484Z"
   },
   {
    "duration": 4,
    "start_time": "2022-04-12T22:05:01.824Z"
   },
   {
    "duration": 4,
    "start_time": "2022-04-12T22:05:10.661Z"
   },
   {
    "duration": 7,
    "start_time": "2022-04-12T22:05:14.919Z"
   },
   {
    "duration": 9,
    "start_time": "2022-04-12T22:05:19.291Z"
   },
   {
    "duration": 108,
    "start_time": "2022-04-12T22:05:38.937Z"
   },
   {
    "duration": 7,
    "start_time": "2022-04-12T22:05:41.444Z"
   },
   {
    "duration": 8,
    "start_time": "2022-04-12T22:05:47.114Z"
   },
   {
    "duration": 7,
    "start_time": "2022-04-12T22:05:52.847Z"
   },
   {
    "duration": 8,
    "start_time": "2022-04-12T22:08:02.059Z"
   },
   {
    "duration": 7,
    "start_time": "2022-04-12T22:08:08.739Z"
   },
   {
    "duration": 7,
    "start_time": "2022-04-12T22:08:21.839Z"
   },
   {
    "duration": 11,
    "start_time": "2022-04-12T22:08:58.352Z"
   },
   {
    "duration": 4,
    "start_time": "2022-04-12T22:09:01.060Z"
   },
   {
    "duration": 11,
    "start_time": "2022-04-12T22:10:36.090Z"
   },
   {
    "duration": 16,
    "start_time": "2022-04-12T22:10:59.220Z"
   },
   {
    "duration": 4,
    "start_time": "2022-04-12T22:19:58.872Z"
   },
   {
    "duration": 15,
    "start_time": "2022-04-12T22:20:03.369Z"
   },
   {
    "duration": 4,
    "start_time": "2022-04-12T22:20:10.293Z"
   },
   {
    "duration": 14,
    "start_time": "2022-04-12T22:20:12.254Z"
   },
   {
    "duration": 394,
    "start_time": "2022-04-12T22:20:24.788Z"
   },
   {
    "duration": 79,
    "start_time": "2022-04-12T22:20:25.184Z"
   },
   {
    "duration": 15,
    "start_time": "2022-04-12T22:20:25.264Z"
   },
   {
    "duration": 19,
    "start_time": "2022-04-12T22:20:25.280Z"
   },
   {
    "duration": 16,
    "start_time": "2022-04-12T22:20:25.301Z"
   },
   {
    "duration": 16,
    "start_time": "2022-04-12T22:20:25.319Z"
   },
   {
    "duration": 5,
    "start_time": "2022-04-12T22:20:25.337Z"
   },
   {
    "duration": 34,
    "start_time": "2022-04-12T22:20:25.343Z"
   },
   {
    "duration": 11,
    "start_time": "2022-04-12T22:20:25.379Z"
   },
   {
    "duration": 120,
    "start_time": "2022-04-12T22:20:25.391Z"
   },
   {
    "duration": 6,
    "start_time": "2022-04-12T22:20:25.513Z"
   },
   {
    "duration": 25,
    "start_time": "2022-04-12T22:20:25.521Z"
   },
   {
    "duration": 26,
    "start_time": "2022-04-12T22:20:25.547Z"
   },
   {
    "duration": 6,
    "start_time": "2022-04-12T22:20:25.576Z"
   },
   {
    "duration": 16,
    "start_time": "2022-04-12T22:20:25.584Z"
   },
   {
    "duration": 4,
    "start_time": "2022-04-12T22:20:25.602Z"
   },
   {
    "duration": 13,
    "start_time": "2022-04-12T22:20:25.608Z"
   },
   {
    "duration": 14,
    "start_time": "2022-04-12T22:20:25.622Z"
   },
   {
    "duration": 96,
    "start_time": "2022-04-12T22:20:25.637Z"
   },
   {
    "duration": 4,
    "start_time": "2022-04-12T22:21:03.288Z"
   },
   {
    "duration": 15,
    "start_time": "2022-04-12T22:21:05.972Z"
   },
   {
    "duration": 4,
    "start_time": "2022-04-12T22:21:24.977Z"
   },
   {
    "duration": 16,
    "start_time": "2022-04-12T22:21:27.481Z"
   },
   {
    "duration": 4,
    "start_time": "2022-04-12T22:22:14.003Z"
   },
   {
    "duration": 15,
    "start_time": "2022-04-12T22:22:18.544Z"
   },
   {
    "duration": 3,
    "start_time": "2022-04-12T22:22:30.964Z"
   },
   {
    "duration": 72,
    "start_time": "2022-04-12T22:22:32.643Z"
   },
   {
    "duration": 6,
    "start_time": "2022-04-12T22:22:36.387Z"
   },
   {
    "duration": 358,
    "start_time": "2022-04-12T22:22:52.423Z"
   },
   {
    "duration": 78,
    "start_time": "2022-04-12T22:22:52.783Z"
   },
   {
    "duration": 12,
    "start_time": "2022-04-12T22:22:52.862Z"
   },
   {
    "duration": 22,
    "start_time": "2022-04-12T22:22:52.876Z"
   },
   {
    "duration": 21,
    "start_time": "2022-04-12T22:22:52.900Z"
   },
   {
    "duration": 15,
    "start_time": "2022-04-12T22:22:52.922Z"
   },
   {
    "duration": 5,
    "start_time": "2022-04-12T22:22:52.938Z"
   },
   {
    "duration": 7,
    "start_time": "2022-04-12T22:22:52.944Z"
   },
   {
    "duration": 24,
    "start_time": "2022-04-12T22:22:52.952Z"
   },
   {
    "duration": 124,
    "start_time": "2022-04-12T22:22:52.978Z"
   },
   {
    "duration": 6,
    "start_time": "2022-04-12T22:22:53.104Z"
   },
   {
    "duration": 28,
    "start_time": "2022-04-12T22:22:53.111Z"
   },
   {
    "duration": 9,
    "start_time": "2022-04-12T22:22:53.141Z"
   },
   {
    "duration": 22,
    "start_time": "2022-04-12T22:22:53.151Z"
   },
   {
    "duration": 14,
    "start_time": "2022-04-12T22:22:53.175Z"
   },
   {
    "duration": 3,
    "start_time": "2022-04-12T22:22:53.191Z"
   },
   {
    "duration": 20,
    "start_time": "2022-04-12T22:22:53.195Z"
   },
   {
    "duration": 17,
    "start_time": "2022-04-12T22:22:53.216Z"
   },
   {
    "duration": 106,
    "start_time": "2022-04-12T22:22:53.235Z"
   },
   {
    "duration": 14,
    "start_time": "2022-04-12T22:23:24.294Z"
   },
   {
    "duration": 62,
    "start_time": "2022-04-12T22:23:41.011Z"
   },
   {
    "duration": 7,
    "start_time": "2022-04-12T22:24:01.658Z"
   },
   {
    "duration": 5,
    "start_time": "2022-04-12T22:24:04.690Z"
   },
   {
    "duration": 5,
    "start_time": "2022-04-12T22:24:13.954Z"
   },
   {
    "duration": 6,
    "start_time": "2022-04-12T22:24:16.688Z"
   },
   {
    "duration": 3,
    "start_time": "2022-04-12T22:24:57.068Z"
   },
   {
    "duration": 6,
    "start_time": "2022-04-12T22:25:01.885Z"
   },
   {
    "duration": 71,
    "start_time": "2022-04-12T22:25:29.356Z"
   },
   {
    "duration": 5,
    "start_time": "2022-04-12T22:25:31.511Z"
   },
   {
    "duration": 3,
    "start_time": "2022-04-12T22:25:35.634Z"
   },
   {
    "duration": 5,
    "start_time": "2022-04-12T22:25:37.677Z"
   },
   {
    "duration": 9,
    "start_time": "2022-04-12T22:25:57.141Z"
   },
   {
    "duration": 12,
    "start_time": "2022-04-12T22:26:34.943Z"
   },
   {
    "duration": 10,
    "start_time": "2022-04-12T22:26:56.398Z"
   },
   {
    "duration": 11,
    "start_time": "2022-04-12T22:27:53.975Z"
   },
   {
    "duration": 14,
    "start_time": "2022-04-12T22:27:56.327Z"
   },
   {
    "duration": 74,
    "start_time": "2022-04-12T22:28:03.070Z"
   },
   {
    "duration": 5,
    "start_time": "2022-04-12T22:28:04.657Z"
   },
   {
    "duration": 11,
    "start_time": "2022-04-12T22:28:06.442Z"
   },
   {
    "duration": 13,
    "start_time": "2022-04-12T22:28:14.508Z"
   },
   {
    "duration": 14,
    "start_time": "2022-04-12T22:28:26.084Z"
   },
   {
    "duration": 14,
    "start_time": "2022-04-12T22:28:41.718Z"
   },
   {
    "duration": 5,
    "start_time": "2022-04-12T22:31:26.369Z"
   },
   {
    "duration": 5,
    "start_time": "2022-04-12T22:31:29.151Z"
   },
   {
    "duration": 409,
    "start_time": "2022-04-12T22:31:46.262Z"
   },
   {
    "duration": 78,
    "start_time": "2022-04-12T22:31:46.675Z"
   },
   {
    "duration": 10,
    "start_time": "2022-04-12T22:31:46.755Z"
   },
   {
    "duration": 25,
    "start_time": "2022-04-12T22:31:46.767Z"
   },
   {
    "duration": 14,
    "start_time": "2022-04-12T22:31:46.794Z"
   },
   {
    "duration": 14,
    "start_time": "2022-04-12T22:31:46.809Z"
   },
   {
    "duration": 5,
    "start_time": "2022-04-12T22:31:46.825Z"
   },
   {
    "duration": 7,
    "start_time": "2022-04-12T22:31:46.832Z"
   },
   {
    "duration": 41,
    "start_time": "2022-04-12T22:31:46.840Z"
   },
   {
    "duration": 126,
    "start_time": "2022-04-12T22:31:46.884Z"
   },
   {
    "duration": 7,
    "start_time": "2022-04-12T22:31:47.012Z"
   },
   {
    "duration": 23,
    "start_time": "2022-04-12T22:31:47.021Z"
   },
   {
    "duration": 27,
    "start_time": "2022-04-12T22:31:47.046Z"
   },
   {
    "duration": 13,
    "start_time": "2022-04-12T22:31:47.074Z"
   },
   {
    "duration": 7,
    "start_time": "2022-04-12T22:31:47.089Z"
   },
   {
    "duration": 5,
    "start_time": "2022-04-12T22:31:47.098Z"
   },
   {
    "duration": 13,
    "start_time": "2022-04-12T22:31:47.104Z"
   },
   {
    "duration": 14,
    "start_time": "2022-04-12T22:31:47.119Z"
   },
   {
    "duration": 102,
    "start_time": "2022-04-12T22:31:47.135Z"
   },
   {
    "duration": 4,
    "start_time": "2022-04-12T22:31:53.861Z"
   },
   {
    "duration": 5,
    "start_time": "2022-04-12T22:31:56.802Z"
   },
   {
    "duration": 68,
    "start_time": "2022-04-12T22:32:08.440Z"
   },
   {
    "duration": 6,
    "start_time": "2022-04-12T22:32:08.986Z"
   },
   {
    "duration": 9,
    "start_time": "2022-04-12T22:32:18.759Z"
   },
   {
    "duration": 9,
    "start_time": "2022-04-12T22:32:23.047Z"
   },
   {
    "duration": 9,
    "start_time": "2022-04-12T22:32:49.507Z"
   },
   {
    "duration": 5,
    "start_time": "2022-04-12T22:32:59.816Z"
   },
   {
    "duration": 4,
    "start_time": "2022-04-12T22:33:25.301Z"
   },
   {
    "duration": 5,
    "start_time": "2022-04-12T22:33:27.794Z"
   },
   {
    "duration": 7,
    "start_time": "2022-04-12T22:33:59.470Z"
   },
   {
    "duration": 7,
    "start_time": "2022-04-12T22:34:01.107Z"
   },
   {
    "duration": 7,
    "start_time": "2022-04-12T22:34:47.633Z"
   },
   {
    "duration": 7,
    "start_time": "2022-04-12T22:35:16.331Z"
   },
   {
    "duration": 6,
    "start_time": "2022-04-12T22:35:25.991Z"
   },
   {
    "duration": 6,
    "start_time": "2022-04-12T22:35:38.944Z"
   },
   {
    "duration": 6,
    "start_time": "2022-04-12T22:35:47.716Z"
   },
   {
    "duration": 6,
    "start_time": "2022-04-12T22:36:00.831Z"
   },
   {
    "duration": 6,
    "start_time": "2022-04-12T22:36:03.321Z"
   },
   {
    "duration": 7,
    "start_time": "2022-04-12T22:36:07.573Z"
   },
   {
    "duration": 7,
    "start_time": "2022-04-12T22:37:10.660Z"
   },
   {
    "duration": 4,
    "start_time": "2022-04-12T22:37:21.408Z"
   },
   {
    "duration": 3,
    "start_time": "2022-04-12T22:37:37.399Z"
   },
   {
    "duration": 389,
    "start_time": "2022-04-12T22:37:45.184Z"
   },
   {
    "duration": 76,
    "start_time": "2022-04-12T22:37:45.575Z"
   },
   {
    "duration": 10,
    "start_time": "2022-04-12T22:37:45.653Z"
   },
   {
    "duration": 15,
    "start_time": "2022-04-12T22:37:45.672Z"
   },
   {
    "duration": 13,
    "start_time": "2022-04-12T22:37:45.689Z"
   },
   {
    "duration": 15,
    "start_time": "2022-04-12T22:37:45.704Z"
   },
   {
    "duration": 5,
    "start_time": "2022-04-12T22:37:45.720Z"
   },
   {
    "duration": 6,
    "start_time": "2022-04-12T22:37:45.726Z"
   },
   {
    "duration": 41,
    "start_time": "2022-04-12T22:37:45.733Z"
   },
   {
    "duration": 116,
    "start_time": "2022-04-12T22:37:45.776Z"
   },
   {
    "duration": 6,
    "start_time": "2022-04-12T22:37:45.894Z"
   },
   {
    "duration": 23,
    "start_time": "2022-04-12T22:37:45.902Z"
   },
   {
    "duration": 7,
    "start_time": "2022-04-12T22:37:45.927Z"
   },
   {
    "duration": 5,
    "start_time": "2022-04-12T22:37:45.937Z"
   },
   {
    "duration": 6,
    "start_time": "2022-04-12T22:37:45.944Z"
   },
   {
    "duration": 25,
    "start_time": "2022-04-12T22:37:45.952Z"
   },
   {
    "duration": 15,
    "start_time": "2022-04-12T22:37:45.978Z"
   },
   {
    "duration": 15,
    "start_time": "2022-04-12T22:37:45.995Z"
   },
   {
    "duration": 141,
    "start_time": "2022-04-12T22:37:46.012Z"
   },
   {
    "duration": 5,
    "start_time": "2022-04-12T22:38:27.524Z"
   },
   {
    "duration": 5,
    "start_time": "2022-04-12T22:38:32.216Z"
   },
   {
    "duration": 5,
    "start_time": "2022-04-12T22:39:10.023Z"
   },
   {
    "duration": 6,
    "start_time": "2022-04-12T22:39:13.073Z"
   },
   {
    "duration": 5,
    "start_time": "2022-04-12T22:39:39.739Z"
   },
   {
    "duration": 5,
    "start_time": "2022-04-12T22:39:41.567Z"
   },
   {
    "duration": 5,
    "start_time": "2022-04-12T22:40:02.339Z"
   },
   {
    "duration": 7,
    "start_time": "2022-04-12T22:40:06.486Z"
   },
   {
    "duration": 421,
    "start_time": "2022-04-12T22:40:12.950Z"
   },
   {
    "duration": 84,
    "start_time": "2022-04-12T22:40:13.375Z"
   },
   {
    "duration": 12,
    "start_time": "2022-04-12T22:40:13.461Z"
   },
   {
    "duration": 23,
    "start_time": "2022-04-12T22:40:13.480Z"
   },
   {
    "duration": 24,
    "start_time": "2022-04-12T22:40:13.505Z"
   },
   {
    "duration": 16,
    "start_time": "2022-04-12T22:40:13.531Z"
   },
   {
    "duration": 6,
    "start_time": "2022-04-12T22:40:13.549Z"
   },
   {
    "duration": 24,
    "start_time": "2022-04-12T22:40:13.556Z"
   },
   {
    "duration": 7,
    "start_time": "2022-04-12T22:40:13.582Z"
   },
   {
    "duration": 128,
    "start_time": "2022-04-12T22:40:13.590Z"
   },
   {
    "duration": 7,
    "start_time": "2022-04-12T22:40:13.719Z"
   },
   {
    "duration": 24,
    "start_time": "2022-04-12T22:40:13.727Z"
   },
   {
    "duration": 30,
    "start_time": "2022-04-12T22:40:13.753Z"
   },
   {
    "duration": 11,
    "start_time": "2022-04-12T22:40:13.786Z"
   },
   {
    "duration": 8,
    "start_time": "2022-04-12T22:40:13.799Z"
   },
   {
    "duration": 13,
    "start_time": "2022-04-12T22:40:13.808Z"
   },
   {
    "duration": 18,
    "start_time": "2022-04-12T22:40:13.823Z"
   },
   {
    "duration": 14,
    "start_time": "2022-04-12T22:40:13.843Z"
   },
   {
    "duration": 112,
    "start_time": "2022-04-12T22:40:13.859Z"
   },
   {
    "duration": 62,
    "start_time": "2022-04-12T22:40:36.207Z"
   },
   {
    "duration": 6,
    "start_time": "2022-04-12T22:40:48.563Z"
   },
   {
    "duration": 11,
    "start_time": "2022-04-12T22:41:12.610Z"
   },
   {
    "duration": 12,
    "start_time": "2022-04-12T22:41:14.890Z"
   },
   {
    "duration": 10,
    "start_time": "2022-04-12T22:41:26.887Z"
   },
   {
    "duration": 18,
    "start_time": "2022-04-12T22:41:30.915Z"
   },
   {
    "duration": 5,
    "start_time": "2022-04-12T22:42:30.363Z"
   },
   {
    "duration": 4,
    "start_time": "2022-04-12T22:43:23.698Z"
   },
   {
    "duration": 6,
    "start_time": "2022-04-12T22:43:26.457Z"
   },
   {
    "duration": 14,
    "start_time": "2022-04-12T22:43:35.447Z"
   },
   {
    "duration": 4,
    "start_time": "2022-04-12T22:43:48.516Z"
   },
   {
    "duration": 5,
    "start_time": "2022-04-12T22:43:51.486Z"
   },
   {
    "duration": 78,
    "start_time": "2022-04-12T22:44:01.987Z"
   },
   {
    "duration": 6,
    "start_time": "2022-04-12T22:44:03.588Z"
   },
   {
    "duration": 14,
    "start_time": "2022-04-12T22:44:11.347Z"
   },
   {
    "duration": 14,
    "start_time": "2022-04-12T22:44:22.853Z"
   },
   {
    "duration": 9,
    "start_time": "2022-04-12T22:45:22.242Z"
   },
   {
    "duration": 10,
    "start_time": "2022-04-12T22:45:27.823Z"
   },
   {
    "duration": 9,
    "start_time": "2022-04-12T22:45:30.966Z"
   },
   {
    "duration": 8,
    "start_time": "2022-04-12T22:46:33.265Z"
   },
   {
    "duration": 13,
    "start_time": "2022-04-12T22:46:38.156Z"
   },
   {
    "duration": 9,
    "start_time": "2022-04-12T22:48:12.846Z"
   },
   {
    "duration": 13,
    "start_time": "2022-04-12T22:48:17.728Z"
   },
   {
    "duration": 8,
    "start_time": "2022-04-12T22:49:00.966Z"
   },
   {
    "duration": 13,
    "start_time": "2022-04-12T22:49:08.433Z"
   },
   {
    "duration": 6,
    "start_time": "2022-04-12T22:49:22.868Z"
   },
   {
    "duration": 5,
    "start_time": "2022-04-12T22:49:29.895Z"
   },
   {
    "duration": 5,
    "start_time": "2022-04-12T22:49:31.519Z"
   },
   {
    "duration": 5,
    "start_time": "2022-04-12T22:50:29.834Z"
   },
   {
    "duration": 5,
    "start_time": "2022-04-12T22:50:32.418Z"
   },
   {
    "duration": 384,
    "start_time": "2022-04-12T22:50:41.895Z"
   },
   {
    "duration": 77,
    "start_time": "2022-04-12T22:50:42.282Z"
   },
   {
    "duration": 14,
    "start_time": "2022-04-12T22:50:42.360Z"
   },
   {
    "duration": 16,
    "start_time": "2022-04-12T22:50:42.376Z"
   },
   {
    "duration": 13,
    "start_time": "2022-04-12T22:50:42.394Z"
   },
   {
    "duration": 16,
    "start_time": "2022-04-12T22:50:42.408Z"
   },
   {
    "duration": 4,
    "start_time": "2022-04-12T22:50:42.426Z"
   },
   {
    "duration": 8,
    "start_time": "2022-04-12T22:50:42.432Z"
   },
   {
    "duration": 33,
    "start_time": "2022-04-12T22:50:42.441Z"
   },
   {
    "duration": 130,
    "start_time": "2022-04-12T22:50:42.475Z"
   },
   {
    "duration": 6,
    "start_time": "2022-04-12T22:50:42.607Z"
   },
   {
    "duration": 24,
    "start_time": "2022-04-12T22:50:42.615Z"
   },
   {
    "duration": 9,
    "start_time": "2022-04-12T22:50:42.641Z"
   },
   {
    "duration": 8,
    "start_time": "2022-04-12T22:50:42.673Z"
   },
   {
    "duration": 6,
    "start_time": "2022-04-12T22:50:42.683Z"
   },
   {
    "duration": 5,
    "start_time": "2022-04-12T22:50:42.690Z"
   },
   {
    "duration": 14,
    "start_time": "2022-04-12T22:50:42.697Z"
   },
   {
    "duration": 15,
    "start_time": "2022-04-12T22:50:42.713Z"
   },
   {
    "duration": 107,
    "start_time": "2022-04-12T22:50:42.730Z"
   },
   {
    "duration": 519,
    "start_time": "2022-04-13T16:15:23.116Z"
   },
   {
    "duration": 729,
    "start_time": "2022-04-13T16:15:23.638Z"
   },
   {
    "duration": 16,
    "start_time": "2022-04-13T16:15:24.369Z"
   },
   {
    "duration": 38,
    "start_time": "2022-04-13T16:15:24.388Z"
   },
   {
    "duration": 32,
    "start_time": "2022-04-13T16:15:24.430Z"
   },
   {
    "duration": 20,
    "start_time": "2022-04-13T16:15:24.465Z"
   },
   {
    "duration": 8,
    "start_time": "2022-04-13T16:15:24.487Z"
   },
   {
    "duration": 37,
    "start_time": "2022-04-13T16:15:24.498Z"
   },
   {
    "duration": 28,
    "start_time": "2022-04-13T16:15:24.537Z"
   },
   {
    "duration": 185,
    "start_time": "2022-04-13T16:15:24.567Z"
   },
   {
    "duration": 8,
    "start_time": "2022-04-13T16:15:24.755Z"
   },
   {
    "duration": 42,
    "start_time": "2022-04-13T16:15:24.765Z"
   },
   {
    "duration": 23,
    "start_time": "2022-04-13T16:15:24.810Z"
   },
   {
    "duration": 17,
    "start_time": "2022-04-13T16:15:24.836Z"
   },
   {
    "duration": 17,
    "start_time": "2022-04-13T16:15:24.855Z"
   },
   {
    "duration": 18,
    "start_time": "2022-04-13T16:15:24.874Z"
   },
   {
    "duration": 42,
    "start_time": "2022-04-13T16:15:24.894Z"
   },
   {
    "duration": 23,
    "start_time": "2022-04-13T16:15:24.939Z"
   },
   {
    "duration": 113,
    "start_time": "2022-04-13T16:17:13.918Z"
   },
   {
    "duration": 131,
    "start_time": "2022-04-13T16:17:20.788Z"
   },
   {
    "duration": 100,
    "start_time": "2022-04-13T16:17:24.621Z"
   },
   {
    "duration": 12,
    "start_time": "2022-04-13T16:17:31.693Z"
   },
   {
    "duration": 11,
    "start_time": "2022-04-13T16:17:36.309Z"
   },
   {
    "duration": 8,
    "start_time": "2022-04-13T16:17:54.433Z"
   },
   {
    "duration": 9,
    "start_time": "2022-04-13T16:17:58.148Z"
   },
   {
    "duration": 1297,
    "start_time": "2022-04-13T16:18:03.402Z"
   },
   {
    "duration": 5,
    "start_time": "2022-04-13T16:18:16.856Z"
   },
   {
    "duration": 10,
    "start_time": "2022-04-13T16:18:35.462Z"
   },
   {
    "duration": 2690,
    "start_time": "2022-04-13T16:18:43.715Z"
   },
   {
    "duration": 22,
    "start_time": "2022-04-13T16:18:54.579Z"
   },
   {
    "duration": 1175,
    "start_time": "2022-04-13T16:22:23.510Z"
   },
   {
    "duration": 111,
    "start_time": "2022-04-13T16:22:37.318Z"
   },
   {
    "duration": 1604,
    "start_time": "2022-04-13T16:22:44.433Z"
   },
   {
    "duration": 492,
    "start_time": "2022-04-13T16:23:35.548Z"
   },
   {
    "duration": 208,
    "start_time": "2022-04-13T16:23:36.043Z"
   },
   {
    "duration": 15,
    "start_time": "2022-04-13T16:23:36.253Z"
   },
   {
    "duration": 27,
    "start_time": "2022-04-13T16:23:36.271Z"
   },
   {
    "duration": 41,
    "start_time": "2022-04-13T16:23:36.300Z"
   },
   {
    "duration": 19,
    "start_time": "2022-04-13T16:23:36.343Z"
   },
   {
    "duration": 8,
    "start_time": "2022-04-13T16:23:36.364Z"
   },
   {
    "duration": 9,
    "start_time": "2022-04-13T16:23:36.374Z"
   },
   {
    "duration": 42,
    "start_time": "2022-04-13T16:23:36.385Z"
   },
   {
    "duration": 208,
    "start_time": "2022-04-13T16:23:36.431Z"
   },
   {
    "duration": 8,
    "start_time": "2022-04-13T16:23:36.641Z"
   },
   {
    "duration": 45,
    "start_time": "2022-04-13T16:23:36.652Z"
   },
   {
    "duration": 14,
    "start_time": "2022-04-13T16:23:36.699Z"
   },
   {
    "duration": 8,
    "start_time": "2022-04-13T16:23:36.725Z"
   },
   {
    "duration": 10,
    "start_time": "2022-04-13T16:23:36.736Z"
   },
   {
    "duration": 15,
    "start_time": "2022-04-13T16:23:36.748Z"
   },
   {
    "duration": 18,
    "start_time": "2022-04-13T16:23:36.765Z"
   },
   {
    "duration": 54,
    "start_time": "2022-04-13T16:23:36.785Z"
   },
   {
    "duration": 20756,
    "start_time": "2022-04-13T16:23:36.842Z"
   },
   {
    "duration": 36,
    "start_time": "2022-04-13T16:23:57.600Z"
   },
   {
    "duration": 20686,
    "start_time": "2022-04-13T16:24:12.376Z"
   },
   {
    "duration": 25,
    "start_time": "2022-04-13T16:24:33.064Z"
   },
   {
    "duration": 52,
    "start_time": "2022-04-13T16:25:10.148Z"
   },
   {
    "duration": 81,
    "start_time": "2022-04-13T16:25:20.067Z"
   },
   {
    "duration": 32,
    "start_time": "2022-04-13T16:25:59.428Z"
   },
   {
    "duration": 96,
    "start_time": "2022-04-13T16:26:05.156Z"
   },
   {
    "duration": 10,
    "start_time": "2022-04-13T16:26:14.526Z"
   },
   {
    "duration": 6,
    "start_time": "2022-04-13T16:26:27.934Z"
   },
   {
    "duration": 7,
    "start_time": "2022-04-13T16:26:37.046Z"
   },
   {
    "duration": 10,
    "start_time": "2022-04-13T16:28:23.503Z"
   },
   {
    "duration": 9,
    "start_time": "2022-04-13T16:28:30.006Z"
   },
   {
    "duration": 11,
    "start_time": "2022-04-13T16:28:44.417Z"
   },
   {
    "duration": 509,
    "start_time": "2022-04-13T17:12:32.763Z"
   },
   {
    "duration": 113,
    "start_time": "2022-04-13T17:12:33.276Z"
   },
   {
    "duration": 18,
    "start_time": "2022-04-13T17:12:33.392Z"
   },
   {
    "duration": 31,
    "start_time": "2022-04-13T17:12:33.413Z"
   },
   {
    "duration": 26,
    "start_time": "2022-04-13T17:12:33.449Z"
   },
   {
    "duration": 61,
    "start_time": "2022-04-13T17:12:33.478Z"
   },
   {
    "duration": 11,
    "start_time": "2022-04-13T17:12:33.542Z"
   },
   {
    "duration": 10,
    "start_time": "2022-04-13T17:12:33.556Z"
   },
   {
    "duration": 14,
    "start_time": "2022-04-13T17:12:33.570Z"
   },
   {
    "duration": 364,
    "start_time": "2022-04-13T17:12:33.588Z"
   },
   {
    "duration": 12,
    "start_time": "2022-04-13T17:12:33.955Z"
   },
   {
    "duration": 55,
    "start_time": "2022-04-13T17:12:33.969Z"
   },
   {
    "duration": 13,
    "start_time": "2022-04-13T17:12:34.027Z"
   },
   {
    "duration": 19,
    "start_time": "2022-04-13T17:12:34.044Z"
   },
   {
    "duration": 18,
    "start_time": "2022-04-13T17:12:34.065Z"
   },
   {
    "duration": 16,
    "start_time": "2022-04-13T17:12:34.085Z"
   },
   {
    "duration": 31,
    "start_time": "2022-04-13T17:12:34.104Z"
   },
   {
    "duration": 24,
    "start_time": "2022-04-13T17:12:34.137Z"
   },
   {
    "duration": 20578,
    "start_time": "2022-04-13T17:12:34.164Z"
   },
   {
    "duration": 12,
    "start_time": "2022-04-13T17:12:54.745Z"
   },
   {
    "duration": 5,
    "start_time": "2022-04-13T17:20:21.711Z"
   },
   {
    "duration": 103,
    "start_time": "2022-04-13T17:21:16.467Z"
   },
   {
    "duration": 8,
    "start_time": "2022-04-13T17:21:24.044Z"
   },
   {
    "duration": 8,
    "start_time": "2022-04-13T17:22:44.065Z"
   },
   {
    "duration": 8,
    "start_time": "2022-04-13T17:22:58.688Z"
   },
   {
    "duration": 7,
    "start_time": "2022-04-13T17:23:27.650Z"
   },
   {
    "duration": 6,
    "start_time": "2022-04-13T17:24:27.791Z"
   },
   {
    "duration": 10,
    "start_time": "2022-04-13T17:24:29.233Z"
   },
   {
    "duration": 8,
    "start_time": "2022-04-13T17:24:33.596Z"
   },
   {
    "duration": 557,
    "start_time": "2022-04-13T18:00:15.204Z"
   },
   {
    "duration": 111,
    "start_time": "2022-04-13T18:00:15.764Z"
   },
   {
    "duration": 17,
    "start_time": "2022-04-13T18:00:15.878Z"
   },
   {
    "duration": 43,
    "start_time": "2022-04-13T18:00:15.899Z"
   },
   {
    "duration": 22,
    "start_time": "2022-04-13T18:00:15.945Z"
   },
   {
    "duration": 21,
    "start_time": "2022-04-13T18:00:15.969Z"
   },
   {
    "duration": 37,
    "start_time": "2022-04-13T18:00:15.992Z"
   },
   {
    "duration": 10,
    "start_time": "2022-04-13T18:00:16.032Z"
   },
   {
    "duration": 12,
    "start_time": "2022-04-13T18:00:16.045Z"
   },
   {
    "duration": 226,
    "start_time": "2022-04-13T18:00:16.064Z"
   },
   {
    "duration": 8,
    "start_time": "2022-04-13T18:00:16.293Z"
   },
   {
    "duration": 50,
    "start_time": "2022-04-13T18:00:16.304Z"
   },
   {
    "duration": 13,
    "start_time": "2022-04-13T18:00:16.356Z"
   },
   {
    "duration": 15,
    "start_time": "2022-04-13T18:00:16.372Z"
   },
   {
    "duration": 11,
    "start_time": "2022-04-13T18:00:16.389Z"
   },
   {
    "duration": 27,
    "start_time": "2022-04-13T18:00:16.402Z"
   },
   {
    "duration": 22,
    "start_time": "2022-04-13T18:00:16.431Z"
   },
   {
    "duration": 23,
    "start_time": "2022-04-13T18:00:16.456Z"
   },
   {
    "duration": 20815,
    "start_time": "2022-04-13T18:00:16.482Z"
   },
   {
    "duration": 13,
    "start_time": "2022-04-13T18:00:37.299Z"
   },
   {
    "duration": 7,
    "start_time": "2022-04-13T18:00:37.325Z"
   },
   {
    "duration": 11,
    "start_time": "2022-04-13T18:00:37.334Z"
   },
   {
    "duration": 14,
    "start_time": "2022-04-13T18:00:37.347Z"
   },
   {
    "duration": 7,
    "start_time": "2022-04-13T18:01:49.303Z"
   },
   {
    "duration": 24,
    "start_time": "2022-04-13T18:03:10.919Z"
   },
   {
    "duration": 7,
    "start_time": "2022-04-13T18:03:36.760Z"
   },
   {
    "duration": 1682,
    "start_time": "2022-04-13T18:09:01.741Z"
   },
   {
    "duration": 557,
    "start_time": "2022-04-13T18:09:16.308Z"
   },
   {
    "duration": 50,
    "start_time": "2022-04-13T21:43:05.342Z"
   },
   {
    "duration": 382,
    "start_time": "2022-04-13T21:43:11.493Z"
   },
   {
    "duration": 96,
    "start_time": "2022-04-13T21:43:11.877Z"
   },
   {
    "duration": 11,
    "start_time": "2022-04-13T21:43:11.975Z"
   },
   {
    "duration": 21,
    "start_time": "2022-04-13T21:43:11.988Z"
   },
   {
    "duration": 29,
    "start_time": "2022-04-13T21:43:12.011Z"
   },
   {
    "duration": 15,
    "start_time": "2022-04-13T21:43:12.042Z"
   },
   {
    "duration": 6,
    "start_time": "2022-04-13T21:43:12.058Z"
   },
   {
    "duration": 7,
    "start_time": "2022-04-13T21:43:12.065Z"
   },
   {
    "duration": 7,
    "start_time": "2022-04-13T21:43:12.074Z"
   },
   {
    "duration": 166,
    "start_time": "2022-04-13T21:43:12.084Z"
   },
   {
    "duration": 7,
    "start_time": "2022-04-13T21:43:12.251Z"
   },
   {
    "duration": 25,
    "start_time": "2022-04-13T21:43:12.260Z"
   },
   {
    "duration": 9,
    "start_time": "2022-04-13T21:43:12.287Z"
   },
   {
    "duration": 8,
    "start_time": "2022-04-13T21:43:12.298Z"
   },
   {
    "duration": 6,
    "start_time": "2022-04-13T21:43:12.334Z"
   },
   {
    "duration": 6,
    "start_time": "2022-04-13T21:43:12.341Z"
   },
   {
    "duration": 14,
    "start_time": "2022-04-13T21:43:12.349Z"
   },
   {
    "duration": 17,
    "start_time": "2022-04-13T21:43:12.365Z"
   },
   {
    "duration": 11443,
    "start_time": "2022-04-13T21:43:12.384Z"
   },
   {
    "duration": 9,
    "start_time": "2022-04-13T21:43:23.829Z"
   },
   {
    "duration": 12,
    "start_time": "2022-04-13T21:43:23.839Z"
   },
   {
    "duration": 10,
    "start_time": "2022-04-13T21:43:23.853Z"
   },
   {
    "duration": 14,
    "start_time": "2022-04-13T21:43:23.865Z"
   },
   {
    "duration": 11,
    "start_time": "2022-04-13T21:43:23.881Z"
   },
   {
    "duration": 1457,
    "start_time": "2022-04-13T21:43:23.894Z"
   },
   {
    "duration": 561,
    "start_time": "2022-04-13T21:43:46.821Z"
   },
   {
    "duration": 679,
    "start_time": "2022-04-13T21:44:13.584Z"
   },
   {
    "duration": 655,
    "start_time": "2022-04-13T21:46:04.227Z"
   },
   {
    "duration": 111,
    "start_time": "2022-04-13T21:51:29.437Z"
   },
   {
    "duration": 47,
    "start_time": "2022-04-13T21:51:44.162Z"
   },
   {
    "duration": 43,
    "start_time": "2022-04-13T21:52:15.100Z"
   },
   {
    "duration": 44,
    "start_time": "2022-04-13T21:52:40.600Z"
   },
   {
    "duration": 7,
    "start_time": "2022-04-13T22:06:48.632Z"
   },
   {
    "duration": 99,
    "start_time": "2022-04-13T22:09:30.211Z"
   },
   {
    "duration": 26,
    "start_time": "2022-04-13T22:09:43.084Z"
   },
   {
    "duration": 1360,
    "start_time": "2022-04-13T22:09:51.189Z"
   },
   {
    "duration": 1306,
    "start_time": "2022-04-13T22:10:07.001Z"
   },
   {
    "duration": 3,
    "start_time": "2022-04-13T22:10:19.688Z"
   },
   {
    "duration": 4,
    "start_time": "2022-04-13T22:10:24.766Z"
   },
   {
    "duration": 171,
    "start_time": "2022-04-13T22:10:36.225Z"
   },
   {
    "duration": 3,
    "start_time": "2022-04-13T22:10:41.250Z"
   },
   {
    "duration": 4,
    "start_time": "2022-04-13T22:10:48.616Z"
   },
   {
    "duration": 30,
    "start_time": "2022-04-13T22:10:52.410Z"
   },
   {
    "duration": 24,
    "start_time": "2022-04-13T22:11:45.041Z"
   },
   {
    "duration": 1276,
    "start_time": "2022-04-13T22:11:47.905Z"
   },
   {
    "duration": 21,
    "start_time": "2022-04-13T22:11:54.148Z"
   },
   {
    "duration": 1314,
    "start_time": "2022-04-13T22:12:10.728Z"
   },
   {
    "duration": 12,
    "start_time": "2022-04-13T22:16:31.098Z"
   },
   {
    "duration": 10,
    "start_time": "2022-04-13T22:16:41.148Z"
   },
   {
    "duration": 183,
    "start_time": "2022-04-13T22:17:46.352Z"
   },
   {
    "duration": 16,
    "start_time": "2022-04-13T22:18:03.483Z"
   },
   {
    "duration": 160,
    "start_time": "2022-04-13T22:18:21.954Z"
   },
   {
    "duration": 7,
    "start_time": "2022-04-13T22:18:44.765Z"
   },
   {
    "duration": 154,
    "start_time": "2022-04-13T22:18:49.201Z"
   },
   {
    "duration": 9,
    "start_time": "2022-04-13T22:19:28.870Z"
   },
   {
    "duration": 13,
    "start_time": "2022-04-13T22:19:40.415Z"
   },
   {
    "duration": 15,
    "start_time": "2022-04-13T22:19:48.270Z"
   },
   {
    "duration": 10,
    "start_time": "2022-04-13T22:19:54.488Z"
   },
   {
    "duration": 13,
    "start_time": "2022-04-13T22:20:07.417Z"
   },
   {
    "duration": 11,
    "start_time": "2022-04-13T22:20:20.076Z"
   },
   {
    "duration": 14,
    "start_time": "2022-04-13T22:20:22.113Z"
   },
   {
    "duration": 2062,
    "start_time": "2022-04-13T22:20:38.284Z"
   },
   {
    "duration": 13,
    "start_time": "2022-04-13T22:20:48.374Z"
   },
   {
    "duration": 12,
    "start_time": "2022-04-13T22:21:29.881Z"
   },
   {
    "duration": 11,
    "start_time": "2022-04-13T22:21:41.173Z"
   },
   {
    "duration": 12,
    "start_time": "2022-04-13T22:21:45.164Z"
   },
   {
    "duration": 29,
    "start_time": "2022-04-13T22:23:28.898Z"
   },
   {
    "duration": 28,
    "start_time": "2022-04-13T22:23:40.381Z"
   },
   {
    "duration": 42,
    "start_time": "2022-04-13T22:23:51.855Z"
   },
   {
    "duration": 45,
    "start_time": "2022-04-13T22:23:59.646Z"
   },
   {
    "duration": 28,
    "start_time": "2022-04-13T22:24:09.178Z"
   },
   {
    "duration": 26,
    "start_time": "2022-04-13T22:24:11.318Z"
   },
   {
    "duration": 6,
    "start_time": "2022-04-13T22:24:31.171Z"
   },
   {
    "duration": 6,
    "start_time": "2022-04-13T22:24:37.859Z"
   },
   {
    "duration": 6,
    "start_time": "2022-04-13T22:24:43.215Z"
   },
   {
    "duration": 46,
    "start_time": "2022-04-13T22:25:02.282Z"
   },
   {
    "duration": 25,
    "start_time": "2022-04-13T22:25:18.820Z"
   },
   {
    "duration": 17,
    "start_time": "2022-04-13T22:26:29.510Z"
   },
   {
    "duration": 27,
    "start_time": "2022-04-13T22:26:34.657Z"
   },
   {
    "duration": 81,
    "start_time": "2022-04-13T22:30:45.253Z"
   },
   {
    "duration": 12,
    "start_time": "2022-04-13T22:31:05.255Z"
   },
   {
    "duration": 3,
    "start_time": "2022-04-13T22:31:09.779Z"
   },
   {
    "duration": 15,
    "start_time": "2022-04-13T22:31:12.529Z"
   },
   {
    "duration": 11,
    "start_time": "2022-04-13T22:31:14.807Z"
   },
   {
    "duration": 14,
    "start_time": "2022-04-13T22:31:21.781Z"
   },
   {
    "duration": 15,
    "start_time": "2022-04-13T22:31:33.820Z"
   },
   {
    "duration": 15,
    "start_time": "2022-04-13T22:31:50.411Z"
   },
   {
    "duration": 177,
    "start_time": "2022-04-13T22:32:03.087Z"
   },
   {
    "duration": 14,
    "start_time": "2022-04-13T22:32:51.118Z"
   },
   {
    "duration": 13,
    "start_time": "2022-04-13T22:32:58.760Z"
   },
   {
    "duration": 30,
    "start_time": "2022-04-13T22:33:22.847Z"
   },
   {
    "duration": 15,
    "start_time": "2022-04-13T22:33:28.069Z"
   },
   {
    "duration": 184,
    "start_time": "2022-04-13T22:33:47.917Z"
   },
   {
    "duration": 14,
    "start_time": "2022-04-13T22:35:03.247Z"
   },
   {
    "duration": 170,
    "start_time": "2022-04-13T22:35:12.407Z"
   },
   {
    "duration": 15,
    "start_time": "2022-04-13T22:35:33.965Z"
   },
   {
    "duration": 164,
    "start_time": "2022-04-13T22:35:36.812Z"
   },
   {
    "duration": 28,
    "start_time": "2022-04-13T22:35:50.936Z"
   },
   {
    "duration": 16,
    "start_time": "2022-04-13T22:35:57.736Z"
   },
   {
    "duration": 34,
    "start_time": "2022-04-13T22:36:07.964Z"
   },
   {
    "duration": 28,
    "start_time": "2022-04-13T22:36:14.578Z"
   },
   {
    "duration": 15,
    "start_time": "2022-04-13T22:36:17.417Z"
   },
   {
    "duration": 13,
    "start_time": "2022-04-13T22:36:56.441Z"
   },
   {
    "duration": 24,
    "start_time": "2022-04-13T22:37:13.460Z"
   },
   {
    "duration": 17,
    "start_time": "2022-04-13T22:37:38.609Z"
   },
   {
    "duration": 158,
    "start_time": "2022-04-13T22:37:43.957Z"
   },
   {
    "duration": 18,
    "start_time": "2022-04-13T22:38:04.204Z"
   },
   {
    "duration": 18,
    "start_time": "2022-04-13T22:38:17.196Z"
   },
   {
    "duration": 92,
    "start_time": "2022-04-13T22:38:31.394Z"
   },
   {
    "duration": 17,
    "start_time": "2022-04-13T22:38:34.128Z"
   },
   {
    "duration": 177,
    "start_time": "2022-04-13T22:39:06.261Z"
   },
   {
    "duration": 16,
    "start_time": "2022-04-13T22:39:22.587Z"
   },
   {
    "duration": 16,
    "start_time": "2022-04-13T22:40:03.530Z"
   },
   {
    "duration": 18,
    "start_time": "2022-04-13T22:40:20.954Z"
   },
   {
    "duration": 18,
    "start_time": "2022-04-13T22:40:36.703Z"
   },
   {
    "duration": 22,
    "start_time": "2022-04-13T22:40:41.677Z"
   },
   {
    "duration": 23,
    "start_time": "2022-04-13T22:41:27.877Z"
   },
   {
    "duration": 178,
    "start_time": "2022-04-13T22:41:35.223Z"
   },
   {
    "duration": 139,
    "start_time": "2022-04-13T22:41:42.490Z"
   },
   {
    "duration": 232,
    "start_time": "2022-04-13T22:41:46.883Z"
   },
   {
    "duration": 7,
    "start_time": "2022-04-13T22:42:16.284Z"
   },
   {
    "duration": 23,
    "start_time": "2022-04-13T22:42:26.656Z"
   },
   {
    "duration": 9,
    "start_time": "2022-04-13T22:42:44.665Z"
   },
   {
    "duration": 26,
    "start_time": "2022-04-13T22:43:51.399Z"
   },
   {
    "duration": 143,
    "start_time": "2022-04-13T22:44:12.156Z"
   },
   {
    "duration": 682,
    "start_time": "2022-04-13T22:44:37.619Z"
   },
   {
    "duration": 23,
    "start_time": "2022-04-13T22:44:53.738Z"
   },
   {
    "duration": 14,
    "start_time": "2022-04-13T22:45:26.820Z"
   },
   {
    "duration": 13,
    "start_time": "2022-04-13T22:47:12.742Z"
   },
   {
    "duration": 145,
    "start_time": "2022-04-13T22:47:22.645Z"
   },
   {
    "duration": 10,
    "start_time": "2022-04-13T22:47:44.318Z"
   },
   {
    "duration": 165,
    "start_time": "2022-04-13T22:47:46.531Z"
   },
   {
    "duration": 14,
    "start_time": "2022-04-13T22:48:17.148Z"
   },
   {
    "duration": 147,
    "start_time": "2022-04-13T22:48:21.154Z"
   },
   {
    "duration": 16,
    "start_time": "2022-04-13T22:48:48.172Z"
   },
   {
    "duration": 12,
    "start_time": "2022-04-13T22:49:09.517Z"
   },
   {
    "duration": 13,
    "start_time": "2022-04-13T22:49:18.725Z"
   },
   {
    "duration": 2085,
    "start_time": "2022-04-13T22:49:26.703Z"
   },
   {
    "duration": 1954,
    "start_time": "2022-04-13T22:49:34.536Z"
   },
   {
    "duration": 16,
    "start_time": "2022-04-13T22:49:42.697Z"
   },
   {
    "duration": 18,
    "start_time": "2022-04-13T22:51:36.371Z"
   },
   {
    "duration": 1337,
    "start_time": "2022-04-13T22:52:02.545Z"
   },
   {
    "duration": 1342,
    "start_time": "2022-04-13T22:52:09.530Z"
   },
   {
    "duration": 169,
    "start_time": "2022-04-13T22:53:40.245Z"
   },
   {
    "duration": 201,
    "start_time": "2022-04-13T22:53:43.927Z"
   },
   {
    "duration": 149,
    "start_time": "2022-04-13T22:53:45.788Z"
   },
   {
    "duration": 2686,
    "start_time": "2022-04-13T22:54:08.847Z"
   },
   {
    "duration": 144,
    "start_time": "2022-04-13T22:54:12.107Z"
   },
   {
    "duration": 3145,
    "start_time": "2022-04-13T22:54:43.546Z"
   },
   {
    "duration": 0,
    "start_time": "2022-04-13T22:54:46.693Z"
   },
   {
    "duration": 2911,
    "start_time": "2022-04-13T22:54:50.260Z"
   },
   {
    "duration": 2820,
    "start_time": "2022-04-13T22:55:01.752Z"
   },
   {
    "duration": 2672,
    "start_time": "2022-04-13T22:55:48.679Z"
   },
   {
    "duration": 2612,
    "start_time": "2022-04-13T22:56:01.951Z"
   },
   {
    "duration": 12,
    "start_time": "2022-04-13T22:56:58.910Z"
   },
   {
    "duration": 151,
    "start_time": "2022-04-13T22:57:01.259Z"
   },
   {
    "duration": 47,
    "start_time": "2022-04-14T03:21:07.257Z"
   },
   {
    "duration": 395,
    "start_time": "2022-04-14T03:21:14.999Z"
   },
   {
    "duration": 70,
    "start_time": "2022-04-14T03:21:15.396Z"
   },
   {
    "duration": 9,
    "start_time": "2022-04-14T03:21:15.468Z"
   },
   {
    "duration": 15,
    "start_time": "2022-04-14T03:21:15.478Z"
   },
   {
    "duration": 12,
    "start_time": "2022-04-14T03:21:15.495Z"
   },
   {
    "duration": 26,
    "start_time": "2022-04-14T03:21:15.508Z"
   },
   {
    "duration": 4,
    "start_time": "2022-04-14T03:21:15.536Z"
   },
   {
    "duration": 7,
    "start_time": "2022-04-14T03:21:15.541Z"
   },
   {
    "duration": 6,
    "start_time": "2022-04-14T03:21:15.549Z"
   },
   {
    "duration": 119,
    "start_time": "2022-04-14T03:21:15.557Z"
   },
   {
    "duration": 5,
    "start_time": "2022-04-14T03:21:15.678Z"
   },
   {
    "duration": 20,
    "start_time": "2022-04-14T03:21:15.685Z"
   },
   {
    "duration": 23,
    "start_time": "2022-04-14T03:21:15.706Z"
   },
   {
    "duration": 6,
    "start_time": "2022-04-14T03:21:15.732Z"
   },
   {
    "duration": 5,
    "start_time": "2022-04-14T03:21:15.739Z"
   },
   {
    "duration": 3,
    "start_time": "2022-04-14T03:21:15.745Z"
   },
   {
    "duration": 11,
    "start_time": "2022-04-14T03:21:15.750Z"
   },
   {
    "duration": 13,
    "start_time": "2022-04-14T03:21:15.762Z"
   },
   {
    "duration": 10592,
    "start_time": "2022-04-14T03:21:15.777Z"
   },
   {
    "duration": 7,
    "start_time": "2022-04-14T03:21:26.370Z"
   },
   {
    "duration": 5,
    "start_time": "2022-04-14T03:21:26.378Z"
   },
   {
    "duration": 8,
    "start_time": "2022-04-14T03:21:26.384Z"
   },
   {
    "duration": 8,
    "start_time": "2022-04-14T03:21:26.393Z"
   },
   {
    "duration": 22,
    "start_time": "2022-04-14T03:21:26.402Z"
   },
   {
    "duration": 877,
    "start_time": "2022-04-14T03:21:26.426Z"
   },
   {
    "duration": 96,
    "start_time": "2022-04-14T03:21:27.305Z"
   },
   {
    "duration": 30,
    "start_time": "2022-04-14T03:21:27.402Z"
   },
   {
    "duration": 73,
    "start_time": "2022-04-14T03:21:27.434Z"
   },
   {
    "duration": 0,
    "start_time": "2022-04-14T03:21:27.509Z"
   },
   {
    "duration": 20,
    "start_time": "2022-04-14T03:21:55.778Z"
   },
   {
    "duration": 20,
    "start_time": "2022-04-14T03:21:59.707Z"
   },
   {
    "duration": 14,
    "start_time": "2022-04-14T03:22:12.473Z"
   },
   {
    "duration": 53,
    "start_time": "2022-04-14T03:22:31.028Z"
   },
   {
    "duration": 112,
    "start_time": "2022-04-14T03:22:35.822Z"
   },
   {
    "duration": 20,
    "start_time": "2022-04-14T03:22:56.300Z"
   },
   {
    "duration": 106,
    "start_time": "2022-04-14T03:23:00.010Z"
   },
   {
    "duration": 14,
    "start_time": "2022-04-14T03:23:13.994Z"
   },
   {
    "duration": 116,
    "start_time": "2022-04-14T03:23:26.525Z"
   },
   {
    "duration": 104,
    "start_time": "2022-04-14T03:23:29.878Z"
   },
   {
    "duration": 13,
    "start_time": "2022-04-14T03:24:03.415Z"
   },
   {
    "duration": 15,
    "start_time": "2022-04-14T03:24:23.868Z"
   },
   {
    "duration": 127,
    "start_time": "2022-04-14T03:24:45.346Z"
   },
   {
    "duration": 16,
    "start_time": "2022-04-14T03:24:59.304Z"
   },
   {
    "duration": 15,
    "start_time": "2022-04-14T03:25:13.805Z"
   },
   {
    "duration": 122,
    "start_time": "2022-04-14T03:27:02.433Z"
   },
   {
    "duration": 150,
    "start_time": "2022-04-14T03:27:06.326Z"
   },
   {
    "duration": 131,
    "start_time": "2022-04-14T03:27:29.437Z"
   },
   {
    "duration": 2029,
    "start_time": "2022-04-14T03:27:37.980Z"
   },
   {
    "duration": 2340,
    "start_time": "2022-04-14T03:27:57.534Z"
   },
   {
    "duration": 13,
    "start_time": "2022-04-14T03:28:11.794Z"
   },
   {
    "duration": 12,
    "start_time": "2022-04-14T03:28:27.262Z"
   },
   {
    "duration": 12,
    "start_time": "2022-04-14T03:28:37.363Z"
   },
   {
    "duration": 104,
    "start_time": "2022-04-14T03:28:48.688Z"
   },
   {
    "duration": 12,
    "start_time": "2022-04-14T03:29:13.067Z"
   },
   {
    "duration": 13,
    "start_time": "2022-04-14T03:29:18.575Z"
   },
   {
    "duration": 13,
    "start_time": "2022-04-14T03:29:21.416Z"
   },
   {
    "duration": 104,
    "start_time": "2022-04-14T03:29:24.409Z"
   },
   {
    "duration": 13,
    "start_time": "2022-04-14T03:29:36.096Z"
   },
   {
    "duration": 104,
    "start_time": "2022-04-14T03:29:38.896Z"
   },
   {
    "duration": 54,
    "start_time": "2022-04-14T03:30:01.819Z"
   },
   {
    "duration": 103,
    "start_time": "2022-04-14T03:30:09.914Z"
   },
   {
    "duration": 105,
    "start_time": "2022-04-14T03:30:19.658Z"
   },
   {
    "duration": 20,
    "start_time": "2022-04-14T03:30:59.423Z"
   },
   {
    "duration": 17,
    "start_time": "2022-04-14T03:31:07.150Z"
   },
   {
    "duration": 17,
    "start_time": "2022-04-14T03:31:12.849Z"
   },
   {
    "duration": 51,
    "start_time": "2022-04-14T03:31:43.948Z"
   },
   {
    "duration": 19,
    "start_time": "2022-04-14T03:32:50.793Z"
   },
   {
    "duration": 17,
    "start_time": "2022-04-14T03:32:56.140Z"
   },
   {
    "duration": 16,
    "start_time": "2022-04-14T03:33:08.897Z"
   },
   {
    "duration": 104,
    "start_time": "2022-04-14T03:33:17.603Z"
   },
   {
    "duration": 104,
    "start_time": "2022-04-14T03:33:21.893Z"
   },
   {
    "duration": 169,
    "start_time": "2022-04-14T03:33:27.654Z"
   },
   {
    "duration": 13,
    "start_time": "2022-04-14T03:33:52.434Z"
   },
   {
    "duration": 12,
    "start_time": "2022-04-14T03:35:22.185Z"
   },
   {
    "duration": 127,
    "start_time": "2022-04-14T03:35:30.621Z"
   },
   {
    "duration": 106,
    "start_time": "2022-04-14T03:35:34.172Z"
   },
   {
    "duration": 17,
    "start_time": "2022-04-14T03:35:43.797Z"
   },
   {
    "duration": 48,
    "start_time": "2022-04-14T03:36:20.162Z"
   },
   {
    "duration": 102,
    "start_time": "2022-04-14T03:36:25.271Z"
   },
   {
    "duration": 101,
    "start_time": "2022-04-14T03:36:27.589Z"
   },
   {
    "duration": 18,
    "start_time": "2022-04-14T03:36:38.326Z"
   },
   {
    "duration": 115,
    "start_time": "2022-04-14T03:36:41.770Z"
   },
   {
    "duration": 19,
    "start_time": "2022-04-14T03:36:47.072Z"
   },
   {
    "duration": 130,
    "start_time": "2022-04-14T03:36:49.124Z"
   },
   {
    "duration": 18,
    "start_time": "2022-04-14T03:36:58.575Z"
   },
   {
    "duration": 116,
    "start_time": "2022-04-14T03:37:03.173Z"
   },
   {
    "duration": 104,
    "start_time": "2022-04-14T03:37:24.287Z"
   },
   {
    "duration": 114,
    "start_time": "2022-04-14T03:37:33.296Z"
   },
   {
    "duration": 15,
    "start_time": "2022-04-14T03:44:21.562Z"
   },
   {
    "duration": 17,
    "start_time": "2022-04-14T03:44:45.433Z"
   },
   {
    "duration": 339,
    "start_time": "2022-04-14T03:44:54.777Z"
   },
   {
    "duration": 68,
    "start_time": "2022-04-14T03:44:55.118Z"
   },
   {
    "duration": 9,
    "start_time": "2022-04-14T03:44:55.187Z"
   },
   {
    "duration": 26,
    "start_time": "2022-04-14T03:44:55.198Z"
   },
   {
    "duration": 13,
    "start_time": "2022-04-14T03:44:55.225Z"
   },
   {
    "duration": 13,
    "start_time": "2022-04-14T03:44:55.240Z"
   },
   {
    "duration": 5,
    "start_time": "2022-04-14T03:44:55.254Z"
   },
   {
    "duration": 12,
    "start_time": "2022-04-14T03:44:55.260Z"
   },
   {
    "duration": 9,
    "start_time": "2022-04-14T03:44:55.273Z"
   },
   {
    "duration": 127,
    "start_time": "2022-04-14T03:44:55.284Z"
   },
   {
    "duration": 5,
    "start_time": "2022-04-14T03:44:55.413Z"
   },
   {
    "duration": 19,
    "start_time": "2022-04-14T03:44:55.423Z"
   },
   {
    "duration": 7,
    "start_time": "2022-04-14T03:44:55.443Z"
   },
   {
    "duration": 10,
    "start_time": "2022-04-14T03:44:55.451Z"
   },
   {
    "duration": 5,
    "start_time": "2022-04-14T03:44:55.463Z"
   },
   {
    "duration": 6,
    "start_time": "2022-04-14T03:44:55.469Z"
   },
   {
    "duration": 13,
    "start_time": "2022-04-14T03:44:55.476Z"
   },
   {
    "duration": 35,
    "start_time": "2022-04-14T03:44:55.490Z"
   },
   {
    "duration": 10483,
    "start_time": "2022-04-14T03:44:55.527Z"
   },
   {
    "duration": 12,
    "start_time": "2022-04-14T03:45:06.011Z"
   },
   {
    "duration": 3,
    "start_time": "2022-04-14T03:45:06.025Z"
   },
   {
    "duration": 8,
    "start_time": "2022-04-14T03:45:06.030Z"
   },
   {
    "duration": 10,
    "start_time": "2022-04-14T03:45:06.040Z"
   },
   {
    "duration": 6,
    "start_time": "2022-04-14T03:45:06.051Z"
   },
   {
    "duration": 787,
    "start_time": "2022-04-14T03:45:06.058Z"
   },
   {
    "duration": 96,
    "start_time": "2022-04-14T03:45:06.847Z"
   },
   {
    "duration": 23,
    "start_time": "2022-04-14T03:45:06.944Z"
   },
   {
    "duration": 19,
    "start_time": "2022-04-14T03:45:06.970Z"
   },
   {
    "duration": 138,
    "start_time": "2022-04-14T03:45:06.990Z"
   },
   {
    "duration": 15,
    "start_time": "2022-04-14T03:45:07.130Z"
   },
   {
    "duration": 14,
    "start_time": "2022-04-14T03:45:11.471Z"
   },
   {
    "duration": 31,
    "start_time": "2022-04-14T03:45:15.960Z"
   },
   {
    "duration": 35,
    "start_time": "2022-04-14T03:45:32.258Z"
   },
   {
    "duration": 15,
    "start_time": "2022-04-14T03:45:42.442Z"
   },
   {
    "duration": 16,
    "start_time": "2022-04-14T03:45:45.270Z"
   },
   {
    "duration": 16,
    "start_time": "2022-04-14T03:46:48.048Z"
   },
   {
    "duration": 32,
    "start_time": "2022-04-14T03:46:53.521Z"
   },
   {
    "duration": 32,
    "start_time": "2022-04-14T03:49:40.703Z"
   },
   {
    "duration": 7,
    "start_time": "2022-04-14T03:50:04.586Z"
   },
   {
    "duration": 7,
    "start_time": "2022-04-14T03:50:54.947Z"
   },
   {
    "duration": 32,
    "start_time": "2022-04-14T03:55:51.669Z"
   },
   {
    "duration": 33,
    "start_time": "2022-04-14T03:55:58.514Z"
   },
   {
    "duration": 123,
    "start_time": "2022-04-14T03:58:50.915Z"
   },
   {
    "duration": 108,
    "start_time": "2022-04-14T03:59:07.965Z"
   },
   {
    "duration": 116,
    "start_time": "2022-04-14T03:59:12.599Z"
   },
   {
    "duration": 132,
    "start_time": "2022-04-14T03:59:15.598Z"
   },
   {
    "duration": 139,
    "start_time": "2022-04-14T03:59:35.328Z"
   },
   {
    "duration": 150,
    "start_time": "2022-04-14T03:59:50.895Z"
   },
   {
    "duration": 130,
    "start_time": "2022-04-14T03:59:56.057Z"
   },
   {
    "duration": 138,
    "start_time": "2022-04-14T04:00:09.599Z"
   },
   {
    "duration": 128,
    "start_time": "2022-04-14T04:00:16.667Z"
   },
   {
    "duration": 145,
    "start_time": "2022-04-14T04:00:21.779Z"
   },
   {
    "duration": 31,
    "start_time": "2022-04-14T04:04:36.082Z"
   },
   {
    "duration": 33,
    "start_time": "2022-04-14T04:10:31.393Z"
   },
   {
    "duration": 35,
    "start_time": "2022-04-14T04:12:12.679Z"
   },
   {
    "duration": 98,
    "start_time": "2022-04-14T04:19:12.941Z"
   },
   {
    "duration": 38,
    "start_time": "2022-04-14T04:19:19.953Z"
   },
   {
    "duration": 23,
    "start_time": "2022-04-14T04:19:26.957Z"
   },
   {
    "duration": 27,
    "start_time": "2022-04-14T04:19:34.756Z"
   },
   {
    "duration": 32,
    "start_time": "2022-04-14T04:22:02.174Z"
   },
   {
    "duration": 32,
    "start_time": "2022-04-14T04:22:07.191Z"
   },
   {
    "duration": 33,
    "start_time": "2022-04-14T04:22:09.767Z"
   },
   {
    "duration": 31,
    "start_time": "2022-04-14T04:22:18.455Z"
   },
   {
    "duration": 26,
    "start_time": "2022-04-14T04:22:21.703Z"
   },
   {
    "duration": 573,
    "start_time": "2022-04-14T04:25:23.642Z"
   },
   {
    "duration": 198,
    "start_time": "2022-04-14T04:27:32.377Z"
   },
   {
    "duration": 248,
    "start_time": "2022-04-14T04:27:49.910Z"
   },
   {
    "duration": 175,
    "start_time": "2022-04-14T04:27:53.627Z"
   },
   {
    "duration": 149,
    "start_time": "2022-04-14T04:27:55.399Z"
   },
   {
    "duration": 380,
    "start_time": "2022-04-14T04:29:40.389Z"
   },
   {
    "duration": 148,
    "start_time": "2022-04-14T04:29:43.529Z"
   },
   {
    "duration": 150,
    "start_time": "2022-04-14T04:34:08.159Z"
   },
   {
    "duration": 5,
    "start_time": "2022-04-14T04:36:29.298Z"
   },
   {
    "duration": 5,
    "start_time": "2022-04-14T04:36:36.475Z"
   },
   {
    "duration": 4,
    "start_time": "2022-04-14T04:36:39.908Z"
   },
   {
    "duration": 5,
    "start_time": "2022-04-14T04:36:41.650Z"
   },
   {
    "duration": 5,
    "start_time": "2022-04-14T04:37:05.259Z"
   },
   {
    "duration": 4,
    "start_time": "2022-04-14T04:37:07.583Z"
   },
   {
    "duration": 3,
    "start_time": "2022-04-14T04:45:38.840Z"
   },
   {
    "duration": 143,
    "start_time": "2022-04-14T04:46:54.631Z"
   },
   {
    "duration": 453,
    "start_time": "2022-04-14T04:47:02.095Z"
   },
   {
    "duration": 87,
    "start_time": "2022-04-14T04:47:16.215Z"
   },
   {
    "duration": 88,
    "start_time": "2022-04-14T04:48:01.474Z"
   },
   {
    "duration": 86,
    "start_time": "2022-04-14T04:48:17.385Z"
   },
   {
    "duration": 200,
    "start_time": "2022-04-14T04:50:06.207Z"
   },
   {
    "duration": 103,
    "start_time": "2022-04-14T04:50:37.803Z"
   },
   {
    "duration": 98,
    "start_time": "2022-04-14T04:57:11.915Z"
   },
   {
    "duration": 7,
    "start_time": "2022-04-14T04:57:16.371Z"
   },
   {
    "duration": 7,
    "start_time": "2022-04-14T04:57:30.994Z"
   },
   {
    "duration": 8,
    "start_time": "2022-04-14T04:57:37.790Z"
   },
   {
    "duration": 82,
    "start_time": "2022-04-14T04:58:06.109Z"
   },
   {
    "duration": 85,
    "start_time": "2022-04-14T04:58:30.351Z"
   },
   {
    "duration": 82,
    "start_time": "2022-04-14T04:58:50.020Z"
   },
   {
    "duration": 81,
    "start_time": "2022-04-14T04:58:55.213Z"
   },
   {
    "duration": 80,
    "start_time": "2022-04-14T04:59:43.115Z"
   },
   {
    "duration": 81,
    "start_time": "2022-04-14T04:59:55.335Z"
   },
   {
    "duration": 43,
    "start_time": "2022-04-14T07:14:08.729Z"
   },
   {
    "duration": 784,
    "start_time": "2022-04-14T07:14:19.446Z"
   },
   {
    "duration": 90,
    "start_time": "2022-04-14T07:14:20.232Z"
   },
   {
    "duration": 8,
    "start_time": "2022-04-14T07:14:20.323Z"
   },
   {
    "duration": 17,
    "start_time": "2022-04-14T07:14:20.333Z"
   },
   {
    "duration": 16,
    "start_time": "2022-04-14T07:14:20.351Z"
   },
   {
    "duration": 38,
    "start_time": "2022-04-14T07:14:20.369Z"
   },
   {
    "duration": 6,
    "start_time": "2022-04-14T07:14:20.409Z"
   },
   {
    "duration": 8,
    "start_time": "2022-04-14T07:14:20.416Z"
   },
   {
    "duration": 6,
    "start_time": "2022-04-14T07:14:20.426Z"
   },
   {
    "duration": 139,
    "start_time": "2022-04-14T07:14:20.435Z"
   },
   {
    "duration": 7,
    "start_time": "2022-04-14T07:14:20.576Z"
   },
   {
    "duration": 23,
    "start_time": "2022-04-14T07:14:20.600Z"
   },
   {
    "duration": 8,
    "start_time": "2022-04-14T07:14:20.625Z"
   },
   {
    "duration": 7,
    "start_time": "2022-04-14T07:14:20.635Z"
   },
   {
    "duration": 7,
    "start_time": "2022-04-14T07:14:20.643Z"
   },
   {
    "duration": 5,
    "start_time": "2022-04-14T07:14:20.651Z"
   },
   {
    "duration": 12,
    "start_time": "2022-04-14T07:14:20.658Z"
   },
   {
    "duration": 51,
    "start_time": "2022-04-14T07:14:20.672Z"
   },
   {
    "duration": 21694,
    "start_time": "2022-04-14T07:14:20.725Z"
   },
   {
    "duration": 11,
    "start_time": "2022-04-14T07:14:42.421Z"
   },
   {
    "duration": 4,
    "start_time": "2022-04-14T07:14:42.434Z"
   },
   {
    "duration": 7,
    "start_time": "2022-04-14T07:14:42.440Z"
   },
   {
    "duration": 9,
    "start_time": "2022-04-14T07:14:42.449Z"
   },
   {
    "duration": 7,
    "start_time": "2022-04-14T07:14:42.459Z"
   },
   {
    "duration": 1092,
    "start_time": "2022-04-14T07:14:42.468Z"
   },
   {
    "duration": 172,
    "start_time": "2022-04-14T07:14:43.562Z"
   },
   {
    "duration": 37,
    "start_time": "2022-04-14T07:14:43.736Z"
   },
   {
    "duration": 46,
    "start_time": "2022-04-14T07:14:43.778Z"
   },
   {
    "duration": 230,
    "start_time": "2022-04-14T07:14:43.826Z"
   },
   {
    "duration": 9,
    "start_time": "2022-04-14T07:14:44.058Z"
   },
   {
    "duration": 187,
    "start_time": "2022-04-14T07:14:44.070Z"
   },
   {
    "duration": 0,
    "start_time": "2022-04-14T07:14:44.259Z"
   },
   {
    "duration": 0,
    "start_time": "2022-04-14T07:14:44.261Z"
   },
   {
    "duration": 0,
    "start_time": "2022-04-14T07:14:44.262Z"
   },
   {
    "duration": 0,
    "start_time": "2022-04-14T07:14:44.264Z"
   },
   {
    "duration": 0,
    "start_time": "2022-04-14T07:14:44.265Z"
   },
   {
    "duration": 0,
    "start_time": "2022-04-14T07:14:44.267Z"
   },
   {
    "duration": 0,
    "start_time": "2022-04-14T07:14:44.268Z"
   },
   {
    "duration": 0,
    "start_time": "2022-04-14T07:14:44.270Z"
   },
   {
    "duration": 0,
    "start_time": "2022-04-14T07:14:44.271Z"
   },
   {
    "duration": 0,
    "start_time": "2022-04-14T07:14:44.272Z"
   },
   {
    "duration": 0,
    "start_time": "2022-04-14T07:14:44.274Z"
   },
   {
    "duration": 0,
    "start_time": "2022-04-14T07:14:44.276Z"
   },
   {
    "duration": 0,
    "start_time": "2022-04-14T07:14:44.277Z"
   },
   {
    "duration": 168,
    "start_time": "2022-04-14T07:15:04.938Z"
   },
   {
    "duration": 3185,
    "start_time": "2022-04-14T07:15:11.452Z"
   },
   {
    "duration": 8,
    "start_time": "2022-04-14T07:15:24.192Z"
   },
   {
    "duration": 93,
    "start_time": "2022-04-14T07:15:31.252Z"
   },
   {
    "duration": 3204,
    "start_time": "2022-04-14T07:15:55.385Z"
   },
   {
    "duration": 136,
    "start_time": "2022-04-14T07:16:33.984Z"
   },
   {
    "duration": 150,
    "start_time": "2022-04-14T07:21:18.380Z"
   },
   {
    "duration": 223,
    "start_time": "2022-04-14T07:26:35.728Z"
   },
   {
    "duration": 15,
    "start_time": "2022-04-14T07:26:46.121Z"
   },
   {
    "duration": 12,
    "start_time": "2022-04-14T07:27:08.016Z"
   },
   {
    "duration": 13,
    "start_time": "2022-04-14T07:29:31.352Z"
   },
   {
    "duration": 142,
    "start_time": "2022-04-14T07:36:35.276Z"
   },
   {
    "duration": 139,
    "start_time": "2022-04-14T07:36:55.352Z"
   },
   {
    "duration": 17,
    "start_time": "2022-04-14T07:39:26.313Z"
   },
   {
    "duration": 16,
    "start_time": "2022-04-14T07:39:31.007Z"
   },
   {
    "duration": 15,
    "start_time": "2022-04-14T07:39:41.674Z"
   },
   {
    "duration": 15,
    "start_time": "2022-04-14T07:40:05.858Z"
   },
   {
    "duration": 37,
    "start_time": "2022-04-14T07:40:35.909Z"
   },
   {
    "duration": 232,
    "start_time": "2022-04-14T07:40:54.809Z"
   },
   {
    "duration": 15,
    "start_time": "2022-04-14T07:40:58.430Z"
   },
   {
    "duration": 205,
    "start_time": "2022-04-14T07:42:00.678Z"
   },
   {
    "duration": 152,
    "start_time": "2022-04-14T07:42:16.795Z"
   },
   {
    "duration": 144,
    "start_time": "2022-04-14T07:42:43.038Z"
   },
   {
    "duration": 39,
    "start_time": "2022-04-14T07:43:11.770Z"
   },
   {
    "duration": 22,
    "start_time": "2022-04-14T07:43:16.883Z"
   },
   {
    "duration": 22,
    "start_time": "2022-04-14T07:43:21.991Z"
   },
   {
    "duration": 16,
    "start_time": "2022-04-14T07:43:28.979Z"
   },
   {
    "duration": 71,
    "start_time": "2022-04-14T07:43:33.212Z"
   },
   {
    "duration": 21,
    "start_time": "2022-04-14T07:43:59.020Z"
   },
   {
    "duration": 23,
    "start_time": "2022-04-14T07:44:06.598Z"
   },
   {
    "duration": 129,
    "start_time": "2022-04-14T07:46:54.250Z"
   },
   {
    "duration": 234,
    "start_time": "2022-04-14T09:42:09.608Z"
   },
   {
    "duration": 131,
    "start_time": "2022-04-14T09:44:15.298Z"
   },
   {
    "duration": 11,
    "start_time": "2022-04-14T09:44:32.052Z"
   },
   {
    "duration": 8,
    "start_time": "2022-04-14T09:44:37.584Z"
   },
   {
    "duration": 13,
    "start_time": "2022-04-14T09:45:52.248Z"
   },
   {
    "duration": 128,
    "start_time": "2022-04-14T09:46:03.069Z"
   },
   {
    "duration": 131,
    "start_time": "2022-04-14T09:46:23.960Z"
   },
   {
    "duration": 13,
    "start_time": "2022-04-14T09:46:31.268Z"
   },
   {
    "duration": 125,
    "start_time": "2022-04-14T09:46:35.039Z"
   },
   {
    "duration": 107,
    "start_time": "2022-04-14T09:46:45.430Z"
   },
   {
    "duration": 110,
    "start_time": "2022-04-14T09:47:45.687Z"
   },
   {
    "duration": 117,
    "start_time": "2022-04-14T09:48:24.798Z"
   },
   {
    "duration": 113,
    "start_time": "2022-04-14T09:48:29.640Z"
   },
   {
    "duration": 111,
    "start_time": "2022-04-14T09:48:33.469Z"
   },
   {
    "duration": 108,
    "start_time": "2022-04-14T09:48:38.461Z"
   },
   {
    "duration": 187,
    "start_time": "2022-04-14T09:54:02.162Z"
   },
   {
    "duration": 120,
    "start_time": "2022-04-14T09:54:48.842Z"
   },
   {
    "duration": 121,
    "start_time": "2022-04-14T09:54:54.884Z"
   },
   {
    "duration": 241,
    "start_time": "2022-04-14T09:55:18.415Z"
   },
   {
    "duration": 394,
    "start_time": "2022-04-14T09:55:42.101Z"
   },
   {
    "duration": 7,
    "start_time": "2022-04-14T10:02:00.106Z"
   },
   {
    "duration": 34,
    "start_time": "2022-04-14T10:02:12.707Z"
   },
   {
    "duration": 41,
    "start_time": "2022-04-14T10:02:56.148Z"
   },
   {
    "duration": 41,
    "start_time": "2022-04-14T10:03:20.410Z"
   },
   {
    "duration": 6,
    "start_time": "2022-04-14T10:14:29.762Z"
   },
   {
    "duration": 7,
    "start_time": "2022-04-14T10:14:47.257Z"
   },
   {
    "duration": 36,
    "start_time": "2022-04-14T10:14:59.432Z"
   },
   {
    "duration": 37,
    "start_time": "2022-04-14T10:15:09.567Z"
   },
   {
    "duration": 648,
    "start_time": "2022-04-14T10:16:26.144Z"
   },
   {
    "duration": 88,
    "start_time": "2022-04-14T10:16:26.794Z"
   },
   {
    "duration": 8,
    "start_time": "2022-04-14T10:16:26.883Z"
   },
   {
    "duration": 26,
    "start_time": "2022-04-14T10:16:26.893Z"
   },
   {
    "duration": 30,
    "start_time": "2022-04-14T10:16:26.921Z"
   },
   {
    "duration": 17,
    "start_time": "2022-04-14T10:16:26.953Z"
   },
   {
    "duration": 6,
    "start_time": "2022-04-14T10:16:26.972Z"
   },
   {
    "duration": 13,
    "start_time": "2022-04-14T10:16:26.979Z"
   },
   {
    "duration": 22,
    "start_time": "2022-04-14T10:16:26.994Z"
   },
   {
    "duration": 127,
    "start_time": "2022-04-14T10:16:27.019Z"
   },
   {
    "duration": 7,
    "start_time": "2022-04-14T10:16:27.148Z"
   },
   {
    "duration": 37,
    "start_time": "2022-04-14T10:16:27.157Z"
   },
   {
    "duration": 8,
    "start_time": "2022-04-14T10:16:27.196Z"
   },
   {
    "duration": 23,
    "start_time": "2022-04-14T10:16:27.206Z"
   },
   {
    "duration": 8,
    "start_time": "2022-04-14T10:16:27.230Z"
   },
   {
    "duration": 6,
    "start_time": "2022-04-14T10:16:27.239Z"
   },
   {
    "duration": 13,
    "start_time": "2022-04-14T10:16:27.246Z"
   },
   {
    "duration": 13,
    "start_time": "2022-04-14T10:16:27.260Z"
   },
   {
    "duration": 10927,
    "start_time": "2022-04-14T10:16:27.274Z"
   },
   {
    "duration": 8,
    "start_time": "2022-04-14T10:16:38.202Z"
   },
   {
    "duration": 3,
    "start_time": "2022-04-14T10:16:38.211Z"
   },
   {
    "duration": 5,
    "start_time": "2022-04-14T10:16:38.216Z"
   },
   {
    "duration": 6,
    "start_time": "2022-04-14T10:16:38.223Z"
   },
   {
    "duration": 6,
    "start_time": "2022-04-14T10:16:38.230Z"
   },
   {
    "duration": 613,
    "start_time": "2022-04-14T10:16:38.237Z"
   },
   {
    "duration": 89,
    "start_time": "2022-04-14T10:16:38.852Z"
   },
   {
    "duration": 22,
    "start_time": "2022-04-14T10:16:38.943Z"
   },
   {
    "duration": 39,
    "start_time": "2022-04-14T10:16:38.970Z"
   },
   {
    "duration": 124,
    "start_time": "2022-04-14T10:16:39.011Z"
   },
   {
    "duration": 7,
    "start_time": "2022-04-14T10:16:39.136Z"
   },
   {
    "duration": 186,
    "start_time": "2022-04-14T10:16:39.144Z"
   },
   {
    "duration": 0,
    "start_time": "2022-04-14T10:16:39.332Z"
   },
   {
    "duration": 0,
    "start_time": "2022-04-14T10:16:39.333Z"
   },
   {
    "duration": 0,
    "start_time": "2022-04-14T10:16:39.334Z"
   },
   {
    "duration": 0,
    "start_time": "2022-04-14T10:16:39.334Z"
   },
   {
    "duration": 0,
    "start_time": "2022-04-14T10:16:39.335Z"
   },
   {
    "duration": 0,
    "start_time": "2022-04-14T10:16:39.337Z"
   },
   {
    "duration": 0,
    "start_time": "2022-04-14T10:16:39.338Z"
   },
   {
    "duration": 0,
    "start_time": "2022-04-14T10:16:39.338Z"
   },
   {
    "duration": 0,
    "start_time": "2022-04-14T10:16:39.339Z"
   },
   {
    "duration": 0,
    "start_time": "2022-04-14T10:16:39.340Z"
   },
   {
    "duration": 0,
    "start_time": "2022-04-14T10:16:39.341Z"
   },
   {
    "duration": 1,
    "start_time": "2022-04-14T10:16:39.341Z"
   },
   {
    "duration": 0,
    "start_time": "2022-04-14T10:16:39.342Z"
   },
   {
    "duration": 0,
    "start_time": "2022-04-14T10:16:39.343Z"
   },
   {
    "duration": 0,
    "start_time": "2022-04-14T10:16:39.344Z"
   },
   {
    "duration": 0,
    "start_time": "2022-04-14T10:16:39.345Z"
   },
   {
    "duration": 0,
    "start_time": "2022-04-14T10:16:39.346Z"
   },
   {
    "duration": 0,
    "start_time": "2022-04-14T10:16:39.347Z"
   },
   {
    "duration": 0,
    "start_time": "2022-04-14T10:16:39.348Z"
   },
   {
    "duration": 0,
    "start_time": "2022-04-14T10:16:39.349Z"
   },
   {
    "duration": 37,
    "start_time": "2022-04-14T10:17:29.006Z"
   },
   {
    "duration": 132,
    "start_time": "2022-04-14T10:17:39.141Z"
   },
   {
    "duration": 31,
    "start_time": "2022-04-14T10:17:41.605Z"
   },
   {
    "duration": 34,
    "start_time": "2022-04-14T10:17:44.596Z"
   },
   {
    "duration": 26,
    "start_time": "2022-04-14T10:17:47.579Z"
   },
   {
    "duration": 158,
    "start_time": "2022-04-14T10:17:50.286Z"
   },
   {
    "duration": 155,
    "start_time": "2022-04-14T10:17:54.890Z"
   },
   {
    "duration": 6,
    "start_time": "2022-04-14T10:17:57.839Z"
   },
   {
    "duration": 6,
    "start_time": "2022-04-14T10:17:59.757Z"
   },
   {
    "duration": 89,
    "start_time": "2022-04-14T10:18:03.363Z"
   },
   {
    "duration": 175,
    "start_time": "2022-04-14T10:18:28.588Z"
   },
   {
    "duration": 5,
    "start_time": "2022-04-14T10:18:41.065Z"
   },
   {
    "duration": 5,
    "start_time": "2022-04-14T10:18:43.788Z"
   },
   {
    "duration": 84,
    "start_time": "2022-04-14T10:18:59.109Z"
   },
   {
    "duration": 92,
    "start_time": "2022-04-14T10:19:06.323Z"
   },
   {
    "duration": 9,
    "start_time": "2022-04-14T10:19:17.084Z"
   },
   {
    "duration": 10,
    "start_time": "2022-04-14T10:19:23.572Z"
   },
   {
    "duration": 170,
    "start_time": "2022-04-14T10:19:38.022Z"
   },
   {
    "duration": 134,
    "start_time": "2022-04-14T10:20:02.047Z"
   },
   {
    "duration": 24,
    "start_time": "2022-04-14T10:20:09.731Z"
   },
   {
    "duration": 188,
    "start_time": "2022-04-14T10:20:42.186Z"
   },
   {
    "duration": 131,
    "start_time": "2022-04-14T10:20:47.415Z"
   },
   {
    "duration": 108,
    "start_time": "2022-04-14T10:23:08.981Z"
   },
   {
    "duration": 379,
    "start_time": "2022-04-14T10:23:22.440Z"
   },
   {
    "duration": 386,
    "start_time": "2022-04-14T10:23:37.155Z"
   },
   {
    "duration": 67,
    "start_time": "2022-04-14T10:24:42.641Z"
   },
   {
    "duration": 7,
    "start_time": "2022-04-14T10:24:47.847Z"
   },
   {
    "duration": 44,
    "start_time": "2022-04-14T10:25:00.616Z"
   },
   {
    "duration": 394,
    "start_time": "2022-04-14T10:25:20.889Z"
   },
   {
    "duration": 15,
    "start_time": "2022-04-14T10:30:17.868Z"
   },
   {
    "duration": 10,
    "start_time": "2022-04-14T10:30:42.452Z"
   },
   {
    "duration": 9,
    "start_time": "2022-04-14T10:31:05.725Z"
   },
   {
    "duration": 13,
    "start_time": "2022-04-14T10:31:17.675Z"
   },
   {
    "duration": 15,
    "start_time": "2022-04-14T10:32:08.082Z"
   },
   {
    "duration": 17,
    "start_time": "2022-04-14T10:32:17.450Z"
   },
   {
    "duration": 20,
    "start_time": "2022-04-14T10:32:44.602Z"
   },
   {
    "duration": 24,
    "start_time": "2022-04-14T10:33:44.358Z"
   },
   {
    "duration": 23,
    "start_time": "2022-04-14T10:33:58.630Z"
   },
   {
    "duration": 23,
    "start_time": "2022-04-14T10:34:02.054Z"
   },
   {
    "duration": 18,
    "start_time": "2022-04-14T10:34:06.279Z"
   },
   {
    "duration": 7,
    "start_time": "2022-04-14T10:34:15.333Z"
   },
   {
    "duration": 9,
    "start_time": "2022-04-14T10:34:38.884Z"
   },
   {
    "duration": 7,
    "start_time": "2022-04-14T10:34:49.135Z"
   },
   {
    "duration": 20,
    "start_time": "2022-04-14T10:36:31.004Z"
   },
   {
    "duration": 16,
    "start_time": "2022-04-14T10:36:37.981Z"
   },
   {
    "duration": 15,
    "start_time": "2022-04-14T10:36:46.002Z"
   },
   {
    "duration": 14,
    "start_time": "2022-04-14T10:36:53.755Z"
   },
   {
    "duration": 14,
    "start_time": "2022-04-14T10:36:59.724Z"
   },
   {
    "duration": 10,
    "start_time": "2022-04-14T10:37:59.216Z"
   },
   {
    "duration": 11,
    "start_time": "2022-04-14T10:38:21.224Z"
   },
   {
    "duration": 1622,
    "start_time": "2022-04-14T10:38:25.469Z"
   },
   {
    "duration": 35,
    "start_time": "2022-04-14T10:38:30.553Z"
   },
   {
    "duration": 14,
    "start_time": "2022-04-14T10:39:01.098Z"
   },
   {
    "duration": 13,
    "start_time": "2022-04-14T10:39:14.553Z"
   },
   {
    "duration": 13,
    "start_time": "2022-04-14T10:39:34.436Z"
   },
   {
    "duration": 14,
    "start_time": "2022-04-14T10:39:45.873Z"
   },
   {
    "duration": 13,
    "start_time": "2022-04-14T10:39:50.328Z"
   },
   {
    "duration": 12,
    "start_time": "2022-04-14T10:40:10.831Z"
   },
   {
    "duration": 11,
    "start_time": "2022-04-14T10:40:35.645Z"
   },
   {
    "duration": 14,
    "start_time": "2022-04-14T10:42:05.334Z"
   },
   {
    "duration": 9,
    "start_time": "2022-04-14T10:42:17.285Z"
   },
   {
    "duration": 10,
    "start_time": "2022-04-14T10:42:20.762Z"
   },
   {
    "duration": 1567,
    "start_time": "2022-04-14T10:42:25.269Z"
   },
   {
    "duration": 22,
    "start_time": "2022-04-14T10:42:32.190Z"
   },
   {
    "duration": 12,
    "start_time": "2022-04-14T10:42:34.944Z"
   },
   {
    "duration": 12,
    "start_time": "2022-04-14T10:42:44.182Z"
   },
   {
    "duration": 11,
    "start_time": "2022-04-14T10:42:59.557Z"
   },
   {
    "duration": 12,
    "start_time": "2022-04-14T10:43:02.511Z"
   },
   {
    "duration": 12,
    "start_time": "2022-04-14T10:43:07.154Z"
   },
   {
    "duration": 15,
    "start_time": "2022-04-14T10:43:10.665Z"
   },
   {
    "duration": 3130,
    "start_time": "2022-04-14T10:43:20.020Z"
   },
   {
    "duration": 0,
    "start_time": "2022-04-14T10:43:30.972Z"
   },
   {
    "duration": 3212,
    "start_time": "2022-04-14T10:43:33.624Z"
   },
   {
    "duration": 3100,
    "start_time": "2022-04-14T10:43:38.964Z"
   },
   {
    "duration": 3066,
    "start_time": "2022-04-14T10:43:43.187Z"
   },
   {
    "duration": 14,
    "start_time": "2022-04-14T10:43:51.375Z"
   },
   {
    "duration": 13,
    "start_time": "2022-04-14T10:43:55.321Z"
   },
   {
    "duration": 3052,
    "start_time": "2022-04-14T10:44:02.231Z"
   },
   {
    "duration": 3053,
    "start_time": "2022-04-14T10:44:08.156Z"
   },
   {
    "duration": 12,
    "start_time": "2022-04-14T10:44:18.637Z"
   },
   {
    "duration": 13,
    "start_time": "2022-04-14T10:44:39.941Z"
   },
   {
    "duration": 3314,
    "start_time": "2022-04-14T10:44:48.284Z"
   },
   {
    "duration": 192,
    "start_time": "2022-04-14T10:44:54.688Z"
   },
   {
    "duration": 3005,
    "start_time": "2022-04-14T10:44:58.173Z"
   },
   {
    "duration": 3161,
    "start_time": "2022-04-14T10:45:02.801Z"
   },
   {
    "duration": 3061,
    "start_time": "2022-04-14T10:45:08.936Z"
   },
   {
    "duration": 13,
    "start_time": "2022-04-14T10:45:23.067Z"
   },
   {
    "duration": 14,
    "start_time": "2022-04-14T10:45:26.116Z"
   },
   {
    "duration": 16,
    "start_time": "2022-04-14T10:45:34.427Z"
   },
   {
    "duration": 15,
    "start_time": "2022-04-14T10:45:40.897Z"
   },
   {
    "duration": 13,
    "start_time": "2022-04-14T10:45:45.130Z"
   },
   {
    "duration": 14,
    "start_time": "2022-04-14T10:46:09.276Z"
   },
   {
    "duration": 14,
    "start_time": "2022-04-14T10:46:51.370Z"
   },
   {
    "duration": 15,
    "start_time": "2022-04-14T10:47:05.809Z"
   },
   {
    "duration": 3023,
    "start_time": "2022-04-14T10:47:14.978Z"
   },
   {
    "duration": 10,
    "start_time": "2022-04-14T10:47:25.003Z"
   },
   {
    "duration": 10,
    "start_time": "2022-04-14T10:47:42.601Z"
   },
   {
    "duration": 12,
    "start_time": "2022-04-14T10:47:53.407Z"
   },
   {
    "duration": 3121,
    "start_time": "2022-04-14T10:48:04.201Z"
   },
   {
    "duration": 3104,
    "start_time": "2022-04-14T10:48:14.692Z"
   },
   {
    "duration": 3114,
    "start_time": "2022-04-14T10:48:21.396Z"
   },
   {
    "duration": 9,
    "start_time": "2022-04-14T10:49:37.773Z"
   },
   {
    "duration": 15,
    "start_time": "2022-04-14T10:49:44.451Z"
   },
   {
    "duration": 3146,
    "start_time": "2022-04-14T10:50:05.812Z"
   },
   {
    "duration": 16,
    "start_time": "2022-04-14T10:50:19.536Z"
   },
   {
    "duration": 3246,
    "start_time": "2022-04-14T10:50:39.364Z"
   },
   {
    "duration": 3207,
    "start_time": "2022-04-14T10:50:56.474Z"
   },
   {
    "duration": 14,
    "start_time": "2022-04-14T10:51:10.243Z"
   },
   {
    "duration": 3174,
    "start_time": "2022-04-14T10:51:30.005Z"
   },
   {
    "duration": 2958,
    "start_time": "2022-04-14T10:51:51.085Z"
   },
   {
    "duration": 10,
    "start_time": "2022-04-14T10:51:59.377Z"
   },
   {
    "duration": 12,
    "start_time": "2022-04-14T10:52:10.205Z"
   },
   {
    "duration": 2981,
    "start_time": "2022-04-14T10:52:22.441Z"
   },
   {
    "duration": 3098,
    "start_time": "2022-04-14T10:54:02.701Z"
   },
   {
    "duration": 3162,
    "start_time": "2022-04-14T10:54:06.968Z"
   },
   {
    "duration": 10,
    "start_time": "2022-04-14T10:54:13.884Z"
   },
   {
    "duration": 9,
    "start_time": "2022-04-14T10:54:27.280Z"
   },
   {
    "duration": 12,
    "start_time": "2022-04-14T10:54:38.445Z"
   },
   {
    "duration": 28,
    "start_time": "2022-04-14T10:55:41.030Z"
   },
   {
    "duration": 21,
    "start_time": "2022-04-14T10:55:49.963Z"
   },
   {
    "duration": 11,
    "start_time": "2022-04-14T10:55:54.967Z"
   },
   {
    "duration": 12,
    "start_time": "2022-04-14T10:56:25.067Z"
   },
   {
    "duration": 103,
    "start_time": "2022-04-14T10:59:42.586Z"
   },
   {
    "duration": 98,
    "start_time": "2022-04-14T10:59:48.526Z"
   },
   {
    "duration": 125,
    "start_time": "2022-04-14T10:59:56.880Z"
   },
   {
    "duration": 118,
    "start_time": "2022-04-14T11:00:29.960Z"
   },
   {
    "duration": 286,
    "start_time": "2022-04-14T11:01:12.011Z"
   },
   {
    "duration": 181,
    "start_time": "2022-04-14T11:01:16.340Z"
   },
   {
    "duration": 260,
    "start_time": "2022-04-14T11:01:19.916Z"
   },
   {
    "duration": 195,
    "start_time": "2022-04-14T11:01:22.155Z"
   },
   {
    "duration": 190,
    "start_time": "2022-04-14T11:01:24.930Z"
   },
   {
    "duration": 181,
    "start_time": "2022-04-14T11:01:30.656Z"
   },
   {
    "duration": 196,
    "start_time": "2022-04-14T11:01:40.413Z"
   },
   {
    "duration": 177,
    "start_time": "2022-04-14T11:03:10.400Z"
   },
   {
    "duration": 11,
    "start_time": "2022-04-14T11:03:19.922Z"
   },
   {
    "duration": 196,
    "start_time": "2022-04-14T11:03:34.608Z"
   },
   {
    "duration": 191,
    "start_time": "2022-04-14T11:03:40.507Z"
   },
   {
    "duration": 4,
    "start_time": "2022-04-14T11:03:46.484Z"
   },
   {
    "duration": 3007,
    "start_time": "2022-04-14T11:03:51.790Z"
   },
   {
    "duration": 3115,
    "start_time": "2022-04-14T11:04:22.184Z"
   },
   {
    "duration": 4,
    "start_time": "2022-04-14T11:07:19.003Z"
   },
   {
    "duration": 13,
    "start_time": "2022-04-14T11:07:27.810Z"
   },
   {
    "duration": 15,
    "start_time": "2022-04-14T11:07:38.572Z"
   },
   {
    "duration": 13,
    "start_time": "2022-04-14T11:08:16.129Z"
   },
   {
    "duration": 20,
    "start_time": "2022-04-14T11:09:37.755Z"
   },
   {
    "duration": 15,
    "start_time": "2022-04-14T11:12:52.356Z"
   },
   {
    "duration": 18,
    "start_time": "2022-04-14T11:13:28.833Z"
   },
   {
    "duration": 4,
    "start_time": "2022-04-14T11:13:38.588Z"
   },
   {
    "duration": 20,
    "start_time": "2022-04-14T11:13:49.623Z"
   },
   {
    "duration": 21,
    "start_time": "2022-04-14T11:13:56.391Z"
   },
   {
    "duration": 20,
    "start_time": "2022-04-14T11:14:03.131Z"
   },
   {
    "duration": 21,
    "start_time": "2022-04-14T11:14:09.091Z"
   },
   {
    "duration": 26,
    "start_time": "2022-04-14T11:15:23.095Z"
   },
   {
    "duration": 7,
    "start_time": "2022-04-14T11:15:26.044Z"
   },
   {
    "duration": 7,
    "start_time": "2022-04-14T11:16:34.462Z"
   },
   {
    "duration": 24,
    "start_time": "2022-04-14T11:17:26.973Z"
   },
   {
    "duration": 26,
    "start_time": "2022-04-14T11:18:31.129Z"
   },
   {
    "duration": 27,
    "start_time": "2022-04-14T11:18:57.856Z"
   },
   {
    "duration": 27,
    "start_time": "2022-04-14T11:19:16.513Z"
   },
   {
    "duration": 5,
    "start_time": "2022-04-14T11:19:59.382Z"
   },
   {
    "duration": 26,
    "start_time": "2022-04-14T11:20:07.269Z"
   },
   {
    "duration": 27,
    "start_time": "2022-04-14T11:20:27.221Z"
   },
   {
    "duration": 19,
    "start_time": "2022-04-14T11:20:35.667Z"
   },
   {
    "duration": 7,
    "start_time": "2022-04-14T11:20:37.287Z"
   },
   {
    "duration": 23,
    "start_time": "2022-04-14T11:21:10.658Z"
   },
   {
    "duration": 18,
    "start_time": "2022-04-14T11:21:18.444Z"
   },
   {
    "duration": 9,
    "start_time": "2022-04-14T11:21:20.698Z"
   },
   {
    "duration": 3073,
    "start_time": "2022-04-14T11:22:29.938Z"
   },
   {
    "duration": 3073,
    "start_time": "2022-04-14T11:22:48.629Z"
   },
   {
    "duration": 23,
    "start_time": "2022-04-14T11:23:00.544Z"
   },
   {
    "duration": 17,
    "start_time": "2022-04-14T11:23:09.894Z"
   },
   {
    "duration": 18,
    "start_time": "2022-04-14T11:23:20.356Z"
   },
   {
    "duration": 7,
    "start_time": "2022-04-14T11:23:23.879Z"
   },
   {
    "duration": 26,
    "start_time": "2022-04-14T11:24:19.075Z"
   },
   {
    "duration": 25,
    "start_time": "2022-04-14T11:24:36.207Z"
   },
   {
    "duration": 21,
    "start_time": "2022-04-14T11:24:39.800Z"
   },
   {
    "duration": 6,
    "start_time": "2022-04-14T11:24:41.658Z"
   },
   {
    "duration": 27,
    "start_time": "2022-04-14T11:25:02.906Z"
   },
   {
    "duration": 23,
    "start_time": "2022-04-14T11:25:18.341Z"
   },
   {
    "duration": 24,
    "start_time": "2022-04-14T11:25:21.813Z"
   },
   {
    "duration": 46,
    "start_time": "2022-04-14T12:19:46.956Z"
   },
   {
    "duration": 681,
    "start_time": "2022-04-14T12:19:53.478Z"
   },
   {
    "duration": 89,
    "start_time": "2022-04-14T12:19:54.161Z"
   },
   {
    "duration": 7,
    "start_time": "2022-04-14T12:19:54.251Z"
   },
   {
    "duration": 19,
    "start_time": "2022-04-14T12:19:54.260Z"
   },
   {
    "duration": 26,
    "start_time": "2022-04-14T12:19:54.280Z"
   },
   {
    "duration": 11,
    "start_time": "2022-04-14T12:19:54.308Z"
   },
   {
    "duration": 5,
    "start_time": "2022-04-14T12:19:54.320Z"
   },
   {
    "duration": 11,
    "start_time": "2022-04-14T12:19:54.326Z"
   },
   {
    "duration": 12,
    "start_time": "2022-04-14T12:19:54.339Z"
   },
   {
    "duration": 118,
    "start_time": "2022-04-14T12:19:54.353Z"
   },
   {
    "duration": 8,
    "start_time": "2022-04-14T12:19:54.472Z"
   },
   {
    "duration": 32,
    "start_time": "2022-04-14T12:19:54.482Z"
   },
   {
    "duration": 8,
    "start_time": "2022-04-14T12:19:54.516Z"
   },
   {
    "duration": 10,
    "start_time": "2022-04-14T12:19:54.526Z"
   },
   {
    "duration": 7,
    "start_time": "2022-04-14T12:19:54.537Z"
   },
   {
    "duration": 10,
    "start_time": "2022-04-14T12:19:54.545Z"
   },
   {
    "duration": 23,
    "start_time": "2022-04-14T12:19:54.557Z"
   },
   {
    "duration": 19,
    "start_time": "2022-04-14T12:19:54.582Z"
   },
   {
    "duration": 10980,
    "start_time": "2022-04-14T12:19:54.602Z"
   },
   {
    "duration": 17,
    "start_time": "2022-04-14T12:20:05.584Z"
   },
   {
    "duration": 4,
    "start_time": "2022-04-14T12:20:05.602Z"
   },
   {
    "duration": 9,
    "start_time": "2022-04-14T12:20:05.607Z"
   },
   {
    "duration": 8,
    "start_time": "2022-04-14T12:20:05.617Z"
   },
   {
    "duration": 11,
    "start_time": "2022-04-14T12:20:05.626Z"
   },
   {
    "duration": 654,
    "start_time": "2022-04-14T12:20:05.638Z"
   },
   {
    "duration": 92,
    "start_time": "2022-04-14T12:20:06.293Z"
   },
   {
    "duration": 30,
    "start_time": "2022-04-14T12:20:06.386Z"
   },
   {
    "duration": 18,
    "start_time": "2022-04-14T12:20:06.420Z"
   },
   {
    "duration": 139,
    "start_time": "2022-04-14T12:20:06.439Z"
   },
   {
    "duration": 8,
    "start_time": "2022-04-14T12:20:06.580Z"
   },
   {
    "duration": 35,
    "start_time": "2022-04-14T12:20:06.600Z"
   },
   {
    "duration": 154,
    "start_time": "2022-04-14T12:20:06.637Z"
   },
   {
    "duration": 32,
    "start_time": "2022-04-14T12:20:06.800Z"
   },
   {
    "duration": 32,
    "start_time": "2022-04-14T12:20:06.833Z"
   },
   {
    "duration": 42,
    "start_time": "2022-04-14T12:20:06.866Z"
   },
   {
    "duration": 169,
    "start_time": "2022-04-14T12:20:06.910Z"
   },
   {
    "duration": 182,
    "start_time": "2022-04-14T12:20:07.080Z"
   },
   {
    "duration": 4,
    "start_time": "2022-04-14T12:20:07.264Z"
   },
   {
    "duration": 18,
    "start_time": "2022-04-14T12:20:07.269Z"
   },
   {
    "duration": 94,
    "start_time": "2022-04-14T12:20:07.289Z"
   },
   {
    "duration": 20,
    "start_time": "2022-04-14T12:20:07.384Z"
   },
   {
    "duration": 185,
    "start_time": "2022-04-14T12:20:07.406Z"
   },
   {
    "duration": 152,
    "start_time": "2022-04-14T12:20:07.593Z"
   },
   {
    "duration": 24,
    "start_time": "2022-04-14T12:20:07.747Z"
   },
   {
    "duration": 152,
    "start_time": "2022-04-14T12:20:07.773Z"
   },
   {
    "duration": 117,
    "start_time": "2022-04-14T12:20:07.926Z"
   },
   {
    "duration": 470,
    "start_time": "2022-04-14T12:20:08.044Z"
   },
   {
    "duration": 41,
    "start_time": "2022-04-14T12:20:08.515Z"
   },
   {
    "duration": 392,
    "start_time": "2022-04-14T12:20:08.558Z"
   },
   {
    "duration": 0,
    "start_time": "2022-04-14T12:20:08.952Z"
   },
   {
    "duration": 0,
    "start_time": "2022-04-14T12:20:08.953Z"
   },
   {
    "duration": 0,
    "start_time": "2022-04-14T12:20:08.955Z"
   },
   {
    "duration": 3,
    "start_time": "2022-04-14T12:20:14.118Z"
   },
   {
    "duration": 29,
    "start_time": "2022-04-14T12:21:19.022Z"
   },
   {
    "duration": 65,
    "start_time": "2022-04-14T12:21:40.018Z"
   },
   {
    "duration": 18,
    "start_time": "2022-04-14T12:21:47.541Z"
   },
   {
    "duration": 198,
    "start_time": "2022-04-14T12:22:08.342Z"
   },
   {
    "duration": 9,
    "start_time": "2022-04-14T12:22:18.818Z"
   },
   {
    "duration": 11,
    "start_time": "2022-04-14T12:22:29.638Z"
   },
   {
    "duration": 15,
    "start_time": "2022-04-14T12:22:41.837Z"
   },
   {
    "duration": 13,
    "start_time": "2022-04-14T12:22:47.457Z"
   },
   {
    "duration": 44,
    "start_time": "2022-04-14T12:25:54.396Z"
   },
   {
    "duration": 626,
    "start_time": "2022-04-14T12:26:05.052Z"
   },
   {
    "duration": 78,
    "start_time": "2022-04-14T12:26:05.680Z"
   },
   {
    "duration": 8,
    "start_time": "2022-04-14T12:26:05.760Z"
   },
   {
    "duration": 21,
    "start_time": "2022-04-14T12:26:05.770Z"
   },
   {
    "duration": 14,
    "start_time": "2022-04-14T12:26:05.801Z"
   },
   {
    "duration": 14,
    "start_time": "2022-04-14T12:26:05.817Z"
   },
   {
    "duration": 6,
    "start_time": "2022-04-14T12:26:05.832Z"
   },
   {
    "duration": 12,
    "start_time": "2022-04-14T12:26:05.840Z"
   },
   {
    "duration": 8,
    "start_time": "2022-04-14T12:26:05.854Z"
   },
   {
    "duration": 154,
    "start_time": "2022-04-14T12:26:05.864Z"
   },
   {
    "duration": 6,
    "start_time": "2022-04-14T12:26:06.020Z"
   },
   {
    "duration": 23,
    "start_time": "2022-04-14T12:26:06.028Z"
   },
   {
    "duration": 8,
    "start_time": "2022-04-14T12:26:06.053Z"
   },
   {
    "duration": 13,
    "start_time": "2022-04-14T12:26:06.064Z"
   },
   {
    "duration": 27,
    "start_time": "2022-04-14T12:26:06.078Z"
   },
   {
    "duration": 9,
    "start_time": "2022-04-14T12:26:06.108Z"
   },
   {
    "duration": 20,
    "start_time": "2022-04-14T12:26:06.119Z"
   },
   {
    "duration": 21,
    "start_time": "2022-04-14T12:26:06.141Z"
   },
   {
    "duration": 14609,
    "start_time": "2022-04-14T12:26:06.163Z"
   },
   {
    "duration": 7,
    "start_time": "2022-04-14T12:26:20.773Z"
   },
   {
    "duration": 8,
    "start_time": "2022-04-14T12:26:20.782Z"
   },
   {
    "duration": 5,
    "start_time": "2022-04-14T12:26:20.800Z"
   },
   {
    "duration": 9,
    "start_time": "2022-04-14T12:26:20.807Z"
   },
   {
    "duration": 8,
    "start_time": "2022-04-14T12:26:20.818Z"
   },
   {
    "duration": 633,
    "start_time": "2022-04-14T12:26:20.828Z"
   },
   {
    "duration": 98,
    "start_time": "2022-04-14T12:26:21.462Z"
   },
   {
    "duration": 22,
    "start_time": "2022-04-14T12:26:21.562Z"
   },
   {
    "duration": 19,
    "start_time": "2022-04-14T12:26:21.600Z"
   },
   {
    "duration": 188,
    "start_time": "2022-04-14T12:26:21.621Z"
   },
   {
    "duration": 8,
    "start_time": "2022-04-14T12:26:21.811Z"
   },
   {
    "duration": 58,
    "start_time": "2022-04-14T12:26:21.821Z"
   },
   {
    "duration": 169,
    "start_time": "2022-04-14T12:26:21.881Z"
   },
   {
    "duration": 32,
    "start_time": "2022-04-14T12:26:22.051Z"
   },
   {
    "duration": 44,
    "start_time": "2022-04-14T12:26:22.085Z"
   },
   {
    "duration": 28,
    "start_time": "2022-04-14T12:26:22.130Z"
   },
   {
    "duration": 251,
    "start_time": "2022-04-14T12:26:22.161Z"
   },
   {
    "duration": 284,
    "start_time": "2022-04-14T12:26:22.414Z"
   },
   {
    "duration": 5,
    "start_time": "2022-04-14T12:26:22.700Z"
   },
   {
    "duration": 9,
    "start_time": "2022-04-14T12:26:22.707Z"
   },
   {
    "duration": 153,
    "start_time": "2022-04-14T12:26:22.718Z"
   },
   {
    "duration": 10,
    "start_time": "2022-04-14T12:26:22.876Z"
   },
   {
    "duration": 247,
    "start_time": "2022-04-14T12:26:22.901Z"
   },
   {
    "duration": 208,
    "start_time": "2022-04-14T12:26:23.150Z"
   },
   {
    "duration": 41,
    "start_time": "2022-04-14T12:26:23.360Z"
   },
   {
    "duration": 148,
    "start_time": "2022-04-14T12:26:23.403Z"
   },
   {
    "duration": 121,
    "start_time": "2022-04-14T12:26:23.553Z"
   },
   {
    "duration": 478,
    "start_time": "2022-04-14T12:26:23.676Z"
   },
   {
    "duration": 70,
    "start_time": "2022-04-14T12:26:24.156Z"
   },
   {
    "duration": 36,
    "start_time": "2022-04-14T12:26:24.228Z"
   },
   {
    "duration": 202,
    "start_time": "2022-04-14T12:26:24.266Z"
   },
   {
    "duration": 0,
    "start_time": "2022-04-14T12:26:24.470Z"
   },
   {
    "duration": 77,
    "start_time": "2022-04-14T12:26:49.393Z"
   },
   {
    "duration": 11,
    "start_time": "2022-04-14T12:27:14.162Z"
   },
   {
    "duration": 12,
    "start_time": "2022-04-14T12:27:23.742Z"
   },
   {
    "duration": 194,
    "start_time": "2022-04-14T12:29:34.735Z"
   },
   {
    "duration": 137,
    "start_time": "2022-04-14T12:29:43.905Z"
   },
   {
    "duration": 11,
    "start_time": "2022-04-14T12:30:27.766Z"
   },
   {
    "duration": 137,
    "start_time": "2022-04-14T12:30:30.117Z"
   },
   {
    "duration": 147,
    "start_time": "2022-04-14T12:30:45.981Z"
   },
   {
    "duration": 11,
    "start_time": "2022-04-14T12:33:24.745Z"
   },
   {
    "duration": 14,
    "start_time": "2022-04-14T12:34:12.575Z"
   },
   {
    "duration": 8,
    "start_time": "2022-04-14T12:34:31.936Z"
   },
   {
    "duration": 9,
    "start_time": "2022-04-14T12:39:30.496Z"
   },
   {
    "duration": 9,
    "start_time": "2022-04-14T12:39:38.055Z"
   },
   {
    "duration": 32,
    "start_time": "2022-04-14T12:39:55.786Z"
   },
   {
    "duration": 9,
    "start_time": "2022-04-14T12:40:02.266Z"
   },
   {
    "duration": 12,
    "start_time": "2022-04-14T12:40:07.786Z"
   },
   {
    "duration": 19,
    "start_time": "2022-04-14T12:41:47.626Z"
   },
   {
    "duration": 22,
    "start_time": "2022-04-14T12:41:59.855Z"
   },
   {
    "duration": 12,
    "start_time": "2022-04-14T12:42:22.275Z"
   },
   {
    "duration": 191,
    "start_time": "2022-04-14T12:43:13.545Z"
   },
   {
    "duration": 17,
    "start_time": "2022-04-14T12:43:24.596Z"
   },
   {
    "duration": 16,
    "start_time": "2022-04-14T12:43:28.646Z"
   },
   {
    "duration": 18,
    "start_time": "2022-04-14T12:43:32.925Z"
   },
   {
    "duration": 18,
    "start_time": "2022-04-14T12:43:43.761Z"
   },
   {
    "duration": 19,
    "start_time": "2022-04-14T12:43:52.576Z"
   },
   {
    "duration": 19,
    "start_time": "2022-04-14T12:44:14.385Z"
   },
   {
    "duration": 241,
    "start_time": "2022-04-14T12:45:09.876Z"
   },
   {
    "duration": 254,
    "start_time": "2022-04-14T12:45:21.737Z"
   },
   {
    "duration": 11,
    "start_time": "2022-04-14T12:45:35.615Z"
   },
   {
    "duration": 315,
    "start_time": "2022-04-14T12:45:40.946Z"
   },
   {
    "duration": 247,
    "start_time": "2022-04-14T12:45:46.556Z"
   },
   {
    "duration": 252,
    "start_time": "2022-04-14T12:46:14.227Z"
   },
   {
    "duration": 257,
    "start_time": "2022-04-14T12:46:42.466Z"
   },
   {
    "duration": 21,
    "start_time": "2022-04-14T12:47:09.095Z"
   },
   {
    "duration": 21,
    "start_time": "2022-04-14T12:47:11.566Z"
   },
   {
    "duration": 254,
    "start_time": "2022-04-14T12:47:16.615Z"
   },
   {
    "duration": 174,
    "start_time": "2022-04-14T12:47:28.195Z"
   },
   {
    "duration": 251,
    "start_time": "2022-04-14T12:47:44.949Z"
   },
   {
    "duration": 328,
    "start_time": "2022-04-14T12:48:37.256Z"
   },
   {
    "duration": 250,
    "start_time": "2022-04-14T12:48:45.041Z"
   },
   {
    "duration": 258,
    "start_time": "2022-04-14T12:48:57.915Z"
   },
   {
    "duration": 251,
    "start_time": "2022-04-14T12:49:58.616Z"
   },
   {
    "duration": 15,
    "start_time": "2022-04-14T12:53:20.430Z"
   },
   {
    "duration": 362,
    "start_time": "2022-04-14T12:53:30.740Z"
   },
   {
    "duration": 5,
    "start_time": "2022-04-14T12:55:33.456Z"
   },
   {
    "duration": 698,
    "start_time": "2022-04-14T12:58:02.136Z"
   },
   {
    "duration": 616,
    "start_time": "2022-04-14T13:01:34.045Z"
   },
   {
    "duration": 1258,
    "start_time": "2022-04-14T13:03:20.455Z"
   },
   {
    "duration": 819,
    "start_time": "2022-04-14T13:03:23.185Z"
   },
   {
    "duration": 636,
    "start_time": "2022-04-14T13:03:34.425Z"
   },
   {
    "duration": 1151,
    "start_time": "2022-04-14T13:07:00.935Z"
   },
   {
    "duration": 153,
    "start_time": "2022-04-14T13:07:50.086Z"
   },
   {
    "duration": 1054,
    "start_time": "2022-04-14T13:08:44.915Z"
   },
   {
    "duration": 1205,
    "start_time": "2022-04-14T13:09:20.036Z"
   },
   {
    "duration": 1203,
    "start_time": "2022-04-14T13:09:34.326Z"
   },
   {
    "duration": 687,
    "start_time": "2022-04-14T13:39:38.988Z"
   },
   {
    "duration": 80,
    "start_time": "2022-04-14T13:39:39.677Z"
   },
   {
    "duration": 7,
    "start_time": "2022-04-14T13:39:39.758Z"
   },
   {
    "duration": 20,
    "start_time": "2022-04-14T13:39:39.767Z"
   },
   {
    "duration": 23,
    "start_time": "2022-04-14T13:39:39.788Z"
   },
   {
    "duration": 13,
    "start_time": "2022-04-14T13:39:39.812Z"
   },
   {
    "duration": 6,
    "start_time": "2022-04-14T13:39:39.826Z"
   },
   {
    "duration": 11,
    "start_time": "2022-04-14T13:39:39.833Z"
   },
   {
    "duration": 10,
    "start_time": "2022-04-14T13:39:39.845Z"
   },
   {
    "duration": 126,
    "start_time": "2022-04-14T13:39:39.857Z"
   },
   {
    "duration": 6,
    "start_time": "2022-04-14T13:39:39.985Z"
   },
   {
    "duration": 27,
    "start_time": "2022-04-14T13:39:40.000Z"
   },
   {
    "duration": 11,
    "start_time": "2022-04-14T13:39:40.029Z"
   },
   {
    "duration": 15,
    "start_time": "2022-04-14T13:39:40.042Z"
   },
   {
    "duration": 11,
    "start_time": "2022-04-14T13:39:40.058Z"
   },
   {
    "duration": 10,
    "start_time": "2022-04-14T13:39:40.071Z"
   },
   {
    "duration": 19,
    "start_time": "2022-04-14T13:39:40.083Z"
   },
   {
    "duration": 14,
    "start_time": "2022-04-14T13:39:40.104Z"
   },
   {
    "duration": 11292,
    "start_time": "2022-04-14T13:39:40.119Z"
   },
   {
    "duration": 7,
    "start_time": "2022-04-14T13:39:51.413Z"
   },
   {
    "duration": 18,
    "start_time": "2022-04-14T13:39:51.421Z"
   },
   {
    "duration": 16,
    "start_time": "2022-04-14T13:39:51.441Z"
   },
   {
    "duration": 13,
    "start_time": "2022-04-14T13:39:51.458Z"
   },
   {
    "duration": 14,
    "start_time": "2022-04-14T13:39:51.473Z"
   },
   {
    "duration": 603,
    "start_time": "2022-04-14T13:39:51.488Z"
   },
   {
    "duration": 109,
    "start_time": "2022-04-14T13:39:52.092Z"
   },
   {
    "duration": 22,
    "start_time": "2022-04-14T13:39:52.203Z"
   },
   {
    "duration": 17,
    "start_time": "2022-04-14T13:39:52.229Z"
   },
   {
    "duration": 134,
    "start_time": "2022-04-14T13:39:52.248Z"
   },
   {
    "duration": 17,
    "start_time": "2022-04-14T13:39:52.383Z"
   },
   {
    "duration": 40,
    "start_time": "2022-04-14T13:39:52.402Z"
   },
   {
    "duration": 142,
    "start_time": "2022-04-14T13:39:52.444Z"
   },
   {
    "duration": 39,
    "start_time": "2022-04-14T13:39:52.588Z"
   },
   {
    "duration": 31,
    "start_time": "2022-04-14T13:39:52.628Z"
   },
   {
    "duration": 40,
    "start_time": "2022-04-14T13:39:52.661Z"
   },
   {
    "duration": 157,
    "start_time": "2022-04-14T13:39:52.703Z"
   },
   {
    "duration": 184,
    "start_time": "2022-04-14T13:39:52.862Z"
   },
   {
    "duration": 5,
    "start_time": "2022-04-14T13:39:53.048Z"
   },
   {
    "duration": 6,
    "start_time": "2022-04-14T13:39:53.054Z"
   },
   {
    "duration": 111,
    "start_time": "2022-04-14T13:39:53.061Z"
   },
   {
    "duration": 9,
    "start_time": "2022-04-14T13:39:53.174Z"
   },
   {
    "duration": 222,
    "start_time": "2022-04-14T13:39:53.185Z"
   },
   {
    "duration": 228,
    "start_time": "2022-04-14T13:39:53.409Z"
   },
   {
    "duration": 24,
    "start_time": "2022-04-14T13:39:53.639Z"
   },
   {
    "duration": 151,
    "start_time": "2022-04-14T13:39:53.665Z"
   },
   {
    "duration": 120,
    "start_time": "2022-04-14T13:39:53.817Z"
   },
   {
    "duration": 555,
    "start_time": "2022-04-14T13:39:53.939Z"
   },
   {
    "duration": 41,
    "start_time": "2022-04-14T13:39:54.500Z"
   },
   {
    "duration": 27,
    "start_time": "2022-04-14T13:39:54.542Z"
   },
   {
    "duration": 268,
    "start_time": "2022-04-14T13:39:54.571Z"
   },
   {
    "duration": 5,
    "start_time": "2022-04-14T13:39:54.841Z"
   },
   {
    "duration": 1010,
    "start_time": "2022-04-14T13:39:54.848Z"
   },
   {
    "duration": 447,
    "start_time": "2022-04-14T13:40:46.909Z"
   },
   {
    "duration": 1053,
    "start_time": "2022-04-14T13:40:56.194Z"
   },
   {
    "duration": 1090,
    "start_time": "2022-04-14T13:43:05.895Z"
   },
   {
    "duration": 994,
    "start_time": "2022-04-14T13:43:16.394Z"
   },
   {
    "duration": 1244,
    "start_time": "2022-04-14T13:47:36.872Z"
   },
   {
    "duration": 974,
    "start_time": "2022-04-14T13:49:09.902Z"
   },
   {
    "duration": 1178,
    "start_time": "2022-04-14T13:49:31.824Z"
   },
   {
    "duration": 1286,
    "start_time": "2022-04-14T13:49:53.714Z"
   },
   {
    "duration": 1236,
    "start_time": "2022-04-14T13:50:23.184Z"
   },
   {
    "duration": 327,
    "start_time": "2022-04-14T14:14:05.588Z"
   },
   {
    "duration": 433,
    "start_time": "2022-04-14T14:15:04.711Z"
   },
   {
    "duration": 231,
    "start_time": "2022-04-14T14:16:05.561Z"
   },
   {
    "duration": 122,
    "start_time": "2022-04-14T14:20:32.780Z"
   },
   {
    "duration": 269,
    "start_time": "2022-04-14T14:20:58.217Z"
   },
   {
    "duration": 419,
    "start_time": "2022-04-14T14:21:06.847Z"
   },
   {
    "duration": 273,
    "start_time": "2022-04-14T14:22:49.317Z"
   },
   {
    "duration": 669,
    "start_time": "2022-04-14T14:23:48.000Z"
   },
   {
    "duration": 78,
    "start_time": "2022-04-14T14:23:48.671Z"
   },
   {
    "duration": 6,
    "start_time": "2022-04-14T14:23:48.751Z"
   },
   {
    "duration": 15,
    "start_time": "2022-04-14T14:23:48.759Z"
   },
   {
    "duration": 25,
    "start_time": "2022-04-14T14:23:48.775Z"
   },
   {
    "duration": 13,
    "start_time": "2022-04-14T14:23:48.801Z"
   },
   {
    "duration": 4,
    "start_time": "2022-04-14T14:23:48.816Z"
   },
   {
    "duration": 5,
    "start_time": "2022-04-14T14:23:48.822Z"
   },
   {
    "duration": 6,
    "start_time": "2022-04-14T14:23:48.828Z"
   },
   {
    "duration": 133,
    "start_time": "2022-04-14T14:23:48.837Z"
   },
   {
    "duration": 7,
    "start_time": "2022-04-14T14:23:48.971Z"
   },
   {
    "duration": 34,
    "start_time": "2022-04-14T14:23:48.980Z"
   },
   {
    "duration": 8,
    "start_time": "2022-04-14T14:23:49.016Z"
   },
   {
    "duration": 15,
    "start_time": "2022-04-14T14:23:49.026Z"
   },
   {
    "duration": 13,
    "start_time": "2022-04-14T14:23:49.043Z"
   },
   {
    "duration": 6,
    "start_time": "2022-04-14T14:23:49.057Z"
   },
   {
    "duration": 12,
    "start_time": "2022-04-14T14:23:49.064Z"
   },
   {
    "duration": 23,
    "start_time": "2022-04-14T14:23:49.077Z"
   },
   {
    "duration": 10720,
    "start_time": "2022-04-14T14:23:49.102Z"
   },
   {
    "duration": 9,
    "start_time": "2022-04-14T14:23:59.824Z"
   },
   {
    "duration": 5,
    "start_time": "2022-04-14T14:23:59.835Z"
   },
   {
    "duration": 10,
    "start_time": "2022-04-14T14:23:59.842Z"
   },
   {
    "duration": 7,
    "start_time": "2022-04-14T14:23:59.854Z"
   },
   {
    "duration": 6,
    "start_time": "2022-04-14T14:23:59.862Z"
   },
   {
    "duration": 620,
    "start_time": "2022-04-14T14:23:59.869Z"
   },
   {
    "duration": 104,
    "start_time": "2022-04-14T14:24:00.490Z"
   },
   {
    "duration": 22,
    "start_time": "2022-04-14T14:24:00.599Z"
   },
   {
    "duration": 18,
    "start_time": "2022-04-14T14:24:00.625Z"
   },
   {
    "duration": 138,
    "start_time": "2022-04-14T14:24:00.645Z"
   },
   {
    "duration": 16,
    "start_time": "2022-04-14T14:24:00.785Z"
   },
   {
    "duration": 44,
    "start_time": "2022-04-14T14:24:00.802Z"
   },
   {
    "duration": 154,
    "start_time": "2022-04-14T14:24:00.848Z"
   },
   {
    "duration": 32,
    "start_time": "2022-04-14T14:24:01.003Z"
   },
   {
    "duration": 32,
    "start_time": "2022-04-14T14:24:01.037Z"
   },
   {
    "duration": 49,
    "start_time": "2022-04-14T14:24:01.070Z"
   },
   {
    "duration": 174,
    "start_time": "2022-04-14T14:24:01.121Z"
   },
   {
    "duration": 190,
    "start_time": "2022-04-14T14:24:01.299Z"
   },
   {
    "duration": 11,
    "start_time": "2022-04-14T14:24:01.491Z"
   },
   {
    "duration": 13,
    "start_time": "2022-04-14T14:24:01.504Z"
   },
   {
    "duration": 98,
    "start_time": "2022-04-14T14:24:01.519Z"
   },
   {
    "duration": 7,
    "start_time": "2022-04-14T14:24:01.619Z"
   },
   {
    "duration": 184,
    "start_time": "2022-04-14T14:24:01.628Z"
   },
   {
    "duration": 151,
    "start_time": "2022-04-14T14:24:01.814Z"
   },
   {
    "duration": 25,
    "start_time": "2022-04-14T14:24:01.966Z"
   },
   {
    "duration": 141,
    "start_time": "2022-04-14T14:24:02.001Z"
   },
   {
    "duration": 116,
    "start_time": "2022-04-14T14:24:02.144Z"
   },
   {
    "duration": 449,
    "start_time": "2022-04-14T14:24:02.262Z"
   },
   {
    "duration": 41,
    "start_time": "2022-04-14T14:24:02.713Z"
   },
   {
    "duration": 45,
    "start_time": "2022-04-14T14:24:02.755Z"
   },
   {
    "duration": 262,
    "start_time": "2022-04-14T14:24:02.802Z"
   },
   {
    "duration": 6,
    "start_time": "2022-04-14T14:24:03.065Z"
   },
   {
    "duration": 334,
    "start_time": "2022-04-14T14:24:03.072Z"
   },
   {
    "duration": 463,
    "start_time": "2022-04-14T14:24:03.408Z"
   },
   {
    "duration": 79,
    "start_time": "2022-04-14T14:24:03.873Z"
   },
   {
    "duration": 0,
    "start_time": "2022-04-14T14:24:03.953Z"
   },
   {
    "duration": 0,
    "start_time": "2022-04-14T14:24:03.954Z"
   },
   {
    "duration": 232,
    "start_time": "2022-04-14T14:24:50.233Z"
   },
   {
    "duration": 352,
    "start_time": "2022-04-14T14:24:55.820Z"
   },
   {
    "duration": 5,
    "start_time": "2022-04-14T14:25:41.337Z"
   },
   {
    "duration": 150,
    "start_time": "2022-04-14T14:25:44.823Z"
   },
   {
    "duration": 146,
    "start_time": "2022-04-14T14:25:51.215Z"
   },
   {
    "duration": 124,
    "start_time": "2022-04-14T14:26:42.201Z"
   },
   {
    "duration": 135,
    "start_time": "2022-04-14T14:27:39.423Z"
   },
   {
    "duration": 144,
    "start_time": "2022-04-14T14:28:19.669Z"
   },
   {
    "duration": 20,
    "start_time": "2022-04-14T14:29:33.710Z"
   },
   {
    "duration": 136,
    "start_time": "2022-04-14T14:29:50.931Z"
   },
   {
    "duration": 150,
    "start_time": "2022-04-14T14:31:38.495Z"
   },
   {
    "duration": 277,
    "start_time": "2022-04-14T14:32:09.794Z"
   },
   {
    "duration": 215,
    "start_time": "2022-04-14T14:32:49.619Z"
   },
   {
    "duration": 235,
    "start_time": "2022-04-14T14:32:56.883Z"
   },
   {
    "duration": 186,
    "start_time": "2022-04-14T14:33:06.743Z"
   },
   {
    "duration": 1198,
    "start_time": "2022-04-14T14:33:11.440Z"
   },
   {
    "duration": 213,
    "start_time": "2022-04-14T14:33:19.159Z"
   },
   {
    "duration": 233,
    "start_time": "2022-04-14T14:33:32.984Z"
   },
   {
    "duration": 282,
    "start_time": "2022-04-14T14:33:45.347Z"
   },
   {
    "duration": 19,
    "start_time": "2022-04-14T14:34:17.760Z"
   },
   {
    "duration": 19,
    "start_time": "2022-04-14T14:34:34.499Z"
   },
   {
    "duration": 245,
    "start_time": "2022-04-14T14:35:26.912Z"
   },
   {
    "duration": 270,
    "start_time": "2022-04-14T14:36:05.943Z"
   },
   {
    "duration": 266,
    "start_time": "2022-04-14T14:52:40.785Z"
   },
   {
    "duration": 304,
    "start_time": "2022-04-14T14:56:09.625Z"
   },
   {
    "duration": 237,
    "start_time": "2022-04-14T14:57:59.601Z"
   },
   {
    "duration": 667,
    "start_time": "2022-04-14T15:02:53.994Z"
   },
   {
    "duration": 88,
    "start_time": "2022-04-14T15:02:54.663Z"
   },
   {
    "duration": 6,
    "start_time": "2022-04-14T15:02:54.753Z"
   },
   {
    "duration": 15,
    "start_time": "2022-04-14T15:02:54.761Z"
   },
   {
    "duration": 23,
    "start_time": "2022-04-14T15:02:54.778Z"
   },
   {
    "duration": 12,
    "start_time": "2022-04-14T15:02:54.802Z"
   },
   {
    "duration": 4,
    "start_time": "2022-04-14T15:02:54.815Z"
   },
   {
    "duration": 7,
    "start_time": "2022-04-14T15:02:54.821Z"
   },
   {
    "duration": 7,
    "start_time": "2022-04-14T15:02:54.829Z"
   },
   {
    "duration": 125,
    "start_time": "2022-04-14T15:02:54.838Z"
   },
   {
    "duration": 5,
    "start_time": "2022-04-14T15:02:54.965Z"
   },
   {
    "duration": 29,
    "start_time": "2022-04-14T15:02:54.972Z"
   },
   {
    "duration": 8,
    "start_time": "2022-04-14T15:02:55.002Z"
   },
   {
    "duration": 12,
    "start_time": "2022-04-14T15:02:55.011Z"
   },
   {
    "duration": 7,
    "start_time": "2022-04-14T15:02:55.024Z"
   },
   {
    "duration": 6,
    "start_time": "2022-04-14T15:02:55.033Z"
   },
   {
    "duration": 12,
    "start_time": "2022-04-14T15:02:55.040Z"
   },
   {
    "duration": 13,
    "start_time": "2022-04-14T15:02:55.054Z"
   },
   {
    "duration": 11259,
    "start_time": "2022-04-14T15:02:55.068Z"
   },
   {
    "duration": 7,
    "start_time": "2022-04-14T15:03:06.329Z"
   },
   {
    "duration": 3,
    "start_time": "2022-04-14T15:03:06.337Z"
   },
   {
    "duration": 9,
    "start_time": "2022-04-14T15:03:06.341Z"
   },
   {
    "duration": 7,
    "start_time": "2022-04-14T15:03:06.351Z"
   },
   {
    "duration": 12,
    "start_time": "2022-04-14T15:03:06.359Z"
   },
   {
    "duration": 608,
    "start_time": "2022-04-14T15:03:06.373Z"
   },
   {
    "duration": 95,
    "start_time": "2022-04-14T15:03:06.983Z"
   },
   {
    "duration": 30,
    "start_time": "2022-04-14T15:03:07.079Z"
   },
   {
    "duration": 71,
    "start_time": "2022-04-14T15:03:07.112Z"
   },
   {
    "duration": 0,
    "start_time": "2022-04-14T15:03:07.184Z"
   },
   {
    "duration": 0,
    "start_time": "2022-04-14T15:03:07.185Z"
   },
   {
    "duration": 0,
    "start_time": "2022-04-14T15:03:07.200Z"
   },
   {
    "duration": 0,
    "start_time": "2022-04-14T15:03:07.201Z"
   },
   {
    "duration": 0,
    "start_time": "2022-04-14T15:03:07.202Z"
   },
   {
    "duration": 0,
    "start_time": "2022-04-14T15:03:07.203Z"
   },
   {
    "duration": 0,
    "start_time": "2022-04-14T15:03:07.203Z"
   },
   {
    "duration": 0,
    "start_time": "2022-04-14T15:03:07.204Z"
   },
   {
    "duration": 0,
    "start_time": "2022-04-14T15:03:07.206Z"
   },
   {
    "duration": 0,
    "start_time": "2022-04-14T15:03:07.207Z"
   },
   {
    "duration": 0,
    "start_time": "2022-04-14T15:03:07.207Z"
   },
   {
    "duration": 0,
    "start_time": "2022-04-14T15:03:07.208Z"
   },
   {
    "duration": 0,
    "start_time": "2022-04-14T15:03:07.209Z"
   },
   {
    "duration": 0,
    "start_time": "2022-04-14T15:03:07.210Z"
   },
   {
    "duration": 0,
    "start_time": "2022-04-14T15:03:07.211Z"
   },
   {
    "duration": 0,
    "start_time": "2022-04-14T15:03:07.212Z"
   },
   {
    "duration": 0,
    "start_time": "2022-04-14T15:03:07.212Z"
   },
   {
    "duration": 0,
    "start_time": "2022-04-14T15:03:07.213Z"
   },
   {
    "duration": 0,
    "start_time": "2022-04-14T15:03:07.214Z"
   },
   {
    "duration": 0,
    "start_time": "2022-04-14T15:03:07.215Z"
   },
   {
    "duration": 0,
    "start_time": "2022-04-14T15:03:07.216Z"
   },
   {
    "duration": 0,
    "start_time": "2022-04-14T15:03:07.216Z"
   },
   {
    "duration": 0,
    "start_time": "2022-04-14T15:03:07.217Z"
   },
   {
    "duration": 0,
    "start_time": "2022-04-14T15:03:07.218Z"
   },
   {
    "duration": 0,
    "start_time": "2022-04-14T15:03:07.219Z"
   },
   {
    "duration": 0,
    "start_time": "2022-04-14T15:03:07.220Z"
   },
   {
    "duration": 0,
    "start_time": "2022-04-14T15:03:07.221Z"
   },
   {
    "duration": 0,
    "start_time": "2022-04-14T15:03:07.221Z"
   },
   {
    "duration": 0,
    "start_time": "2022-04-14T15:03:07.222Z"
   },
   {
    "duration": 0,
    "start_time": "2022-04-14T15:03:07.223Z"
   },
   {
    "duration": 0,
    "start_time": "2022-04-14T15:03:07.224Z"
   },
   {
    "duration": 0,
    "start_time": "2022-04-14T15:03:07.225Z"
   },
   {
    "duration": 0,
    "start_time": "2022-04-14T15:03:07.225Z"
   },
   {
    "duration": 8,
    "start_time": "2022-04-14T15:03:17.447Z"
   },
   {
    "duration": 8,
    "start_time": "2022-04-14T15:03:28.240Z"
   },
   {
    "duration": 686,
    "start_time": "2022-04-14T15:03:36.569Z"
   },
   {
    "duration": 80,
    "start_time": "2022-04-14T15:03:37.256Z"
   },
   {
    "duration": 7,
    "start_time": "2022-04-14T15:03:37.337Z"
   },
   {
    "duration": 17,
    "start_time": "2022-04-14T15:03:37.346Z"
   },
   {
    "duration": 13,
    "start_time": "2022-04-14T15:03:37.364Z"
   },
   {
    "duration": 29,
    "start_time": "2022-04-14T15:03:37.378Z"
   },
   {
    "duration": 5,
    "start_time": "2022-04-14T15:03:37.408Z"
   },
   {
    "duration": 6,
    "start_time": "2022-04-14T15:03:37.415Z"
   },
   {
    "duration": 6,
    "start_time": "2022-04-14T15:03:37.422Z"
   },
   {
    "duration": 123,
    "start_time": "2022-04-14T15:03:37.431Z"
   },
   {
    "duration": 6,
    "start_time": "2022-04-14T15:03:37.555Z"
   },
   {
    "duration": 21,
    "start_time": "2022-04-14T15:03:37.562Z"
   },
   {
    "duration": 20,
    "start_time": "2022-04-14T15:03:37.584Z"
   },
   {
    "duration": 9,
    "start_time": "2022-04-14T15:03:37.606Z"
   },
   {
    "duration": 6,
    "start_time": "2022-04-14T15:03:37.616Z"
   },
   {
    "duration": 7,
    "start_time": "2022-04-14T15:03:37.624Z"
   },
   {
    "duration": 13,
    "start_time": "2022-04-14T15:03:37.632Z"
   },
   {
    "duration": 12,
    "start_time": "2022-04-14T15:03:37.647Z"
   },
   {
    "duration": 11230,
    "start_time": "2022-04-14T15:03:37.660Z"
   },
   {
    "duration": 11,
    "start_time": "2022-04-14T15:03:48.892Z"
   },
   {
    "duration": 4,
    "start_time": "2022-04-14T15:03:48.905Z"
   },
   {
    "duration": 7,
    "start_time": "2022-04-14T15:03:48.910Z"
   },
   {
    "duration": 11,
    "start_time": "2022-04-14T15:03:48.918Z"
   },
   {
    "duration": 11,
    "start_time": "2022-04-14T15:03:48.930Z"
   },
   {
    "duration": 1074,
    "start_time": "2022-04-14T15:03:48.943Z"
   },
   {
    "duration": 167,
    "start_time": "2022-04-14T15:03:50.019Z"
   },
   {
    "duration": 41,
    "start_time": "2022-04-14T15:03:50.188Z"
   },
   {
    "duration": 129,
    "start_time": "2022-04-14T15:03:50.234Z"
   },
   {
    "duration": 0,
    "start_time": "2022-04-14T15:03:50.365Z"
   },
   {
    "duration": 0,
    "start_time": "2022-04-14T15:03:50.366Z"
   },
   {
    "duration": 0,
    "start_time": "2022-04-14T15:03:50.367Z"
   },
   {
    "duration": 0,
    "start_time": "2022-04-14T15:03:50.369Z"
   },
   {
    "duration": 0,
    "start_time": "2022-04-14T15:03:50.370Z"
   },
   {
    "duration": 0,
    "start_time": "2022-04-14T15:03:50.372Z"
   },
   {
    "duration": 0,
    "start_time": "2022-04-14T15:03:50.373Z"
   },
   {
    "duration": 0,
    "start_time": "2022-04-14T15:03:50.374Z"
   },
   {
    "duration": 0,
    "start_time": "2022-04-14T15:03:50.376Z"
   },
   {
    "duration": 0,
    "start_time": "2022-04-14T15:03:50.401Z"
   },
   {
    "duration": 0,
    "start_time": "2022-04-14T15:03:50.402Z"
   },
   {
    "duration": 0,
    "start_time": "2022-04-14T15:03:50.404Z"
   },
   {
    "duration": 0,
    "start_time": "2022-04-14T15:03:50.405Z"
   },
   {
    "duration": 0,
    "start_time": "2022-04-14T15:03:50.406Z"
   },
   {
    "duration": 0,
    "start_time": "2022-04-14T15:03:50.407Z"
   },
   {
    "duration": 0,
    "start_time": "2022-04-14T15:03:50.409Z"
   },
   {
    "duration": 0,
    "start_time": "2022-04-14T15:03:50.410Z"
   },
   {
    "duration": 0,
    "start_time": "2022-04-14T15:03:50.411Z"
   },
   {
    "duration": 0,
    "start_time": "2022-04-14T15:03:50.413Z"
   },
   {
    "duration": 0,
    "start_time": "2022-04-14T15:03:50.414Z"
   },
   {
    "duration": 0,
    "start_time": "2022-04-14T15:03:50.415Z"
   },
   {
    "duration": 0,
    "start_time": "2022-04-14T15:03:50.417Z"
   },
   {
    "duration": 0,
    "start_time": "2022-04-14T15:03:50.418Z"
   },
   {
    "duration": 0,
    "start_time": "2022-04-14T15:03:50.419Z"
   },
   {
    "duration": 0,
    "start_time": "2022-04-14T15:03:50.420Z"
   },
   {
    "duration": 0,
    "start_time": "2022-04-14T15:03:50.422Z"
   },
   {
    "duration": 0,
    "start_time": "2022-04-14T15:03:50.423Z"
   },
   {
    "duration": 1,
    "start_time": "2022-04-14T15:03:50.424Z"
   },
   {
    "duration": 0,
    "start_time": "2022-04-14T15:03:50.426Z"
   },
   {
    "duration": 0,
    "start_time": "2022-04-14T15:03:50.427Z"
   },
   {
    "duration": 0,
    "start_time": "2022-04-14T15:03:50.429Z"
   },
   {
    "duration": 0,
    "start_time": "2022-04-14T15:03:50.430Z"
   },
   {
    "duration": 0,
    "start_time": "2022-04-14T15:03:50.431Z"
   },
   {
    "duration": 7,
    "start_time": "2022-04-14T15:03:55.167Z"
   },
   {
    "duration": 8,
    "start_time": "2022-04-14T15:03:58.827Z"
   },
   {
    "duration": 711,
    "start_time": "2022-04-14T15:04:55.737Z"
   },
   {
    "duration": 115,
    "start_time": "2022-04-14T15:04:56.450Z"
   },
   {
    "duration": 6,
    "start_time": "2022-04-14T15:04:56.567Z"
   },
   {
    "duration": 27,
    "start_time": "2022-04-14T15:04:56.574Z"
   },
   {
    "duration": 12,
    "start_time": "2022-04-14T15:04:56.603Z"
   },
   {
    "duration": 13,
    "start_time": "2022-04-14T15:04:56.617Z"
   },
   {
    "duration": 4,
    "start_time": "2022-04-14T15:04:56.632Z"
   },
   {
    "duration": 9,
    "start_time": "2022-04-14T15:04:56.638Z"
   },
   {
    "duration": 9,
    "start_time": "2022-04-14T15:04:56.648Z"
   },
   {
    "duration": 126,
    "start_time": "2022-04-14T15:04:56.659Z"
   },
   {
    "duration": 6,
    "start_time": "2022-04-14T15:04:56.787Z"
   },
   {
    "duration": 22,
    "start_time": "2022-04-14T15:04:56.799Z"
   },
   {
    "duration": 7,
    "start_time": "2022-04-14T15:04:56.823Z"
   },
   {
    "duration": 13,
    "start_time": "2022-04-14T15:04:56.833Z"
   },
   {
    "duration": 10,
    "start_time": "2022-04-14T15:04:56.848Z"
   },
   {
    "duration": 8,
    "start_time": "2022-04-14T15:04:56.860Z"
   },
   {
    "duration": 17,
    "start_time": "2022-04-14T15:04:56.870Z"
   },
   {
    "duration": 19,
    "start_time": "2022-04-14T15:04:56.888Z"
   },
   {
    "duration": 12580,
    "start_time": "2022-04-14T15:04:56.909Z"
   },
   {
    "duration": 17,
    "start_time": "2022-04-14T15:05:09.491Z"
   },
   {
    "duration": 5,
    "start_time": "2022-04-14T15:05:09.510Z"
   },
   {
    "duration": 8,
    "start_time": "2022-04-14T15:05:09.517Z"
   },
   {
    "duration": 9,
    "start_time": "2022-04-14T15:05:09.527Z"
   },
   {
    "duration": 14,
    "start_time": "2022-04-14T15:05:09.537Z"
   },
   {
    "duration": 1095,
    "start_time": "2022-04-14T15:05:09.553Z"
   },
   {
    "duration": 163,
    "start_time": "2022-04-14T15:05:10.650Z"
   },
   {
    "duration": 23,
    "start_time": "2022-04-14T15:05:10.815Z"
   },
   {
    "duration": 90,
    "start_time": "2022-04-14T15:05:10.840Z"
   },
   {
    "duration": 0,
    "start_time": "2022-04-14T15:05:10.932Z"
   },
   {
    "duration": 0,
    "start_time": "2022-04-14T15:05:10.933Z"
   },
   {
    "duration": 0,
    "start_time": "2022-04-14T15:05:10.935Z"
   },
   {
    "duration": 0,
    "start_time": "2022-04-14T15:05:10.935Z"
   },
   {
    "duration": 0,
    "start_time": "2022-04-14T15:05:10.937Z"
   },
   {
    "duration": 0,
    "start_time": "2022-04-14T15:05:10.938Z"
   },
   {
    "duration": 0,
    "start_time": "2022-04-14T15:05:10.939Z"
   },
   {
    "duration": 0,
    "start_time": "2022-04-14T15:05:10.940Z"
   },
   {
    "duration": 0,
    "start_time": "2022-04-14T15:05:10.941Z"
   },
   {
    "duration": 0,
    "start_time": "2022-04-14T15:05:10.943Z"
   },
   {
    "duration": 0,
    "start_time": "2022-04-14T15:05:10.944Z"
   },
   {
    "duration": 0,
    "start_time": "2022-04-14T15:05:10.944Z"
   },
   {
    "duration": 0,
    "start_time": "2022-04-14T15:05:10.945Z"
   },
   {
    "duration": 0,
    "start_time": "2022-04-14T15:05:10.946Z"
   },
   {
    "duration": 0,
    "start_time": "2022-04-14T15:05:10.947Z"
   },
   {
    "duration": 0,
    "start_time": "2022-04-14T15:05:10.949Z"
   },
   {
    "duration": 0,
    "start_time": "2022-04-14T15:05:10.950Z"
   },
   {
    "duration": 0,
    "start_time": "2022-04-14T15:05:10.951Z"
   },
   {
    "duration": 0,
    "start_time": "2022-04-14T15:05:10.952Z"
   },
   {
    "duration": 0,
    "start_time": "2022-04-14T15:05:10.953Z"
   },
   {
    "duration": 0,
    "start_time": "2022-04-14T15:05:10.954Z"
   },
   {
    "duration": 0,
    "start_time": "2022-04-14T15:05:10.955Z"
   },
   {
    "duration": 0,
    "start_time": "2022-04-14T15:05:10.956Z"
   },
   {
    "duration": 0,
    "start_time": "2022-04-14T15:05:10.957Z"
   },
   {
    "duration": 0,
    "start_time": "2022-04-14T15:05:10.958Z"
   },
   {
    "duration": 0,
    "start_time": "2022-04-14T15:05:11.000Z"
   },
   {
    "duration": 0,
    "start_time": "2022-04-14T15:05:11.001Z"
   },
   {
    "duration": 0,
    "start_time": "2022-04-14T15:05:11.002Z"
   },
   {
    "duration": 0,
    "start_time": "2022-04-14T15:05:11.003Z"
   },
   {
    "duration": 0,
    "start_time": "2022-04-14T15:05:11.004Z"
   },
   {
    "duration": 0,
    "start_time": "2022-04-14T15:05:11.005Z"
   },
   {
    "duration": 0,
    "start_time": "2022-04-14T15:05:11.006Z"
   },
   {
    "duration": 0,
    "start_time": "2022-04-14T15:05:11.007Z"
   },
   {
    "duration": 9,
    "start_time": "2022-04-14T15:05:17.799Z"
   },
   {
    "duration": 3191,
    "start_time": "2022-04-14T15:05:28.249Z"
   },
   {
    "duration": 22,
    "start_time": "2022-04-14T15:05:38.000Z"
   },
   {
    "duration": 31,
    "start_time": "2022-04-14T15:05:40.577Z"
   },
   {
    "duration": 255,
    "start_time": "2022-04-14T15:05:43.445Z"
   },
   {
    "duration": 5,
    "start_time": "2022-04-14T15:05:46.490Z"
   },
   {
    "duration": 321,
    "start_time": "2022-04-14T15:05:48.700Z"
   },
   {
    "duration": 769,
    "start_time": "2022-04-14T15:05:51.576Z"
   },
   {
    "duration": 266,
    "start_time": "2022-04-14T15:05:58.358Z"
   },
   {
    "duration": 2,
    "start_time": "2022-04-14T15:10:10.389Z"
   },
   {
    "duration": 153,
    "start_time": "2022-04-14T15:48:53.083Z"
   },
   {
    "duration": 262,
    "start_time": "2022-04-14T15:56:17.908Z"
   },
   {
    "duration": 262,
    "start_time": "2022-04-14T15:56:33.249Z"
   },
   {
    "duration": 259,
    "start_time": "2022-04-14T15:56:57.049Z"
   },
   {
    "duration": 367,
    "start_time": "2022-04-14T15:57:03.242Z"
   },
   {
    "duration": 266,
    "start_time": "2022-04-14T15:57:11.848Z"
   },
   {
    "duration": 250,
    "start_time": "2022-04-14T15:59:19.307Z"
   },
   {
    "duration": 243,
    "start_time": "2022-04-14T15:59:38.980Z"
   },
   {
    "duration": 246,
    "start_time": "2022-04-14T15:59:44.003Z"
   },
   {
    "duration": 227,
    "start_time": "2022-04-14T15:59:46.567Z"
   },
   {
    "duration": 438,
    "start_time": "2022-04-14T16:01:21.128Z"
   },
   {
    "duration": 497,
    "start_time": "2022-04-14T16:01:26.687Z"
   },
   {
    "duration": 304,
    "start_time": "2022-04-14T16:01:32.549Z"
   },
   {
    "duration": 296,
    "start_time": "2022-04-14T16:01:36.427Z"
   },
   {
    "duration": 288,
    "start_time": "2022-04-14T16:01:43.068Z"
   },
   {
    "duration": 175,
    "start_time": "2022-04-14T16:07:11.536Z"
   },
   {
    "duration": 41,
    "start_time": "2022-04-14T16:07:16.037Z"
   },
   {
    "duration": 156,
    "start_time": "2022-04-14T16:07:20.268Z"
   },
   {
    "duration": 115,
    "start_time": "2022-04-14T16:07:23.046Z"
   },
   {
    "duration": 554,
    "start_time": "2022-04-14T16:07:27.320Z"
   },
   {
    "duration": 152,
    "start_time": "2022-04-14T16:07:32.933Z"
   },
   {
    "duration": 11,
    "start_time": "2022-04-14T16:07:36.211Z"
   },
   {
    "duration": 159,
    "start_time": "2022-04-14T16:07:39.418Z"
   },
   {
    "duration": 26,
    "start_time": "2022-04-14T16:07:42.829Z"
   },
   {
    "duration": 34,
    "start_time": "2022-04-14T16:08:22.639Z"
   },
   {
    "duration": 32,
    "start_time": "2022-04-14T16:08:26.522Z"
   },
   {
    "duration": 34,
    "start_time": "2022-04-14T16:08:31.087Z"
   },
   {
    "duration": 179,
    "start_time": "2022-04-14T16:08:40.738Z"
   },
   {
    "duration": 5,
    "start_time": "2022-04-14T16:08:45.157Z"
   },
   {
    "duration": 5,
    "start_time": "2022-04-14T16:08:46.736Z"
   },
   {
    "duration": 181,
    "start_time": "2022-04-14T16:08:51.397Z"
   },
   {
    "duration": 1427,
    "start_time": "2022-04-14T21:05:52.216Z"
   },
   {
    "duration": 327,
    "start_time": "2022-04-14T21:05:56.376Z"
   },
   {
    "duration": 15,
    "start_time": "2022-04-14T21:06:00.058Z"
   },
   {
    "duration": 26,
    "start_time": "2022-04-14T21:06:05.106Z"
   },
   {
    "duration": 24,
    "start_time": "2022-04-14T21:06:21.556Z"
   },
   {
    "duration": 24,
    "start_time": "2022-04-14T21:06:24.600Z"
   },
   {
    "duration": 8,
    "start_time": "2022-04-14T21:06:28.797Z"
   },
   {
    "duration": 7,
    "start_time": "2022-04-14T21:06:35.472Z"
   },
   {
    "duration": 8,
    "start_time": "2022-04-14T21:06:59.194Z"
   },
   {
    "duration": 9,
    "start_time": "2022-04-14T21:07:09.945Z"
   },
   {
    "duration": 295,
    "start_time": "2022-04-14T21:07:19.435Z"
   },
   {
    "duration": 10,
    "start_time": "2022-04-14T21:07:21.843Z"
   },
   {
    "duration": 51,
    "start_time": "2022-04-14T21:07:24.691Z"
   },
   {
    "duration": 11,
    "start_time": "2022-04-14T21:07:37.116Z"
   },
   {
    "duration": 8,
    "start_time": "2022-04-14T21:07:41.598Z"
   },
   {
    "duration": 7,
    "start_time": "2022-04-14T21:07:44.404Z"
   },
   {
    "duration": 16,
    "start_time": "2022-04-14T21:08:49.888Z"
   },
   {
    "duration": 22,
    "start_time": "2022-04-14T21:08:51.793Z"
   },
   {
    "duration": 10,
    "start_time": "2022-04-14T21:10:08.013Z"
   },
   {
    "duration": 20851,
    "start_time": "2022-04-14T21:10:08.026Z"
   },
   {
    "duration": 12,
    "start_time": "2022-04-14T21:11:04.042Z"
   },
   {
    "duration": 5,
    "start_time": "2022-04-14T21:11:06.399Z"
   },
   {
    "duration": 7,
    "start_time": "2022-04-14T21:11:10.772Z"
   },
   {
    "duration": 7,
    "start_time": "2022-04-14T21:11:15.537Z"
   },
   {
    "duration": 6,
    "start_time": "2022-04-14T21:11:17.641Z"
   },
   {
    "duration": 6,
    "start_time": "2022-04-14T21:11:42.287Z"
   },
   {
    "duration": 1298,
    "start_time": "2022-04-14T21:12:10.907Z"
   },
   {
    "duration": 150,
    "start_time": "2022-04-14T21:12:30.487Z"
   },
   {
    "duration": 37,
    "start_time": "2022-04-14T21:12:35.205Z"
   },
   {
    "duration": 120,
    "start_time": "2022-04-14T21:12:40.973Z"
   },
   {
    "duration": 11,
    "start_time": "2022-04-14T21:12:52.000Z"
   },
   {
    "duration": 56,
    "start_time": "2022-04-14T21:13:03.444Z"
   },
   {
    "duration": 21,
    "start_time": "2022-04-14T21:13:06.963Z"
   },
   {
    "duration": 82,
    "start_time": "2022-04-14T21:13:11.780Z"
   },
   {
    "duration": 37,
    "start_time": "2022-04-14T21:13:17.388Z"
   },
   {
    "duration": 20,
    "start_time": "2022-04-14T21:13:24.059Z"
   },
   {
    "duration": 51,
    "start_time": "2022-04-14T21:13:49.483Z"
   },
   {
    "duration": 260,
    "start_time": "2022-04-14T21:13:52.680Z"
   },
   {
    "duration": 12,
    "start_time": "2022-04-14T21:14:06.709Z"
   },
   {
    "duration": 68,
    "start_time": "2022-04-14T21:14:09.984Z"
   },
   {
    "duration": 267,
    "start_time": "2022-04-14T21:14:16.527Z"
   },
   {
    "duration": 61,
    "start_time": "2022-04-14T21:14:22.752Z"
   },
   {
    "duration": 64,
    "start_time": "2022-04-14T21:14:44.334Z"
   },
   {
    "duration": 46,
    "start_time": "2022-04-14T21:14:52.200Z"
   },
   {
    "duration": 306,
    "start_time": "2022-04-14T21:14:57.142Z"
   },
   {
    "duration": 327,
    "start_time": "2022-04-14T21:16:13.172Z"
   },
   {
    "duration": 7,
    "start_time": "2022-04-14T21:16:21.880Z"
   },
   {
    "duration": 7,
    "start_time": "2022-04-14T21:16:25.934Z"
   },
   {
    "duration": 184,
    "start_time": "2022-04-14T21:16:29.316Z"
   },
   {
    "duration": 14,
    "start_time": "2022-04-14T21:16:33.842Z"
   },
   {
    "duration": 320,
    "start_time": "2022-04-14T21:16:36.078Z"
   },
   {
    "duration": 299,
    "start_time": "2022-04-14T21:17:07.775Z"
   },
   {
    "duration": 260,
    "start_time": "2022-04-14T21:17:11.619Z"
   },
   {
    "duration": 42,
    "start_time": "2022-04-14T21:17:15.991Z"
   },
   {
    "duration": 264,
    "start_time": "2022-04-14T21:17:20.733Z"
   },
   {
    "duration": 208,
    "start_time": "2022-04-14T21:17:27.914Z"
   },
   {
    "duration": 863,
    "start_time": "2022-04-14T21:17:31.006Z"
   },
   {
    "duration": 75,
    "start_time": "2022-04-14T21:17:42.075Z"
   },
   {
    "duration": 46,
    "start_time": "2022-04-14T21:17:51.342Z"
   },
   {
    "duration": 494,
    "start_time": "2022-04-14T21:18:44.343Z"
   },
   {
    "duration": 490,
    "start_time": "2022-04-14T21:19:15.332Z"
   },
   {
    "duration": 7,
    "start_time": "2022-04-14T21:19:20.154Z"
   },
   {
    "duration": 7,
    "start_time": "2022-04-14T21:20:09.291Z"
   },
   {
    "duration": 728,
    "start_time": "2022-04-14T21:20:11.769Z"
   },
   {
    "duration": 841,
    "start_time": "2022-04-14T21:20:14.960Z"
   },
   {
    "duration": 585,
    "start_time": "2022-04-14T21:20:25.648Z"
   },
   {
    "duration": 634,
    "start_time": "2022-04-14T21:20:28.550Z"
   },
   {
    "duration": 595,
    "start_time": "2022-04-14T21:20:44.397Z"
   },
   {
    "duration": 434,
    "start_time": "2022-04-14T21:20:48.338Z"
   },
   {
    "duration": 714,
    "start_time": "2022-04-14T21:20:51.982Z"
   },
   {
    "duration": 498,
    "start_time": "2022-04-14T21:20:58.882Z"
   },
   {
    "duration": 443,
    "start_time": "2022-04-14T21:21:58.526Z"
   },
   {
    "duration": 655,
    "start_time": "2022-04-14T21:22:07.098Z"
   },
   {
    "duration": 899,
    "start_time": "2022-04-17T20:23:46.762Z"
   },
   {
    "duration": 98,
    "start_time": "2022-04-17T20:23:47.663Z"
   },
   {
    "duration": 7,
    "start_time": "2022-04-17T20:23:47.763Z"
   },
   {
    "duration": 17,
    "start_time": "2022-04-17T20:23:47.771Z"
   },
   {
    "duration": 22,
    "start_time": "2022-04-17T20:23:47.790Z"
   },
   {
    "duration": 14,
    "start_time": "2022-04-17T20:23:47.813Z"
   },
   {
    "duration": 5,
    "start_time": "2022-04-17T20:23:47.829Z"
   },
   {
    "duration": 15,
    "start_time": "2022-04-17T20:23:47.835Z"
   },
   {
    "duration": 10,
    "start_time": "2022-04-17T20:23:47.852Z"
   },
   {
    "duration": 145,
    "start_time": "2022-04-17T20:23:47.863Z"
   },
   {
    "duration": 6,
    "start_time": "2022-04-17T20:23:48.010Z"
   },
   {
    "duration": 30,
    "start_time": "2022-04-17T20:23:48.017Z"
   },
   {
    "duration": 11,
    "start_time": "2022-04-17T20:23:48.049Z"
   },
   {
    "duration": 6,
    "start_time": "2022-04-17T20:23:48.064Z"
   },
   {
    "duration": 31,
    "start_time": "2022-04-17T20:23:48.072Z"
   },
   {
    "duration": 5,
    "start_time": "2022-04-17T20:23:48.105Z"
   },
   {
    "duration": 17,
    "start_time": "2022-04-17T20:23:48.112Z"
   },
   {
    "duration": 17,
    "start_time": "2022-04-17T20:23:48.131Z"
   },
   {
    "duration": 16579,
    "start_time": "2022-04-17T20:23:48.150Z"
   },
   {
    "duration": 8,
    "start_time": "2022-04-17T20:24:04.731Z"
   },
   {
    "duration": 8,
    "start_time": "2022-04-17T20:24:04.741Z"
   },
   {
    "duration": 8,
    "start_time": "2022-04-17T20:24:04.751Z"
   },
   {
    "duration": 6,
    "start_time": "2022-04-17T20:24:04.761Z"
   },
   {
    "duration": 5,
    "start_time": "2022-04-17T20:24:04.769Z"
   },
   {
    "duration": 694,
    "start_time": "2022-04-17T20:24:04.775Z"
   },
   {
    "duration": 109,
    "start_time": "2022-04-17T20:24:05.471Z"
   },
   {
    "duration": 31,
    "start_time": "2022-04-17T20:24:05.582Z"
   },
   {
    "duration": 19,
    "start_time": "2022-04-17T20:24:05.614Z"
   },
   {
    "duration": 158,
    "start_time": "2022-04-17T20:24:05.634Z"
   },
   {
    "duration": 12,
    "start_time": "2022-04-17T20:24:05.794Z"
   },
   {
    "duration": 61,
    "start_time": "2022-04-17T20:24:05.807Z"
   },
   {
    "duration": 215,
    "start_time": "2022-04-17T20:24:05.876Z"
   },
   {
    "duration": 51,
    "start_time": "2022-04-17T20:24:06.093Z"
   },
   {
    "duration": 58,
    "start_time": "2022-04-17T20:24:06.146Z"
   },
   {
    "duration": 25,
    "start_time": "2022-04-17T20:24:06.206Z"
   },
   {
    "duration": 169,
    "start_time": "2022-04-17T20:24:06.233Z"
   },
   {
    "duration": 179,
    "start_time": "2022-04-17T20:24:06.404Z"
   },
   {
    "duration": 5,
    "start_time": "2022-04-17T20:24:06.584Z"
   },
   {
    "duration": 13,
    "start_time": "2022-04-17T20:24:06.590Z"
   },
   {
    "duration": 108,
    "start_time": "2022-04-17T20:24:06.605Z"
   },
   {
    "duration": 10,
    "start_time": "2022-04-17T20:24:06.717Z"
   },
   {
    "duration": 255,
    "start_time": "2022-04-17T20:24:06.728Z"
   },
   {
    "duration": 200,
    "start_time": "2022-04-17T20:24:06.985Z"
   },
   {
    "duration": 42,
    "start_time": "2022-04-17T20:24:07.187Z"
   },
   {
    "duration": 191,
    "start_time": "2022-04-17T20:24:07.231Z"
   },
   {
    "duration": 163,
    "start_time": "2022-04-17T20:24:07.425Z"
   },
   {
    "duration": 463,
    "start_time": "2022-04-17T20:24:07.590Z"
   },
   {
    "duration": 55,
    "start_time": "2022-04-17T20:24:08.055Z"
   },
   {
    "duration": 28,
    "start_time": "2022-04-17T20:24:08.111Z"
   },
   {
    "duration": 267,
    "start_time": "2022-04-17T20:24:08.141Z"
   },
   {
    "duration": 6,
    "start_time": "2022-04-17T20:24:08.410Z"
   },
   {
    "duration": 320,
    "start_time": "2022-04-17T20:24:08.418Z"
   },
   {
    "duration": 445,
    "start_time": "2022-04-17T20:24:08.740Z"
   },
   {
    "duration": 259,
    "start_time": "2022-04-17T20:24:09.187Z"
   },
   {
    "duration": 193,
    "start_time": "2022-04-17T20:24:09.448Z"
   },
   {
    "duration": 0,
    "start_time": "2022-04-17T20:24:09.643Z"
   },
   {
    "duration": 0,
    "start_time": "2022-04-17T20:24:09.644Z"
   },
   {
    "duration": 0,
    "start_time": "2022-04-17T20:24:09.645Z"
   },
   {
    "duration": 0,
    "start_time": "2022-04-17T20:24:09.647Z"
   },
   {
    "duration": 0,
    "start_time": "2022-04-17T20:24:09.648Z"
   },
   {
    "duration": 0,
    "start_time": "2022-04-17T20:24:09.649Z"
   },
   {
    "duration": 0,
    "start_time": "2022-04-17T20:24:09.650Z"
   },
   {
    "duration": 0,
    "start_time": "2022-04-17T20:24:09.652Z"
   },
   {
    "duration": 0,
    "start_time": "2022-04-17T20:24:09.652Z"
   },
   {
    "duration": 0,
    "start_time": "2022-04-17T20:24:09.653Z"
   },
   {
    "duration": 285,
    "start_time": "2022-04-17T20:25:07.068Z"
   },
   {
    "duration": 653,
    "start_time": "2022-04-17T20:30:11.723Z"
   },
   {
    "duration": 10,
    "start_time": "2022-04-17T20:31:57.754Z"
   },
   {
    "duration": 10,
    "start_time": "2022-04-17T20:32:12.134Z"
   },
   {
    "duration": 9,
    "start_time": "2022-04-17T20:32:41.883Z"
   },
   {
    "duration": 8,
    "start_time": "2022-04-17T20:33:02.605Z"
   },
   {
    "duration": 603,
    "start_time": "2022-04-17T20:33:09.140Z"
   },
   {
    "duration": 99,
    "start_time": "2022-04-17T20:35:00.564Z"
   },
   {
    "duration": 98,
    "start_time": "2022-04-17T20:35:37.424Z"
   },
   {
    "duration": 190,
    "start_time": "2022-04-17T20:35:51.699Z"
   },
   {
    "duration": 99,
    "start_time": "2022-04-17T20:36:37.397Z"
   },
   {
    "duration": 103,
    "start_time": "2022-04-17T20:36:44.629Z"
   },
   {
    "duration": 4,
    "start_time": "2022-04-17T20:37:04.160Z"
   },
   {
    "duration": 101,
    "start_time": "2022-04-17T20:37:09.712Z"
   },
   {
    "duration": 104,
    "start_time": "2022-04-17T20:37:28.491Z"
   },
   {
    "duration": 104,
    "start_time": "2022-04-17T20:37:32.384Z"
   },
   {
    "duration": 164,
    "start_time": "2022-04-17T20:38:14.661Z"
   },
   {
    "duration": 109,
    "start_time": "2022-04-17T20:38:26.799Z"
   },
   {
    "duration": 110,
    "start_time": "2022-04-17T20:39:07.706Z"
   },
   {
    "duration": 99,
    "start_time": "2022-04-17T20:39:57.941Z"
   },
   {
    "duration": 102,
    "start_time": "2022-04-17T20:40:11.290Z"
   },
   {
    "duration": 102,
    "start_time": "2022-04-17T20:40:17.287Z"
   },
   {
    "duration": 113,
    "start_time": "2022-04-17T20:40:22.987Z"
   },
   {
    "duration": 99,
    "start_time": "2022-04-17T20:41:03.566Z"
   },
   {
    "duration": 107,
    "start_time": "2022-04-17T20:41:10.485Z"
   },
   {
    "duration": 102,
    "start_time": "2022-04-17T20:41:14.832Z"
   },
   {
    "duration": 121,
    "start_time": "2022-04-17T20:42:11.334Z"
   },
   {
    "duration": 182,
    "start_time": "2022-04-17T20:42:30.469Z"
   },
   {
    "duration": 113,
    "start_time": "2022-04-17T20:42:58.415Z"
   },
   {
    "duration": 227,
    "start_time": "2022-04-17T20:43:28.514Z"
   },
   {
    "duration": 99,
    "start_time": "2022-04-17T20:43:33.734Z"
   },
   {
    "duration": 117,
    "start_time": "2022-04-17T20:43:47.194Z"
   },
   {
    "duration": 103,
    "start_time": "2022-04-17T20:43:54.210Z"
   },
   {
    "duration": 110,
    "start_time": "2022-04-17T20:45:00.524Z"
   },
   {
    "duration": 105,
    "start_time": "2022-04-17T20:45:18.440Z"
   },
   {
    "duration": 111,
    "start_time": "2022-04-17T20:46:30.505Z"
   },
   {
    "duration": 104,
    "start_time": "2022-04-17T20:47:25.081Z"
   },
   {
    "duration": 103,
    "start_time": "2022-04-17T20:47:29.890Z"
   },
   {
    "duration": 103,
    "start_time": "2022-04-17T20:47:35.120Z"
   },
   {
    "duration": 105,
    "start_time": "2022-04-17T20:47:42.609Z"
   },
   {
    "duration": 102,
    "start_time": "2022-04-17T20:47:48.535Z"
   },
   {
    "duration": 103,
    "start_time": "2022-04-17T20:48:15.881Z"
   },
   {
    "duration": 96,
    "start_time": "2022-04-17T20:48:19.498Z"
   },
   {
    "duration": 101,
    "start_time": "2022-04-17T20:48:32.764Z"
   },
   {
    "duration": 109,
    "start_time": "2022-04-17T20:48:44.803Z"
   },
   {
    "duration": 110,
    "start_time": "2022-04-17T20:48:54.199Z"
   },
   {
    "duration": 108,
    "start_time": "2022-04-17T20:48:58.967Z"
   },
   {
    "duration": 112,
    "start_time": "2022-04-17T20:49:08.868Z"
   },
   {
    "duration": 221,
    "start_time": "2022-04-17T20:50:08.451Z"
   },
   {
    "duration": 102,
    "start_time": "2022-04-17T20:50:24.263Z"
   },
   {
    "duration": 181,
    "start_time": "2022-04-17T20:51:24.921Z"
   },
   {
    "duration": 184,
    "start_time": "2022-04-17T21:19:23.064Z"
   },
   {
    "duration": 177,
    "start_time": "2022-04-17T21:19:31.876Z"
   },
   {
    "duration": 182,
    "start_time": "2022-04-17T21:20:04.570Z"
   },
   {
    "duration": 262,
    "start_time": "2022-04-17T21:20:12.725Z"
   },
   {
    "duration": 261,
    "start_time": "2022-04-17T21:20:41.418Z"
   },
   {
    "duration": 183,
    "start_time": "2022-04-17T21:21:02.292Z"
   },
   {
    "duration": 190,
    "start_time": "2022-04-17T21:21:12.843Z"
   },
   {
    "duration": 181,
    "start_time": "2022-04-17T21:21:22.142Z"
   },
   {
    "duration": 180,
    "start_time": "2022-04-17T21:21:28.034Z"
   },
   {
    "duration": 179,
    "start_time": "2022-04-17T21:21:48.180Z"
   },
   {
    "duration": 175,
    "start_time": "2022-04-17T21:23:02.962Z"
   },
   {
    "duration": 134,
    "start_time": "2022-04-17T21:24:17.472Z"
   },
   {
    "duration": 126,
    "start_time": "2022-04-17T21:24:42.962Z"
   },
   {
    "duration": 132,
    "start_time": "2022-04-17T21:24:53.766Z"
   },
   {
    "duration": 136,
    "start_time": "2022-04-17T21:25:34.219Z"
   },
   {
    "duration": 142,
    "start_time": "2022-04-17T21:25:43.095Z"
   },
   {
    "duration": 202,
    "start_time": "2022-04-17T21:25:54.887Z"
   },
   {
    "duration": 141,
    "start_time": "2022-04-17T21:26:00.681Z"
   },
   {
    "duration": 182,
    "start_time": "2022-04-17T21:26:16.862Z"
   },
   {
    "duration": 265,
    "start_time": "2022-04-17T21:26:29.981Z"
   },
   {
    "duration": 136,
    "start_time": "2022-04-17T21:26:35.916Z"
   },
   {
    "duration": 202,
    "start_time": "2022-04-17T21:26:42.188Z"
   },
   {
    "duration": 139,
    "start_time": "2022-04-17T21:26:52.088Z"
   },
   {
    "duration": 151,
    "start_time": "2022-04-17T21:27:30.964Z"
   },
   {
    "duration": 145,
    "start_time": "2022-04-17T21:28:44.601Z"
   },
   {
    "duration": 135,
    "start_time": "2022-04-17T21:28:56.964Z"
   },
   {
    "duration": 141,
    "start_time": "2022-04-17T21:29:13.590Z"
   },
   {
    "duration": 130,
    "start_time": "2022-04-17T21:29:19.662Z"
   },
   {
    "duration": 152,
    "start_time": "2022-04-17T21:30:02.299Z"
   },
   {
    "duration": 115,
    "start_time": "2022-04-17T21:32:23.983Z"
   },
   {
    "duration": 4,
    "start_time": "2022-04-17T21:32:36.805Z"
   },
   {
    "duration": 116,
    "start_time": "2022-04-17T21:32:41.142Z"
   },
   {
    "duration": 117,
    "start_time": "2022-04-17T21:32:53.348Z"
   },
   {
    "duration": 113,
    "start_time": "2022-04-17T21:33:06.669Z"
   },
   {
    "duration": 201,
    "start_time": "2022-04-17T21:33:15.051Z"
   },
   {
    "duration": 254,
    "start_time": "2022-04-17T21:33:24.148Z"
   },
   {
    "duration": 203,
    "start_time": "2022-04-17T21:33:42.433Z"
   },
   {
    "duration": 212,
    "start_time": "2022-04-17T21:33:50.782Z"
   },
   {
    "duration": 195,
    "start_time": "2022-04-17T21:33:58.351Z"
   },
   {
    "duration": 120,
    "start_time": "2022-04-17T21:34:17.464Z"
   },
   {
    "duration": 127,
    "start_time": "2022-04-17T21:34:20.347Z"
   },
   {
    "duration": 121,
    "start_time": "2022-04-17T21:34:28.625Z"
   },
   {
    "duration": 122,
    "start_time": "2022-04-17T21:34:59.952Z"
   },
   {
    "duration": 246,
    "start_time": "2022-04-17T21:36:01.087Z"
   },
   {
    "duration": 369,
    "start_time": "2022-04-17T21:36:08.113Z"
   },
   {
    "duration": 157,
    "start_time": "2022-04-17T21:36:22.389Z"
   },
   {
    "duration": 193,
    "start_time": "2022-04-17T21:36:41.161Z"
   },
   {
    "duration": 213,
    "start_time": "2022-04-17T21:36:46.131Z"
   },
   {
    "duration": 191,
    "start_time": "2022-04-17T21:36:54.687Z"
   },
   {
    "duration": 225,
    "start_time": "2022-04-17T21:36:57.387Z"
   },
   {
    "duration": 197,
    "start_time": "2022-04-17T21:37:10.009Z"
   },
   {
    "duration": 181,
    "start_time": "2022-04-17T21:37:16.181Z"
   },
   {
    "duration": 199,
    "start_time": "2022-04-17T21:37:25.407Z"
   },
   {
    "duration": 173,
    "start_time": "2022-04-17T21:37:50.122Z"
   },
   {
    "duration": 254,
    "start_time": "2022-04-17T21:37:52.532Z"
   },
   {
    "duration": 146,
    "start_time": "2022-04-17T21:38:00.414Z"
   },
   {
    "duration": 129,
    "start_time": "2022-04-17T21:40:18.039Z"
   },
   {
    "duration": 246,
    "start_time": "2022-04-17T21:40:31.530Z"
   },
   {
    "duration": 263,
    "start_time": "2022-04-17T21:40:39.495Z"
   },
   {
    "duration": 153,
    "start_time": "2022-04-17T21:40:48.602Z"
   },
   {
    "duration": 129,
    "start_time": "2022-04-17T21:40:59.961Z"
   },
   {
    "duration": 204,
    "start_time": "2022-04-17T21:41:07.666Z"
   },
   {
    "duration": 123,
    "start_time": "2022-04-17T21:41:10.444Z"
   },
   {
    "duration": 276,
    "start_time": "2022-04-17T21:41:31.774Z"
   },
   {
    "duration": 123,
    "start_time": "2022-04-17T21:41:38.428Z"
   },
   {
    "duration": 119,
    "start_time": "2022-04-17T21:41:57.524Z"
   },
   {
    "duration": 123,
    "start_time": "2022-04-17T21:42:02.114Z"
   },
   {
    "duration": 137,
    "start_time": "2022-04-17T21:42:23.144Z"
   },
   {
    "duration": 122,
    "start_time": "2022-04-17T21:42:38.511Z"
   },
   {
    "duration": 117,
    "start_time": "2022-04-17T21:43:17.618Z"
   },
   {
    "duration": 188,
    "start_time": "2022-04-17T21:43:34.067Z"
   },
   {
    "duration": 179,
    "start_time": "2022-04-17T21:43:37.936Z"
   },
   {
    "duration": 199,
    "start_time": "2022-04-17T21:43:43.916Z"
   },
   {
    "duration": 15,
    "start_time": "2022-04-17T21:43:52.471Z"
   },
   {
    "duration": 192,
    "start_time": "2022-04-17T21:43:57.549Z"
   },
   {
    "duration": 123,
    "start_time": "2022-04-17T21:44:00.235Z"
   },
   {
    "duration": 16,
    "start_time": "2022-04-17T21:44:27.380Z"
   },
   {
    "duration": 15,
    "start_time": "2022-04-17T21:44:33.488Z"
   },
   {
    "duration": 15,
    "start_time": "2022-04-17T21:44:43.513Z"
   },
   {
    "duration": 191,
    "start_time": "2022-04-17T21:46:20.958Z"
   },
   {
    "duration": 190,
    "start_time": "2022-04-17T21:46:29.803Z"
   },
   {
    "duration": 197,
    "start_time": "2022-04-17T21:47:05.410Z"
   },
   {
    "duration": 14,
    "start_time": "2022-04-17T21:47:16.561Z"
   },
   {
    "duration": 121,
    "start_time": "2022-04-17T21:47:55.136Z"
   },
   {
    "duration": 387,
    "start_time": "2022-04-17T21:48:24.081Z"
   },
   {
    "duration": 184,
    "start_time": "2022-04-17T21:49:35.308Z"
   },
   {
    "duration": 600,
    "start_time": "2022-04-17T21:50:14.029Z"
   },
   {
    "duration": 442,
    "start_time": "2022-04-17T21:50:33.454Z"
   },
   {
    "duration": 379,
    "start_time": "2022-04-17T21:51:45.181Z"
   },
   {
    "duration": 247,
    "start_time": "2022-04-17T21:51:55.300Z"
   },
   {
    "duration": 243,
    "start_time": "2022-04-17T21:52:14.203Z"
   },
   {
    "duration": 452,
    "start_time": "2022-04-17T22:04:01.435Z"
   },
   {
    "duration": 263,
    "start_time": "2022-04-17T22:04:39.458Z"
   },
   {
    "duration": 268,
    "start_time": "2022-04-17T22:04:52.080Z"
   },
   {
    "duration": 293,
    "start_time": "2022-04-17T22:05:46.833Z"
   },
   {
    "duration": 290,
    "start_time": "2022-04-17T22:06:29.034Z"
   },
   {
    "duration": 288,
    "start_time": "2022-04-17T22:06:44.481Z"
   },
   {
    "duration": 287,
    "start_time": "2022-04-17T22:06:52.484Z"
   },
   {
    "duration": 228,
    "start_time": "2022-04-17T22:07:00.158Z"
   },
   {
    "duration": 346,
    "start_time": "2022-04-17T22:07:42.102Z"
   },
   {
    "duration": 349,
    "start_time": "2022-04-17T22:07:54.546Z"
   },
   {
    "duration": 336,
    "start_time": "2022-04-17T22:08:01.664Z"
   },
   {
    "duration": 246,
    "start_time": "2022-04-17T22:08:26.000Z"
   },
   {
    "duration": 244,
    "start_time": "2022-04-17T22:09:09.367Z"
   },
   {
    "duration": 248,
    "start_time": "2022-04-17T22:09:24.439Z"
   },
   {
    "duration": 278,
    "start_time": "2022-04-17T22:09:42.835Z"
   },
   {
    "duration": 279,
    "start_time": "2022-04-17T22:10:42.954Z"
   },
   {
    "duration": 290,
    "start_time": "2022-04-17T22:11:03.417Z"
   },
   {
    "duration": 282,
    "start_time": "2022-04-17T22:11:17.621Z"
   },
   {
    "duration": 272,
    "start_time": "2022-04-17T22:12:00.373Z"
   },
   {
    "duration": 251,
    "start_time": "2022-04-17T22:12:08.179Z"
   },
   {
    "duration": 263,
    "start_time": "2022-04-17T22:12:15.098Z"
   },
   {
    "duration": 501,
    "start_time": "2022-04-17T22:12:30.962Z"
   }
  ],
  "kernelspec": {
   "display_name": "Python 3 (ipykernel)",
   "language": "python",
   "name": "python3"
  },
  "language_info": {
   "codemirror_mode": {
    "name": "ipython",
    "version": 3
   },
   "file_extension": ".py",
   "mimetype": "text/x-python",
   "name": "python",
   "nbconvert_exporter": "python",
   "pygments_lexer": "ipython3",
   "version": "3.9.7"
  },
  "toc": {
   "base_numbering": 1,
   "nav_menu": {},
   "number_sections": true,
   "sideBar": true,
   "skip_h1_title": true,
   "title_cell": "Содержание",
   "title_sidebar": "Contents",
   "toc_cell": true,
   "toc_position": {},
   "toc_section_display": true,
   "toc_window_display": true
  }
 },
 "nbformat": 4,
 "nbformat_minor": 4
}
